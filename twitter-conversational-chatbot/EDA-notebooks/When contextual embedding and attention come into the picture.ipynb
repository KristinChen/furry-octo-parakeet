{
 "cells": [
  {
   "cell_type": "markdown",
   "id": "653fb0b2",
   "metadata": {},
   "source": [
    "https://jalammar.github.io/illustrated-bert/\n",
    "\n",
    "- Word embedding (contextual representation)\n",
    "    - ELMo (bi-directional LSTM, language modeling)\n",
    "    - ULM-FiT (transfer learning)\n",
    "\n",
    "- Transformer https://jalammar.github.io/explaining-transformers/; https://jalammar.github.io/illustrated-retrieval-transformer/\n",
    "    - openAI\n",
    "    - BERT: https://jalammar.github.io/a-visual-guide-to-using-bert-for-the-first-time/\n",
    "    - GPT-2: https://jalammar.github.io/illustrated-gpt2/\n",
    "    - GPT-3: https://jalammar.github.io/how-gpt3-works-visualizations-animations/"
   ]
  },
  {
   "cell_type": "code",
   "execution_count": null,
   "id": "a2c6f7f1",
   "metadata": {},
   "outputs": [],
   "source": []
  }
 ],
 "metadata": {
  "kernelspec": {
   "display_name": "Python 3 (ipykernel)",
   "language": "python",
   "name": "python3"
  },
  "language_info": {
   "codemirror_mode": {
    "name": "ipython",
    "version": 3
   },
   "file_extension": ".py",
   "mimetype": "text/x-python",
   "name": "python",
   "nbconvert_exporter": "python",
   "pygments_lexer": "ipython3",
   "version": "3.8.12"
  }
 },
 "nbformat": 4,
 "nbformat_minor": 5
}
