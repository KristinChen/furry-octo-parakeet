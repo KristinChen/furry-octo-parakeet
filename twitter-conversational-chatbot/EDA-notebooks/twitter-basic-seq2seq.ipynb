{
 "cells": [
  {
   "cell_type": "code",
   "execution_count": 1,
   "metadata": {
    "_cell_guid": "39717eda-bc31-4143-a87f-bac4eea63678",
    "_uuid": "e30b174032d05dd0048b02ca268f3b31cf5b183e"
   },
   "outputs": [
    {
     "name": "stdout",
     "output_type": "stream",
     "text": [
      "Library versions:\n"
     ]
    },
    {
     "name": "stderr",
     "output_type": "stream",
     "text": [
      "Using TensorFlow backend.\n"
     ]
    },
    {
     "name": "stdout",
     "output_type": "stream",
     "text": [
      "keras:2.3.1\n",
      "pandas:1.1.5\n",
      "sklearn:0.22.1\n",
      "nltk:3.6.7\n",
      "numpy:1.19.5\n"
     ]
    }
   ],
   "source": [
    "import re\n",
    "import random\n",
    "import time\n",
    "\n",
    "print('Library versions:')\n",
    "\n",
    "import keras\n",
    "print(f'keras:{keras.__version__}')\n",
    "import pandas as pd\n",
    "print(f'pandas:{pd.__version__}')\n",
    "import sklearn\n",
    "print(f'sklearn:{sklearn.__version__}')\n",
    "import nltk\n",
    "print(f'nltk:{nltk.__version__}')\n",
    "import numpy as np\n",
    "print(f'numpy:{np.__version__}')\n",
    "\n",
    "from sklearn.feature_extraction.text import CountVectorizer\n",
    "from nltk.tokenize import casual_tokenize"
   ]
  },
  {
   "cell_type": "code",
   "execution_count": 2,
   "metadata": {},
   "outputs": [
    {
     "name": "stdout",
     "output_type": "stream",
     "text": [
      "tensofrlow:1.15.0\n"
     ]
    }
   ],
   "source": [
    "import tensorflow as tf\n",
    "print(f'tensofrlow:{tf.__version__}')"
   ]
  },
  {
   "cell_type": "code",
   "execution_count": 3,
   "metadata": {},
   "outputs": [],
   "source": [
    "# from tqdm import tqdm.notebook as tqdm # Special jupyter notebook progress bar 💫\n",
    "from tqdm.notebook import tqdm as tqdm\n",
    "from tqdm.notebook import tqdm\n",
    "tqdm.pandas()"
   ]
  },
  {
   "cell_type": "code",
   "execution_count": 4,
   "metadata": {},
   "outputs": [
    {
     "data": {
      "text/plain": [
       "'C:\\\\Users\\\\JiatingChen\\\\Documents\\\\nlp-coe\\\\twitter-conversational-chatbot\\\\EDA-notebooks'"
      ]
     },
     "execution_count": 4,
     "metadata": {},
     "output_type": "execute_result"
    }
   ],
   "source": [
    "import os\n",
    "os.getcwd()"
   ]
  },
  {
   "cell_type": "markdown",
   "metadata": {
    "_cell_guid": "24fb3871-ea0e-4b9e-b21c-ed76ccefc823",
    "_uuid": "ec0199c0dff22aeed45b9dbe1e7bf659e9449fe9"
   },
   "source": [
    "## Model Parameters"
   ]
  },
  {
   "cell_type": "code",
   "execution_count": 10,
   "metadata": {
    "_cell_guid": "3217b16f-bf7c-4fed-bbea-d74e09a537e4",
    "_uuid": "6509f5443163b0d11f1a003bb8a28b79a340f192"
   },
   "outputs": [
    {
     "name": "stdout",
     "output_type": "stream",
     "text": [
      "ERROR! Session/line number was not unique in database. History logging moved to new session 115\n"
     ]
    }
   ],
   "source": [
    "# 8192 - large enough for demonstration, larger values make network training slower\n",
    "MAX_VOCAB_SIZE = 2**13\n",
    "# seq2seq generally relies on fixed length message vectors - longer messages provide more info\n",
    "# but result in slower training and larger networks\n",
    "MAX_MESSAGE_LEN = 30  \n",
    "# Embedding size for words - gives a trade off between expressivity of words and network size\n",
    "EMBEDDING_SIZE = 100\n",
    "# Embedding size for whole messages, same trade off as word embeddings\n",
    "CONTEXT_SIZE = 100\n",
    "# Larger batch sizes generally reach the average response faster, but small batch sizes are\n",
    "# required for the model to learn nuanced responses.  Also, GPU memory limits max batch size.\n",
    "BATCH_SIZE = 4\n",
    "# Helps regularize network and prevent overfitting.\n",
    "DROPOUT = 0.2\n",
    "# High learning rate helps model reach average response faster, but can make it hard to \n",
    "# converge on nuanced responses\n",
    "LEARNING_RATE=0.005\n",
    "\n",
    "# Tokens needed for seq2seq\n",
    "UNK = 0  # words that aren't found in the vocab\n",
    "PAD = 1  # after message has finished, this fills all remaining vector positions\n",
    "START = 2  # provided to the model at position 0 for every response predicted\n",
    "\n",
    "# Implementaiton detail for allowing this to be run in Kaggle's notebook hardware\n",
    "SUB_BATCH_SIZE = 1000\n"
   ]
  },
  {
   "cell_type": "markdown",
   "metadata": {
    "_cell_guid": "ea67c840-2d02-45df-be0b-ec5746e72028",
    "_uuid": "9f99990233daf26e624d6e0a735b8a3559eb54c9"
   },
   "source": [
    "## Data Prep\n",
    "Here, we'll prepare the data for training our seq2seq model, including:\n",
    "\n",
    "- Replace screen names with `@__sn__` token to show model the commonality between them\n",
    "- Build a vocab to turn tokens into integers suitable for our seq2seq model\n",
    "- Tokenize input and target text into fixed size vectors\n",
    "- Partition our dataset into train and test sets"
   ]
  },
  {
   "cell_type": "markdown",
   "metadata": {
    "_cell_guid": "7e83096b-f411-494a-962b-80a76122e674",
    "_uuid": "8989bdc2a930380aa52af0ef6a296906d313715c"
   },
   "source": [
    "### Data Loading and Reshaping\n",
    "Pulled from [this kernel](https://www.kaggle.com/soaxelbrooke/first-inbound-and-response-tweets)."
   ]
  },
  {
   "cell_type": "code",
   "execution_count": 6,
   "metadata": {},
   "outputs": [
    {
     "name": "stdout",
     "output_type": "stream",
     "text": [
      "Found 787346 first inbound messages.\n",
      "Found 875292 responses.\n",
      "Found 794299 responses from companies.\n",
      "Tweets Preview:\n",
      "        tweet_id_x author_id_x  inbound_x                    created_at_x  \\\n",
      "0                8      115712       True  Tue Oct 31 21:45:10 +0000 2017   \n",
      "1                8      115712       True  Tue Oct 31 21:45:10 +0000 2017   \n",
      "2                8      115712       True  Tue Oct 31 21:45:10 +0000 2017   \n",
      "3               18      115713       True  Tue Oct 31 19:56:01 +0000 2017   \n",
      "4               20      115715       True  Tue Oct 31 22:03:34 +0000 2017   \n",
      "...            ...         ...        ...                             ...   \n",
      "875287     2987942      823867       True  Wed Nov 22 07:30:39 +0000 2017   \n",
      "875288     2987944      823868       True  Wed Nov 22 07:43:36 +0000 2017   \n",
      "875289     2987946      524544       True  Wed Nov 22 08:25:48 +0000 2017   \n",
      "875290     2987948      823869       True  Wed Nov 22 08:35:16 +0000 2017   \n",
      "875291     2987950      823870       True  Tue Nov 21 22:01:04 +0000 2017   \n",
      "\n",
      "                                                   text_x response_tweet_id_x  \\\n",
      "0               @sprintcare is the worst customer service              9,6,10   \n",
      "1               @sprintcare is the worst customer service              9,6,10   \n",
      "2               @sprintcare is the worst customer service              9,6,10   \n",
      "3       @115714 y’all lie about your “great” connectio...                  17   \n",
      "4       @115714 whenever I contact customer support, t...                  19   \n",
      "...                                                   ...                 ...   \n",
      "875287  Hai @AirAsiaSupport #asking how many days need...             2987941   \n",
      "875288  @AirAsiaSupport \\n\\nI am unable to do web chec...             2987943   \n",
      "875289  @VirginTrains Hope you are well? Does the 9.30...             2987945   \n",
      "875290  @115714 wtf!? I’ve been having really shitty s...             2987947   \n",
      "875291  @AldiUK  warm sloe gin mince pies with ice cre...     2987951,2987949   \n",
      "\n",
      "        in_response_to_tweet_id_x  tweet_id_y     author_id_y  inbound_y  \\\n",
      "0                             NaN           6      sprintcare      False   \n",
      "1                             NaN           9      sprintcare      False   \n",
      "2                             NaN          10      sprintcare      False   \n",
      "3                             NaN          17      sprintcare      False   \n",
      "4                             NaN          19      sprintcare      False   \n",
      "...                           ...         ...             ...        ...   \n",
      "875287                        NaN     2987941  AirAsiaSupport      False   \n",
      "875288                        NaN     2987943  AirAsiaSupport      False   \n",
      "875289                        NaN     2987945    VirginTrains      False   \n",
      "875290                        NaN     2987947      sprintcare      False   \n",
      "875291                        NaN     2987949          AldiUK      False   \n",
      "\n",
      "                          created_at_y  \\\n",
      "0       Tue Oct 31 21:46:24 +0000 2017   \n",
      "1       Tue Oct 31 21:46:14 +0000 2017   \n",
      "2       Tue Oct 31 21:45:59 +0000 2017   \n",
      "3       Tue Oct 31 19:59:13 +0000 2017   \n",
      "4       Tue Oct 31 22:10:10 +0000 2017   \n",
      "...                                ...   \n",
      "875287  Wed Nov 22 07:55:05 +0000 2017   \n",
      "875288  Wed Nov 22 07:54:57 +0000 2017   \n",
      "875289  Wed Nov 22 08:27:34 +0000 2017   \n",
      "875290  Wed Nov 22 08:43:51 +0000 2017   \n",
      "875291  Wed Nov 22 08:31:24 +0000 2017   \n",
      "\n",
      "                                                   text_y response_tweet_id_y  \\\n",
      "0       @115712 Can you please send us a private messa...                 5,7   \n",
      "1       @115712 I would love the chance to review the ...                 NaN   \n",
      "2       @115712 Hello! We never like our customers to ...                 NaN   \n",
      "3       @115713 H there! We'd definitely like to work ...                  16   \n",
      "4       @115715 Please send me a private message so th...                 NaN   \n",
      "...                                                   ...                 ...   \n",
      "875287     @823867 we have replied you via DM.Thanks-Emir                 NaN   \n",
      "875288  @823868 Sorry but kindly try to clear browser,...                 NaN   \n",
      "875289  @524544 That's a Peak service. The 09:56 is th...                 NaN   \n",
      "875290  @823869 Hey, we'd be happy to look into this f...                 NaN   \n",
      "875291  @823870 Sounds delicious, Sarah! 😋 https://t.c...                 NaN   \n",
      "\n",
      "        in_response_to_tweet_id_y  \n",
      "0                             8.0  \n",
      "1                             8.0  \n",
      "2                             8.0  \n",
      "3                            18.0  \n",
      "4                            20.0  \n",
      "...                           ...  \n",
      "875287                  2987942.0  \n",
      "875288                  2987944.0  \n",
      "875289                  2987946.0  \n",
      "875290                  2987948.0  \n",
      "875291                  2987950.0  \n",
      "\n",
      "[794299 rows x 14 columns]\n"
     ]
    }
   ],
   "source": [
    "\"\"\" A kernel posted on Kaggle that shows how to pull just the first consumer request and\n",
    "    company response from the dataset.\n",
    "\"\"\"\n",
    "\n",
    "tweets = pd.read_csv('../data/twcs/twcs.csv')\n",
    "\n",
    "\n",
    "# Pick only inbound tweets that aren't in reply to anything...\n",
    "first_inbound = tweets[pd.isnull(tweets.in_response_to_tweet_id) & tweets.inbound]\n",
    "print('Found {} first inbound messages.'.format(len(first_inbound)))\n",
    "\n",
    "# Merge in all tweets in response\n",
    "inbounds_and_outbounds = pd.merge(first_inbound, tweets, left_on='tweet_id', \n",
    "                                  right_on='in_response_to_tweet_id')\n",
    "print(\"Found {} responses.\".format(len(inbounds_and_outbounds)))\n",
    "\n",
    "# Filter out cases where reply tweet isn't from company\n",
    "inbounds_and_outbounds = inbounds_and_outbounds[inbounds_and_outbounds.inbound_y ^ True]\n",
    "\n",
    "# Et voila!\n",
    "print(\"Found {} responses from companies.\".format(len(inbounds_and_outbounds)))\n",
    "print(\"Tweets Preview:\")\n",
    "print(inbounds_and_outbounds)"
   ]
  },
  {
   "cell_type": "code",
   "execution_count": 7,
   "metadata": {},
   "outputs": [
    {
     "data": {
      "text/html": [
       "<div>\n",
       "<style scoped>\n",
       "    .dataframe tbody tr th:only-of-type {\n",
       "        vertical-align: middle;\n",
       "    }\n",
       "\n",
       "    .dataframe tbody tr th {\n",
       "        vertical-align: top;\n",
       "    }\n",
       "\n",
       "    .dataframe thead th {\n",
       "        text-align: right;\n",
       "    }\n",
       "</style>\n",
       "<table border=\"1\" class=\"dataframe\">\n",
       "  <thead>\n",
       "    <tr style=\"text-align: right;\">\n",
       "      <th></th>\n",
       "      <th>tweet_id</th>\n",
       "      <th>author_id</th>\n",
       "      <th>inbound</th>\n",
       "      <th>created_at</th>\n",
       "      <th>text</th>\n",
       "      <th>response_tweet_id</th>\n",
       "      <th>in_response_to_tweet_id</th>\n",
       "    </tr>\n",
       "  </thead>\n",
       "  <tbody>\n",
       "    <tr>\n",
       "      <th>0</th>\n",
       "      <td>1</td>\n",
       "      <td>sprintcare</td>\n",
       "      <td>False</td>\n",
       "      <td>Tue Oct 31 22:10:47 +0000 2017</td>\n",
       "      <td>@115712 I understand. I would like to assist y...</td>\n",
       "      <td>2</td>\n",
       "      <td>3.0</td>\n",
       "    </tr>\n",
       "    <tr>\n",
       "      <th>1</th>\n",
       "      <td>2</td>\n",
       "      <td>115712</td>\n",
       "      <td>True</td>\n",
       "      <td>Tue Oct 31 22:11:45 +0000 2017</td>\n",
       "      <td>@sprintcare and how do you propose we do that</td>\n",
       "      <td>NaN</td>\n",
       "      <td>1.0</td>\n",
       "    </tr>\n",
       "    <tr>\n",
       "      <th>2</th>\n",
       "      <td>3</td>\n",
       "      <td>115712</td>\n",
       "      <td>True</td>\n",
       "      <td>Tue Oct 31 22:08:27 +0000 2017</td>\n",
       "      <td>@sprintcare I have sent several private messag...</td>\n",
       "      <td>1</td>\n",
       "      <td>4.0</td>\n",
       "    </tr>\n",
       "    <tr>\n",
       "      <th>3</th>\n",
       "      <td>4</td>\n",
       "      <td>sprintcare</td>\n",
       "      <td>False</td>\n",
       "      <td>Tue Oct 31 21:54:49 +0000 2017</td>\n",
       "      <td>@115712 Please send us a Private Message so th...</td>\n",
       "      <td>3</td>\n",
       "      <td>5.0</td>\n",
       "    </tr>\n",
       "    <tr>\n",
       "      <th>4</th>\n",
       "      <td>5</td>\n",
       "      <td>115712</td>\n",
       "      <td>True</td>\n",
       "      <td>Tue Oct 31 21:49:35 +0000 2017</td>\n",
       "      <td>@sprintcare I did.</td>\n",
       "      <td>4</td>\n",
       "      <td>6.0</td>\n",
       "    </tr>\n",
       "  </tbody>\n",
       "</table>\n",
       "</div>"
      ],
      "text/plain": [
       "   tweet_id   author_id  inbound                      created_at  \\\n",
       "0         1  sprintcare    False  Tue Oct 31 22:10:47 +0000 2017   \n",
       "1         2      115712     True  Tue Oct 31 22:11:45 +0000 2017   \n",
       "2         3      115712     True  Tue Oct 31 22:08:27 +0000 2017   \n",
       "3         4  sprintcare    False  Tue Oct 31 21:54:49 +0000 2017   \n",
       "4         5      115712     True  Tue Oct 31 21:49:35 +0000 2017   \n",
       "\n",
       "                                                text response_tweet_id  \\\n",
       "0  @115712 I understand. I would like to assist y...                 2   \n",
       "1      @sprintcare and how do you propose we do that               NaN   \n",
       "2  @sprintcare I have sent several private messag...                 1   \n",
       "3  @115712 Please send us a Private Message so th...                 3   \n",
       "4                                 @sprintcare I did.                 4   \n",
       "\n",
       "   in_response_to_tweet_id  \n",
       "0                      3.0  \n",
       "1                      1.0  \n",
       "2                      4.0  \n",
       "3                      5.0  \n",
       "4                      6.0  "
      ]
     },
     "execution_count": 7,
     "metadata": {},
     "output_type": "execute_result"
    }
   ],
   "source": [
    "tweets.head() \n",
    "#inbound: message from others (response_tweet_id); outbound: message sent by the tweet_id (in_response_to_tweet_id)"
   ]
  },
  {
   "cell_type": "code",
   "execution_count": 8,
   "metadata": {
    "_cell_guid": "c9f2bbcb-e843-42d9-81ec-70be9465c4a8",
    "_uuid": "0c3d1708c29764aceb980a93bd9ac61fdf852a22",
    "scrolled": true
   },
   "outputs": [
    {
     "name": "stdout",
     "output_type": "stream",
     "text": [
      "Wall time: 9.94 s\n"
     ]
    }
   ],
   "source": [
    "%%time\n",
    "tweets = pd.read_csv('../data/twcs/twcs.csv')\n",
    "\n",
    "first_inbound = tweets[pd.isnull(tweets.in_response_to_tweet_id) & tweets.inbound]\n",
    "\n",
    "inbounds_and_outbounds = pd.merge(first_inbound, tweets, left_on='tweet_id', \n",
    "                                  right_on='in_response_to_tweet_id').sample(frac=1)\n",
    "\n",
    "# Filter to only outbound replies (from companies)\n",
    "inbounds_and_outbounds = inbounds_and_outbounds[inbounds_and_outbounds.inbound_y ^ True]\n",
    "\n",
    "#tqdm().pandas()  # Enable tracking of progress in dataframe `apply` calls"
   ]
  },
  {
   "cell_type": "code",
   "execution_count": 9,
   "metadata": {},
   "outputs": [
    {
     "data": {
      "application/vnd.jupyter.widget-view+json": {
       "model_id": "837bbddb9eff455d9eb50e71c4c14451",
       "version_major": 2,
       "version_minor": 0
      },
      "text/plain": [
       "0it [00:00, ?it/s]"
      ]
     },
     "metadata": {},
     "output_type": "display_data"
    }
   ],
   "source": [
    "tqdm().pandas()"
   ]
  },
  {
   "cell_type": "code",
   "execution_count": 10,
   "metadata": {
    "_cell_guid": "1510aa86-71ce-41b6-bda9-6bec1206836b",
    "_uuid": "67186b1ace1e3fff0fed9ec9fe6fd0c59f009a5b"
   },
   "outputs": [
    {
     "name": "stdout",
     "output_type": "stream",
     "text": [
      "Data shape: (794299, 14)\n"
     ]
    }
   ],
   "source": [
    "print(f'Data shape: {inbounds_and_outbounds.shape}')"
   ]
  },
  {
   "cell_type": "markdown",
   "metadata": {
    "_cell_guid": "a0afc1aa-a34f-4ea5-b34e-2fb21b5da62e",
    "_uuid": "2478590bbc0924cc8e8dd127ac4fea8019f8b3f3"
   },
   "source": [
    "### Tokenizing and Vocab Build\n",
    "\n",
    "We'll use NLTK's `casual_tokenize`, which handles a lot of corner cases found in social media data (\"casual\" text data) along with scitkit learn's `CountVectorizer`.  We won't use the actual `CountVectorizer`, just use it as a convenient vocabulary builder, which we'll apply with functions that turn text into \"word indexes\" - integers that represent each word - and back."
   ]
  },
  {
   "cell_type": "code",
   "execution_count": 11,
   "metadata": {
    "_cell_guid": "cab88942-373b-42fa-ac15-f341b19ced6f",
    "_uuid": "eccc4fdc8c0770ccb650c2fea30d7c4c5644ee4b",
    "scrolled": true
   },
   "outputs": [
    {
     "data": {
      "text/html": [
       "<div>\n",
       "<style scoped>\n",
       "    .dataframe tbody tr th:only-of-type {\n",
       "        vertical-align: middle;\n",
       "    }\n",
       "\n",
       "    .dataframe tbody tr th {\n",
       "        vertical-align: top;\n",
       "    }\n",
       "\n",
       "    .dataframe thead th {\n",
       "        text-align: right;\n",
       "    }\n",
       "</style>\n",
       "<table border=\"1\" class=\"dataframe\">\n",
       "  <thead>\n",
       "    <tr style=\"text-align: right;\">\n",
       "      <th></th>\n",
       "      <th>tweet_id_x</th>\n",
       "      <th>author_id_x</th>\n",
       "      <th>inbound_x</th>\n",
       "      <th>created_at_x</th>\n",
       "      <th>text_x</th>\n",
       "      <th>response_tweet_id_x</th>\n",
       "      <th>in_response_to_tweet_id_x</th>\n",
       "      <th>tweet_id_y</th>\n",
       "      <th>author_id_y</th>\n",
       "      <th>inbound_y</th>\n",
       "      <th>created_at_y</th>\n",
       "      <th>text_y</th>\n",
       "      <th>response_tweet_id_y</th>\n",
       "      <th>in_response_to_tweet_id_y</th>\n",
       "    </tr>\n",
       "  </thead>\n",
       "  <tbody>\n",
       "    <tr>\n",
       "      <th>610043</th>\n",
       "      <td>2122295</td>\n",
       "      <td>625251</td>\n",
       "      <td>True</td>\n",
       "      <td>Wed Nov 08 15:29:12 +0000 2017</td>\n",
       "      <td>Hey @120533 on peut payer en 4x maintenant ou ...</td>\n",
       "      <td>2122294</td>\n",
       "      <td>NaN</td>\n",
       "      <td>2122294</td>\n",
       "      <td>AmazonHelp</td>\n",
       "      <td>False</td>\n",
       "      <td>Wed Nov 08 15:40:34 +0000 2017</td>\n",
       "      <td>@625251 Exactement, le paiement en 4 fois est ...</td>\n",
       "      <td>2122293</td>\n",
       "      <td>2122295.0</td>\n",
       "    </tr>\n",
       "    <tr>\n",
       "      <th>605412</th>\n",
       "      <td>2106941</td>\n",
       "      <td>621789</td>\n",
       "      <td>True</td>\n",
       "      <td>Wed Nov 08 01:06:33 +0000 2017</td>\n",
       "      <td>@AirAsiaSupport is the new Manila-Bali route i...</td>\n",
       "      <td>2106940,2106942</td>\n",
       "      <td>NaN</td>\n",
       "      <td>2106942</td>\n",
       "      <td>AirAsiaSupport</td>\n",
       "      <td>False</td>\n",
       "      <td>Wed Nov 08 07:23:32 +0000 2017</td>\n",
       "      <td>@621789 Hi Pia, for Manila-Bali, you have to b...</td>\n",
       "      <td>2106943</td>\n",
       "      <td>2106941.0</td>\n",
       "    </tr>\n",
       "    <tr>\n",
       "      <th>272269</th>\n",
       "      <td>1000516</td>\n",
       "      <td>356865</td>\n",
       "      <td>True</td>\n",
       "      <td>Sun Oct 22 16:46:47 +0000 2017</td>\n",
       "      <td>So we got RedZone or Bears vs Panthers on cbs....</td>\n",
       "      <td>1000515</td>\n",
       "      <td>NaN</td>\n",
       "      <td>1000515</td>\n",
       "      <td>comcastcares</td>\n",
       "      <td>False</td>\n",
       "      <td>Sun Oct 22 17:19:58 +0000 2017</td>\n",
       "      <td>@356865 Happy to hear you are pleased with the...</td>\n",
       "      <td>NaN</td>\n",
       "      <td>1000516.0</td>\n",
       "    </tr>\n",
       "    <tr>\n",
       "      <th>309113</th>\n",
       "      <td>1129407</td>\n",
       "      <td>380895</td>\n",
       "      <td>True</td>\n",
       "      <td>Tue Oct 24 11:11:00 +0000 2017</td>\n",
       "      <td>When @115821 is great, it's great. When @11582...</td>\n",
       "      <td>1129406</td>\n",
       "      <td>NaN</td>\n",
       "      <td>1129406</td>\n",
       "      <td>AmazonHelp</td>\n",
       "      <td>False</td>\n",
       "      <td>Tue Oct 24 11:15:00 +0000 2017</td>\n",
       "      <td>@380895 Hi Billy- Without providing personal i...</td>\n",
       "      <td>1129405</td>\n",
       "      <td>1129407.0</td>\n",
       "    </tr>\n",
       "    <tr>\n",
       "      <th>107767</th>\n",
       "      <td>412613</td>\n",
       "      <td>213467</td>\n",
       "      <td>True</td>\n",
       "      <td>Tue Oct 10 00:39:08 +0000 2017</td>\n",
       "      <td>@azuresupport #azcommunity</td>\n",
       "      <td>412612</td>\n",
       "      <td>NaN</td>\n",
       "      <td>412612</td>\n",
       "      <td>AzureSupport</td>\n",
       "      <td>False</td>\n",
       "      <td>Tue Oct 10 00:40:51 +0000 2017</td>\n",
       "      <td>@213467 Hello! How can we help you today? ^MH</td>\n",
       "      <td>NaN</td>\n",
       "      <td>412613.0</td>\n",
       "    </tr>\n",
       "  </tbody>\n",
       "</table>\n",
       "</div>"
      ],
      "text/plain": [
       "        tweet_id_x author_id_x  inbound_x                    created_at_x  \\\n",
       "610043     2122295      625251       True  Wed Nov 08 15:29:12 +0000 2017   \n",
       "605412     2106941      621789       True  Wed Nov 08 01:06:33 +0000 2017   \n",
       "272269     1000516      356865       True  Sun Oct 22 16:46:47 +0000 2017   \n",
       "309113     1129407      380895       True  Tue Oct 24 11:11:00 +0000 2017   \n",
       "107767      412613      213467       True  Tue Oct 10 00:39:08 +0000 2017   \n",
       "\n",
       "                                                   text_x response_tweet_id_x  \\\n",
       "610043  Hey @120533 on peut payer en 4x maintenant ou ...             2122294   \n",
       "605412  @AirAsiaSupport is the new Manila-Bali route i...     2106940,2106942   \n",
       "272269  So we got RedZone or Bears vs Panthers on cbs....             1000515   \n",
       "309113  When @115821 is great, it's great. When @11582...             1129406   \n",
       "107767                         @azuresupport #azcommunity              412612   \n",
       "\n",
       "        in_response_to_tweet_id_x  tweet_id_y     author_id_y  inbound_y  \\\n",
       "610043                        NaN     2122294      AmazonHelp      False   \n",
       "605412                        NaN     2106942  AirAsiaSupport      False   \n",
       "272269                        NaN     1000515    comcastcares      False   \n",
       "309113                        NaN     1129406      AmazonHelp      False   \n",
       "107767                        NaN      412612    AzureSupport      False   \n",
       "\n",
       "                          created_at_y  \\\n",
       "610043  Wed Nov 08 15:40:34 +0000 2017   \n",
       "605412  Wed Nov 08 07:23:32 +0000 2017   \n",
       "272269  Sun Oct 22 17:19:58 +0000 2017   \n",
       "309113  Tue Oct 24 11:15:00 +0000 2017   \n",
       "107767  Tue Oct 10 00:40:51 +0000 2017   \n",
       "\n",
       "                                                   text_y response_tweet_id_y  \\\n",
       "610043  @625251 Exactement, le paiement en 4 fois est ...             2122293   \n",
       "605412  @621789 Hi Pia, for Manila-Bali, you have to b...             2106943   \n",
       "272269  @356865 Happy to hear you are pleased with the...                 NaN   \n",
       "309113  @380895 Hi Billy- Without providing personal i...             1129405   \n",
       "107767      @213467 Hello! How can we help you today? ^MH                 NaN   \n",
       "\n",
       "        in_response_to_tweet_id_y  \n",
       "610043                  2122295.0  \n",
       "605412                  2106941.0  \n",
       "272269                  1000516.0  \n",
       "309113                  1129407.0  \n",
       "107767                   412613.0  "
      ]
     },
     "execution_count": 11,
     "metadata": {},
     "output_type": "execute_result"
    }
   ],
   "source": [
    "inbounds_and_outbounds.head()"
   ]
  },
  {
   "cell_type": "code",
   "execution_count": 12,
   "metadata": {},
   "outputs": [
    {
     "name": "stdout",
     "output_type": "stream",
     "text": [
      "<class 'pandas.core.frame.DataFrame'>\n",
      "Int64Index: 794299 entries, 610043 to 589229\n",
      "Data columns (total 14 columns):\n",
      " #   Column                     Non-Null Count   Dtype  \n",
      "---  ------                     --------------   -----  \n",
      " 0   tweet_id_x                 794299 non-null  int64  \n",
      " 1   author_id_x                794299 non-null  object \n",
      " 2   inbound_x                  794299 non-null  bool   \n",
      " 3   created_at_x               794299 non-null  object \n",
      " 4   text_x                     794299 non-null  object \n",
      " 5   response_tweet_id_x        794299 non-null  object \n",
      " 6   in_response_to_tweet_id_x  0 non-null       float64\n",
      " 7   tweet_id_y                 794299 non-null  int64  \n",
      " 8   author_id_y                794299 non-null  object \n",
      " 9   inbound_y                  794299 non-null  bool   \n",
      " 10  created_at_y               794299 non-null  object \n",
      " 11  text_y                     794299 non-null  object \n",
      " 12  response_tweet_id_y        263771 non-null  object \n",
      " 13  in_response_to_tweet_id_y  794299 non-null  float64\n",
      "dtypes: bool(2), float64(2), int64(2), object(8)\n",
      "memory usage: 80.3+ MB\n"
     ]
    }
   ],
   "source": [
    "inbounds_and_outbounds.info()"
   ]
  },
  {
   "cell_type": "code",
   "execution_count": 13,
   "metadata": {},
   "outputs": [
    {
     "data": {
      "text/plain": [
       "AmazonHelp         0.106556\n",
       "AppleSupport       0.093960\n",
       "Uber_Support       0.050395\n",
       "Delta              0.035862\n",
       "SpotifyCares       0.033917\n",
       "Tesco              0.031332\n",
       "AmericanAir        0.030852\n",
       "comcastcares       0.030015\n",
       "SouthwestAir       0.026421\n",
       "TMobileHelp        0.025261\n",
       "British_Airways    0.024690\n",
       "Ask_Spectrum       0.021742\n",
       "VirginTrains       0.018075\n",
       "UPSHelp            0.017994\n",
       "hulu_support       0.017870\n",
       "ChipotleTweets     0.017441\n",
       "sprintcare         0.015925\n",
       "XboxSupport        0.015748\n",
       "AskPlayStation     0.014349\n",
       "sainsburys         0.013550\n",
       "Name: author_id_y, dtype: float64"
      ]
     },
     "execution_count": 13,
     "metadata": {},
     "output_type": "execute_result"
    }
   ],
   "source": [
    "inbounds_and_outbounds.author_id_y.value_counts(normalize = True).head(20)"
   ]
  },
  {
   "cell_type": "code",
   "execution_count": 14,
   "metadata": {},
   "outputs": [
    {
     "data": {
      "text/plain": [
       "askvisa            0.000721\n",
       "ask_progressive    0.000658\n",
       "GooglePlayMusic    0.000643\n",
       "YahooCare          0.000640\n",
       "USCellularCares    0.000628\n",
       "asksalesforce      0.000578\n",
       "MTNC_Care          0.000574\n",
       "MOO                0.000524\n",
       "KeyBank_Help       0.000482\n",
       "AskSeagate         0.000473\n",
       "AskVirginMoney     0.000466\n",
       "OPPOCareIN         0.000428\n",
       "AskRobinhood       0.000392\n",
       "AskTigogh          0.000349\n",
       "JackBox            0.000253\n",
       "mediatemplehelp    0.000239\n",
       "AskDSC             0.000238\n",
       "CarlsJr            0.000174\n",
       "HotelTonightCX     0.000165\n",
       "OfficeSupport      0.000073\n",
       "Name: author_id_y, dtype: float64"
      ]
     },
     "execution_count": 14,
     "metadata": {},
     "output_type": "execute_result"
    }
   ],
   "source": [
    "inbounds_and_outbounds.author_id_y.value_counts(normalize = True).tail(20) #108 companies"
   ]
  },
  {
   "cell_type": "code",
   "execution_count": 15,
   "metadata": {},
   "outputs": [],
   "source": []
  },
  {
   "cell_type": "code",
   "execution_count": 16,
   "metadata": {
    "_cell_guid": "1efdae4f-8ff9-4242-be79-06916771da66",
    "_uuid": "44f124ae8898978cf5c1e571da976888f8229894"
   },
   "outputs": [
    {
     "name": "stdout",
     "output_type": "stream",
     "text": [
      "Replacing anonymized screen names in X...\n"
     ]
    },
    {
     "data": {
      "application/vnd.jupyter.widget-view+json": {
       "model_id": "40e988a2702b48159569a763e7ccc879",
       "version_major": 2,
       "version_minor": 0
      },
      "text/plain": [
       "  0%|          | 0/794299 [00:00<?, ?it/s]"
      ]
     },
     "metadata": {},
     "output_type": "display_data"
    },
    {
     "name": "stdout",
     "output_type": "stream",
     "text": [
      "Replacing anonymized screen names in Y...\n"
     ]
    },
    {
     "data": {
      "application/vnd.jupyter.widget-view+json": {
       "model_id": "a66cc497f9d349c0bd7c6375c1e42a93",
       "version_major": 2,
       "version_minor": 0
      },
      "text/plain": [
       "  0%|          | 0/794299 [00:00<?, ?it/s]"
      ]
     },
     "metadata": {},
     "output_type": "display_data"
    }
   ],
   "source": [
    "# Replace anonymized screen names with common token @__sn__\n",
    "def sn_replace(match):\n",
    "    _sn = match.group(2).lower()\n",
    "    if not _sn.isnumeric():\n",
    "        # This is a company screen name\n",
    "        return match.group(1) + match.group(2)\n",
    "    return ' @__sn__'\n",
    "\n",
    "sn_re = re.compile('(\\W@|^@)([a-zA-Z0-9_]+)')\n",
    "print(\"Replacing anonymized screen names in X...\")\n",
    "x_text = inbounds_and_outbounds.text_x.progress_apply(lambda txt: sn_re.sub(sn_replace, txt))\n",
    "print(\"Replacing anonymized screen names in Y...\")\n",
    "y_text = inbounds_and_outbounds.text_y.progress_apply(lambda txt: sn_re.sub(sn_replace, txt))"
   ]
  },
  {
   "cell_type": "code",
   "execution_count": 17,
   "metadata": {
    "scrolled": true
   },
   "outputs": [
    {
     "data": {
      "text/plain": [
       "610043    Hey @120533 on peut payer en 4x maintenant ou ...\n",
       "605412    @AirAsiaSupport is the new Manila-Bali route i...\n",
       "272269    So we got RedZone or Bears vs Panthers on cbs....\n",
       "309113    When @115821 is great, it's great. When @11582...\n",
       "107767                           @azuresupport #azcommunity\n",
       "613898    @VirginTrains do you have a policy on recruiti...\n",
       "457395    Is it possible to stream @116935 from your And...\n",
       "820438    @TMobileHelp hi I am a customer on TMobile One...\n",
       "160448    @116016 is thee worst bank. They could careles...\n",
       "630258    @116297 Very disappointed in your service to m...\n",
       "Name: text_x, dtype: object"
      ]
     },
     "execution_count": 17,
     "metadata": {},
     "output_type": "execute_result"
    }
   ],
   "source": [
    "def sn_replace(match):\n",
    "    _sn = match.group(2).lower()\n",
    "    if not _sn.isnumeric():\n",
    "        # This is a company screen name\n",
    "        return match.group(1) + match.group(2)\n",
    "    return ' @__sn__'\n",
    "inbounds_and_outbounds.text_x[0:10]"
   ]
  },
  {
   "cell_type": "code",
   "execution_count": 58,
   "metadata": {},
   "outputs": [
    {
     "data": {
      "text/plain": [
       "'@116297 Very disappointed in your service to me as a customer of many years.  Again issues with you your customer service department. They promise one thing and do another. I guess Fool me once, shame on you. Fool me twice, shame on me.'"
      ]
     },
     "execution_count": 58,
     "metadata": {},
     "output_type": "execute_result"
    }
   ],
   "source": [
    "inbounds_and_outbounds.text_x[630258]"
   ]
  },
  {
   "cell_type": "code",
   "execution_count": 59,
   "metadata": {},
   "outputs": [
    {
     "data": {
      "text/plain": [
       "'@640349 We have nothing but love for you. We have received your DM and will be glad to take a deeper look into this for you. ^AW'"
      ]
     },
     "execution_count": 59,
     "metadata": {},
     "output_type": "execute_result"
    }
   ],
   "source": [
    "inbounds_and_outbounds.text_y[630258]"
   ]
  },
  {
   "cell_type": "code",
   "execution_count": 18,
   "metadata": {},
   "outputs": [
    {
     "data": {
      "text/plain": [
       "610043    Hey @__sn__ on peut payer en 4x maintenant ou ...\n",
       "605412    @AirAsiaSupport is the new Manila-Bali route i...\n",
       "272269    So we got RedZone or Bears vs Panthers on cbs....\n",
       "309113    When @__sn__ is great, it's great. When @__sn_...\n",
       "107767                           @azuresupport #azcommunity\n",
       "613898    @VirginTrains do you have a policy on recruiti...\n",
       "457395    Is it possible to stream @__sn__ from your And...\n",
       "820438    @TMobileHelp hi I am a customer on TMobile One...\n",
       "160448     @__sn__ is thee worst bank. They could carele...\n",
       "630258     @__sn__ Very disappointed in your service to ...\n",
       "Name: text_x, dtype: object"
      ]
     },
     "execution_count": 18,
     "metadata": {},
     "output_type": "execute_result"
    }
   ],
   "source": [
    "inbounds_and_outbounds.text_x[0:10].apply(lambda txt: sn_re.sub(sn_replace, txt))"
   ]
  },
  {
   "cell_type": "code",
   "execution_count": 19,
   "metadata": {
    "_cell_guid": "eba2c6e6-f57e-438e-983f-d19c5156c817",
    "_uuid": "e3f3adeb6aebe8a90bdd7bfcd4fd6cff797d85ad",
    "scrolled": false
   },
   "outputs": [
    {
     "name": "stdout",
     "output_type": "stream",
     "text": [
      "Fitting CountVectorizer on X and Y text data...\n"
     ]
    },
    {
     "data": {
      "application/vnd.jupyter.widget-view+json": {
       "model_id": "beb2883ba6854c1a80b522737f670942",
       "version_major": 2,
       "version_minor": 0
      },
      "text/plain": [
       "  0%|          | 0/794299 [00:00<?, ?it/s]"
      ]
     },
     "metadata": {},
     "output_type": "display_data"
    },
    {
     "name": "stderr",
     "output_type": "stream",
     "text": [
      "C:\\Users\\JiatingChen\\anaconda3\\envs\\temp_venv\\lib\\site-packages\\sklearn\\feature_extraction\\text.py:507: UserWarning: The parameter 'token_pattern' will not be used since 'tokenizer' is not None'\n",
      "  warnings.warn(\"The parameter 'token_pattern' will not be used\"\n"
     ]
    },
    {
     "name": "stdout",
     "output_type": "stream",
     "text": [
      "Learned vocab of 8192 items.\n"
     ]
    }
   ],
   "source": [
    "count_vec = CountVectorizer(tokenizer=casual_tokenize, max_features=MAX_VOCAB_SIZE - 3)\n",
    "print(\"Fitting CountVectorizer on X and Y text data...\")\n",
    "count_vec.fit(tqdm(x_text + y_text))\n",
    "analyzer = count_vec.build_analyzer()\n",
    "vocab = {k: v + 3 for k, v in count_vec.vocabulary_.items()}\n",
    "vocab['__unk__'] = UNK\n",
    "vocab['__pad__'] = PAD\n",
    "vocab['__start__'] = START\n",
    "\n",
    "# Used to turn seq2seq predictions into human readable strings\n",
    "reverse_vocab = {v: k for k, v in vocab.items()}\n",
    "print(f\"Learned vocab of {len(vocab)} items.\")"
   ]
  },
  {
   "cell_type": "code",
   "execution_count": 20,
   "metadata": {},
   "outputs": [
    {
     "data": {
      "text/plain": [
       "610043    Hey @__sn__ on peut payer en 4x maintenant ou ...\n",
       "605412    @AirAsiaSupport is the new Manila-Bali route i...\n",
       "272269    So we got RedZone or Bears vs Panthers on cbs....\n",
       "309113    When @__sn__ is great, it's great. When @__sn_...\n",
       "107767    @azuresupport #azcommunity @__sn__ Hello! How ...\n",
       "                                ...                        \n",
       "9343      About to board @VirginTrains to Wembley for @_...\n",
       "673749    @AirAsiaSupport \\nSaya mahu booking tiket KL-K...\n",
       "13800     @TMobileHelp just sent you guys a dm with an o...\n",
       "248940    Can We Get Fox Sports On Basic Cable Instead O...\n",
       "589229    Because @__sn__ will tell you you’re signing u...\n",
       "Length: 794299, dtype: object"
      ]
     },
     "execution_count": 20,
     "metadata": {},
     "output_type": "execute_result"
    }
   ],
   "source": [
    "x_text + y_text"
   ]
  },
  {
   "cell_type": "code",
   "execution_count": 21,
   "metadata": {},
   "outputs": [
    {
     "data": {
      "text/plain": [
       "2"
      ]
     },
     "execution_count": 21,
     "metadata": {},
     "output_type": "execute_result"
    }
   ],
   "source": [
    "vocab['__start__']"
   ]
  },
  {
   "cell_type": "markdown",
   "metadata": {
    "_cell_guid": "c01e85bb-974d-4bf3-8eb1-b5893ce8f284",
    "_uuid": "893cae536132c7477699350574f5de0fd7a60a3f"
   },
   "source": [
    "### Vocab Helper Functions\n",
    "These helper functions take strings and turn them into word indexes used by the actual seq2seq models.  This turns something like \"This is how we do it.\" into a padded array of integers, like [153, 4, 643, 48, 94, 54, 8, 0, 0, 0].  We'll apply the `to_word_idx` function to our text data to get our `N x MESSAGE_LEN` training/test data."
   ]
  },
  {
   "cell_type": "code",
   "execution_count": 22,
   "metadata": {
    "_cell_guid": "d04887da-5ca9-4380-949e-7f7923a85df8",
    "_uuid": "b32c76052be9f5493b7eeee1cf40435e438eb3ca"
   },
   "outputs": [],
   "source": [
    "def to_word_idx(sentence):\n",
    "    full_length = [vocab.get(tok, UNK) for tok in analyzer(sentence)] + [PAD] * MAX_MESSAGE_LEN\n",
    "    return full_length[:MAX_MESSAGE_LEN]\n",
    "\n",
    "def from_word_idx(word_idxs):\n",
    "    return ' '.join(reverse_vocab[idx] for idx in word_idxs if idx != PAD).strip()\n"
   ]
  },
  {
   "cell_type": "code",
   "execution_count": 23,
   "metadata": {},
   "outputs": [
    {
     "data": {
      "text/plain": [
       "610043    [3450, 449, 5111, 0, 0, 2630, 353, 0, 5179, 40...\n",
       "605412    [451, 3976, 7088, 4943, 0, 6173, 3847, 3831, 7...\n",
       "272269    [6609, 7681, 3250, 0, 5158, 0, 7621, 0, 5111, ...\n",
       "309113    [7734, 449, 3976, 3268, 154, 3994, 3268, 157, ...\n",
       "107767    [481, 20, 1, 1, 1, 1, 1, 1, 1, 1, 1, 1, 1, 1, ...\n",
       "Name: text_x, dtype: object"
      ]
     },
     "execution_count": 23,
     "metadata": {},
     "output_type": "execute_result"
    }
   ],
   "source": [
    "x_text.head().apply(to_word_idx)"
   ]
  },
  {
   "cell_type": "code",
   "execution_count": 24,
   "metadata": {
    "_cell_guid": "f4b791c1-48a3-4cff-895f-a9140a93c831",
    "_uuid": "3ac8190e6d5985151dbfd5a11a502a389279bad7"
   },
   "outputs": [
    {
     "data": {
      "text/plain": [
       "610043    hey @__sn__ on __unk__ __unk__ en 4x __unk__ o...\n",
       "605412    @airasiasupport is the new __unk__ route inclu...\n",
       "272269    so we got __unk__ or __unk__ vs __unk__ on cbs...\n",
       "309113    when @__sn__ is great , it's great . when @__s...\n",
       "107767                           @azuresupport #azcommunity\n",
       "Name: text_x, dtype: object"
      ]
     },
     "execution_count": 24,
     "metadata": {},
     "output_type": "execute_result"
    }
   ],
   "source": [
    "# Make sure our helpers work as expected...\n",
    "x_text.head().apply(to_word_idx).apply(from_word_idx)"
   ]
  },
  {
   "cell_type": "code",
   "execution_count": 25,
   "metadata": {},
   "outputs": [
    {
     "data": {
      "text/plain": [
       "878"
      ]
     },
     "execution_count": 25,
     "metadata": {},
     "output_type": "execute_result"
    }
   ],
   "source": [
    "vocab['anyone']"
   ]
  },
  {
   "cell_type": "code",
   "execution_count": 26,
   "metadata": {},
   "outputs": [
    {
     "data": {
      "text/plain": [
       "'anyone'"
      ]
     },
     "execution_count": 26,
     "metadata": {},
     "output_type": "execute_result"
    }
   ],
   "source": [
    "reverse_vocab[878]"
   ]
  },
  {
   "cell_type": "code",
   "execution_count": 27,
   "metadata": {
    "_cell_guid": "d1977e30-2cc7-4786-91b2-10dbaa63f17d",
    "_uuid": "74951a1b74353c31e5e64a68d0f329f1efa9543d",
    "scrolled": true
   },
   "outputs": [
    {
     "name": "stdout",
     "output_type": "stream",
     "text": [
      "Calculating word indexes for X...\n"
     ]
    },
    {
     "name": "stderr",
     "output_type": "stream",
     "text": [
      "C:\\Users\\JiatingChen\\anaconda3\\envs\\temp_venv\\lib\\site-packages\\ipykernel_launcher.py:2: FutureWarning: The pandas.np module is deprecated and will be removed from pandas in a future version. Import numpy directly instead\n",
      "  \n"
     ]
    },
    {
     "data": {
      "application/vnd.jupyter.widget-view+json": {
       "model_id": "df77cab06cb447a7b2bbbe5df0995dc4",
       "version_major": 2,
       "version_minor": 0
      },
      "text/plain": [
       "  0%|          | 0/794299 [00:00<?, ?it/s]"
      ]
     },
     "metadata": {},
     "output_type": "display_data"
    },
    {
     "name": "stdout",
     "output_type": "stream",
     "text": [
      "Calculating word indexes for Y...\n"
     ]
    },
    {
     "name": "stderr",
     "output_type": "stream",
     "text": [
      "C:\\Users\\JiatingChen\\anaconda3\\envs\\temp_venv\\lib\\site-packages\\ipykernel_launcher.py:4: FutureWarning: The pandas.np module is deprecated and will be removed from pandas in a future version. Import numpy directly instead\n",
      "  after removing the cwd from sys.path.\n"
     ]
    },
    {
     "data": {
      "application/vnd.jupyter.widget-view+json": {
       "model_id": "f8b90e37aaf14d73ba65dc2f889ce448",
       "version_major": 2,
       "version_minor": 0
      },
      "text/plain": [
       "  0%|          | 0/794299 [00:00<?, ?it/s]"
      ]
     },
     "metadata": {},
     "output_type": "display_data"
    }
   ],
   "source": [
    "print(\"Calculating word indexes for X...\")\n",
    "x = pd.np.vstack(x_text.progress_apply(to_word_idx).values)\n",
    "print(\"Calculating word indexes for Y...\")\n",
    "y = pd.np.vstack(y_text.progress_apply(to_word_idx).values)"
   ]
  },
  {
   "cell_type": "markdown",
   "metadata": {
    "_cell_guid": "edebf7ab-0495-4e38-9900-7a9652cdb2d0",
    "_uuid": "f9f842020ecb321805c9032d20b01f1ffe6f5885"
   },
   "source": [
    "### Train / Test Split\n",
    "Here, we split our data into training and test sets.  For simplicity, we use a random split, which may result in different distributions between the training and test set, but we won't worry about that for this case."
   ]
  },
  {
   "cell_type": "code",
   "execution_count": 28,
   "metadata": {
    "_cell_guid": "67b9f6e4-2619-48c9-9339-da6637e646d3",
    "_uuid": "d4f3b7134ac395a1952f8dc816cedad201cdf0a4"
   },
   "outputs": [
    {
     "name": "stdout",
     "output_type": "stream",
     "text": [
      "Training data of shape (635439, 30) and test data of shape (158860, 30).\n"
     ]
    }
   ],
   "source": [
    "all_idx = list(range(len(x)))\n",
    "random.seed(1234)\n",
    "train_idx = set(random.sample(all_idx, int(0.8 * len(all_idx))))\n",
    "test_idx = {idx for idx in all_idx if idx not in train_idx}\n",
    "\n",
    "train_x = x[list(train_idx)]\n",
    "test_x = x[list(test_idx)]\n",
    "train_y = y[list(train_idx)]\n",
    "test_y = y[list(test_idx)]\n",
    "\n",
    "assert train_x.shape == train_y.shape\n",
    "assert test_x.shape == test_y.shape\n",
    "\n",
    "print(f'Training data of shape {train_x.shape} and test data of shape {test_x.shape}.')"
   ]
  },
  {
   "cell_type": "code",
   "execution_count": 29,
   "metadata": {},
   "outputs": [
    {
     "data": {
      "text/plain": [
       "array([[3450,  449, 5111, ...,    1,    1,    1],\n",
       "       [ 451, 3976, 7088, ...,    1,    1,    1],\n",
       "       [6609, 7681, 3250, ...,    1,    1,    1],\n",
       "       ...,\n",
       "       [ 568, 7207, 1288, ...,    1,    1,    1],\n",
       "       [1490, 7681, 3182, ...,    1,    1,    1],\n",
       "       [1178,  449, 7765, ..., 6497,  552,  269]])"
      ]
     },
     "execution_count": 29,
     "metadata": {},
     "output_type": "execute_result"
    }
   ],
   "source": [
    "train_x"
   ]
  },
  {
   "cell_type": "markdown",
   "metadata": {
    "_cell_guid": "9764b6aa-13e3-409e-939e-64f7f7083350",
    "_uuid": "89c827fa1a1aabc990e6b04b4a4839bd04b9b42c"
   },
   "source": [
    "## Model Creation\n",
    "We'll create and compile the model here.  It will consist of the following components:\n",
    "\n",
    "- Shared word embeddings\n",
    "  - A shared embedding layer that turns word indexes (a sparse representation) into a dense/compressed representation.  This embeds both the request from the customer, and also the last words uttered by the model that are fed back into the model.\n",
    "- Encoder RNN\n",
    "  - In this case, a single LSTM layer.  This encodes the whole input sentence into a context vector (or thought vector) that represents completely what the customer is saying, and produces a single output.\n",
    "- Decoder RNN\n",
    "  - This RNN (also an LSTM in this case) decodes the context vector into a string of tokens/utterances.  For each time step, it takes the context vector and the embedded last utterance and produces the next utterance, which is fed back into the model.  More complex and effective models copy the encoder state into the decoder, add more layers of LSTMs, and apply attention mechanisms - but these are out of the scope of this simple example.\n",
    "- Next Word Dense+Softmax\n",
    "  - These two layers take the decoder output and turn it into the next word to be uttered.  The dense layer allows the decoder to not map directly to words uttered, and the softmax turns the dense layer output into a probability distribution, from which we pick the most likely next word.\n",
    "\n",
    "![seq2seq model structure](https://i.imgur.com/JmuryKu.png)"
   ]
  },
  {
   "cell_type": "code",
   "execution_count": 6,
   "metadata": {
    "_cell_guid": "ee656365-3b04-4dfc-a4dc-a4081ceea82d",
    "_uuid": "46bea6af349b1b67b870eb5977c2bd0c798e2b86"
   },
   "outputs": [],
   "source": [
    "# keras imports, because there are like... A million of them.\n",
    "from keras.models import Model\n",
    "# from keras.optimizers import Adam\n",
    "from tensorflow.keras.optimizers import Adam\n",
    "from keras.layers import Dense, Input, LSTM, Dropout, Embedding, RepeatVector, concatenate, \\\n",
    "     TimeDistributed\n",
    "from keras.utils import np_utils\n",
    "\n",
    "# from tensorflow.keras import Model, Sequential\n",
    "# from tensorflow.keras.layers import Dense, Input, LSTM, Dropout, Embedding, RepeatVector, concatenate, \\\n",
    "#      TimeDistributed"
   ]
  },
  {
   "cell_type": "code",
   "execution_count": 7,
   "metadata": {},
   "outputs": [
    {
     "data": {
      "text/plain": [
       "'1.15.0'"
      ]
     },
     "execution_count": 7,
     "metadata": {},
     "output_type": "execute_result"
    }
   ],
   "source": [
    "import tensorflow as tf\n",
    "tf.__version__"
   ]
  },
  {
   "cell_type": "code",
   "execution_count": 8,
   "metadata": {},
   "outputs": [
    {
     "data": {
      "text/plain": [
       "'1.19.5'"
      ]
     },
     "execution_count": 8,
     "metadata": {},
     "output_type": "execute_result"
    }
   ],
   "source": [
    "import numpy as np\n",
    "np.__version__"
   ]
  },
  {
   "cell_type": "code",
   "execution_count": 9,
   "metadata": {},
   "outputs": [
    {
     "data": {
      "text/plain": [
       "'2.3.1'"
      ]
     },
     "execution_count": 9,
     "metadata": {},
     "output_type": "execute_result"
    }
   ],
   "source": [
    "import keras\n",
    "keras.__version__"
   ]
  },
  {
   "cell_type": "code",
   "execution_count": 12,
   "metadata": {
    "_cell_guid": "d0a87457-573a-43b8-9a0a-d869a75b86ba",
    "_uuid": "420e809e7f3c9986bf4d3e3804198b8205e4a772",
    "scrolled": true
   },
   "outputs": [],
   "source": [
    "def create_model():\n",
    "    shared_embedding = Embedding(\n",
    "        output_dim=EMBEDDING_SIZE,\n",
    "        input_dim=MAX_VOCAB_SIZE,\n",
    "        input_length=MAX_MESSAGE_LEN,\n",
    "        name='embedding',\n",
    "    )\n",
    "    \n",
    "    # ENCODER\n",
    "    \n",
    "    encoder_input = Input(\n",
    "        shape=(MAX_MESSAGE_LEN,),\n",
    "        dtype='int32',\n",
    "        name='encoder_input',\n",
    "    )\n",
    "    \n",
    "    embedded_input = shared_embedding(encoder_input)\n",
    "    \n",
    "    # No return_sequences - since the encoder here only produces a single value for the\n",
    "    # input sequence provided.\n",
    "    encoder_rnn = LSTM(\n",
    "        CONTEXT_SIZE,\n",
    "        name='encoder',\n",
    "        dropout=DROPOUT\n",
    "    )\n",
    "    \n",
    "    context = RepeatVector(MAX_MESSAGE_LEN)(encoder_rnn(embedded_input))\n",
    "    \n",
    "    # DECODER\n",
    "    \n",
    "    last_word_input = Input(\n",
    "        shape=(MAX_MESSAGE_LEN, ),\n",
    "        dtype='int32',\n",
    "        name='last_word_input',\n",
    "    )\n",
    "    \n",
    "    embedded_last_word = shared_embedding(last_word_input)\n",
    "    # Combines the context produced by the encoder and the last word uttered as inputs\n",
    "    # to the decoder.\n",
    "    decoder_input = concatenate([embedded_last_word, context], axis=2)\n",
    "    \n",
    "    # return_sequences causes LSTM to produce one output per timestep instead of one at the\n",
    "    # end of the intput, which is important for sequence producing models.\n",
    "    decoder_rnn = LSTM(\n",
    "        CONTEXT_SIZE,\n",
    "        name='decoder',\n",
    "        return_sequences=True,\n",
    "        dropout=DROPOUT\n",
    "    )\n",
    "    \n",
    "    decoder_output = decoder_rnn(decoder_input)\n",
    "    \n",
    "    # TimeDistributed allows the dense layer to be applied to each decoder output per timestep\n",
    "    next_word_dense = TimeDistributed(\n",
    "        Dense(int(MAX_VOCAB_SIZE / 2), activation='relu'),\n",
    "        name='next_word_dense',\n",
    "    )(decoder_output)\n",
    "    \n",
    "    next_word = TimeDistributed(\n",
    "        Dense(MAX_VOCAB_SIZE, activation='softmax'),\n",
    "        name='next_word_softmax'\n",
    "    )(next_word_dense)\n",
    "    \n",
    "    return Model(inputs=[encoder_input, last_word_input], outputs=[next_word])\n",
    "\n",
    "s2s_model = create_model()\n",
    "optimizer = Adam(lr=LEARNING_RATE, clipvalue=5.0)\n",
    "s2s_model.compile(optimizer='adam', loss='categorical_crossentropy')"
   ]
  },
  {
   "cell_type": "markdown",
   "metadata": {
    "_cell_guid": "37dc7acc-ed74-4933-9182-b4329258d31f",
    "_uuid": "261fdad98295fa395592a5a6bf60806151a51c74"
   },
   "source": [
    "## Model Training\n",
    "We'll train the model here.  After each sub-batch of the dataset, we'll test with static input strings to see how the model is progressing in human readable terms.  Its important to have these tests along with traditional model evaluation to provide a better understanding of how well the model is training.\n",
    "\n",
    "It's important to pull test strings from the real distribution of the data, also.  It can be hard to really put yourself in customers' shoes when writing test messages, and you will get non-representative results when you provide test examples that don't fit the true distribution of the input data (when your input text doesn't sound like real customer requests)."
   ]
  },
  {
   "cell_type": "code",
   "execution_count": 35,
   "metadata": {
    "_cell_guid": "db2eee93-8070-4572-962e-c7225b20d2e4",
    "_uuid": "464355ec34af2c192723e66222c036826ac323f7"
   },
   "outputs": [],
   "source": [
    "def add_start_token(y_array):\n",
    "    \"\"\" Adds the start token to vectors.  Used for training data. \"\"\"\n",
    "    return np.hstack([\n",
    "        START * np.ones((len(y_array), 1)),\n",
    "        y_array[:, :-1],\n",
    "    ])\n",
    "\n",
    "def binarize_labels(labels):\n",
    "    \"\"\" Helper function that turns integer word indexes into sparse binary matrices for \n",
    "        the expected model output.\n",
    "    \"\"\"\n",
    "    return np.array([np_utils.to_categorical(row, num_classes=MAX_VOCAB_SIZE)\n",
    "                     for row in labels])"
   ]
  },
  {
   "cell_type": "code",
   "execution_count": 36,
   "metadata": {
    "_cell_guid": "ce33ef3c-90df-4d3f-aad7-82db7b8cbf38",
    "_uuid": "982ca948fcf372ba6d29cc1872b9667c8e7c678f"
   },
   "outputs": [],
   "source": [
    "def respond_to(model, text):\n",
    "    \"\"\" Helper function that takes a text input and provides a text output. \"\"\"\n",
    "    input_y = add_start_token(PAD * np.ones((1, MAX_MESSAGE_LEN)))\n",
    "    idxs = np.array(to_word_idx(text)).reshape((1, MAX_MESSAGE_LEN))\n",
    "    for position in range(MAX_MESSAGE_LEN - 1):\n",
    "        prediction = model.predict([idxs, input_y]).argmax(axis=2)[0]\n",
    "        input_y[:,position + 1] = prediction[position]\n",
    "    return from_word_idx(model.predict([idxs, input_y]).argmax(axis=2)[0])"
   ]
  },
  {
   "cell_type": "code",
   "execution_count": 37,
   "metadata": {
    "_cell_guid": "3fb77b82-c4c3-4328-89a9-4c679744018c",
    "_uuid": "134fb65418234dd849a6d0147f95728373ea80a0"
   },
   "outputs": [],
   "source": [
    "def train_mini_epoch(model, start_idx, end_idx):\n",
    "    \"\"\" Batching seems necessary in Kaggle Jupyter Notebook environments, since\n",
    "        `model.fit` seems to freeze on larger batches (somewhere 1k-10k).\n",
    "    \"\"\"\n",
    "    b_train_y = binarize_labels(train_y[start_idx:end_idx])\n",
    "    input_train_y = add_start_token(train_y[start_idx:end_idx])\n",
    "    \n",
    "    model.fit(\n",
    "        [train_x[start_idx:end_idx], input_train_y], \n",
    "        b_train_y,\n",
    "        epochs=1,\n",
    "        batch_size=BATCH_SIZE,\n",
    "    )\n",
    "    \n",
    "    rand_idx = random.sample(list(range(len(test_x))), SUB_BATCH_SIZE)\n",
    "    print('Test results:', model.evaluate(\n",
    "        [test_x[rand_idx], add_start_token(test_y[rand_idx])],\n",
    "        binarize_labels(test_y[rand_idx])\n",
    "    ))\n",
    "    \n",
    "    input_strings = [\n",
    "        \"@AppleSupport I fix I this I stupid I problem I\",\n",
    "        \"@AmazonHelp I hadnt expected that such a big brand like amazon would have such a poor customer service.\",\n",
    "    ]\n",
    "    \n",
    "    for input_string in input_strings:\n",
    "        output_string = respond_to(model, input_string)\n",
    "        print(f'> \"{input_string}\"\\n< \"{output_string}\"')\n"
   ]
  },
  {
   "cell_type": "markdown",
   "metadata": {
    "_cell_guid": "8a481fec-429a-45c5-bbb7-5f8f7e0e2487",
    "_uuid": "00e0850fe55d06f6d86c71c055ee45d8a0086c21"
   },
   "source": [
    "### Train the model!\n",
    "\n",
    "You can stop training by pressing the stop button - the training code is configured to watch for the `KeyboardInterrupt` exception triggered that way.  Also, it will run until the configured stopping point below.\n",
    "\n",
    "\n",
    "Let's start the training! 🚀"
   ]
  },
  {
   "cell_type": "code",
   "execution_count": 38,
   "metadata": {
    "_cell_guid": "450d8fd0-25b2-41cb-ad3b-dbb266568b72",
    "_uuid": "790bb2978f320f7988f0e850026f264a434b5c3e",
    "scrolled": true
   },
   "outputs": [
    {
     "name": "stdout",
     "output_type": "stream",
     "text": [
      "Training in epoch 0...\n",
      "WARNING:tensorflow:From C:\\Users\\JiatingChen\\anaconda3\\envs\\temp_venv\\lib\\site-packages\\tensorflow_core\\python\\ops\\math_grad.py:1424: where (from tensorflow.python.ops.array_ops) is deprecated and will be removed in a future version.\n",
      "Instructions for updating:\n",
      "Use tf.where in 2.0, which has the same broadcast rule as np.where\n",
      "WARNING:tensorflow:From C:\\Users\\JiatingChen\\anaconda3\\envs\\temp_venv\\lib\\site-packages\\keras\\backend\\tensorflow_backend.py:422: The name tf.global_variables is deprecated. Please use tf.compat.v1.global_variables instead.\n",
      "\n",
      "Epoch 1/1\n",
      "1000/1000 [==============================] - 111s 111ms/step - loss: 4.7167\n",
      "1000/1000 [==============================] - 7s 7ms/step\n",
      "Test results: 4.176258781433106\n",
      "> \"@AppleSupport I fix I this I stupid I problem I\"\n",
      "< \"@__sn__ hi , , , , , . . .\"\n",
      "> \"@AmazonHelp I hadnt expected that such a big brand like amazon would have such a poor customer service.\"\n",
      "< \"@__sn__ hi , , , , . . .\"\n",
      "Epoch 1/1\n",
      "1000/1000 [==============================] - 106s 106ms/step - loss: 4.0807\n",
      "1000/1000 [==============================] - 7s 7ms/step\n",
      "Test results: 3.8346783142089844\n",
      "> \"@AppleSupport I fix I this I stupid I problem I\"\n",
      "< \"@__sn__ we __unk__ __unk__ __unk__ __unk__ __unk__ __unk__ __unk__ __unk__ __unk__ __unk__ __unk__ __unk__ __unk__ __unk__ __unk__ __unk__ __unk__ __unk__ __unk__ __unk__ __unk__ __unk__ __unk__ __unk__ __unk__ __unk__ __unk__ __unk__\"\n",
      "> \"@AmazonHelp I hadnt expected that such a big brand like amazon would have such a poor customer service.\"\n",
      "< \"@__sn__ we __unk__ __unk__ __unk__ __unk__ __unk__ __unk__ __unk__ __unk__ __unk__ __unk__ __unk__ __unk__ __unk__ __unk__ __unk__ __unk__ __unk__ __unk__ __unk__ __unk__ __unk__ __unk__ __unk__ __unk__ __unk__ __unk__ __unk__ __unk__\"\n",
      "Epoch 1/1\n",
      "1000/1000 [==============================] - 107s 107ms/step - loss: 3.6649\n",
      "1000/1000 [==============================] - 7s 7ms/step\n",
      "Test results: 3.573781560897827\n",
      "> \"@AppleSupport I fix I this I stupid I problem I\"\n",
      "< \"@__sn__ hi , sorry to hear you you you you you you dm us your email address and address and we'll can your account number .\"\n",
      "> \"@AmazonHelp I hadnt expected that such a big brand like amazon would have such a poor customer service.\"\n",
      "< \"@__sn__ hi , sorry to hear you you you you you you dm us your email address and address and we'll can your account number .\"\n",
      "Epoch 1/1\n",
      "1000/1000 [==============================] - 102s 102ms/step - loss: 3.5172\n",
      "1000/1000 [==============================] - 8s 8ms/step\n",
      "Test results: 3.3943323478698733\n",
      "> \"@AppleSupport I fix I this I stupid I problem I\"\n",
      "< \"@__sn__ hi __unk__ , __unk__ __unk__ __unk__ __unk__ __unk__ __unk__ __unk__ __unk__ __unk__ __unk__ __unk__ __unk__ __unk__ __unk__ __unk__ __unk__ __unk__ __unk__ __unk__ __unk__ __unk__ __unk__ __unk__ __unk__ __unk__ __unk__\"\n",
      "> \"@AmazonHelp I hadnt expected that such a big brand like amazon would have such a poor customer service.\"\n",
      "< \"@__sn__ hi __unk__ , __unk__ __unk__ __unk__ __unk__ __unk__ __unk__ __unk__ __unk__ __unk__ __unk__ __unk__ __unk__ __unk__ __unk__ __unk__ __unk__ __unk__ __unk__ __unk__ __unk__ __unk__ __unk__ __unk__ __unk__ __unk__ __unk__\"\n",
      "Epoch 1/1\n",
      "1000/1000 [==============================] - 109s 109ms/step - loss: 3.3108\n",
      "1000/1000 [==============================] - 8s 8ms/step\n",
      "Test results: 3.220878059387207\n",
      "> \"@AppleSupport I fix I this I stupid I problem I\"\n",
      "< \"@__sn__ hi there , we can you please dm us your email address and address so we can assist you . ^ __unk__\"\n",
      "> \"@AmazonHelp I hadnt expected that such a big brand like amazon would have such a poor customer service.\"\n",
      "< \"@__sn__ hi there , we can you please dm us your email address and address so we can assist you . ^ __unk__\"\n",
      "Epoch 1/1\n",
      "1000/1000 [==============================] - 105s 105ms/step - loss: 3.2617\n",
      "1000/1000 [==============================] - 7s 7ms/step\n",
      "Test results: 3.1501233444213868\n",
      "> \"@AppleSupport I fix I this I stupid I problem I\"\n",
      "< \"@__sn__ hi __unk__ , __unk__ , __unk__ __unk__ __unk__ __unk__ __unk__ __unk__ __unk__ __unk__ __unk__ __unk__ __unk__ __unk__ __unk__ __unk__ __unk__ __unk__ __unk__ __unk__ __unk__ __unk__ __unk__ __unk__ __unk__ __unk__\"\n",
      "> \"@AmazonHelp I hadnt expected that such a big brand like amazon would have such a poor customer service.\"\n",
      "< \"@__sn__ hi __unk__ , __unk__ , __unk__ __unk__ __unk__ __unk__ __unk__ __unk__ __unk__ __unk__ __unk__ __unk__ __unk__ __unk__ __unk__ __unk__ __unk__ __unk__ __unk__ __unk__ __unk__ __unk__ __unk__ __unk__ __unk__ __unk__\"\n",
      "Epoch 1/1\n",
      "1000/1000 [==============================] - 105s 105ms/step - loss: 3.1247\n",
      "1000/1000 [==============================] - 7s 7ms/step\n",
      "Test results: 3.0554264183044433\n",
      "> \"@AppleSupport I fix I this I stupid I problem I\"\n",
      "< \"@__sn__ hi there , we can help with your __unk__ . please dm us your email address and we'll look into this .\"\n",
      "> \"@AmazonHelp I hadnt expected that such a big brand like amazon would have such a poor customer service.\"\n",
      "< \"@__sn__ hi there , we can help with your __unk__ . please dm us your email address and we'll look into this .\"\n",
      "Epoch 1/1\n",
      "1000/1000 [==============================] - 103s 103ms/step - loss: 3.0921\n",
      "1000/1000 [==============================] - 7s 7ms/step\n",
      "Test results: 2.986786018371582\n",
      "> \"@AppleSupport I fix I this I stupid I problem I\"\n",
      "< \"@__sn__ hi , we can do you have the __unk__ . ^ __unk__\"\n",
      "> \"@AmazonHelp I hadnt expected that such a big brand like amazon would have such a poor customer service.\"\n",
      "< \"@__sn__ hi , we can do you have the __unk__ . ^ __unk__\"\n",
      "Epoch 1/1\n",
      "1000/1000 [==============================] - 102s 102ms/step - loss: 2.9859\n",
      "1000/1000 [==============================] - 7s 7ms/step\n",
      "Test results: 3.003036724090576\n",
      "> \"@AppleSupport I fix I this I stupid I problem I\"\n",
      "< \"@__sn__ hi there ! please send us a dm with your account number and we'll be happy to help .\"\n",
      "> \"@AmazonHelp I hadnt expected that such a big brand like amazon would have such a poor customer service.\"\n",
      "< \"@__sn__ hi there ! please send us a dm with your account number and we'll be happy to help .\"\n",
      "Epoch 1/1\n",
      "1000/1000 [==============================] - 101s 101ms/step - loss: 2.9663\n",
      "1000/1000 [==============================] - 6s 6ms/step\n",
      "Test results: 2.904669263839722\n",
      "> \"@AppleSupport I fix I this I stupid I problem I\"\n",
      "< \"@__sn__ hi , i am sorry to hear that . please dm us your email address and we'll be happy to help .\"\n",
      "> \"@AmazonHelp I hadnt expected that such a big brand like amazon would have such a poor customer service.\"\n",
      "< \"@__sn__ hi , i am sorry to hear that . please dm us your email address and we'll be happy to help .\"\n",
      "Epoch 1/1\n",
      "1000/1000 [==============================] - 103s 103ms/step - loss: 2.8598\n",
      "1000/1000 [==============================] - 7s 7ms/step\n",
      "Test results: 2.8895745182037356\n",
      "> \"@AppleSupport I fix I this I stupid I problem I\"\n",
      "< \"@__sn__ hi there , we want to help . please dm us your email address and we'll look into this for you . ^ __unk__\"\n",
      "> \"@AmazonHelp I hadnt expected that such a big brand like amazon would have such a poor customer service.\"\n",
      "< \"@__sn__ hi there , we want to help . please dm us your email address and we'll look into this for you . ^ __unk__\"\n",
      "Epoch 1/1\n",
      "1000/1000 [==============================] - 101s 101ms/step - loss: 2.8673\n",
      "1000/1000 [==============================] - 6s 6ms/step\n",
      "Test results: 2.8532533149719237\n",
      "> \"@AppleSupport I fix I this I stupid I problem I\"\n",
      "< \"@__sn__ hi , we have a great __unk__ . please send us a dm with your email address so we can assist . - __unk__\"\n",
      "> \"@AmazonHelp I hadnt expected that such a big brand like amazon would have such a poor customer service.\"\n",
      "< \"@__sn__ hi , we have a great __unk__ . please send us a dm with your email address so we can assist . - __unk__\"\n",
      "Epoch 1/1\n",
      "1000/1000 [==============================] - 95s 95ms/step - loss: 2.7883\n",
      "1000/1000 [==============================] - 7s 7ms/step\n",
      "Test results: 2.7362580947875976\n",
      "> \"@AppleSupport I fix I this I stupid I problem I\"\n",
      "< \"@__sn__ hi there , we want to help . please dm us your email address and phone number and we'll check this out .\"\n",
      "> \"@AmazonHelp I hadnt expected that such a big brand like amazon would have such a poor customer service.\"\n",
      "< \"@__sn__ hi there , we want to help . please dm us your email address and phone number and we'll check this out .\"\n"
     ]
    },
    {
     "name": "stdout",
     "output_type": "stream",
     "text": [
      "Epoch 1/1\n",
      "1000/1000 [==============================] - 98s 98ms/step - loss: 2.7448\n",
      "1000/1000 [==============================] - 7s 7ms/step\n",
      "Test results: 2.765815565109253\n",
      "> \"@AppleSupport I fix I this I stupid I problem I\"\n",
      "< \"@__sn__ hi there ! we want to help . please dm us your email address and we'll take a look backstage / __unk__ https://t.co/ldfdzrinat\"\n",
      "> \"@AmazonHelp I hadnt expected that such a big brand like amazon would have such a poor customer service.\"\n",
      "< \"@__sn__ hi there ! we want to help . please dm us your email address and we'll take a look backstage / __unk__ https://t.co/ldfdzrinat\"\n",
      "Epoch 1/1\n",
      "1000/1000 [==============================] - 113s 113ms/step - loss: 2.8263\n",
      "1000/1000 [==============================] - 7s 7ms/step\n",
      "Test results: 2.7641054344177247\n",
      "> \"@AppleSupport I fix I this I stupid I problem I\"\n",
      "< \"@__sn__ hi there ! we ’ re sorry to hear this . please dm us your full name , address , address , and address . - __unk__\"\n",
      "> \"@AmazonHelp I hadnt expected that such a big brand like amazon would have such a poor customer service.\"\n",
      "< \"@__sn__ hi there ! we ’ re sorry to hear this . please dm us your full name , address , address , and address . - __unk__\"\n",
      "Epoch 1/1\n",
      "1000/1000 [==============================] - 102s 102ms/step - loss: 2.7701\n",
      "1000/1000 [==============================] - 7s 7ms/step\n",
      "Test results: 2.740233102798462\n",
      "> \"@AppleSupport I fix I this I stupid I problem I\"\n",
      "< \"@__sn__ hi __unk__ , we can help with your feedback . please dm us your full name , email address so i can help . ^ __unk__\"\n",
      "> \"@AmazonHelp I hadnt expected that such a big brand like amazon would have such a poor customer service.\"\n",
      "< \"@__sn__ hi __unk__ , we can help with your feedback . please dm us your full name , email address so i can help . ^ __unk__\"\n",
      "Epoch 1/1\n",
      "1000/1000 [==============================] - 102s 102ms/step - loss: 2.6798\n",
      "1000/1000 [==============================] - 7s 7ms/step\n",
      "Test results: 2.7072913722991943\n",
      "> \"@AppleSupport I fix I this I stupid I problem I\"\n",
      "< \"@__sn__ hi , we want to help . please send us a dm with your email address so we can follow up .\"\n",
      "> \"@AmazonHelp I hadnt expected that such a big brand like amazon would have such a poor customer service.\"\n",
      "< \"@__sn__ hi , we want to help . please send us a dm with your email address so we can follow up .\"\n",
      "Epoch 1/1\n",
      "1000/1000 [==============================] - 98s 98ms/step - loss: 2.7466\n",
      "1000/1000 [==============================] - 6s 6ms/step\n",
      "Test results: 2.6558507652282715\n",
      "> \"@AppleSupport I fix I this I stupid I problem I\"\n",
      "< \"@__sn__ hi there , we can help . please send us a dm with your email address and we'll take a look into this for you . - __unk__\"\n",
      "> \"@AmazonHelp I hadnt expected that such a big brand like amazon would have such a poor customer service.\"\n",
      "< \"@__sn__ hi there , we can help . please send us a dm with your email address and we'll take a look into this for you . - __unk__\"\n",
      "Epoch 1/1\n",
      "1000/1000 [==============================] - 95s 95ms/step - loss: 2.6223\n",
      "1000/1000 [==============================] - 6s 6ms/step\n",
      "Test results: 2.5946703510284426\n",
      "> \"@AppleSupport I fix I this I stupid I problem I\"\n",
      "< \"@__sn__ hi there , i would be happy to help you with your iphone . please send us a dm with your email address so we can connect .\"\n",
      "> \"@AmazonHelp I hadnt expected that such a big brand like amazon would have such a poor customer service.\"\n",
      "< \"@__sn__ hi there , i would be happy to help you with your iphone . please send us a dm with your email address so we can connect .\"\n",
      "Epoch 1/1\n",
      "1000/1000 [==============================] - 98s 98ms/step - loss: 2.6274\n",
      "1000/1000 [==============================] - 7s 7ms/step\n",
      "Test results: 2.632686532974243\n",
      "> \"@AppleSupport I fix I this I stupid I problem I\"\n",
      "< \"@__sn__ hi , __unk__ . we are here to help . please dm us your email address and more details so we can connect .\"\n",
      "> \"@AmazonHelp I hadnt expected that such a big brand like amazon would have such a poor customer service.\"\n",
      "< \"@__sn__ hi , __unk__ . we are here to help . please dm us your email address and more details so we can connect .\"\n",
      "Epoch 1/1\n",
      "1000/1000 [==============================] - 105s 105ms/step - loss: 2.6733\n",
      "1000/1000 [==============================] - 8s 8ms/step\n",
      "Test results: 2.5989883823394777\n",
      "> \"@AppleSupport I fix I this I stupid I problem I\"\n",
      "< \"@__sn__ hi there , sorry to hear that . please send us a dm with your email address and phone number so we can look into this for you .\"\n",
      "> \"@AmazonHelp I hadnt expected that such a big brand like amazon would have such a poor customer service.\"\n",
      "< \"@__sn__ hi there , sorry to hear that . please send us a dm with your email address and phone number so we can look into this for you .\"\n",
      "Epoch 1/1\n",
      "1000/1000 [==============================] - 108s 108ms/step - loss: 2.5746\n",
      "1000/1000 [==============================] - 7s 7ms/step\n",
      "Test results: 2.647411195755005\n",
      "> \"@AppleSupport I fix I this I stupid I problem I\"\n",
      "< \"@__sn__ hi there ! can you dm us your account's email address ? we'll take a look backstage / nq https://t.co/ldfdzrinat\"\n",
      "> \"@AmazonHelp I hadnt expected that such a big brand like amazon would have such a poor customer service.\"\n",
      "< \"@__sn__ hi there ! can you dm us your account's email address ? we'll take a look backstage / nq https://t.co/ldfdzrinat\"\n",
      "Epoch 1/1\n",
      "1000/1000 [==============================] - 97s 97ms/step - loss: 2.6912\n",
      "1000/1000 [==============================] - 7s 7ms/step\n",
      "Test results: 2.6141262016296385\n",
      "> \"@AppleSupport I fix I this I stupid I problem I\"\n",
      "< \"@__sn__ hi there , we are sorry to hear this . please dm us with your email address so we can look into this for you . ^ ms https://t.co/wkjhdxwgrq\"\n",
      "> \"@AmazonHelp I hadnt expected that such a big brand like amazon would have such a poor customer service.\"\n",
      "< \"@__sn__ hi there , we are sorry to hear this . please dm us with your email address so we can look into this for you . ^ ms https://t.co/wkjhdxwgrq\"\n",
      "Epoch 1/1\n",
      "1000/1000 [==============================] - 97s 97ms/step - loss: 2.5789\n",
      "1000/1000 [==============================] - 7s 7ms/step\n",
      "Test results: 2.5483742885589598\n",
      "> \"@AppleSupport I fix I this I stupid I problem I\"\n",
      "< \"@__sn__ hi there , we don't have a great flight . please dm us your account number and we'll check things right away .\"\n",
      "> \"@AmazonHelp I hadnt expected that such a big brand like amazon would have such a poor customer service.\"\n",
      "< \"@__sn__ hi there , we don't have a great flight . please dm us your account number and we'll check things right away .\"\n",
      "Epoch 1/1\n",
      "1000/1000 [==============================] - 108s 108ms/step - loss: 2.6029\n",
      "1000/1000 [==============================] - 7s 7ms/step\n",
      "Test results: 2.499351661682129\n",
      "> \"@AppleSupport I fix I this I stupid I problem I\"\n",
      "< \"@__sn__ hi there , i am sorry for the trouble . please dm us your email address so we can assist .\"\n",
      "> \"@AmazonHelp I hadnt expected that such a big brand like amazon would have such a poor customer service.\"\n",
      "< \"@__sn__ hi there , i am sorry for the trouble . please dm us your email address so we can assist .\"\n",
      "Epoch 1/1\n",
      "1000/1000 [==============================] - 107s 107ms/step - loss: 2.5960\n",
      "1000/1000 [==============================] - 7s 7ms/step\n",
      "Test results: 2.5069531803131104\n",
      "> \"@AppleSupport I fix I this I stupid I problem I\"\n",
      "< \"@__sn__ hi , i am sorry to hear about the trouble . please send us a dm with your account email and we'll take a look .\"\n",
      "> \"@AmazonHelp I hadnt expected that such a big brand like amazon would have such a poor customer service.\"\n",
      "< \"@__sn__ hi , i am sorry to hear about the trouble . please send us a dm with your account email and we'll take a look .\"\n",
      "Epoch 1/1\n",
      "1000/1000 [==============================] - 108s 108ms/step - loss: 2.5127\n",
      "1000/1000 [==============================] - 7s 7ms/step\n",
      "Test results: 2.4558907375335695\n",
      "> \"@AppleSupport I fix I this I stupid I problem I\"\n",
      "< \"@__sn__ hi there , we are sorry to hear this . please send us a dm with your email address so we can assist .\"\n",
      "> \"@AmazonHelp I hadnt expected that such a big brand like amazon would have such a poor customer service.\"\n",
      "< \"@__sn__ hi there , we are sorry to hear this . please send us a dm with your email address so we can assist .\"\n"
     ]
    },
    {
     "name": "stdout",
     "output_type": "stream",
     "text": [
      "Epoch 1/1\n",
      "1000/1000 [==============================] - 109s 109ms/step - loss: 2.5040\n",
      "1000/1000 [==============================] - 7s 7ms/step\n",
      "Test results: 2.4758928365707398\n",
      "> \"@AppleSupport I fix I this I stupid I problem I\"\n",
      "< \"@__sn__ hi , __unk__ . we have a great day . ^ hp\"\n",
      "> \"@AmazonHelp I hadnt expected that such a big brand like amazon would have such a poor customer service.\"\n",
      "< \"@__sn__ hi , __unk__ . we have a great day . ^ hp\"\n",
      "Epoch 1/1\n",
      "1000/1000 [==============================] - 98s 98ms/step - loss: 2.5135\n",
      "1000/1000 [==============================] - 6s 6ms/step\n",
      "Test results: 2.510856426239014\n",
      "> \"@AppleSupport I fix I this I stupid I problem I\"\n",
      "< \"@__sn__ hi there , we are here to help . please dm us your email address and more details . - __unk__\"\n",
      "> \"@AmazonHelp I hadnt expected that such a big brand like amazon would have such a poor customer service.\"\n",
      "< \"@__sn__ hi there , we are here to help . please dm us your email address and more details . - __unk__\"\n",
      "Epoch 1/1\n",
      "1000/1000 [==============================] - 99s 99ms/step - loss: 2.5101\n",
      "1000/1000 [==============================] - 8s 8ms/step\n",
      "Test results: 2.4436936779022216\n",
      "> \"@AppleSupport I fix I this I stupid I problem I\"\n",
      "< \"@__sn__ hi , __unk__ . we can help you with your account . please dm us your account number and i will be happy to help . ^ __unk__\"\n",
      "> \"@AmazonHelp I hadnt expected that such a big brand like amazon would have such a poor customer service.\"\n",
      "< \"@__sn__ hi , __unk__ . we can help you with your account . please dm us your account number and i will be happy to help . ^ __unk__\"\n",
      "Epoch 1/1\n",
      "1000/1000 [==============================] - 108s 108ms/step - loss: 2.5046\n",
      "1000/1000 [==============================] - 7s 7ms/step\n",
      "Test results: 2.492182897567749\n",
      "> \"@AppleSupport I fix I this I stupid I problem I\"\n",
      "< \"@__sn__ hi there , we are working on this . please dm us your record locator .\"\n",
      "> \"@AmazonHelp I hadnt expected that such a big brand like amazon would have such a poor customer service.\"\n",
      "< \"@__sn__ hi there , we are working on this . please dm us your record locator .\"\n",
      "Epoch 1/1\n",
      "1000/1000 [==============================] - 108s 108ms/step - loss: 2.5324\n",
      "1000/1000 [==============================] - 6s 6ms/step\n",
      "Test results: 2.406136486053467\n",
      "> \"@AppleSupport I fix I this I stupid I problem I\"\n",
      "< \"@__sn__ hi there , we are sorry to hear this . please dm us your tracking number and contact number so we can look into this . ^ co\"\n",
      "> \"@AmazonHelp I hadnt expected that such a big brand like amazon would have such a poor customer service.\"\n",
      "< \"@__sn__ hi there , we are sorry to hear this . please dm us your tracking number and contact number so we can look into this . ^ co\"\n",
      "Epoch 1/1\n",
      "1000/1000 [==============================] - 101s 101ms/step - loss: 2.4637\n",
      "1000/1000 [==============================] - 7s 7ms/step\n",
      "Test results: 2.4272018365859984\n",
      "> \"@AppleSupport I fix I this I stupid I problem I\"\n",
      "< \"@__sn__ hi there ! we are here to help . please dm us your email address and we can look into this for you . - __unk__\"\n",
      "> \"@AmazonHelp I hadnt expected that such a big brand like amazon would have such a poor customer service.\"\n",
      "< \"@__sn__ hi there ! we are here to help . please dm us your email address and we can look into this for you . - __unk__\"\n",
      "Epoch 1/1\n",
      "1000/1000 [==============================] - 103s 103ms/step - loss: 2.4254\n",
      "1000/1000 [==============================] - 7s 7ms/step\n",
      "Test results: 2.3902560815811156\n",
      "> \"@AppleSupport I fix I this I stupid I problem I\"\n",
      "< \"@__sn__ hi there , we are here to help . please dm us your email address so we can follow up .\"\n",
      "> \"@AmazonHelp I hadnt expected that such a big brand like amazon would have such a poor customer service.\"\n",
      "< \"@__sn__ hi there , we are here to help . please dm us your email address so we can follow up .\"\n",
      "Epoch 1/1\n",
      "1000/1000 [==============================] - 97s 97ms/step - loss: 2.4966\n",
      "1000/1000 [==============================] - 6s 6ms/step\n",
      "Test results: 2.409515167236328\n",
      "> \"@AppleSupport I fix I this I stupid I problem I\"\n",
      "< \"@__sn__ hi there , we can help you with your account . please dm your full name , address , email address and email address . ^ __unk__\"\n",
      "> \"@AmazonHelp I hadnt expected that such a big brand like amazon would have such a poor customer service.\"\n",
      "< \"@__sn__ hi there , we can help you with your account . please dm your full name , address , email address and email address . ^ __unk__\"\n",
      "Epoch 1/1\n",
      "1000/1000 [==============================] - 100s 100ms/step - loss: 2.4488\n",
      "1000/1000 [==============================] - 7s 7ms/step\n",
      "Test results: 2.443726026535034\n",
      "> \"@AppleSupport I fix I this I stupid I problem I\"\n",
      "< \"@__sn__ hi there , i am sorry to hear this . please dm us your email address and phone number so we can look into this for you . ^\"\n",
      "> \"@AmazonHelp I hadnt expected that such a big brand like amazon would have such a poor customer service.\"\n",
      "< \"@__sn__ hi there , i am sorry to hear this . please dm us your email address and phone number so we can look into this for you . ^\"\n",
      "Epoch 1/1\n",
      "1000/1000 [==============================] - 95s 95ms/step - loss: 2.4217\n",
      "1000/1000 [==============================] - 6s 6ms/step\n",
      "Test results: 2.3735784587860107\n",
      "> \"@AppleSupport I fix I this I stupid I problem I\"\n",
      "< \"@__sn__ hi there , i am sorry for the delay . please dm us your email address and additional details so we can assist .\"\n",
      "> \"@AmazonHelp I hadnt expected that such a big brand like amazon would have such a poor customer service.\"\n",
      "< \"@__sn__ hi there , i am sorry for the delay . please dm us your email address and additional details so we can assist .\"\n",
      "Epoch 1/1\n",
      "1000/1000 [==============================] - 103s 103ms/step - loss: 2.4199\n",
      "1000/1000 [==============================] - 7s 7ms/step\n",
      "Test results: 2.369744758605957\n",
      "> \"@AppleSupport I fix I this I stupid I problem I\"\n",
      "< \"@__sn__ hi there , we are sorry to hear that . please dm us your email address and phone number so we can look into this for you . ^\"\n",
      "> \"@AmazonHelp I hadnt expected that such a big brand like amazon would have such a poor customer service.\"\n",
      "< \"@__sn__ hi there , we are sorry to hear that . please dm us your email address and phone number so we can look into this for you . ^\"\n",
      "Epoch 1/1\n",
      "1000/1000 [==============================] - 102s 102ms/step - loss: 2.4437\n",
      "1000/1000 [==============================] - 7s 7ms/step\n",
      "Test results: 2.3677054805755615\n",
      "> \"@AppleSupport I fix I this I stupid I problem I\"\n",
      "< \"@__sn__ hi there , we can help you with your iphone . please dm us your email address so we can assist you .\"\n",
      "> \"@AmazonHelp I hadnt expected that such a big brand like amazon would have such a poor customer service.\"\n",
      "< \"@__sn__ hi there , we can help you with your order . please dm us your email address so we can assist you .\"\n",
      "Epoch 1/1\n",
      "1000/1000 [==============================] - 104s 104ms/step - loss: 2.4251\n",
      "1000/1000 [==============================] - 7s 7ms/step\n",
      "Test results: 2.3515294361114503\n",
      "> \"@AppleSupport I fix I this I stupid I problem I\"\n",
      "< \"@__sn__ hi , we have replied to your dm .\"\n",
      "> \"@AmazonHelp I hadnt expected that such a big brand like amazon would have such a poor customer service.\"\n",
      "< \"@__sn__ hi , __unk__ . we have replied to your dm .\"\n",
      "Epoch 1/1\n",
      "1000/1000 [==============================] - 102s 102ms/step - loss: 2.3969\n",
      "1000/1000 [==============================] - 7s 7ms/step\n",
      "Test results: 2.4144547328948973\n",
      "> \"@AppleSupport I fix I this I stupid I problem I\"\n",
      "< \"@__sn__ hi , __unk__ . we can help you with this issue . please dm us your email address so we can connect .\"\n",
      "> \"@AmazonHelp I hadnt expected that such a big brand like amazon would have such a poor customer service.\"\n",
      "< \"@__sn__ hi , __unk__ . we can help you with your iphone . please dm us your tracking number , and complete address . ^ cs https://t.co/wkjhdxwgrq\"\n",
      "Epoch 1/1\n",
      "1000/1000 [==============================] - 101s 101ms/step - loss: 2.4652\n",
      "1000/1000 [==============================] - 6s 6ms/step\n",
      "Test results: 2.409384969711304\n",
      "> \"@AppleSupport I fix I this I stupid I problem I\"\n",
      "< \"@__sn__ hi there , we are sorry to hear this . please dm us your email address so we can further assist you .\"\n",
      "> \"@AmazonHelp I hadnt expected that such a big brand like amazon would have such a poor customer service.\"\n",
      "< \"@__sn__ hi there , we are sorry to hear this . please dm us your email address so we can further assist you .\"\n"
     ]
    },
    {
     "name": "stdout",
     "output_type": "stream",
     "text": [
      "Epoch 1/1\n",
      "1000/1000 [==============================] - 95s 95ms/step - loss: 2.4282\n",
      "1000/1000 [==============================] - 6s 6ms/step\n",
      "Test results: 2.410180543899536\n",
      "> \"@AppleSupport I fix I this I stupid I problem I\"\n",
      "< \"@__sn__ hi there , we are sorry to hear this . please dm us your email address so we can connect .\"\n",
      "> \"@AmazonHelp I hadnt expected that such a big brand like amazon would have such a poor customer service.\"\n",
      "< \"@__sn__ hi there , we are sorry to hear this . please dm us your email address so we can connect .\"\n",
      "Epoch 1/1\n",
      "1000/1000 [==============================] - 102s 102ms/step - loss: 2.4108\n",
      "1000/1000 [==============================] - 7s 7ms/step\n",
      "Test results: 2.3673566608428955\n",
      "> \"@AppleSupport I fix I this I stupid I problem I\"\n",
      "< \"@__sn__ hi there , we are sorry to hear this . please dm us your account email address and we'll look into this for you .\"\n",
      "> \"@AmazonHelp I hadnt expected that such a big brand like amazon would have such a poor customer service.\"\n",
      "< \"@__sn__ hi there , sorry to hear this . please send us a dm with your email address and more details so we can assist .\"\n",
      "Epoch 1/1\n",
      "1000/1000 [==============================] - 105s 105ms/step - loss: 2.3246\n",
      "1000/1000 [==============================] - 7s 7ms/step\n",
      "Test results: 2.2846765422821047\n",
      "> \"@AppleSupport I fix I this I stupid I problem I\"\n",
      "< \"@__sn__ hi , i am sorry to hear this . please dm us your email address and phone number so we can look into this for you .\"\n",
      "> \"@AmazonHelp I hadnt expected that such a big brand like amazon would have such a poor customer service.\"\n",
      "< \"@__sn__ hi , __unk__ . we have sent you a dm . ^ __unk__\"\n",
      "Epoch 1/1\n",
      "1000/1000 [==============================] - 97s 97ms/step - loss: 2.3639\n",
      "1000/1000 [==============================] - 7s 7ms/step\n",
      "Test results: 2.346700517654419\n",
      "> \"@AppleSupport I fix I this I stupid I problem I\"\n",
      "< \"@__sn__ hi there , we are sorry to hear this . please dm us your full name , address , and phone number . ^ mm https://t.co/wkjhdxwgrq\"\n",
      "> \"@AmazonHelp I hadnt expected that such a big brand like amazon would have such a poor customer service.\"\n",
      "< \"@__sn__ hi there , we are sorry to hear this . please dm us your full name , address , email , and address . ^ mm https://t.co/wkjhdxwgrq\"\n",
      "Epoch 1/1\n",
      "1000/1000 [==============================] - 103s 103ms/step - loss: 2.3829\n",
      "1000/1000 [==============================] - 6s 6ms/step\n",
      "Test results: 2.337750677108765\n",
      "> \"@AppleSupport I fix I this I stupid I problem I\"\n",
      "< \"@__sn__ hi there , we are sorry to hear this . please dm us your email address and we'll follow up .\"\n",
      "> \"@AmazonHelp I hadnt expected that such a big brand like amazon would have such a poor customer service.\"\n",
      "< \"@__sn__ hi there , we are sorry to hear this . please dm us your idea number and alternate number . ^ mm https://t.co/wkjhdxwgrq\"\n",
      "Epoch 1/1\n",
      "1000/1000 [==============================] - 103s 103ms/step - loss: 2.3680\n",
      "1000/1000 [==============================] - 7s 7ms/step\n",
      "Test results: 2.2573978424072267\n",
      "> \"@AppleSupport I fix I this I stupid I problem I\"\n",
      "< \"@__sn__ we want to help . send us a note here , __unk__ , and our team will follow up .\"\n",
      "> \"@AmazonHelp I hadnt expected that such a big brand like amazon would have such a poor customer service.\"\n",
      "< \"@__sn__ hi there , we are sorry to hear this . please dm us your email address so we can connect asap .\"\n",
      "Epoch 1/1\n",
      "1000/1000 [==============================] - 104s 104ms/step - loss: 2.3568\n",
      "1000/1000 [==============================] - 7s 7ms/step\n",
      "Test results: 2.2460382776260377\n",
      "> \"@AppleSupport I fix I this I stupid I problem I\"\n",
      "< \"@__sn__ we can help . please send us a dm with your email address so we can connect .\"\n",
      "> \"@AmazonHelp I hadnt expected that such a big brand like amazon would have such a poor customer service.\"\n",
      "< \"@__sn__ hi there , we are sorry to hear this . please dm us your full name , address , email address and contact number . ^ mm\"\n",
      "Epoch 1/1\n",
      "1000/1000 [==============================] - 103s 103ms/step - loss: 2.3697\n",
      "1000/1000 [==============================] - 6s 6ms/step\n",
      "Test results: 2.304860746383667\n",
      "> \"@AppleSupport I fix I this I stupid I problem I\"\n",
      "< \"@__sn__ hi there , we are sorry to hear this . please dm us your email address so we can follow up .\"\n",
      "> \"@AmazonHelp I hadnt expected that such a big brand like amazon would have such a poor customer service.\"\n",
      "< \"@__sn__ hi , __unk__ . we are sorry to hear this . please dm us your idea number and alternate number . ^ mm https://t.co/wkjhdxwgrq\"\n",
      "Epoch 1/1\n",
      "1000/1000 [==============================] - 101s 101ms/step - loss: 2.3872\n",
      "1000/1000 [==============================] - 7s 7ms/step\n",
      "Test results: 2.2523961811065676\n",
      "> \"@AppleSupport I fix I this I stupid I problem I\"\n",
      "< \"@__sn__ hi there , we are sorry to hear this . please dm us your email address so we can follow up .\"\n",
      "> \"@AmazonHelp I hadnt expected that such a big brand like amazon would have such a poor customer service.\"\n",
      "< \"@__sn__ hi there , we are sorry to hear this . please dm us your email address and we'll follow up .\"\n",
      "Epoch 1/1\n",
      "1000/1000 [==============================] - 102s 102ms/step - loss: 2.3462\n",
      "1000/1000 [==============================] - 7s 7ms/step\n",
      "Test results: 2.287060344696045\n",
      "> \"@AppleSupport I fix I this I stupid I problem I\"\n",
      "< \"@__sn__ we want to help . send us a note here , __unk__ , and our team will follow up .\"\n",
      "> \"@AmazonHelp I hadnt expected that such a big brand like amazon would have such a poor customer service.\"\n",
      "< \"@__sn__ hi , __unk__ . we are sorry to hear this . please dm us your email address so we can assist .\"\n",
      "Epoch 1/1\n",
      "1000/1000 [==============================] - 106s 106ms/step - loss: 2.3458\n",
      "1000/1000 [==============================] - 7s 7ms/step\n",
      "Test results: 2.2917697448730467\n",
      "> \"@AppleSupport I fix I this I stupid I problem I\"\n",
      "< \"@__sn__ hi there ! can you dm us your account's email address or username ? we'll take a look backstage / nq https://t.co/ldfdzrinat\"\n",
      "> \"@AmazonHelp I hadnt expected that such a big brand like amazon would have such a poor customer service.\"\n",
      "< \"@__sn__ hi there , we are sorry to hear this . please dm us your email address and more details so we can follow up .\"\n",
      "Epoch 1/1\n",
      "1000/1000 [==============================] - 104s 104ms/step - loss: 2.3017\n",
      "1000/1000 [==============================] - 7s 7ms/step\n",
      "Test results: 2.287027364730835\n",
      "> \"@AppleSupport I fix I this I stupid I problem I\"\n",
      "< \"@__sn__ we want to help . please send us a dm with your email address so we can connect .\"\n",
      "> \"@AmazonHelp I hadnt expected that such a big brand like amazon would have such a poor customer service.\"\n",
      "< \"@__sn__ hi there , we are sorry to hear this . please dm us your email address and we'll follow up .\"\n",
      "Epoch 1/1\n",
      "1000/1000 [==============================] - 103s 103ms/step - loss: 2.3152\n",
      "1000/1000 [==============================] - 7s 7ms/step\n",
      "Test results: 2.2277119045257567\n",
      "> \"@AppleSupport I fix I this I stupid I problem I\"\n",
      "< \"@__sn__ we can help you out . dm us and let us know which device and software version you're using . https://t.co/gdrqu22ypt\"\n",
      "> \"@AmazonHelp I hadnt expected that such a big brand like amazon would have such a poor customer service.\"\n",
      "< \"@__sn__ hi there , sorry to hear this . please dm us your email address so we can follow up .\"\n",
      "Epoch 1/1\n",
      "1000/1000 [==============================] - 104s 104ms/step - loss: 2.2783\n",
      "1000/1000 [==============================] - 7s 7ms/step\n",
      "Test results: 2.272187370300293\n",
      "> \"@AppleSupport I fix I this I stupid I problem I\"\n",
      "< \"@__sn__ we want to help . please send us a dm with your email address and we'll be in touch .\"\n",
      "> \"@AmazonHelp I hadnt expected that such a big brand like amazon would have such a poor customer service.\"\n",
      "< \"@__sn__ hi there , we are sorry to hear this . please dm us your email address and we'll be in touch .\"\n",
      "Epoch 1/1\n",
      "1000/1000 [==============================] - 105s 105ms/step - loss: 2.2852\n",
      "1000/1000 [==============================] - 7s 7ms/step\n",
      "Test results: 2.3113080215454103\n",
      "> \"@AppleSupport I fix I this I stupid I problem I\"\n",
      "< \"@__sn__ hi , i would be happy to look into this for you . can you please send me a dm with your acct # or account number or account\"\n",
      "> \"@AmazonHelp I hadnt expected that such a big brand like amazon would have such a poor customer service.\"\n",
      "< \"@__sn__ hi , __unk__ . please dm us your idea number and we will look into this for you . ^ kr\"\n"
     ]
    },
    {
     "name": "stdout",
     "output_type": "stream",
     "text": [
      "Epoch 1/1\n",
      "1000/1000 [==============================] - 101s 101ms/step - loss: 2.3033\n",
      "1000/1000 [==============================] - 7s 7ms/step\n",
      "Test results: 2.2513327293395995\n",
      "> \"@AppleSupport I fix I this I stupid I problem I\"\n",
      "< \"@__sn__ we want to help . please dm us the phone number on your account so we can follow up .\"\n",
      "> \"@AmazonHelp I hadnt expected that such a big brand like amazon would have such a poor customer service.\"\n",
      "< \"@__sn__ hi there , we can help with the service issues . can you please dm your full name , address , and phone number , and address on the\"\n",
      "Epoch 1/1\n",
      "1000/1000 [==============================] - 100s 100ms/step - loss: 2.2770\n",
      "1000/1000 [==============================] - 8s 8ms/step\n",
      "Test results: 2.2951872901916506\n",
      "> \"@AppleSupport I fix I this I stupid I problem I\"\n",
      "< \"@__sn__ hi there ! we can help . dm us your email address and we'll get started . https://t.co/gdrqu22ypt\"\n",
      "> \"@AmazonHelp I hadnt expected that such a big brand like amazon would have such a poor customer service.\"\n",
      "< \"@__sn__ hi , __unk__ . we are sorry to hear this . please dm us your account email address and we'll take a look .\"\n",
      "Epoch 1/1\n",
      "1000/1000 [==============================] - 102s 102ms/step - loss: 2.3907\n",
      "1000/1000 [==============================] - 7s 7ms/step\n",
      "Test results: 2.2925282154083253\n",
      "> \"@AppleSupport I fix I this I stupid I problem I\"\n",
      "< \"@__sn__ we want to help . can you dm us your account's email address ? we'll take a look under the hood / mg https://t.co/ldfdzrinat\"\n",
      "> \"@AmazonHelp I hadnt expected that such a big brand like amazon would have such a poor customer service.\"\n",
      "< \"@__sn__ hi , __unk__ . we are sorry to hear this . please dm us your idea number and alternate number . ^ mm https://t.co/wkjhdxwgrq\"\n",
      "Epoch 1/1\n",
      "1000/1000 [==============================] - 97s 97ms/step - loss: 2.2448\n",
      "1000/1000 [==============================] - 6s 6ms/step\n",
      "Test results: 2.2829522876739503\n",
      "> \"@AppleSupport I fix I this I stupid I problem I\"\n",
      "< \"@__sn__ we want to help . please dm us with your email address so we can connect .\"\n",
      "> \"@AmazonHelp I hadnt expected that such a big brand like amazon would have such a poor customer service.\"\n",
      "< \"@__sn__ hi , __unk__ ! we have replied to your dm .\"\n",
      "Epoch 1/1\n",
      "1000/1000 [==============================] - 100s 100ms/step - loss: 2.3192\n",
      "1000/1000 [==============================] - 7s 7ms/step\n",
      "Test results: 2.182393412590027\n",
      "> \"@AppleSupport I fix I this I stupid I problem I\"\n",
      "< \"@__sn__ we want to help . send us a dm with your email address so we can connect .\"\n",
      "> \"@AmazonHelp I hadnt expected that such a big brand like amazon would have such a poor customer service.\"\n",
      "< \"@__sn__ hi , __unk__ . i'm sorry for the delay . please dm us your full name , address , email address , and address . ^ __unk__\"\n",
      "Epoch 1/1\n",
      "1000/1000 [==============================] - 104s 104ms/step - loss: 2.2850\n",
      "1000/1000 [==============================] - 7s 7ms/step\n",
      "Test results: 2.2432890100479126\n",
      "> \"@AppleSupport I fix I this I stupid I problem I\"\n",
      "< \"@__sn__ we want to help . can you please dm us your account's email address ? we'll take a look / rb https://t.co/ldfdzrinat\"\n",
      "> \"@AmazonHelp I hadnt expected that such a big brand like amazon would have such a poor customer service.\"\n",
      "< \"@__sn__ hi there , sorry to hear this . please dm us your email address and we'll reach out right away .\"\n",
      "Epoch 1/1\n",
      "1000/1000 [==============================] - 101s 101ms/step - loss: 2.2555\n",
      "1000/1000 [==============================] - 7s 7ms/step\n",
      "Test results: 2.1900121612548826\n",
      "> \"@AppleSupport I fix I this I stupid I problem I\"\n",
      "< \"@__sn__ we want to help . please send us a dm with your email address so we can connect asap .\"\n",
      "> \"@AmazonHelp I hadnt expected that such a big brand like amazon would have such a poor customer service.\"\n",
      "< \"@__sn__ hi there , sorry to hear this . please dm us your idea number and alternate number so we can look into this for you . ^ mm https://t.co/wkjhdxwgrq\"\n",
      "Epoch 1/1\n",
      "1000/1000 [==============================] - 103s 103ms/step - loss: 2.2935\n",
      "1000/1000 [==============================] - 7s 7ms/step\n",
      "Test results: 2.283439434051514\n",
      "> \"@AppleSupport I fix I this I stupid I problem I\"\n",
      "< \"@__sn__ we'd like to look into this with you . send us a dm with your email address and we'll get started . https://t.co/gdrqu22ypt\"\n",
      "> \"@AmazonHelp I hadnt expected that such a big brand like amazon would have such a poor customer service.\"\n",
      "< \"@__sn__ hi there ! we don't have any info on this . please dm us your tracking number and phone number . ^ mm https://t.co/cooxeduuuc\"\n",
      "Epoch 1/1\n",
      "1000/1000 [==============================] - 103s 103ms/step - loss: 2.2931\n",
      "1000/1000 [==============================] - 6s 6ms/step\n",
      "Test results: 2.2522867069244383\n",
      "> \"@AppleSupport I fix I this I stupid I problem I\"\n",
      "< \"@__sn__ we can help you with this issue . please send us a dm with your email address and additional details so we can connect .\"\n",
      "> \"@AmazonHelp I hadnt expected that such a big brand like amazon would have such a poor customer service.\"\n",
      "< \"@__sn__ hi , __unk__ . we have a workaround for this here : https://t.co/xxaxeesrt9 dm us if you still need help . https://t.co/gdrqu22ypt\"\n",
      "Epoch 1/1\n",
      "1000/1000 [==============================] - 97s 97ms/step - loss: 2.2517\n",
      "1000/1000 [==============================] - 6s 6ms/step\n",
      "Test results: 2.245335346221924\n",
      "> \"@AppleSupport I fix I this I stupid I problem I\"\n",
      "< \"@__sn__ here to help ! send us a note via https://t.co/e8hvorx5rh so we can connect .\"\n",
      "> \"@AmazonHelp I hadnt expected that such a big brand like amazon would have such a poor customer service.\"\n",
      "< \"@__sn__ hi there , i'm sorry to hear this . can you dm us your full name and address and the store details of the issue ? - __unk__\"\n",
      "Epoch 1/1\n",
      "1000/1000 [==============================] - 101s 101ms/step - loss: 2.3178\n",
      "1000/1000 [==============================] - 7s 7ms/step\n",
      "Test results: 2.206744047164917\n",
      "> \"@AppleSupport I fix I this I stupid I problem I\"\n",
      "< \"@__sn__ we want to help . send us a dm with your email address and more details so we can follow up .\"\n",
      "> \"@AmazonHelp I hadnt expected that such a big brand like amazon would have such a poor customer service.\"\n",
      "< \"@__sn__ hi there , sorry to hear this . can you please dm us your full name , address , email , and the store you visited so we can\"\n",
      "Epoch 1/1\n",
      "1000/1000 [==============================] - 104s 104ms/step - loss: 2.3297\n",
      "1000/1000 [==============================] - 6s 6ms/step\n",
      "Test results: 2.2054077167510986\n",
      "> \"@AppleSupport I fix I this I stupid I problem I\"\n",
      "< \"@__sn__ we want to help . please send us a dm with your email address and additional details so we can connect .\"\n",
      "> \"@AmazonHelp I hadnt expected that such a big brand like amazon would have such a poor customer service.\"\n",
      "< \"@__sn__ hi , __unk__ . please dm us your confirmation number and i'll look into this for you . ^ mm https://t.co/cooxeduuuc\"\n",
      "Epoch 1/1\n",
      "1000/1000 [==============================] - 102s 102ms/step - loss: 2.2911\n",
      "1000/1000 [==============================] - 7s 7ms/step\n",
      "Test results: 2.2091291561126707\n",
      "> \"@AppleSupport I fix I this I stupid I problem I\"\n",
      "< \"@__sn__ we want to help . send us a dm with your email address so we can look into this for you . https://t.co/gdrqu22ypt\"\n",
      "> \"@AmazonHelp I hadnt expected that such a big brand like amazon would have such a poor customer service.\"\n",
      "< \"@__sn__ hi , we are sorry to hear this . please dm us your tracking number and contact number . ^ mm https://t.co/wkjhdxwgrq\"\n",
      "Epoch 1/1\n",
      "1000/1000 [==============================] - 106s 106ms/step - loss: 2.2902\n",
      "1000/1000 [==============================] - 6s 6ms/step\n",
      "Test results: 2.2450965309143065\n",
      "> \"@AppleSupport I fix I this I stupid I problem I\"\n",
      "< \"@__sn__ we want to help . send us a dm and we'll go from there . https://t.co/gdrqu22ypt\"\n",
      "> \"@AmazonHelp I hadnt expected that such a big brand like amazon would have such a poor customer service.\"\n",
      "< \"@__sn__ hi , __unk__ . please dm us your tracking and contact number . ^ as\"\n",
      "Epoch 1/1\n",
      "1000/1000 [==============================] - 100s 100ms/step - loss: 2.2218\n",
      "1000/1000 [==============================] - 7s 7ms/step\n",
      "Test results: 2.160675184249878\n",
      "> \"@AppleSupport I fix I this I stupid I problem I\"\n",
      "< \"@__sn__ we want to help . send us a dm with your email address so we can connect .\"\n"
     ]
    },
    {
     "name": "stdout",
     "output_type": "stream",
     "text": [
      "> \"@AmazonHelp I hadnt expected that such a big brand like amazon would have such a poor customer service.\"\n",
      "< \"@__sn__ hi , __unk__ . please dm us your email address and we will be able to help you .\"\n",
      "Epoch 1/1\n",
      "1000/1000 [==============================] - 102s 102ms/step - loss: 2.2168\n",
      "1000/1000 [==============================] - 7s 7ms/step\n",
      "Test results: 2.1661465606689454\n",
      "> \"@AppleSupport I fix I this I stupid I problem I\"\n",
      "< \"@__sn__ we want to help . send us a dm with your email address so we can connect .\"\n",
      "> \"@AmazonHelp I hadnt expected that such a big brand like amazon would have such a poor customer service.\"\n",
      "< \"@__sn__ hi there , we are sorry to hear this . please dm us your confirmation number and we'll take a look .\"\n",
      "Epoch 1/1\n",
      "1000/1000 [==============================] - 102s 102ms/step - loss: 2.2066\n",
      "1000/1000 [==============================] - 6s 6ms/step\n",
      "Test results: 2.1782838344573974\n",
      "> \"@AppleSupport I fix I this I stupid I problem I\"\n",
      "< \"@__sn__ we want to help . send us a dm and we'll get started . https://t.co/gdrqu22ypt\"\n",
      "> \"@AmazonHelp I hadnt expected that such a big brand like amazon would have such a poor customer service.\"\n",
      "< \"@__sn__ hi , we are sorry to hear this . please dm us your contact info and store address . thanks !\"\n",
      "Epoch 1/1\n",
      "1000/1000 [==============================] - 98s 98ms/step - loss: 2.2829\n",
      "1000/1000 [==============================] - 7s 7ms/step\n",
      "Test results: 2.2015223503112793\n",
      "> \"@AppleSupport I fix I this I stupid I problem I\"\n",
      "< \"@__sn__ we can help . send us a dm with your email address so we can connect .\"\n",
      "> \"@AmazonHelp I hadnt expected that such a big brand like amazon would have such a poor customer service.\"\n",
      "< \"@__sn__ hi there , we are sorry to hear this . please send us a dm with your email address so we can connect .\"\n",
      "Epoch 1/1\n",
      "1000/1000 [==============================] - 104s 104ms/step - loss: 2.1591\n",
      "1000/1000 [==============================] - 7s 7ms/step\n",
      "Test results: 2.1387763624191285\n",
      "> \"@AppleSupport I fix I this I stupid I problem I\"\n",
      "< \"@__sn__ we want to help . send us a dm with your email address so we can connect asap .\"\n",
      "> \"@AmazonHelp I hadnt expected that such a big brand like amazon would have such a poor customer service.\"\n",
      "< \"@__sn__ hi there , we are sorry to hear this . please dm us your email address so we can look into this for you .\"\n",
      "Epoch 1/1\n",
      "1000/1000 [==============================] - 103s 103ms/step - loss: 2.2327\n",
      "1000/1000 [==============================] - 7s 7ms/step\n",
      "Test results: 2.199196880340576\n",
      "> \"@AppleSupport I fix I this I stupid I problem I\"\n",
      "< \"@__sn__ we want to help . send us a dm with your email address so we can follow up .\"\n",
      "> \"@AmazonHelp I hadnt expected that such a big brand like amazon would have such a poor customer service.\"\n",
      "< \"@__sn__ hi there . we are sorry to hear this . please dm us your email address so we can look into this for you .\"\n",
      "Epoch 1/1\n",
      "1000/1000 [==============================] - 101s 101ms/step - loss: 2.2304\n",
      "1000/1000 [==============================] - 7s 7ms/step\n",
      "Test results: 2.205517919540405\n",
      "> \"@AppleSupport I fix I this I stupid I problem I\"\n",
      "< \"@__sn__ we want to help . please dm us the country you're experiencing in dm . https://t.co/gdrqu22ypt\"\n",
      "> \"@AmazonHelp I hadnt expected that such a big brand like amazon would have such a poor customer service.\"\n",
      "< \"@__sn__ hi there , we are sorry to hear this . please dm us your email address so we can look into this for you .\"\n",
      "Epoch 1/1\n",
      "1000/1000 [==============================] - 104s 104ms/step - loss: 2.2712\n",
      "1000/1000 [==============================] - 6s 6ms/step\n",
      "Test results: 2.1661209468841554\n",
      "> \"@AppleSupport I fix I this I stupid I problem I\"\n",
      "< \"@__sn__ we can help . please send us a dm with your email address so we can connect .\"\n",
      "> \"@AmazonHelp I hadnt expected that such a big brand like amazon would have such a poor customer service.\"\n",
      "< \"@__sn__ hi there ! can you dm us your account's email address or username ? we'll take a look backstage / ay https://t.co/ldfdzrinat\"\n",
      "Epoch 1/1\n",
      "1000/1000 [==============================] - 100s 100ms/step - loss: 2.1894\n",
      "1000/1000 [==============================] - 6s 6ms/step\n",
      "Test results: 2.194953977584839\n",
      "> \"@AppleSupport I fix I this I stupid I problem I\"\n",
      "< \"@__sn__ we want to help . send us a dm to get started . https://t.co/gdrqu22ypt\"\n",
      "> \"@AmazonHelp I hadnt expected that such a big brand like amazon would have such a poor customer service.\"\n",
      "< \"@__sn__ hi there , we are sorry to hear this . please dm us your tracking number , and we will look into this for you . ^ mm https://t.co/cooxeduuuc\"\n",
      "Epoch 1/1\n",
      "1000/1000 [==============================] - 95s 95ms/step - loss: 2.2691\n",
      "1000/1000 [==============================] - 6s 6ms/step\n",
      "Test results: 2.217133813858032\n",
      "> \"@AppleSupport I fix I this I stupid I problem I\"\n",
      "< \"@__sn__ we want to help . dm us the device and ios version you are using . https://t.co/gdrqu22ypt\"\n",
      "> \"@AmazonHelp I hadnt expected that such a big brand like amazon would have such a poor customer service.\"\n",
      "< \"@__sn__ hi there , sorry to hear this . please dm us your email address so we can look into this for you .\"\n",
      "Epoch 1/1\n",
      "1000/1000 [==============================] - 95s 95ms/step - loss: 2.1698\n",
      "1000/1000 [==============================] - 7s 7ms/step\n",
      "Test results: 2.170538461685181\n",
      "> \"@AppleSupport I fix I this I stupid I problem I\"\n",
      "< \"@__sn__ we want to help . send us a dm with your email address so we can connect .\"\n",
      "> \"@AmazonHelp I hadnt expected that such a big brand like amazon would have such a poor customer service.\"\n",
      "< \"@__sn__ hi there , we are sorry to hear this . please dm us your email address so we can assist you .\"\n",
      "Epoch 1/1\n",
      "1000/1000 [==============================] - 100s 100ms/step - loss: 2.2393\n",
      "1000/1000 [==============================] - 7s 7ms/step\n",
      "Test results: 2.1725197916030883\n",
      "> \"@AppleSupport I fix I this I stupid I problem I\"\n",
      "< \"@__sn__ we want to help . send us a dm with your email address so we can connect .\"\n",
      "> \"@AmazonHelp I hadnt expected that such a big brand like amazon would have such a poor customer service.\"\n",
      "< \"@__sn__ hi there , we are sorry to hear this . please dm us your email address and we'll reach out right away .\"\n",
      "Epoch 1/1\n",
      "1000/1000 [==============================] - 101s 101ms/step - loss: 2.2216\n",
      "1000/1000 [==============================] - 7s 7ms/step\n",
      "Test results: 2.206152072906494\n",
      "> \"@AppleSupport I fix I this I stupid I problem I\"\n",
      "< \"@__sn__ we'd like to help . what happens when you try to use the device ?\"\n",
      "> \"@AmazonHelp I hadnt expected that such a big brand like amazon would have such a poor customer service.\"\n",
      "< \"@__sn__ hi , __unk__ . we have a workaround for this here : https://t.co/xxaxeesrt9 dm us if you still need help . https://t.co/gdrqu22ypt\"\n",
      "Epoch 1/1\n",
      "1000/1000 [==============================] - 106s 106ms/step - loss: 2.1539\n",
      "1000/1000 [==============================] - 7s 7ms/step\n",
      "Test results: 2.1759876832962037\n",
      "> \"@AppleSupport I fix I this I stupid I problem I\"\n",
      "< \"@__sn__ we'd like to help . which iphone model are you using ?\"\n",
      "> \"@AmazonHelp I hadnt expected that such a big brand like amazon would have such a poor customer service.\"\n",
      "< \"@__sn__ hi there , we are sorry to hear this . please dm us your email address and more details so we can assist .\"\n",
      "Epoch 1/1\n",
      "1000/1000 [==============================] - 106s 106ms/step - loss: 2.1563\n",
      "1000/1000 [==============================] - 7s 7ms/step\n",
      "Test results: 2.209274419784546\n",
      "> \"@AppleSupport I fix I this I stupid I problem I\"\n",
      "< \"@__sn__ we'd like to help . please dm us with your current ios version and we'll continue there . https://t.co/gdrqu22ypt\"\n",
      "> \"@AmazonHelp I hadnt expected that such a big brand like amazon would have such a poor customer service.\"\n",
      "< \"@__sn__ hi there , we are sorry to hear this . please dm us your email address and more details so we can assist .\"\n",
      "Epoch 1/1\n",
      "1000/1000 [==============================] - 99s 99ms/step - loss: 2.2351\n",
      "1000/1000 [==============================] - 6s 6ms/step\n",
      "Test results: 2.170629150390625\n",
      "> \"@AppleSupport I fix I this I stupid I problem I\"\n",
      "< \"@__sn__ we want to help . send us a dm with your email address and more details so we can follow up .\"\n",
      "> \"@AmazonHelp I hadnt expected that such a big brand like amazon would have such a poor customer service.\"\n",
      "< \"@__sn__ hi , __unk__ . please send us a dm with your email address and more details so we can follow up .\"\n"
     ]
    },
    {
     "name": "stdout",
     "output_type": "stream",
     "text": [
      "Epoch 1/1\n",
      "1000/1000 [==============================] - 97s 97ms/step - loss: 2.1877\n",
      "1000/1000 [==============================] - 6s 6ms/step\n",
      "Test results: 2.154663122177124\n",
      "> \"@AppleSupport I fix I this I stupid I problem I\"\n",
      "< \"@__sn__ we'd like to help . dm us the country you're located in . https://t.co/gdrqu22ypt\"\n",
      "> \"@AmazonHelp I hadnt expected that such a big brand like amazon would have such a poor customer service.\"\n",
      "< \"@__sn__ hi there , we are sorry to hear that . please dm us your tracking number and phone number . ^ ac https://t.co/wkjhdxwgrq\"\n",
      "Epoch 1/1\n",
      "1000/1000 [==============================] - 96s 96ms/step - loss: 2.2251\n",
      "1000/1000 [==============================] - 6s 6ms/step\n",
      "Test results: 2.1458360786437987\n",
      "> \"@AppleSupport I fix I this I stupid I problem I\"\n",
      "< \"@__sn__ we'd like to help . please dm us the ios version you are using . https://t.co/gdrqu22ypt\"\n",
      "> \"@AmazonHelp I hadnt expected that such a big brand like amazon would have such a poor customer service.\"\n",
      "< \"@__sn__ hi , __unk__ . please dm us your contact number and store details . ^ rr\"\n",
      "Epoch 1/1\n",
      "1000/1000 [==============================] - 97s 97ms/step - loss: 2.2075\n",
      "1000/1000 [==============================] - 6s 6ms/step\n",
      "Test results: 2.1449705142974853\n",
      "> \"@AppleSupport I fix I this I stupid I problem I\"\n",
      "< \"@__sn__ we want to help . send us a dm with more details and we'll go from there . https://t.co/gdrqu22ypt\"\n",
      "> \"@AmazonHelp I hadnt expected that such a big brand like amazon would have such a poor customer service.\"\n",
      "< \"@__sn__ hi there , we are sorry to hear this . please dm us your email address and more details so we can follow up .\"\n",
      "Epoch 1/1\n",
      "1000/1000 [==============================] - 95s 95ms/step - loss: 2.2646\n",
      "1000/1000 [==============================] - 6s 6ms/step\n",
      "Test results: 2.126104351043701\n",
      "> \"@AppleSupport I fix I this I stupid I problem I\"\n",
      "< \"@__sn__ we want to help . dm us and we'll go from there . https://t.co/gdrqu22ypt\"\n",
      "> \"@AmazonHelp I hadnt expected that such a big brand like amazon would have such a poor customer service.\"\n",
      "< \"@__sn__ hi , we are sorry to hear this . please dm us your account number and we will look into this . ^ ac https://t.co/wkjhdxwgrq\"\n",
      "Epoch 1/1\n",
      "1000/1000 [==============================] - 95s 95ms/step - loss: 2.1430\n",
      "1000/1000 [==============================] - 6s 6ms/step\n",
      "Test results: 2.0704748153686525\n",
      "> \"@AppleSupport I fix I this I stupid I problem I\"\n",
      "< \"@__sn__ we'd like to help . what device are you using ? are you using the app ?\"\n",
      "> \"@AmazonHelp I hadnt expected that such a big brand like amazon would have such a poor customer service.\"\n",
      "< \"@__sn__ hi there , we are sorry to hear this . please dm us your contact info and store you bought it from so we can look into this for\"\n",
      "Epoch 1/1\n",
      "1000/1000 [==============================] - 95s 95ms/step - loss: 2.2303\n",
      "1000/1000 [==============================] - 6s 6ms/step\n",
      "Test results: 2.128625831604004\n",
      "> \"@AppleSupport I fix I this I stupid I problem I\"\n",
      "< \"@__sn__ we'd like to help . which ios version are you using ?\"\n",
      "> \"@AmazonHelp I hadnt expected that such a big brand like amazon would have such a poor customer service.\"\n",
      "< \"@__sn__ hi there , we are sorry to hear this . please dm us your email address and we'll reach out right away !\"\n",
      "Epoch 1/1\n",
      "1000/1000 [==============================] - 96s 96ms/step - loss: 2.1407\n",
      "1000/1000 [==============================] - 7s 7ms/step\n",
      "Test results: 2.172392683029175\n",
      "> \"@AppleSupport I fix I this I stupid I problem I\"\n",
      "< \"@__sn__ we'd like to help . dm us with the country where you're located in . https://t.co/gdrqu22ypt\"\n",
      "> \"@AmazonHelp I hadnt expected that such a big brand like amazon would have such a poor customer service.\"\n",
      "< \"@__sn__ hi , __unk__ . please dm us your email address so we can look into this for you .\"\n",
      "Epoch 1/1\n",
      "1000/1000 [==============================] - 95s 95ms/step - loss: 2.1985\n",
      "1000/1000 [==============================] - 6s 6ms/step\n",
      "Test results: 2.1761663608551025\n",
      "> \"@AppleSupport I fix I this I stupid I problem I\"\n",
      "< \"@__sn__ we'd like to help . send us a dm and we'll get started . https://t.co/gdrqu22ypt\"\n",
      "> \"@AmazonHelp I hadnt expected that such a big brand like amazon would have such a poor customer service.\"\n",
      "< \"@__sn__ hi , __unk__ . we have a workaround for this here : https://t.co/xxaxeesrt9 dm us if you still need help . https://t.co/gdrqu22ypt\"\n",
      "Epoch 1/1\n",
      "1000/1000 [==============================] - 95s 95ms/step - loss: 2.1601\n",
      "1000/1000 [==============================] - 6s 6ms/step\n",
      "Test results: 2.1416984519958495\n",
      "> \"@AppleSupport I fix I this I stupid I problem I\"\n",
      "< \"@__sn__ we want to help . let's take a look at this together . dm us if you have any questions . https://t.co/gdrqu22ypt\"\n",
      "> \"@AmazonHelp I hadnt expected that such a big brand like amazon would have such a poor customer service.\"\n",
      "< \"@__sn__ hi there , we are sorry to hear this . can you please dm us your account's email address or username ? we'll take a look backstage / dr\"\n",
      "Epoch 1/1\n",
      "1000/1000 [==============================] - 95s 95ms/step - loss: 2.1635\n",
      "1000/1000 [==============================] - 6s 6ms/step\n",
      "Test results: 2.1482334518432618\n",
      "> \"@AppleSupport I fix I this I stupid I problem I\"\n",
      "< \"@__sn__ we want to help . can you dm us the device and version of ios 11 you're using ? https://t.co/gdrqu22ypt\"\n",
      "> \"@AmazonHelp I hadnt expected that such a big brand like amazon would have such a poor customer service.\"\n",
      "< \"@__sn__ hi there , we are sorry to hear this . can you dm us your account's email address or username ? we'll take a look backstage / fr https://t.co/ldfdzrinat\"\n",
      "Epoch 1/1\n",
      "1000/1000 [==============================] - 95s 95ms/step - loss: 2.2085\n",
      "1000/1000 [==============================] - 6s 6ms/step\n",
      "Test results: 2.079164900779724\n",
      "> \"@AppleSupport I fix I this I stupid I problem I\"\n",
      "< \"@__sn__ we'd like to help . what device are you using ?\"\n",
      "> \"@AmazonHelp I hadnt expected that such a big brand like amazon would have such a poor customer service.\"\n",
      "< \"@__sn__ hi there , we are sorry to hear this . can you please dm us with your email address so we can look into this for you ?\"\n",
      "Epoch 1/1\n",
      "1000/1000 [==============================] - 96s 96ms/step - loss: 2.1905\n",
      "1000/1000 [==============================] - 6s 6ms/step\n",
      "Test results: 2.0771014137268065\n",
      "> \"@AppleSupport I fix I this I stupid I problem I\"\n",
      "< \"@__sn__ we want to help . send us a dm and we'll continue there . https://t.co/gdrqu22ypt\"\n",
      "> \"@AmazonHelp I hadnt expected that such a big brand like amazon would have such a poor customer service.\"\n",
      "< \"@__sn__ hi there , we are sorry to hear this . please dm us your confirmation number and i'll be happy to help . ^ mm https://t.co/cooxeduuuc\"\n",
      "Epoch 1/1\n",
      "1000/1000 [==============================] - 95s 95ms/step - loss: 2.1284\n",
      "1000/1000 [==============================] - 6s 6ms/step\n",
      "Test results: 2.0953386754989625\n",
      "> \"@AppleSupport I fix I this I stupid I problem I\"\n",
      "< \"@__sn__ we want to help . dm us and let us know what ios version you're running . https://t.co/gdrqu22ypt\"\n",
      "> \"@AmazonHelp I hadnt expected that such a big brand like amazon would have such a poor customer service.\"\n",
      "< \"@__sn__ hi , __unk__ . we are sorry to hear that . please dm us your email address so we can connect .\"\n",
      "Epoch 1/1\n",
      "1000/1000 [==============================] - 95s 95ms/step - loss: 2.1179\n",
      "1000/1000 [==============================] - 6s 6ms/step\n",
      "Test results: 2.1114860038757324\n",
      "> \"@AppleSupport I fix I this I stupid I problem I\"\n",
      "< \"@__sn__ we want to help . dm us and we'll continue working with you there . https://t.co/gdrqu22ypt\"\n",
      "> \"@AmazonHelp I hadnt expected that such a big brand like amazon would have such a poor customer service.\"\n",
      "< \"@__sn__ hi , __unk__ . we are working on this case . please dm us your tracking number , and complete address so we can look into this for you\"\n",
      "Epoch 1/1\n",
      "1000/1000 [==============================] - 96s 96ms/step - loss: 2.1685\n",
      "1000/1000 [==============================] - 6s 6ms/step\n",
      "Test results: 2.1180849361419676\n",
      "> \"@AppleSupport I fix I this I stupid I problem I\"\n",
      "< \"@__sn__ we want to help . dm us and let us know which iphone you are using and we'll continue there . https://t.co/gdrqu22ypt\"\n",
      "> \"@AmazonHelp I hadnt expected that such a big brand like amazon would have such a poor customer service.\"\n",
      "< \"@__sn__ hi , __unk__ . we are sorry to hear this . please dm us your contact info and store address . thanks .\"\n"
     ]
    },
    {
     "name": "stdout",
     "output_type": "stream",
     "text": [
      "Epoch 1/1\n",
      "1000/1000 [==============================] - 95s 95ms/step - loss: 2.2207\n",
      "1000/1000 [==============================] - 6s 6ms/step\n",
      "Test results: 2.1726361446380613\n",
      "> \"@AppleSupport I fix I this I stupid I problem I\"\n",
      "< \"@__sn__ we want to help . dm us which ios version you're using . https://t.co/gdrqu22ypt\"\n",
      "> \"@AmazonHelp I hadnt expected that such a big brand like amazon would have such a poor customer service.\"\n",
      "< \"@__sn__ hi there , we are sorry to hear about this . please dm us your email address and we'll be happy to look into this for you .\"\n",
      "Epoch 1/1\n",
      "1000/1000 [==============================] - 95s 95ms/step - loss: 2.1400\n",
      "1000/1000 [==============================] - 6s 6ms/step\n",
      "Test results: 2.1808878707885744\n",
      "> \"@AppleSupport I fix I this I stupid I problem I\"\n",
      "< \"@__sn__ we want to help . send us a dm and we'll get started . https://t.co/gdrqu22ypt\"\n",
      "> \"@AmazonHelp I hadnt expected that such a big brand like amazon would have such a poor customer service.\"\n",
      "< \"@__sn__ hi there ! we are sorry to hear this . can you dm us your account's email address ? we'll take a look backstage / cg https://t.co/ldfdzrinat\"\n",
      "Epoch 1/1\n",
      "1000/1000 [==============================] - 95s 95ms/step - loss: 2.2229\n",
      "1000/1000 [==============================] - 6s 6ms/step\n",
      "Test results: 2.0714572525024413\n",
      "> \"@AppleSupport I fix I this I stupid I problem I\"\n",
      "< \"@__sn__ we'd like to help . which device are you using ?\"\n",
      "> \"@AmazonHelp I hadnt expected that such a big brand like amazon would have such a poor customer service.\"\n",
      "< \"@__sn__ hi there ! we are sorry to hear this . please dm us your email address so we can look into this .\"\n",
      "Epoch 1/1\n",
      "1000/1000 [==============================] - 95s 95ms/step - loss: 2.1663\n",
      "1000/1000 [==============================] - 6s 6ms/step\n",
      "Test results: 2.132683846473694\n",
      "> \"@AppleSupport I fix I this I stupid I problem I\"\n",
      "< \"@__sn__ we want to help . dm us the exact version of ios 11 you're using and we'll continue there . https://t.co/gdrqu22ypt\"\n",
      "> \"@AmazonHelp I hadnt expected that such a big brand like amazon would have such a poor customer service.\"\n",
      "< \"@__sn__ hi there , we are sorry to hear that . please dm us your email address so we can look into this .\"\n",
      "Epoch 1/1\n",
      "1000/1000 [==============================] - 95s 95ms/step - loss: 2.1437\n",
      "1000/1000 [==============================] - 6s 6ms/step\n",
      "Test results: 2.1340856952667235\n",
      "> \"@AppleSupport I fix I this I stupid I problem I\"\n",
      "< \"@__sn__ we want to help . can you tell us what device and operating system you're using ? we'll see what we can suggest / nq\"\n",
      "> \"@AmazonHelp I hadnt expected that such a big brand like amazon would have such a poor customer service.\"\n",
      "< \"@__sn__ hi there , we are sorry to hear this . can you dm us with your email address so we can look into this ?\"\n",
      "Epoch 1/1\n",
      "1000/1000 [==============================] - 96s 96ms/step - loss: 2.1295\n",
      "1000/1000 [==============================] - 6s 6ms/step\n",
      "Test results: 2.1058898372650146\n",
      "> \"@AppleSupport I fix I this I stupid I problem I\"\n",
      "< \"@__sn__ we'd like to help . which ios version are you using ?\"\n",
      "> \"@AmazonHelp I hadnt expected that such a big brand like amazon would have such a poor customer service.\"\n",
      "< \"@__sn__ hi there ! we don't have any info on this right now , but we'll share your interest !\"\n",
      "Epoch 1/1\n",
      "1000/1000 [==============================] - 95s 95ms/step - loss: 2.1329\n",
      "1000/1000 [==============================] - 6s 6ms/step\n",
      "Test results: 2.1251571464538572\n",
      "> \"@AppleSupport I fix I this I stupid I problem I\"\n",
      "< \"@__sn__ we'd like to help . which ios version are you currently running ?\"\n",
      "> \"@AmazonHelp I hadnt expected that such a big brand like amazon would have such a poor customer service.\"\n",
      "< \"@__sn__ hi there , thanks for reaching out . we are sorry to hear this . please dm us your email address and more details so we can follow up\"\n",
      "Epoch 1/1\n",
      "1000/1000 [==============================] - 95s 95ms/step - loss: 2.1009\n",
      "1000/1000 [==============================] - 6s 6ms/step\n",
      "Test results: 2.105166729927063\n",
      "> \"@AppleSupport I fix I this I stupid I problem I\"\n",
      "< \"@__sn__ we want to help . which ios version are you using ?\"\n",
      "> \"@AmazonHelp I hadnt expected that such a big brand like amazon would have such a poor customer service.\"\n",
      "< \"@__sn__ hi there ! we are sorry to hear this . please dm us your email address so we can follow up .\"\n",
      "Epoch 1/1\n",
      "1000/1000 [==============================] - 95s 95ms/step - loss: 2.2391\n",
      "1000/1000 [==============================] - 6s 6ms/step\n",
      "Test results: 2.093879156112671\n",
      "> \"@AppleSupport I fix I this I stupid I problem I\"\n",
      "< \"@__sn__ we'd be happy to look into this with you . send us a dm with your device model and ios version you're using . https://t.co/gdrqu22ypt\"\n",
      "> \"@AmazonHelp I hadnt expected that such a big brand like amazon would have such a poor customer service.\"\n",
      "< \"@__sn__ hi there , we are sorry to hear this . please dm us your email address so we can look into this .\"\n",
      "Epoch 1/1\n",
      "1000/1000 [==============================] - 95s 95ms/step - loss: 2.1430\n",
      "1000/1000 [==============================] - 6s 6ms/step\n",
      "Test results: 2.080435598373413\n",
      "> \"@AppleSupport I fix I this I stupid I problem I\"\n",
      "< \"@__sn__ we'd like to help . which ios version are you using ?\"\n",
      "> \"@AmazonHelp I hadnt expected that such a big brand like amazon would have such a poor customer service.\"\n",
      "< \"@__sn__ hi there , we are sorry to hear this . please dm us your email address so we can look into this for you .\"\n",
      "Epoch 1/1\n",
      "1000/1000 [==============================] - 95s 95ms/step - loss: 2.0733\n",
      "1000/1000 [==============================] - 6s 6ms/step\n",
      "Test results: 2.03885622882843\n",
      "> \"@AppleSupport I fix I this I stupid I problem I\"\n",
      "< \"@__sn__ we want to help . let's take a look at this together . dm us and we'll get started . https://t.co/gdrqu22ypt\"\n",
      "> \"@AmazonHelp I hadnt expected that such a big brand like amazon would have such a poor customer service.\"\n",
      "< \"@__sn__ hi there , we are sorry to hear this . please dm us your email address so we can look into this .\"\n",
      "Epoch 1/1\n",
      "1000/1000 [==============================] - 95s 95ms/step - loss: 2.1575\n",
      "1000/1000 [==============================] - 6s 6ms/step\n",
      "Test results: 2.0805140209197996\n",
      "> \"@AppleSupport I fix I this I stupid I problem I\"\n",
      "< \"@__sn__ we want to help . let's take a look at this together . dm us and we'll go from there . https://t.co/gdrqu22ypt\"\n",
      "> \"@AmazonHelp I hadnt expected that such a big brand like amazon would have such a poor customer service.\"\n",
      "< \"@__sn__ hi there ! we have a workaround for this here : https://t.co/xxaxeesrt9 dm us if you still need help . https://t.co/gdrqu22ypt\"\n",
      "Epoch 1/1\n",
      "1000/1000 [==============================] - 95s 95ms/step - loss: 2.1078\n",
      "1000/1000 [==============================] - 6s 6ms/step\n",
      "Test results: 2.06434494304657\n",
      "> \"@AppleSupport I fix I this I stupid I problem I\"\n",
      "< \"@__sn__ we can help . please dm us the ios version you're using . https://t.co/gdrqu22ypt\"\n",
      "> \"@AmazonHelp I hadnt expected that such a big brand like amazon would have such a poor customer service.\"\n",
      "< \"@__sn__ hi there , thanks for reaching out to us . please dm us your email address and more details so we can look into this for you .\"\n",
      "Epoch 1/1\n",
      "1000/1000 [==============================] - 95s 95ms/step - loss: 2.1116\n",
      "1000/1000 [==============================] - 6s 6ms/step\n",
      "Test results: 2.1190623264312745\n",
      "> \"@AppleSupport I fix I this I stupid I problem I\"\n",
      "< \"@__sn__ we want to help . let's take a look at this together . send us a dm and we'll get started . https://t.co/gdrqu22ypt\"\n",
      "> \"@AmazonHelp I hadnt expected that such a big brand like amazon would have such a poor customer service.\"\n",
      "< \"@__sn__ hi there , we are sorry to hear this . please dm us your email address and more details about your concern .\"\n",
      "Epoch 1/1\n",
      "1000/1000 [==============================] - 95s 95ms/step - loss: 2.1451\n",
      "1000/1000 [==============================] - 6s 6ms/step\n",
      "Test results: 2.03487087059021\n",
      "> \"@AppleSupport I fix I this I stupid I problem I\"\n",
      "< \"@__sn__ we'd like to help . which device are you on ?\"\n",
      "> \"@AmazonHelp I hadnt expected that such a big brand like amazon would have such a poor customer service.\"\n",
      "< \"@__sn__ hi , __unk__ . please dm us your contact info and store address . thanks !\"\n"
     ]
    },
    {
     "name": "stdout",
     "output_type": "stream",
     "text": [
      "Epoch 1/1\n",
      "1000/1000 [==============================] - 95s 95ms/step - loss: 2.0871\n",
      "1000/1000 [==============================] - 6s 6ms/step\n",
      "Test results: 2.128258949279785\n",
      "> \"@AppleSupport I fix I this I stupid I problem I\"\n",
      "< \"@__sn__ we want to help . dm us and we'll go from there . https://t.co/gdrqu22ypt\"\n",
      "> \"@AmazonHelp I hadnt expected that such a big brand like amazon would have such a poor customer service.\"\n",
      "< \"@__sn__ hi , __unk__ . please dm us your email address and more details about your concern .\"\n",
      "Epoch 1/1\n",
      "1000/1000 [==============================] - 96s 96ms/step - loss: 2.1400\n",
      "1000/1000 [==============================] - 6s 6ms/step\n",
      "Test results: 2.0959259586334227\n",
      "> \"@AppleSupport I fix I this I stupid I problem I\"\n",
      "< \"@__sn__ we'd like to help . dm us which iphone and software version you are using . https://t.co/gdrqu22ypt\"\n",
      "> \"@AmazonHelp I hadnt expected that such a big brand like amazon would have such a poor customer service.\"\n",
      "< \"@__sn__ hi there , i would be happy to help with your internet services . when you can plz dm your phone number and address to chat ? ^ dt\"\n",
      "Epoch 1/1\n",
      "1000/1000 [==============================] - 98s 98ms/step - loss: 2.1052\n",
      "1000/1000 [==============================] - 7s 7ms/step\n",
      "Test results: 2.0503558750152586\n",
      "> \"@AppleSupport I fix I this I stupid I problem I\"\n",
      "< \"@__sn__ we want to help . let's take this to dm so we can gather some information . https://t.co/gdrqu22ypt\"\n",
      "> \"@AmazonHelp I hadnt expected that such a big brand like amazon would have such a poor customer service.\"\n",
      "< \"@__sn__ hi , __unk__ . please dm your confirmation number and we will be happy to help . ^ eb\"\n",
      "Epoch 1/1\n",
      "1000/1000 [==============================] - 97s 97ms/step - loss: 2.1416\n",
      "1000/1000 [==============================] - 6s 6ms/step\n",
      "Test results: 2.0808354625701906\n",
      "> \"@AppleSupport I fix I this I stupid I problem I\"\n",
      "< \"@__sn__ we'd like to help . which ios version are you using ?\"\n",
      "> \"@AmazonHelp I hadnt expected that such a big brand like amazon would have such a poor customer service.\"\n",
      "< \"@__sn__ hi there , we are sorry to hear this . please dm us your email address and more details so we can help .\"\n",
      "Epoch 1/1\n",
      "1000/1000 [==============================] - 97s 97ms/step - loss: 2.1112\n",
      "1000/1000 [==============================] - 6s 6ms/step\n",
      "Test results: 2.1440702686309816\n",
      "> \"@AppleSupport I fix I this I stupid I problem I\"\n",
      "< \"@__sn__ we'd like to help . which iphone and ios version are you using ?\"\n",
      "> \"@AmazonHelp I hadnt expected that such a big brand like amazon would have such a poor customer service.\"\n",
      "< \"@__sn__ hi , __unk__ . we are sorry to hear about this . please dm us your email address and we'll follow up .\"\n",
      "Epoch 1/1\n",
      "1000/1000 [==============================] - 96s 96ms/step - loss: 2.0919\n",
      "1000/1000 [==============================] - 6s 6ms/step\n",
      "Test results: 2.1119279594421387\n",
      "> \"@AppleSupport I fix I this I stupid I problem I\"\n",
      "< \"@__sn__ we want to help . dm us which iphone and ios version you have installed . https://t.co/gdrqu22ypt\"\n",
      "> \"@AmazonHelp I hadnt expected that such a big brand like amazon would have such a poor customer service.\"\n",
      "< \"@__sn__ hi there , we are sorry to hear this . please dm us your contact info and store address . thanks !\"\n",
      "Epoch 1/1\n",
      "1000/1000 [==============================] - 95s 95ms/step - loss: 2.1459\n",
      "1000/1000 [==============================] - 6s 6ms/step\n",
      "Test results: 2.111079313278198\n",
      "> \"@AppleSupport I fix I this I stupid I problem I\"\n",
      "< \"@__sn__ we'd be happy to look into this with you more in detail . please reach out to us via dm and we'll get started . https://t.co/gdrqu22ypt\"\n",
      "> \"@AmazonHelp I hadnt expected that such a big brand like amazon would have such a poor customer service.\"\n",
      "< \"@__sn__ hi , __unk__ . please dm us your email address so we can look into this .\"\n",
      "Epoch 1/1\n",
      "1000/1000 [==============================] - 95s 95ms/step - loss: 2.1031\n",
      "1000/1000 [==============================] - 6s 6ms/step\n",
      "Test results: 2.1444144163131713\n",
      "> \"@AppleSupport I fix I this I stupid I problem I\"\n",
      "< \"@__sn__ we want to help . dm us and we'll go from there . https://t.co/gdrqu22ypt\"\n",
      "> \"@AmazonHelp I hadnt expected that such a big brand like amazon would have such a poor customer service.\"\n",
      "< \"@__sn__ hi there ! we don't have any info on this right now , but we ’ ll have it available again soon / __unk__\"\n",
      "Epoch 1/1\n",
      "1000/1000 [==============================] - 95s 95ms/step - loss: 2.1565\n",
      "1000/1000 [==============================] - 6s 6ms/step\n",
      "Test results: 2.0952878246307374\n",
      "> \"@AppleSupport I fix I this I stupid I problem I\"\n",
      "< \"@__sn__ we want to help . dm us and we'll go from there . https://t.co/gdrqu22ypt\"\n",
      "> \"@AmazonHelp I hadnt expected that such a big brand like amazon would have such a poor customer service.\"\n",
      "< \"@__sn__ hi there , we are sorry to hear this . please dm us your email address so we can look into this for you .\"\n",
      "Epoch 1/1\n",
      "1000/1000 [==============================] - 95s 95ms/step - loss: 2.1113\n",
      "1000/1000 [==============================] - 6s 6ms/step\n",
      "Test results: 2.1308331441879274\n",
      "> \"@AppleSupport I fix I this I stupid I problem I\"\n",
      "< \"@__sn__ we want to help . which iphone model do you have ?\"\n",
      "> \"@AmazonHelp I hadnt expected that such a big brand like amazon would have such a poor customer service.\"\n",
      "< \"@__sn__ hi there , we are sorry to hear this . please dm us your email address so we can look into this .\"\n",
      "Epoch 1/1\n",
      "1000/1000 [==============================] - 95s 95ms/step - loss: 2.0954\n",
      "1000/1000 [==============================] - 6s 6ms/step\n",
      "Test results: 2.050898229598999\n",
      "> \"@AppleSupport I fix I this I stupid I problem I\"\n",
      "< \"@__sn__ we want to help . which ios version are you currently running ?\"\n",
      "> \"@AmazonHelp I hadnt expected that such a big brand like amazon would have such a poor customer service.\"\n",
      "< \"@__sn__ hi there , we are sorry to hear about the trouble . please dm us your email address so we can assist .\"\n",
      "Epoch 1/1\n",
      "1000/1000 [==============================] - 95s 95ms/step - loss: 2.1177\n",
      "1000/1000 [==============================] - 6s 6ms/step\n",
      "Test results: 2.069872272491455\n",
      "> \"@AppleSupport I fix I this I stupid I problem I\"\n",
      "< \"@__sn__ we want to help . let's take this to dm so we can better assist you . https://t.co/gdrqu22ypt\"\n",
      "> \"@AmazonHelp I hadnt expected that such a big brand like amazon would have such a poor customer service.\"\n",
      "< \"@__sn__ hi , __unk__ . we have a workaround for this here : https://t.co/xxaxeesrt9 dm us if you still need help . https://t.co/gdrqu22ypt\"\n",
      "Epoch 1/1\n",
      "1000/1000 [==============================] - 95s 95ms/step - loss: 2.0480\n",
      "1000/1000 [==============================] - 6s 6ms/step\n",
      "Test results: 2.095054030418396\n",
      "> \"@AppleSupport I fix I this I stupid I problem I\"\n",
      "< \"@__sn__ we want to help . dm us and we'll go from there . https://t.co/gdrqu22ypt\"\n",
      "> \"@AmazonHelp I hadnt expected that such a big brand like amazon would have such a poor customer service.\"\n",
      "< \"@__sn__ hi there , we are working to resolve this issue and will get back to you soon . ^ ha\"\n",
      "Epoch 1/1\n",
      "1000/1000 [==============================] - 95s 95ms/step - loss: 2.0862\n",
      "1000/1000 [==============================] - 6s 6ms/step\n",
      "Test results: 2.0352753372192383\n",
      "> \"@AppleSupport I fix I this I stupid I problem I\"\n",
      "< \"@__sn__ we want to help . which ios version are you currently running ? let us know in dm . https://t.co/gdrqu22ypt\"\n",
      "> \"@AmazonHelp I hadnt expected that such a big brand like amazon would have such a poor customer service.\"\n",
      "< \"@__sn__ hi there ! we are sorry to hear about this . please dm us your email address so we can follow up .\"\n",
      "Epoch 1/1\n",
      "1000/1000 [==============================] - 95s 95ms/step - loss: 2.0281\n",
      "1000/1000 [==============================] - 6s 6ms/step\n",
      "Test results: 2.0632022562026977\n",
      "> \"@AppleSupport I fix I this I stupid I problem I\"\n",
      "< \"@__sn__ we want to help . which device are you using ?\"\n",
      "> \"@AmazonHelp I hadnt expected that such a big brand like amazon would have such a poor customer service.\"\n",
      "< \"@__sn__ hi there ! please send us a dm with your email address so we can connect .\"\n",
      "Epoch 1/1\n",
      "1000/1000 [==============================] - 95s 95ms/step - loss: 2.0869\n",
      "1000/1000 [==============================] - 6s 6ms/step\n",
      "Test results: 2.122846133232117\n",
      "> \"@AppleSupport I fix I this I stupid I problem I\"\n",
      "< \"@__sn__ we want to help . let's take a look at this together . please dm us which ios version you're using . https://t.co/gdrqu22ypt\"\n",
      "> \"@AmazonHelp I hadnt expected that such a big brand like amazon would have such a poor customer service.\"\n",
      "< \"@__sn__ hi , we are sorry to hear this . please send us a dm with your email address and more details so we can follow up .\"\n",
      "Epoch 1/1\n",
      "1000/1000 [==============================] - 95s 95ms/step - loss: 2.1381\n",
      "1000/1000 [==============================] - 6s 6ms/step\n",
      "Test results: 2.002246543884277\n",
      "> \"@AppleSupport I fix I this I stupid I problem I\"\n",
      "< \"@__sn__ we can help . which iphone are you using ?\"\n",
      "> \"@AmazonHelp I hadnt expected that such a big brand like amazon would have such a poor customer service.\"\n",
      "< \"@__sn__ hi , we have replied to your dm . please check your messages . ^ mb\"\n",
      "Epoch 1/1\n",
      "1000/1000 [==============================] - 95s 95ms/step - loss: 2.0977\n",
      "1000/1000 [==============================] - 6s 6ms/step\n",
      "Test results: 2.071591925621033\n",
      "> \"@AppleSupport I fix I this I stupid I problem I\"\n",
      "< \"@__sn__ we want to help . let's take a look at this article and let us know if you have any questions .\"\n",
      "> \"@AmazonHelp I hadnt expected that such a big brand like amazon would have such a poor customer service.\"\n",
      "< \"@__sn__ hi , we are sorry to hear about this . please dm us your email address so we can look into this for you .\"\n",
      "Epoch 1/1\n",
      "1000/1000 [==============================] - 95s 95ms/step - loss: 2.1223\n",
      "1000/1000 [==============================] - 6s 6ms/step\n",
      "Test results: 2.052112180709839\n",
      "> \"@AppleSupport I fix I this I stupid I problem I\"\n",
      "< \"@__sn__ we want to help . let's take this to dm and we'll explore ways to provide you assistance . https://t.co/gdrqu22ypt\"\n",
      "> \"@AmazonHelp I hadnt expected that such a big brand like amazon would have such a poor customer service.\"\n",
      "< \"@__sn__ hi there , we are sorry to hear this . please dm us your email address so we can assist .\"\n",
      "Epoch 1/1\n",
      "1000/1000 [==============================] - 95s 95ms/step - loss: 2.0882\n",
      "1000/1000 [==============================] - 6s 6ms/step\n",
      "Test results: 2.0569452304840086\n",
      "> \"@AppleSupport I fix I this I stupid I problem I\"\n",
      "< \"@__sn__ we want to help . let's take this to dm so we can better assist you . https://t.co/gdrqu22ypt\"\n",
      "> \"@AmazonHelp I hadnt expected that such a big brand like amazon would have such a poor customer service.\"\n",
      "< \"@__sn__ hi there , we are sorry to hear this . please dm us your email address and we'll reach out right away !\"\n",
      "Epoch 1/1\n",
      "1000/1000 [==============================] - 96s 96ms/step - loss: 2.0998\n",
      "1000/1000 [==============================] - 6s 6ms/step\n",
      "Test results: 2.057864517211914\n",
      "> \"@AppleSupport I fix I this I stupid I problem I\"\n",
      "< \"@__sn__ we want to help . dm us which iphone and ios version you're using and which ios version you're using . https://t.co/gdrqu22ypt\"\n",
      "> \"@AmazonHelp I hadnt expected that such a big brand like amazon would have such a poor customer service.\"\n",
      "< \"@__sn__ hi there , we are sorry to hear this . please dm us with your email address so we can look into this for you .\"\n",
      "Epoch 1/1\n",
      "1000/1000 [==============================] - 96s 96ms/step - loss: 2.0576\n",
      "1000/1000 [==============================] - 6s 6ms/step\n",
      "Test results: 2.1116254825592042\n",
      "> \"@AppleSupport I fix I this I stupid I problem I\"\n",
      "< \"@__sn__ we'd like to help . send us a dm and we'll get started . https://t.co/gdrqu22ypt\"\n",
      "> \"@AmazonHelp I hadnt expected that such a big brand like amazon would have such a poor customer service.\"\n",
      "< \"@__sn__ hi there , we are sorry to hear that . please dm us your email address and we'll reach out right away !\"\n",
      "Epoch 1/1\n",
      "1000/1000 [==============================] - 95s 95ms/step - loss: 2.1326\n",
      "1000/1000 [==============================] - 6s 6ms/step\n",
      "Test results: 2.0719076671600343\n",
      "> \"@AppleSupport I fix I this I stupid I problem I\"\n",
      "< \"@__sn__ we want to help . which version of ios are you running ?\"\n",
      "> \"@AmazonHelp I hadnt expected that such a big brand like amazon would have such a poor customer service.\"\n",
      "< \"@__sn__ hi there , we are sorry to hear this . please dm us with your order number and we'll look into this for you .\"\n",
      "Epoch 1/1\n",
      "1000/1000 [==============================] - 95s 95ms/step - loss: 2.1296\n",
      "1000/1000 [==============================] - 6s 6ms/step\n",
      "Test results: 2.0904000787734986\n",
      "> \"@AppleSupport I fix I this I stupid I problem I\"\n",
      "< \"@__sn__ we'd like to help . dm us with the ios version you are using . https://t.co/gdrqu22ypt\"\n",
      "> \"@AmazonHelp I hadnt expected that such a big brand like amazon would have such a poor customer service.\"\n",
      "< \"@__sn__ hi there , we are sorry to hear about this . please dm us your email address and we will look into this for you .\"\n",
      "Epoch 1/1\n",
      "1000/1000 [==============================] - 95s 95ms/step - loss: 2.0879\n",
      "1000/1000 [==============================] - 6s 6ms/step\n",
      "Test results: 2.010551682472229\n",
      "> \"@AppleSupport I fix I this I stupid I problem I\"\n",
      "< \"@__sn__ we'd like to help . dm us and we'll go from there . https://t.co/gdrqu22ypt\"\n",
      "> \"@AmazonHelp I hadnt expected that such a big brand like amazon would have such a poor customer service.\"\n",
      "< \"@__sn__ hi , __unk__ . we are sorry to hear this . please dm us with your order number and email address . thanks !\"\n",
      "Epoch 1/1\n",
      "1000/1000 [==============================] - 95s 95ms/step - loss: 2.0888\n",
      "1000/1000 [==============================] - 6s 6ms/step\n",
      "Test results: 2.05176554107666\n",
      "> \"@AppleSupport I fix I this I stupid I problem I\"\n",
      "< \"@__sn__ we want to help . dm us and we'll continue from there . https://t.co/gdrqu22ypt\"\n",
      "> \"@AmazonHelp I hadnt expected that such a big brand like amazon would have such a poor customer service.\"\n",
      "< \"@__sn__ hi there , we are sorry to hear about your experience . please dm us your email address and we'll reach out right away !\"\n",
      "Epoch 1/1\n",
      "1000/1000 [==============================] - 95s 95ms/step - loss: 2.0751\n",
      "1000/1000 [==============================] - 6s 6ms/step\n",
      "Test results: 2.0871878108978272\n",
      "> \"@AppleSupport I fix I this I stupid I problem I\"\n",
      "< \"@__sn__ we want to help . which ios version are you using ?\"\n",
      "> \"@AmazonHelp I hadnt expected that such a big brand like amazon would have such a poor customer service.\"\n",
      "< \"@__sn__ hi , i am sorry to hear about your experience . please dm us your idea number and alternate number so we can look into this for you .\"\n",
      "Epoch 1/1\n",
      "1000/1000 [==============================] - 95s 95ms/step - loss: 2.0534\n",
      "1000/1000 [==============================] - 6s 6ms/step\n",
      "Test results: 2.084555788040161\n",
      "> \"@AppleSupport I fix I this I stupid I problem I\"\n",
      "< \"@__sn__ we want to help . dm us with more details about what you're experiencing . https://t.co/gdrqu22ypt\"\n",
      "> \"@AmazonHelp I hadnt expected that such a big brand like amazon would have such a poor customer service.\"\n",
      "< \"@__sn__ hi there , we are sorry to hear this . please dm us your email address and more details so we can follow up .\"\n",
      "Epoch 1/1\n",
      "1000/1000 [==============================] - 95s 95ms/step - loss: 2.0361\n",
      "1000/1000 [==============================] - 6s 6ms/step\n",
      "Test results: 1.9928858699798584\n",
      "> \"@AppleSupport I fix I this I stupid I problem I\"\n",
      "< \"@__sn__ we want to help . let's take a look at this further . please dm us with the country where you're located in . https://t.co/gdrqu22ypt\"\n",
      "> \"@AmazonHelp I hadnt expected that such a big brand like amazon would have such a poor customer service.\"\n",
      "< \"@__sn__ hi , i am sorry to hear this . please dm us your idea number and alternate number so we can look into this for you . ^ ch\"\n",
      "Epoch 1/1\n",
      "1000/1000 [==============================] - 95s 95ms/step - loss: 2.0904\n",
      "1000/1000 [==============================] - 6s 6ms/step\n",
      "Test results: 2.0593878145217897\n",
      "> \"@AppleSupport I fix I this I stupid I problem I\"\n",
      "< \"@__sn__ we want to help . send us a dm and we'll get started . https://t.co/gdrqu22ypt\"\n",
      "> \"@AmazonHelp I hadnt expected that such a big brand like amazon would have such a poor customer service.\"\n",
      "< \"@__sn__ hi there , we are sorry to hear this . please dm us your contact info and store address . thanks !\"\n"
     ]
    },
    {
     "name": "stdout",
     "output_type": "stream",
     "text": [
      "Epoch 1/1\n",
      "1000/1000 [==============================] - 95s 95ms/step - loss: 2.1148\n",
      "1000/1000 [==============================] - 6s 6ms/step\n",
      "Test results: 2.069374320983887\n",
      "> \"@AppleSupport I fix I this I stupid I problem I\"\n",
      "< \"@__sn__ we want to help . dm us the exact ios version you are using . https://t.co/gdrqu22ypt\"\n",
      "> \"@AmazonHelp I hadnt expected that such a big brand like amazon would have such a poor customer service.\"\n",
      "< \"@__sn__ hi , we are sorry to hear this . please dm us with your order number and bakery-cafe location and we will look into this for you .\"\n",
      "Epoch 1/1\n",
      "1000/1000 [==============================] - 95s 95ms/step - loss: 2.0253\n",
      "1000/1000 [==============================] - 6s 6ms/step\n",
      "Test results: 2.0570416564941407\n",
      "> \"@AppleSupport I fix I this I stupid I problem I\"\n",
      "< \"@__sn__ we want to help . dm us and we'll get started . https://t.co/gdrqu22ypt\"\n",
      "> \"@AmazonHelp I hadnt expected that such a big brand like amazon would have such a poor customer service.\"\n",
      "< \"@__sn__ hi there , we are sorry to hear about this . please dm us your email address so we can look into this for you .\"\n",
      "Epoch 1/1\n",
      "1000/1000 [==============================] - 95s 95ms/step - loss: 2.0618\n",
      "1000/1000 [==============================] - 6s 6ms/step\n",
      "Test results: 1.9996230545043945\n",
      "> \"@AppleSupport I fix I this I stupid I problem I\"\n",
      "< \"@__sn__ we want to help . let's take this to dm and we'll explore ways to provide you assistance . https://t.co/gdrqu22ypt\"\n",
      "> \"@AmazonHelp I hadnt expected that such a big brand like amazon would have such a poor customer service.\"\n",
      "< \"@__sn__ hi there , we are sorry to hear this . please dm us your contact info and store address . thanks !\"\n",
      "Epoch 1/1\n",
      "1000/1000 [==============================] - 95s 95ms/step - loss: 2.0894\n",
      "1000/1000 [==============================] - 6s 6ms/step\n",
      "Test results: 2.1000229139328\n",
      "> \"@AppleSupport I fix I this I stupid I problem I\"\n",
      "< \"@__sn__ we can help . send us a dm and we'll go from there . https://t.co/gdrqu22ypt\"\n",
      "> \"@AmazonHelp I hadnt expected that such a big brand like amazon would have such a poor customer service.\"\n",
      "< \"@__sn__ hi there , we are sorry to hear this . please dm us your contact info and store address . thanks !\"\n",
      "Epoch 1/1\n",
      "1000/1000 [==============================] - 96s 96ms/step - loss: 2.0523\n",
      "1000/1000 [==============================] - 6s 6ms/step\n",
      "Test results: 2.053935152053833\n",
      "> \"@AppleSupport I fix I this I stupid I problem I\"\n",
      "< \"@__sn__ we want to help . let's take this to dm so we can better assist you . https://t.co/gdrqu22ypt\"\n",
      "> \"@AmazonHelp I hadnt expected that such a big brand like amazon would have such a poor customer service.\"\n",
      "< \"@__sn__ hi , __unk__ . please dm us your contact number and we'll look into this for you . thanks !\"\n",
      "Epoch 1/1\n",
      "1000/1000 [==============================] - 95s 95ms/step - loss: 2.0647\n",
      "1000/1000 [==============================] - 6s 6ms/step\n",
      "Test results: 2.019605959892273\n",
      "> \"@AppleSupport I fix I this I stupid I problem I\"\n",
      "< \"@__sn__ we can help . which iphone model do you have ?\"\n",
      "> \"@AmazonHelp I hadnt expected that such a big brand like amazon would have such a poor customer service.\"\n",
      "< \"@__sn__ hi , __unk__ . we are sorry to hear this . please dm us your contact info and store address . thanks .\"\n",
      "Epoch 1/1\n",
      "1000/1000 [==============================] - 96s 96ms/step - loss: 2.0192\n",
      "1000/1000 [==============================] - 7s 7ms/step\n",
      "Test results: 2.0475676136016845\n",
      "> \"@AppleSupport I fix I this I stupid I problem I\"\n",
      "< \"@__sn__ we'd like to help . dm us which device and software version you are using . https://t.co/gdrqu22ypt\"\n",
      "> \"@AmazonHelp I hadnt expected that such a big brand like amazon would have such a poor customer service.\"\n",
      "< \"@__sn__ hi there ! please send us a dm with your email address and more info so we can follow up .\"\n",
      "Epoch 1/1\n",
      "1000/1000 [==============================] - 98s 98ms/step - loss: 2.0859\n",
      "1000/1000 [==============================] - 6s 6ms/step\n",
      "Test results: 2.0484609813690184\n",
      "> \"@AppleSupport I fix I this I stupid I problem I\"\n",
      "< \"@__sn__ we'd like to help . what is the ios version are you using ?\"\n",
      "> \"@AmazonHelp I hadnt expected that such a big brand like amazon would have such a poor customer service.\"\n",
      "< \"@__sn__ hi there , we are sorry to hear this . please dm us your email address and we'll reach out right away .\"\n",
      "Epoch 1/1\n",
      "1000/1000 [==============================] - 96s 96ms/step - loss: 2.1211\n",
      "1000/1000 [==============================] - 6s 6ms/step\n",
      "Test results: 1.9799378986358642\n",
      "> \"@AppleSupport I fix I this I stupid I problem I\"\n",
      "< \"@__sn__ we'd like to help . which iphone and ios version are you using ?\"\n",
      "> \"@AmazonHelp I hadnt expected that such a big brand like amazon would have such a poor customer service.\"\n",
      "< \"@__sn__ hi there , thanks for reaching out to us . please send us a dm with your paypal email address and phone number . https://t.co/sxpdictw1a\"\n",
      "Epoch 1/1\n",
      "1000/1000 [==============================] - 96s 96ms/step - loss: 2.0973\n",
      "1000/1000 [==============================] - 6s 6ms/step\n",
      "Test results: 2.033782789230347\n",
      "> \"@AppleSupport I fix I this I stupid I problem I\"\n",
      "< \"@__sn__ we'd like to help . which ios version are you using ?\"\n",
      "> \"@AmazonHelp I hadnt expected that such a big brand like amazon would have such a poor customer service.\"\n",
      "< \"@__sn__ hi , __unk__ . please dm us your tracking number , and complete address so we can look into this for you . ^ ac https://t.co/wkjhdxwgrq\"\n",
      "Epoch 1/1\n",
      "1000/1000 [==============================] - 96s 96ms/step - loss: 2.1440\n",
      "1000/1000 [==============================] - 6s 6ms/step\n",
      "Test results: 1.9976796226501465\n",
      "> \"@AppleSupport I fix I this I stupid I problem I\"\n",
      "< \"@__sn__ we'd like to help . dm us the exact ios version you have installed . https://t.co/gdrqu22ypt\"\n",
      "> \"@AmazonHelp I hadnt expected that such a big brand like amazon would have such a poor customer service.\"\n",
      "< \"@__sn__ hi , __unk__ . please send us a dm with your paypal email address and we'll look into this for you .\"\n",
      "Epoch 1/1\n",
      "1000/1000 [==============================] - 96s 96ms/step - loss: 2.0356\n",
      "1000/1000 [==============================] - 7s 7ms/step\n",
      "Test results: 2.011197120666504\n",
      "> \"@AppleSupport I fix I this I stupid I problem I\"\n",
      "< \"@__sn__ we want to help . dm us and we'll go from there . https://t.co/gdrqu22ypt\"\n",
      "> \"@AmazonHelp I hadnt expected that such a big brand like amazon would have such a poor customer service.\"\n",
      "< \"@__sn__ hi there , thanks for reaching out to us . please send us a dm with your paypal email address and details of your concern . ^ kp https://t.co/wkjhdxwgrq\"\n",
      "Epoch 1/1\n",
      "1000/1000 [==============================] - 95s 95ms/step - loss: 2.0946\n",
      "1000/1000 [==============================] - 6s 6ms/step\n",
      "Test results: 2.027935256958008\n",
      "> \"@AppleSupport I fix I this I stupid I problem I\"\n",
      "< \"@__sn__ we'd like to help . dm us the exact ios version you're using . https://t.co/gdrqu22ypt\"\n",
      "> \"@AmazonHelp I hadnt expected that such a big brand like amazon would have such a poor customer service.\"\n",
      "< \"@__sn__ hi there , we are sorry to hear this . please dm us your email address and more details so we can help .\"\n",
      "Epoch 1/1\n",
      "1000/1000 [==============================] - 95s 95ms/step - loss: 2.0110\n",
      "1000/1000 [==============================] - 6s 6ms/step\n",
      "Test results: 1.9642673854827881\n",
      "> \"@AppleSupport I fix I this I stupid I problem I\"\n",
      "< \"@__sn__ we'd like to help . dm us the device you are using and we'll go from there . https://t.co/gdrqu22ypt\"\n",
      "> \"@AmazonHelp I hadnt expected that such a big brand like amazon would have such a poor customer service.\"\n",
      "< \"@__sn__ hi there , we are sorry to hear this . please dm us with your order number and we will look into this for you . ^ ac https://t.co/wkjhdxwgrq\"\n",
      "Epoch 1/1\n",
      "1000/1000 [==============================] - 95s 95ms/step - loss: 2.1099\n",
      "1000/1000 [==============================] - 6s 6ms/step\n",
      "Test results: 1.9467279176712036\n",
      "> \"@AppleSupport I fix I this I stupid I problem I\"\n",
      "< \"@__sn__ we want to help . dm us and we'll get started . https://t.co/gdrqu22ypt\"\n",
      "> \"@AmazonHelp I hadnt expected that such a big brand like amazon would have such a poor customer service.\"\n",
      "< \"@__sn__ hi there , we are sorry to hear this . please dm us your email address and we will look into this for you .\"\n"
     ]
    },
    {
     "name": "stdout",
     "output_type": "stream",
     "text": [
      "Epoch 1/1\n",
      "1000/1000 [==============================] - 95s 95ms/step - loss: 2.0692\n",
      "1000/1000 [==============================] - 6s 6ms/step\n",
      "Test results: 2.001162254333496\n",
      "> \"@AppleSupport I fix I this I stupid I problem I\"\n",
      "< \"@__sn__ we want to help . which device are you using ?\"\n",
      "> \"@AmazonHelp I hadnt expected that such a big brand like amazon would have such a poor customer service.\"\n",
      "< \"@__sn__ hi there , we are sorry to hear this . please dm us your email address and we'll reach out right away .\"\n",
      "Epoch 1/1\n",
      "1000/1000 [==============================] - 95s 95ms/step - loss: 2.0761\n",
      "1000/1000 [==============================] - 6s 6ms/step\n",
      "Test results: 2.0393237600326537\n",
      "> \"@AppleSupport I fix I this I stupid I problem I\"\n",
      "< \"@__sn__ we'd like to help . which version of ios 11 are you using ?\"\n",
      "> \"@AmazonHelp I hadnt expected that such a big brand like amazon would have such a poor customer service.\"\n",
      "< \"@__sn__ hi there , we are sorry to hear about this . please dm us your email address and more details so we can look into this for you .\"\n",
      "Epoch 1/1\n",
      "1000/1000 [==============================] - 96s 96ms/step - loss: 2.0823\n",
      "1000/1000 [==============================] - 6s 6ms/step\n",
      "Test results: 2.035539478302002\n",
      "> \"@AppleSupport I fix I this I stupid I problem I\"\n",
      "< \"@__sn__ we'd like to help . which device are you using ?\"\n",
      "> \"@AmazonHelp I hadnt expected that such a big brand like amazon would have such a poor customer service.\"\n",
      "< \"@__sn__ hi , we are sorry to hear about this . please dm us your email address and we will reach out to you .\"\n",
      "Epoch 1/1\n",
      "1000/1000 [==============================] - 95s 95ms/step - loss: 2.1058\n",
      "1000/1000 [==============================] - 6s 6ms/step\n",
      "Test results: 1.9819784336090087\n",
      "> \"@AppleSupport I fix I this I stupid I problem I\"\n",
      "< \"@__sn__ we'd like to help . what device are you using ?\"\n",
      "> \"@AmazonHelp I hadnt expected that such a big brand like amazon would have such a poor customer service.\"\n",
      "< \"@__sn__ hi , __unk__ . please dm us your email address and we'll reach out to you .\"\n",
      "Epoch 1/1\n",
      "1000/1000 [==============================] - 95s 95ms/step - loss: 2.0346\n",
      "1000/1000 [==============================] - 6s 6ms/step\n",
      "Test results: 2.0185670127868653\n",
      "> \"@AppleSupport I fix I this I stupid I problem I\"\n",
      "< \"@__sn__ we want to help . which device are you using ?\"\n",
      "> \"@AmazonHelp I hadnt expected that such a big brand like amazon would have such a poor customer service.\"\n",
      "< \"@__sn__ hi , __unk__ . please dm us your tracking number so we can look into this . ^ ac https://t.co/wkjhdxwgrq\"\n",
      "Epoch 1/1\n",
      "1000/1000 [==============================] - 95s 95ms/step - loss: 1.9948\n",
      "1000/1000 [==============================] - 6s 6ms/step\n",
      "Test results: 2.044549471855164\n",
      "> \"@AppleSupport I fix I this I stupid I problem I\"\n",
      "< \"@__sn__ we want to help . let's take this to dm and we'll explore ways to provide you assistance . https://t.co/gdrqu22ypt\"\n",
      "> \"@AmazonHelp I hadnt expected that such a big brand like amazon would have such a poor customer service.\"\n",
      "< \"@__sn__ hi , __unk__ . please dm us the phone number associated with your account so we can look into this for you . ^ __unk__\"\n",
      "Epoch 1/1\n",
      "1000/1000 [==============================] - 95s 95ms/step - loss: 2.1048\n",
      "1000/1000 [==============================] - 6s 6ms/step\n",
      "Test results: 2.065112199783325\n",
      "> \"@AppleSupport I fix I this I stupid I problem I\"\n",
      "< \"@__sn__ we want to help . let's take this to dm so we can help . https://t.co/gdrqu22ypt\"\n",
      "> \"@AmazonHelp I hadnt expected that such a big brand like amazon would have such a poor customer service.\"\n",
      "< \"@__sn__ hi there , we are sorry to hear this . please dm us the phone number on your account so we can look into this for you . https://t.co/sxpdictw1a\"\n",
      "Epoch 1/1\n",
      "1000/1000 [==============================] - 95s 95ms/step - loss: 2.0638\n",
      "1000/1000 [==============================] - 6s 6ms/step\n",
      "Test results: 2.046540273666382\n",
      "> \"@AppleSupport I fix I this I stupid I problem I\"\n",
      "< \"@__sn__ we want to help . let's take this to dm and we'll explore ways to provide you assistance . https://t.co/gdrqu22ypt\"\n",
      "> \"@AmazonHelp I hadnt expected that such a big brand like amazon would have such a poor customer service.\"\n",
      "< \"@__sn__ hi there ! please send us a dm with your email address and more details so we can follow up .\"\n",
      "Epoch 1/1\n",
      "1000/1000 [==============================] - 95s 95ms/step - loss: 2.0779\n",
      "1000/1000 [==============================] - 6s 6ms/step\n",
      "Test results: 1.9481857166290284\n",
      "> \"@AppleSupport I fix I this I stupid I problem I\"\n",
      "< \"@__sn__ we want to help . please dm us the ios version you're using and we'll go from there . https://t.co/gdrqu22ypt\"\n",
      "> \"@AmazonHelp I hadnt expected that such a big brand like amazon would have such a poor customer service.\"\n",
      "< \"@__sn__ hi there , we're sorry to hear this . can you dm us your account's username or email address via dm ? we'll take a look backstage / rb\"\n",
      "Epoch 1/1\n",
      "1000/1000 [==============================] - 95s 95ms/step - loss: 2.0041\n",
      "1000/1000 [==============================] - 6s 6ms/step\n",
      "Test results: 2.0486550216674804\n",
      "> \"@AppleSupport I fix I this I stupid I problem I\"\n",
      "< \"@__sn__ we want to help . let's start by the steps here : __unk__\"\n",
      "> \"@AmazonHelp I hadnt expected that such a big brand like amazon would have such a poor customer service.\"\n",
      "< \"@__sn__ hi there , we're sorry to hear this . can you dm us your account's username and email address ? we'll take a look backstage / lo https://t.co/ldfdzrinat\"\n",
      "Epoch 1/1\n",
      "1000/1000 [==============================] - 95s 95ms/step - loss: 2.1083\n",
      "1000/1000 [==============================] - 6s 6ms/step\n",
      "Test results: 1.9671118545532227\n",
      "> \"@AppleSupport I fix I this I stupid I problem I\"\n",
      "< \"@__sn__ we want to help . send us a dm and we'll continue from there . https://t.co/gdrqu22ypt\"\n",
      "> \"@AmazonHelp I hadnt expected that such a big brand like amazon would have such a poor customer service.\"\n",
      "< \"@__sn__ hi , __unk__ . please dm us your tracking number and complete address . ^ tv https://t.co/wkjhdxwgrq\"\n",
      "Epoch 1/1\n",
      "1000/1000 [==============================] - 95s 95ms/step - loss: 2.1051\n",
      "1000/1000 [==============================] - 6s 6ms/step\n",
      "Test results: 2.03965717124939\n",
      "> \"@AppleSupport I fix I this I stupid I problem I\"\n",
      "< \"@__sn__ we want to help . send us a dm and we'll go from there . https://t.co/gdrqu22ypt\"\n",
      "> \"@AmazonHelp I hadnt expected that such a big brand like amazon would have such a poor customer service.\"\n",
      "< \"@__sn__ hi there , we are sorry to hear this . please dm us your contact info and store address . thanks !\"\n",
      "Epoch 1/1\n",
      "1000/1000 [==============================] - 95s 95ms/step - loss: 2.0535\n",
      "1000/1000 [==============================] - 6s 6ms/step\n",
      "Test results: 2.0043442010879517\n",
      "> \"@AppleSupport I fix I this I stupid I problem I\"\n",
      "< \"@__sn__ we want to help . send us a dm and we'll go from there . https://t.co/gdrqu22ypt\"\n",
      "> \"@AmazonHelp I hadnt expected that such a big brand like amazon would have such a poor customer service.\"\n",
      "< \"@__sn__ hi , __unk__ . please dm us your tracking number , and complete address so we can look into this for you . ^ ac https://t.co/wkjhdxwgrq\"\n",
      "Epoch 1/1\n",
      "1000/1000 [==============================] - 95s 95ms/step - loss: 2.0791\n",
      "1000/1000 [==============================] - 6s 6ms/step\n",
      "Test results: 2.057861541748047\n",
      "> \"@AppleSupport I fix I this I stupid I problem I\"\n",
      "< \"@__sn__ we want to help . send us a dm and we'll go from there . https://t.co/gdrqu22ypt\"\n",
      "> \"@AmazonHelp I hadnt expected that such a big brand like amazon would have such a poor customer service.\"\n",
      "< \"@__sn__ hi there , we are sorry to hear this . please dm us your email address and we'll reach out right away !\"\n",
      "Epoch 1/1\n",
      "1000/1000 [==============================] - 95s 95ms/step - loss: 2.0263\n",
      "1000/1000 [==============================] - 6s 6ms/step\n",
      "Test results: 2.016075838088989\n",
      "> \"@AppleSupport I fix I this I stupid I problem I\"\n",
      "< \"@__sn__ we want to help . send us a dm and we'll go from there . https://t.co/gdrqu22ypt\"\n",
      "> \"@AmazonHelp I hadnt expected that such a big brand like amazon would have such a poor customer service.\"\n",
      "< \"@__sn__ hi there , we are sorry to hear this . please dm us your email address and more details so we can look into this for you .\"\n"
     ]
    },
    {
     "name": "stdout",
     "output_type": "stream",
     "text": [
      "Epoch 1/1\n",
      "1000/1000 [==============================] - 95s 95ms/step - loss: 2.0937\n",
      "1000/1000 [==============================] - 6s 6ms/step\n",
      "Test results: 1.9993338747024536\n",
      "> \"@AppleSupport I fix I this I stupid I problem I\"\n",
      "< \"@__sn__ we want to help . let's take a look at this together . dm us the ios version you're using . https://t.co/gdrqu22ypt\"\n",
      "> \"@AmazonHelp I hadnt expected that such a big brand like amazon would have such a poor customer service.\"\n",
      "< \"@__sn__ hi there , we are sorry to hear this . please dm us your email address and we'll look into this for you .\"\n",
      "Epoch 1/1\n",
      "1000/1000 [==============================] - 95s 95ms/step - loss: 2.0813\n",
      "1000/1000 [==============================] - 6s 6ms/step\n",
      "Test results: 2.0264577436447144\n",
      "> \"@AppleSupport I fix I this I stupid I problem I\"\n",
      "< \"@__sn__ we want to help . let's take a look at this together . dm us and we'll get started . https://t.co/gdrqu22ypt\"\n",
      "> \"@AmazonHelp I hadnt expected that such a big brand like amazon would have such a poor customer service.\"\n",
      "< \"@__sn__ hi there , we are sorry to hear this . please dm us your contact info and store address . thanks !\"\n",
      "Epoch 1/1\n",
      "1000/1000 [==============================] - 96s 96ms/step - loss: 2.0598\n",
      "1000/1000 [==============================] - 6s 6ms/step\n",
      "Test results: 2.0612673454284667\n",
      "> \"@AppleSupport I fix I this I stupid I problem I\"\n",
      "< \"@__sn__ we can help . please dm us the ios version you're using . https://t.co/gdrqu22ypt\"\n",
      "> \"@AmazonHelp I hadnt expected that such a big brand like amazon would have such a poor customer service.\"\n",
      "< \"@__sn__ hi , we are sorry to hear this . please dm us your email address and more details about your concern .\"\n",
      "Epoch 1/1\n",
      "1000/1000 [==============================] - 95s 95ms/step - loss: 2.0515\n",
      "1000/1000 [==============================] - 6s 6ms/step\n",
      "Test results: 1.9969635887145996\n",
      "> \"@AppleSupport I fix I this I stupid I problem I\"\n",
      "< \"@__sn__ we want to help . dm us with the ios version you're using . https://t.co/gdrqu22ypt\"\n",
      "> \"@AmazonHelp I hadnt expected that such a big brand like amazon would have such a poor customer service.\"\n",
      "< \"@__sn__ hi , i would be happy to help with any service issues . can you please send me a dm with your full address , phone number , and\"\n",
      "Epoch 1/1\n",
      "1000/1000 [==============================] - 95s 95ms/step - loss: 2.0229\n",
      "1000/1000 [==============================] - 6s 6ms/step\n",
      "Test results: 2.0075501012802124\n",
      "> \"@AppleSupport I fix I this I stupid I problem I\"\n",
      "< \"@__sn__ we'd like to help . dm us the ios version installed on your iphone . https://t.co/gdrqu22ypt\"\n",
      "> \"@AmazonHelp I hadnt expected that such a big brand like amazon would have such a poor customer service.\"\n",
      "< \"@__sn__ hi there ! please dm us your email address so we can look into this for you .\"\n",
      "Epoch 1/1\n",
      "1000/1000 [==============================] - 95s 95ms/step - loss: 2.0855\n",
      "1000/1000 [==============================] - 6s 6ms/step\n",
      "Test results: 2.0135870819091797\n",
      "> \"@AppleSupport I fix I this I stupid I problem I\"\n",
      "< \"@__sn__ we want to help . dm us the exact ios version you're using . https://t.co/gdrqu22ypt\"\n",
      "> \"@AmazonHelp I hadnt expected that such a big brand like amazon would have such a poor customer service.\"\n",
      "< \"@__sn__ hi , __unk__ . we are sorry to hear this . please dm us your contact info and store address . thanks !\"\n",
      "Epoch 1/1\n",
      "1000/1000 [==============================] - 95s 95ms/step - loss: 2.0418\n",
      "1000/1000 [==============================] - 6s 6ms/step\n",
      "Test results: 2.0112361335754394\n",
      "> \"@AppleSupport I fix I this I stupid I problem I\"\n",
      "< \"@__sn__ we'd like to help . dm us the ios version installed on your iphone . https://t.co/gdrqu22ypt\"\n",
      "> \"@AmazonHelp I hadnt expected that such a big brand like amazon would have such a poor customer service.\"\n",
      "< \"@__sn__ hi there , i would be happy to help with any service issues you're having . can you please send me a dm with your address and phone number\"\n",
      "Epoch 1/1\n",
      "1000/1000 [==============================] - 95s 95ms/step - loss: 2.1245\n",
      "1000/1000 [==============================] - 6s 6ms/step\n",
      "Test results: 2.008858872413635\n",
      "> \"@AppleSupport I fix I this I stupid I problem I\"\n",
      "< \"@__sn__ we want to help . let's start by the steps in the following article : https://t.co/xu1aghstv6\"\n",
      "> \"@AmazonHelp I hadnt expected that such a big brand like amazon would have such a poor customer service.\"\n",
      "< \"@__sn__ hi there ! we are sorry to hear this . please dm us your email address and we'll reach out right away !\"\n",
      "Epoch 1/1\n",
      "1000/1000 [==============================] - 95s 95ms/step - loss: 2.0629\n",
      "1000/1000 [==============================] - 6s 6ms/step\n",
      "Test results: 2.007051836013794\n",
      "> \"@AppleSupport I fix I this I stupid I problem I\"\n",
      "< \"@__sn__ we want to help . dm us which iphone you're using . https://t.co/gdrqu22ypt\"\n",
      "> \"@AmazonHelp I hadnt expected that such a big brand like amazon would have such a poor customer service.\"\n",
      "< \"@__sn__ hi , __unk__ . we are sorry to hear this . please dm us your contact info and store address . thanks !\"\n",
      "Epoch 1/1\n",
      "1000/1000 [==============================] - 95s 95ms/step - loss: 2.0529\n",
      "1000/1000 [==============================] - 6s 6ms/step\n",
      "Test results: 2.0311323375701904\n",
      "> \"@AppleSupport I fix I this I stupid I problem I\"\n",
      "< \"@__sn__ we'd like to help . which ios version are you using ?\"\n",
      "> \"@AmazonHelp I hadnt expected that such a big brand like amazon would have such a poor customer service.\"\n",
      "< \"@__sn__ hi there , i am sorry to hear this . please dm us your tracking number and complete address . ^ ck https://t.co/wkjhdxwgrq\"\n",
      "Epoch 1/1\n",
      "1000/1000 [==============================] - 95s 95ms/step - loss: 1.9923\n",
      "1000/1000 [==============================] - 6s 6ms/step\n",
      "Test results: 1.9293067741394043\n",
      "> \"@AppleSupport I fix I this I stupid I problem I\"\n",
      "< \"@__sn__ we'd like to help . dm us the details of the issue you're having and we'll go from there . https://t.co/gdrqu22ypt\"\n",
      "> \"@AmazonHelp I hadnt expected that such a big brand like amazon would have such a poor customer service.\"\n",
      "< \"@__sn__ hi , __unk__ . please dm us your contact info and store address . thanks !\"\n",
      "Epoch 1/1\n",
      "1000/1000 [==============================] - 97s 97ms/step - loss: 2.0473\n",
      "1000/1000 [==============================] - 7s 7ms/step\n",
      "Test results: 2.028676218032837\n",
      "> \"@AppleSupport I fix I this I stupid I problem I\"\n",
      "< \"@__sn__ we'd like to help . send us a dm and we'll go from there . https://t.co/gdrqu22ypt\"\n",
      "> \"@AmazonHelp I hadnt expected that such a big brand like amazon would have such a poor customer service.\"\n",
      "< \"@__sn__ hi , __unk__ . please send us a dm with your email address and additional details so we can assist .\"\n",
      "Epoch 1/1\n",
      "1000/1000 [==============================] - 97s 97ms/step - loss: 1.9850\n",
      "1000/1000 [==============================] - 6s 6ms/step\n",
      "Test results: 1.9836801452636719\n",
      "> \"@AppleSupport I fix I this I stupid I problem I\"\n",
      "< \"@__sn__ we want to help . let's take a look at this together . dm us the ios version you have installed . https://t.co/gdrqu22ypt\"\n",
      "> \"@AmazonHelp I hadnt expected that such a big brand like amazon would have such a poor customer service.\"\n",
      "< \"@__sn__ hi there , we are sorry to hear this . please dm us your contact info and store address . thanks !\"\n",
      "Epoch 1/1\n",
      "1000/1000 [==============================] - 96s 96ms/step - loss: 2.0756\n",
      "1000/1000 [==============================] - 6s 6ms/step\n",
      "Test results: 1.9737246742248535\n",
      "> \"@AppleSupport I fix I this I stupid I problem I\"\n",
      "< \"@__sn__ we'd like to help . dm us the ios version you have and we'll go from there . https://t.co/gdrqu22ypt\"\n",
      "> \"@AmazonHelp I hadnt expected that such a big brand like amazon would have such a poor customer service.\"\n",
      "< \"@__sn__ hi , __unk__ . we are sorry to hear that . please dm us your contact info and store address . thanks !\"\n",
      "Epoch 1/1\n",
      "1000/1000 [==============================] - 96s 96ms/step - loss: 2.0437\n",
      "1000/1000 [==============================] - 6s 6ms/step\n",
      "Test results: 1.9812380561828613\n",
      "> \"@AppleSupport I fix I this I stupid I problem I\"\n",
      "< \"@__sn__ we want to help . let's take a look at this together . send us a dm and we'll get started . https://t.co/gdrqu22ypt\"\n",
      "> \"@AmazonHelp I hadnt expected that such a big brand like amazon would have such a poor customer service.\"\n",
      "< \"@__sn__ hi there , i am sorry to hear this . please dm us your tracking number and contact number via the link so we can look into this for\"\n"
     ]
    },
    {
     "name": "stdout",
     "output_type": "stream",
     "text": [
      "Epoch 1/1\n",
      "1000/1000 [==============================] - 96s 96ms/step - loss: 2.0505\n",
      "1000/1000 [==============================] - 6s 6ms/step\n",
      "Test results: 1.9559007415771483\n",
      "> \"@AppleSupport I fix I this I stupid I problem I\"\n",
      "< \"@__sn__ we want to help . let's take a closer look at this . dm us and we'll take a closer look at this . https://t.co/gdrqu22ypt\"\n",
      "> \"@AmazonHelp I hadnt expected that such a big brand like amazon would have such a poor customer service.\"\n",
      "< \"@__sn__ hi , __unk__ . please dm us your tracking number and contact number via dm . ^ ds https://t.co/wkjhdxwgrq\"\n",
      "Epoch 1/1\n",
      "1000/1000 [==============================] - 95s 95ms/step - loss: 2.0474\n",
      "1000/1000 [==============================] - 6s 6ms/step\n",
      "Test results: 2.022499376296997\n",
      "> \"@AppleSupport I fix I this I stupid I problem I\"\n",
      "< \"@__sn__ we want to help . let's take this to dm and we'll explore ways to provide you assistance . https://t.co/gdrqu22ypt\"\n",
      "> \"@AmazonHelp I hadnt expected that such a big brand like amazon would have such a poor customer service.\"\n",
      "< \"@__sn__ hi there , i am sorry to hear this . please dm us your tracking number and contact number via the link so we can look into this for\"\n",
      "Epoch 1/1\n",
      "1000/1000 [==============================] - 95s 95ms/step - loss: 2.0622\n",
      "1000/1000 [==============================] - 6s 6ms/step\n",
      "Test results: 1.9363671741485595\n",
      "> \"@AppleSupport I fix I this I stupid I problem I\"\n",
      "< \"@__sn__ we want to help . let's take a look at this . dm us and tell us more about what's going on . https://t.co/gdrqu22ypt\"\n",
      "> \"@AmazonHelp I hadnt expected that such a big brand like amazon would have such a poor customer service.\"\n",
      "< \"@__sn__ hi , __unk__ . we are sorry to hear this . please dm us your email address and we'll take a look .\"\n",
      "Epoch 1/1\n",
      "1000/1000 [==============================] - 97s 97ms/step - loss: 2.0301\n",
      "1000/1000 [==============================] - 7s 7ms/step\n",
      "Test results: 1.984786644935608\n",
      "> \"@AppleSupport I fix I this I stupid I problem I\"\n",
      "< \"@__sn__ we want to help . which device is this occurring on ?\"\n",
      "> \"@AmazonHelp I hadnt expected that such a big brand like amazon would have such a poor customer service.\"\n",
      "< \"@__sn__ hi , __unk__ . we are sorry to hear about this . please dm us your email address and we'll reach out right away !\"\n",
      "Epoch 1/1\n",
      "1000/1000 [==============================] - 106s 106ms/step - loss: 2.0468\n",
      "1000/1000 [==============================] - 6s 6ms/step\n",
      "Test results: 1.984668553352356\n",
      "> \"@AppleSupport I fix I this I stupid I problem I\"\n",
      "< \"@__sn__ we want to help . which ios version are you using ?\"\n",
      "> \"@AmazonHelp I hadnt expected that such a big brand like amazon would have such a poor customer service.\"\n",
      "< \"@__sn__ hi , __unk__ . we are sorry to hear this . please dm us your email address and we'll reach out right away !\"\n",
      "Epoch 1/1\n",
      "1000/1000 [==============================] - 99s 99ms/step - loss: 2.0749\n",
      "1000/1000 [==============================] - 7s 7ms/step\n",
      "Test results: 1.981894468307495\n",
      "> \"@AppleSupport I fix I this I stupid I problem I\"\n",
      "< \"@__sn__ we want to help . dm us and let us know which device you're using . https://t.co/gdrqu22ypt\"\n",
      "> \"@AmazonHelp I hadnt expected that such a big brand like amazon would have such a poor customer service.\"\n",
      "< \"@__sn__ hi , we are sorry to hear this . please send us a dm with your paypal email address and a screenshot of the issue . thanks ! ^\"\n",
      "Epoch 1/1\n",
      "1000/1000 [==============================] - 102s 102ms/step - loss: 1.9803\n",
      "1000/1000 [==============================] - 7s 7ms/step\n",
      "Test results: 2.0501630516052245\n",
      "> \"@AppleSupport I fix I this I stupid I problem I\"\n",
      "< \"@__sn__ we want to help . which device are you using ?\"\n",
      "> \"@AmazonHelp I hadnt expected that such a big brand like amazon would have such a poor customer service.\"\n",
      "< \"@__sn__ hi , __unk__ . we are sorry to hear this . please dm us your contact info and store address . thanks !\"\n",
      "Epoch 1/1\n",
      "1000/1000 [==============================] - 105s 105ms/step - loss: 2.0841\n",
      "1000/1000 [==============================] - 6s 6ms/step\n",
      "Test results: 2.0509848585128783\n",
      "> \"@AppleSupport I fix I this I stupid I problem I\"\n",
      "< \"@__sn__ we want to help . which device are you using ?\"\n",
      "> \"@AmazonHelp I hadnt expected that such a big brand like amazon would have such a poor customer service.\"\n",
      "< \"@__sn__ hi there , we are sorry to hear this . please dm us your email address so we can connect .\"\n",
      "Epoch 1/1\n",
      "1000/1000 [==============================] - 97s 97ms/step - loss: 2.0660\n",
      "1000/1000 [==============================] - 6s 6ms/step\n",
      "Test results: 1.9614039516448976\n",
      "> \"@AppleSupport I fix I this I stupid I problem I\"\n",
      "< \"@__sn__ we'd like to help . which version of ios are you using ?\"\n",
      "> \"@AmazonHelp I hadnt expected that such a big brand like amazon would have such a poor customer service.\"\n",
      "< \"@__sn__ hi , __unk__ . we are sorry to hear this . please dm us your contact info and store address . thanks !\"\n",
      "Epoch 1/1\n",
      "1000/1000 [==============================] - 101s 101ms/step - loss: 2.0291\n",
      "1000/1000 [==============================] - 8s 8ms/step\n",
      "Test results: 1.957138563156128\n",
      "> \"@AppleSupport I fix I this I stupid I problem I\"\n",
      "< \"@__sn__ we'd like to help . which version of ios are you using ?\"\n",
      "> \"@AmazonHelp I hadnt expected that such a big brand like amazon would have such a poor customer service.\"\n",
      "< \"@__sn__ hi there , we are sorry to hear this . please dm us your contact info and store address . thanks !\"\n",
      "Halting after 21679.373366832733 seconds spent training.\n"
     ]
    }
   ],
   "source": [
    "training_time_limit = 360 * 60  # seconds (notebooks terminate after 1 hour)\n",
    "start_time = time.time()\n",
    "stop_after = start_time + training_time_limit\n",
    "\n",
    "class TimesUpInterrupt(Exception):\n",
    "    pass\n",
    "\n",
    "try:\n",
    "    for epoch in range(100):\n",
    "        print(f'Training in epoch {epoch}...')\n",
    "        for start_idx in range(0, len(train_x), SUB_BATCH_SIZE):\n",
    "            train_mini_epoch(s2s_model, start_idx, start_idx + SUB_BATCH_SIZE)\n",
    "            if time.time() > stop_after:\n",
    "                raise TimesUpInterrupt\n",
    "except KeyboardInterrupt:\n",
    "    print(\"Halting training from keyboard interrupt.\")\n",
    "except TimesUpInterrupt:\n",
    "    print(f\"Halting after {time.time() - start_time} seconds spent training.\")"
   ]
  },
  {
   "cell_type": "code",
   "execution_count": 60,
   "metadata": {
    "_cell_guid": "18a421a1-41d7-4c87-988d-74fa8dc85992",
    "_uuid": "8ebd6c01cd3a7e75810f9fc48b4d2ad913f9f410"
   },
   "outputs": [
    {
     "data": {
      "text/plain": [
       "\"@__sn__ we want to help . please send us a dm with your current ios version and we'll go from there . https://t.co/gdrqu22ypt\""
      ]
     },
     "execution_count": 60,
     "metadata": {},
     "output_type": "execute_result"
    }
   ],
   "source": [
    "respond_to(s2s_model, '''@AppleSupport iPhone 8 touchID doesnt unlock while charging on \n",
    "    110v w/ 61w laptop charger to usbc lightning cable just uh.. so you guys know''')"
   ]
  },
  {
   "cell_type": "code",
   "execution_count": 61,
   "metadata": {
    "_cell_guid": "eef56338-516e-46ed-94d5-6c7d21279d34",
    "_uuid": "e5f0a5acf6611334291cea8c3440c5dd3badf2f0"
   },
   "outputs": [
    {
     "data": {
      "text/plain": [
       "\"@__sn__ hi there ! we don't have any info on this right now , but we'll let our devs know it's something you'd like to see / nq\""
      ]
     },
     "execution_count": 61,
     "metadata": {},
     "output_type": "execute_result"
    }
   ],
   "source": [
    "respond_to(s2s_model, '''@sprintcare I can't make calls... wtf''')"
   ]
  },
  {
   "cell_type": "code",
   "execution_count": 62,
   "metadata": {},
   "outputs": [
    {
     "data": {
      "text/plain": [
       "\"@__sn__ hi there ! we don't have any info on this right now , but we'll let our devs know it's something you'd like to see / nq\""
      ]
     },
     "execution_count": 62,
     "metadata": {},
     "output_type": "execute_result"
    }
   ],
   "source": [
    "respond_to(s2s_model, '''''@sprintcare is the worst customer service''')"
   ]
  },
  {
   "cell_type": "code",
   "execution_count": 63,
   "metadata": {},
   "outputs": [
    {
     "data": {
      "text/plain": [
       "\"@__sn__ hi there ! we are sorry to hear about this . can you dm us your account's email address or username ? we'll take a look backstage / nq\""
      ]
     },
     "execution_count": 63,
     "metadata": {},
     "output_type": "execute_result"
    }
   ],
   "source": [
    "respond_to(s2s_model, '''''@VerizonSupport My friend is without internet we need to play videogames together please our skills diminish every moment without internet''')"
   ]
  },
  {
   "cell_type": "code",
   "execution_count": 64,
   "metadata": {},
   "outputs": [
    {
     "data": {
      "text/plain": [
       "\"@__sn__ hey there ! can you dm us your account's username or email address ? we'll take a look backstage / nq https://t.co/ldfdzrinat\""
      ]
     },
     "execution_count": 64,
     "metadata": {},
     "output_type": "execute_result"
    }
   ],
   "source": [
    "respond_to(s2s_model, '''@XboxSupport can I change me sons Xbox live account to his Hotmail account, currently linked to my Hotmail account''')"
   ]
  },
  {
   "cell_type": "code",
   "execution_count": 65,
   "metadata": {},
   "outputs": [
    {
     "data": {
      "text/plain": [
       "\"@__sn__ hi there ! we don't have any info on this right now , but we'll let our team know it's something you'd like to see / nq\""
      ]
     },
     "execution_count": 65,
     "metadata": {},
     "output_type": "execute_result"
    }
   ],
   "source": [
    "respond_to(s2s_model, \"\"\"@116297 Very disappointed in your service to me as a customer of many years.  Again issues with you your customer service department. They promise one thing and do another. I guess Fool me once, shame on you. Fool me twice, shame on me.\"\"\")"
   ]
  },
  {
   "cell_type": "code",
   "execution_count": 44,
   "metadata": {
    "_cell_guid": "1445794c-c26f-4dc9-a38e-90b98ee206cb",
    "_uuid": "f7e4303f8ee7d2def95c95b166b6fac8727217f5"
   },
   "outputs": [],
   "source": [
    "#s2s_model"
   ]
  },
  {
   "cell_type": "code",
   "execution_count": 45,
   "metadata": {},
   "outputs": [],
   "source": [
    "#os.getcwd()"
   ]
  },
  {
   "cell_type": "code",
   "execution_count": 13,
   "metadata": {},
   "outputs": [],
   "source": [
    "import h5py\n",
    "from keras.utils.vis_utils import plot_model"
   ]
  },
  {
   "cell_type": "code",
   "execution_count": 48,
   "metadata": {},
   "outputs": [],
   "source": [
    "s2s_model.save(\"../model/s2s_model.h5\")"
   ]
  },
  {
   "cell_type": "code",
   "execution_count": 52,
   "metadata": {},
   "outputs": [
    {
     "name": "stdout",
     "output_type": "stream",
     "text": [
      "Failed to import pydot. You must install pydot and graphviz for `pydotprint` to work.\n",
      "ERROR! Session/line number was not unique in database. History logging moved to new session 100\n"
     ]
    }
   ],
   "source": [
    "tf.keras.utils.plot_model(s2s_model)"
   ]
  },
  {
   "cell_type": "code",
   "execution_count": 50,
   "metadata": {},
   "outputs": [
    {
     "name": "stdout",
     "output_type": "stream",
     "text": [
      "Model: \"model_1\"\n",
      "__________________________________________________________________________________________________\n",
      "Layer (type)                    Output Shape         Param #     Connected to                     \n",
      "==================================================================================================\n",
      "last_word_input (InputLayer)    (None, 30)           0                                            \n",
      "__________________________________________________________________________________________________\n",
      "encoder_input (InputLayer)      (None, 30)           0                                            \n",
      "__________________________________________________________________________________________________\n",
      "embedding (Embedding)           (None, 30, 100)      819200      encoder_input[0][0]              \n",
      "                                                                 last_word_input[0][0]            \n",
      "__________________________________________________________________________________________________\n",
      "encoder (LSTM)                  (None, 100)          80400       embedding[0][0]                  \n",
      "__________________________________________________________________________________________________\n",
      "repeat_vector_1 (RepeatVector)  (None, 30, 100)      0           encoder[0][0]                    \n",
      "__________________________________________________________________________________________________\n",
      "concatenate_1 (Concatenate)     (None, 30, 200)      0           embedding[1][0]                  \n",
      "                                                                 repeat_vector_1[0][0]            \n",
      "__________________________________________________________________________________________________\n",
      "decoder (LSTM)                  (None, 30, 100)      120400      concatenate_1[0][0]              \n",
      "__________________________________________________________________________________________________\n",
      "next_word_dense (TimeDistribute (None, 30, 4096)     413696      decoder[0][0]                    \n",
      "__________________________________________________________________________________________________\n",
      "next_word_softmax (TimeDistribu (None, 30, 8192)     33562624    next_word_dense[0][0]            \n",
      "==================================================================================================\n",
      "Total params: 34,996,320\n",
      "Trainable params: 34,996,320\n",
      "Non-trainable params: 0\n",
      "__________________________________________________________________________________________________\n"
     ]
    }
   ],
   "source": [
    "s2s_model.summary()"
   ]
  },
  {
   "cell_type": "code",
   "execution_count": 6,
   "metadata": {},
   "outputs": [],
   "source": [
    "# keras.models.load_model(\n",
    "#     '../model/s2s_model.h5'\n",
    "# )"
   ]
  }
 ],
 "metadata": {
  "kernelspec": {
   "display_name": "temp_venv",
   "language": "python",
   "name": "temp_venv"
  },
  "language_info": {
   "codemirror_mode": {
    "name": "ipython",
    "version": 3
   },
   "file_extension": ".py",
   "mimetype": "text/x-python",
   "name": "python",
   "nbconvert_exporter": "python",
   "pygments_lexer": "ipython3",
   "version": "3.6.13"
  }
 },
 "nbformat": 4,
 "nbformat_minor": 1
}
