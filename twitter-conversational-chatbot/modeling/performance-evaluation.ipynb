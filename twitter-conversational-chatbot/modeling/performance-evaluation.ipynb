{
 "cells": [
  {
   "cell_type": "code",
   "execution_count": 2,
   "id": "7ba1c763",
   "metadata": {},
   "outputs": [
    {
     "name": "stdout",
     "output_type": "stream",
     "text": [
      "Library versions:\n",
      "keras:2.8.0\n",
      "pandas:1.3.4\n",
      "sklearn:0.24.2\n",
      "nltk:3.6.7\n",
      "numpy:1.20.3\n",
      "tensofrlow:2.8.0\n"
     ]
    },
    {
     "name": "stderr",
     "output_type": "stream",
     "text": [
      "[nltk_data] Downloading package punkt to\n",
      "[nltk_data]     C:\\Users\\JiatingChen\\AppData\\Roaming\\nltk_data...\n",
      "[nltk_data]   Package punkt is already up-to-date!\n"
     ]
    }
   ],
   "source": [
    "# import libraries\n",
    "# %matplotlib notebook\n",
    "# %matplotlib inline\n",
    "\n",
    "print('Library versions:')\n",
    "\n",
    "import keras\n",
    "print(f'keras:{keras.__version__}')\n",
    "import pandas as pd\n",
    "print(f'pandas:{pd.__version__}')\n",
    "import sklearn\n",
    "print(f'sklearn:{sklearn.__version__}')\n",
    "import nltk\n",
    "print(f'nltk:{nltk.__version__}')\n",
    "import numpy as np\n",
    "print(f'numpy:{np.__version__}')\n",
    "from nltk.corpus import stopwords\n",
    "from nltk.tokenize import word_tokenize\n",
    "#from nltk.stem import WordNetLemmatizer\n",
    "from nltk.tokenize import RegexpTokenizer\n",
    "nltk.download('punkt')\n",
    "import demoji\n",
    "import pickle\n",
    "import re\n",
    "import random\n",
    "import time\n",
    "from sklearn.feature_extraction.text import CountVectorizer\n",
    "from nltk.tokenize import casual_tokenize\n",
    "import tensorflow as tf\n",
    "print(f'tensofrlow:{tf.__version__}')\n",
    "\n",
    "import os\n",
    "os.getcwd()\n",
    "\n",
    "demoji.__version__\n",
    "with open(r'../data/Emoji_Dict.p', 'rb') as fp:\n",
    "    Emoji_Dict = pickle.load(fp)\n",
    "    Emoji_Dict = {v: k for k, v in Emoji_Dict.items()}\n",
    "    \n",
    "from tqdm.notebook import tqdm as tqdm\n",
    "from tqdm.notebook import tqdm\n",
    "tqdm.pandas()\n",
    "\n",
    "import pickle\n",
    "\n",
    "from nltk.translate.meteor_score import meteor_score as meteor_score\n",
    "from rouge import Rouge\n",
    "import nltk.translate.bleu_score as bleu"
   ]
  },
  {
   "cell_type": "code",
   "execution_count": 3,
   "id": "1d2aca9c",
   "metadata": {},
   "outputs": [],
   "source": [
    "def get_random():\n",
    "    random.seed(102)\n",
    "    x = [random.randint(0, 23829) for i in range(0, 2383)]\n",
    "    return x\n",
    "index = get_random()"
   ]
  },
  {
   "cell_type": "code",
   "execution_count": 4,
   "id": "a3911e7e",
   "metadata": {},
   "outputs": [],
   "source": [
    "with open('../data/testing_data.pickle', 'rb') as handle:\n",
    "    testing_data = pickle.load(handle)"
   ]
  },
  {
   "cell_type": "code",
   "execution_count": 5,
   "id": "eb249bb8",
   "metadata": {},
   "outputs": [],
   "source": [
    "mini_reference_x = testing_data.iloc[index]"
   ]
  },
  {
   "cell_type": "code",
   "execution_count": 6,
   "id": "db9d9d24",
   "metadata": {
    "scrolled": true
   },
   "outputs": [
    {
     "data": {
      "text/html": [
       "<div>\n",
       "<style scoped>\n",
       "    .dataframe tbody tr th:only-of-type {\n",
       "        vertical-align: middle;\n",
       "    }\n",
       "\n",
       "    .dataframe tbody tr th {\n",
       "        vertical-align: top;\n",
       "    }\n",
       "\n",
       "    .dataframe thead th {\n",
       "        text-align: right;\n",
       "    }\n",
       "</style>\n",
       "<table border=\"1\" class=\"dataframe\">\n",
       "  <thead>\n",
       "    <tr style=\"text-align: right;\">\n",
       "      <th></th>\n",
       "      <th>text_x</th>\n",
       "      <th>text_y</th>\n",
       "    </tr>\n",
       "  </thead>\n",
       "  <tbody>\n",
       "    <tr>\n",
       "      <th>437015</th>\n",
       "      <td>@__sn__ iPhone x update please  smiling_face_...</td>\n",
       "      <td>@__sn__ Hi Sergio! We're afraid we don't have...</td>\n",
       "    </tr>\n",
       "    <tr>\n",
       "      <th>662096</th>\n",
       "      <td>@AppleSupport y’all wanna tell me why my batte...</td>\n",
       "      <td>@__sn__ Thanks for reaching out. We're here t...</td>\n",
       "    </tr>\n",
       "    <tr>\n",
       "      <th>216367</th>\n",
       "      <td>@__sn__ is a very honest company and keeps to...</td>\n",
       "      <td>@__sn__ Thanks for the kind words, Zachary. Y...</td>\n",
       "    </tr>\n",
       "    <tr>\n",
       "      <th>44128</th>\n",
       "      <td>@__sn__ still won’t let me be great I️ &amp;lt;--...</td>\n",
       "      <td>@__sn__ We hear you and we want to help. Send...</td>\n",
       "    </tr>\n",
       "    <tr>\n",
       "      <th>716846</th>\n",
       "      <td>@AppleSupport I don’t remember my password for...</td>\n",
       "      <td>@__sn__ We can help. Check out this article f...</td>\n",
       "    </tr>\n",
       "    <tr>\n",
       "      <th>...</th>\n",
       "      <td>...</td>\n",
       "      <td>...</td>\n",
       "    </tr>\n",
       "    <tr>\n",
       "      <th>790654</th>\n",
       "      <td>Gracias Paula Correa Navia por atender a bordo...</td>\n",
       "      <td>@__sn__ Our go-to Paula is back at it again! ...</td>\n",
       "    </tr>\n",
       "    <tr>\n",
       "      <th>470490</th>\n",
       "      <td>@__sn__ DISGUSTING even after paying extra di...</td>\n",
       "      <td>@__sn__ I'm sorry about the delay in the deli...</td>\n",
       "    </tr>\n",
       "    <tr>\n",
       "      <th>729821</th>\n",
       "      <td>The Christmas section on the @__sn__ website i...</td>\n",
       "      <td>@__sn__ Our apologies. Are you receiving any ...</td>\n",
       "    </tr>\n",
       "    <tr>\n",
       "      <th>269858</th>\n",
       "      <td>@AirAsiaSupport Hi. Please change the title to...</td>\n",
       "      <td>@__sn__ Hi There, title correction done. Plea...</td>\n",
       "    </tr>\n",
       "    <tr>\n",
       "      <th>522437</th>\n",
       "      <td>@__sn__ @__sn__ is drunk!!! \\nShowing a  pic ...</td>\n",
       "      <td>@__sn__ Thanks for flagging this. I'll forwar...</td>\n",
       "    </tr>\n",
       "  </tbody>\n",
       "</table>\n",
       "<p>2383 rows × 2 columns</p>\n",
       "</div>"
      ],
      "text/plain": [
       "                                                   text_x  \\\n",
       "437015   @__sn__ iPhone x update please  smiling_face_...   \n",
       "662096  @AppleSupport y’all wanna tell me why my batte...   \n",
       "216367   @__sn__ is a very honest company and keeps to...   \n",
       "44128    @__sn__ still won’t let me be great I️ &lt;--...   \n",
       "716846  @AppleSupport I don’t remember my password for...   \n",
       "...                                                   ...   \n",
       "790654  Gracias Paula Correa Navia por atender a bordo...   \n",
       "470490   @__sn__ DISGUSTING even after paying extra di...   \n",
       "729821  The Christmas section on the @__sn__ website i...   \n",
       "269858  @AirAsiaSupport Hi. Please change the title to...   \n",
       "522437   @__sn__ @__sn__ is drunk!!! \\nShowing a  pic ...   \n",
       "\n",
       "                                                   text_y  \n",
       "437015   @__sn__ Hi Sergio! We're afraid we don't have...  \n",
       "662096   @__sn__ Thanks for reaching out. We're here t...  \n",
       "216367   @__sn__ Thanks for the kind words, Zachary. Y...  \n",
       "44128    @__sn__ We hear you and we want to help. Send...  \n",
       "716846   @__sn__ We can help. Check out this article f...  \n",
       "...                                                   ...  \n",
       "790654   @__sn__ Our go-to Paula is back at it again! ...  \n",
       "470490   @__sn__ I'm sorry about the delay in the deli...  \n",
       "729821   @__sn__ Our apologies. Are you receiving any ...  \n",
       "269858   @__sn__ Hi There, title correction done. Plea...  \n",
       "522437   @__sn__ Thanks for flagging this. I'll forwar...  \n",
       "\n",
       "[2383 rows x 2 columns]"
      ]
     },
     "execution_count": 6,
     "metadata": {},
     "output_type": "execute_result"
    }
   ],
   "source": [
    "mini_reference_x"
   ]
  },
  {
   "cell_type": "code",
   "execution_count": 7,
   "id": "bdbf6b00",
   "metadata": {},
   "outputs": [],
   "source": [
    "with open('../data/mini_reference_y.pickle', 'rb') as handle:\n",
    "    mini_reference_y = pickle.load(handle)"
   ]
  },
  {
   "cell_type": "code",
   "execution_count": 8,
   "id": "fa505c00",
   "metadata": {},
   "outputs": [
    {
     "data": {
      "text/plain": [
       "2383"
      ]
     },
     "execution_count": 8,
     "metadata": {},
     "output_type": "execute_result"
    }
   ],
   "source": [
    "len(mini_reference_y)"
   ]
  },
  {
   "cell_type": "code",
   "execution_count": 9,
   "id": "d5fc27da",
   "metadata": {},
   "outputs": [],
   "source": [
    "with open('../data/mini_pred_x.pickle', 'rb') as handle:\n",
    "    mini_pred_x = pickle.load(handle)"
   ]
  },
  {
   "cell_type": "code",
   "execution_count": 10,
   "id": "c0b78de5",
   "metadata": {},
   "outputs": [],
   "source": [
    "mini_pred_y = mini_pred_x"
   ]
  },
  {
   "cell_type": "code",
   "execution_count": 11,
   "id": "70480b6e",
   "metadata": {},
   "outputs": [
    {
     "data": {
      "text/plain": [
       "2383"
      ]
     },
     "execution_count": 11,
     "metadata": {},
     "output_type": "execute_result"
    }
   ],
   "source": [
    "len(mini_pred_y)"
   ]
  },
  {
   "cell_type": "code",
   "execution_count": 12,
   "id": "e088183e",
   "metadata": {},
   "outputs": [],
   "source": [
    "with open('../data/bert_score.pickle', 'rb') as handle:\n",
    "    bert_score = pickle.load(handle)"
   ]
  },
  {
   "cell_type": "code",
   "execution_count": 13,
   "id": "ce2ebb7a",
   "metadata": {},
   "outputs": [
    {
     "data": {
      "text/plain": [
       "2383"
      ]
     },
     "execution_count": 13,
     "metadata": {},
     "output_type": "execute_result"
    }
   ],
   "source": [
    "len(bert_score)"
   ]
  },
  {
   "cell_type": "code",
   "execution_count": null,
   "id": "afa9a675",
   "metadata": {},
   "outputs": [],
   "source": [
    "# bleu"
   ]
  },
  {
   "cell_type": "code",
   "execution_count": null,
   "id": "9a6f3cf7",
   "metadata": {},
   "outputs": [],
   "source": [
    "# def get_rouge_score(cand, ref):\n",
    "#     rouge = Rouge()\n",
    "#     return rouge.get_scores(cand, ref)\n",
    "\n",
    "# def get_bleu_score(cand, ref):\n",
    "#     return bleu.sentence_bleu([cand], ref)\n",
    "\n",
    "# bleu_score = []\n",
    "# for i in range(0, len(mini_pred_x)):\n",
    "#     x = mini_pred_x[i]\n",
    "#     y = mini_reference_y[i]\n",
    "#     bleu_score.append(get_bleu_score(x, y))\n",
    "    \n",
    "# rouge_score = []\n",
    "# for i in range(0, len(mini_pred_x)):\n",
    "#     x = mini_pred_x[i]\n",
    "#     y = mini_reference_y[i]\n",
    "#     rouge_score.append(get_rouge_score(x, y))"
   ]
  },
  {
   "cell_type": "markdown",
   "id": "61de07a1",
   "metadata": {},
   "source": [
    "## high bert, but low bleu"
   ]
  },
  {
   "cell_type": "code",
   "execution_count": 14,
   "id": "625f0757",
   "metadata": {},
   "outputs": [
    {
     "data": {
      "text/plain": [
       "text_x    @AskLyft uhh, is this normal pay per ride? I f...\n",
       "text_y     @__sn__ Hey, can you DM us your phone number?...\n",
       "Name: 135009, dtype: object"
      ]
     },
     "execution_count": 14,
     "metadata": {},
     "output_type": "execute_result"
    }
   ],
   "source": [
    "testing_data.iloc[19146] #training_x, training_y"
   ]
  },
  {
   "cell_type": "code",
   "execution_count": 24,
   "id": "3bcfd38e",
   "metadata": {},
   "outputs": [
    {
     "data": {
      "text/plain": [
       "['@AskLyft uhh, is this normal pay per ride? I feel robbed. __URL__',\n",
       " ' @__sn__ Hey, can you DM us your phone number? __URL__']"
      ]
     },
     "execution_count": 24,
     "metadata": {},
     "output_type": "execute_result"
    }
   ],
   "source": [
    "testing_data.iloc[19146].tolist()"
   ]
  },
  {
   "cell_type": "code",
   "execution_count": 45,
   "id": "ff362a34",
   "metadata": {},
   "outputs": [
    {
     "name": "stdout",
     "output_type": "stream",
     "text": [
      "558\n"
     ]
    }
   ],
   "source": [
    "for idx, vle in enumerate(index):\n",
    "    if vle == 19146:\n",
    "        print(idx)"
   ]
  },
  {
   "cell_type": "code",
   "execution_count": 46,
   "id": "e1d8b0b6",
   "metadata": {},
   "outputs": [
    {
     "data": {
      "text/plain": [
       "' @__sn__ Hey, can you DM us your phone number? __URL__'"
      ]
     },
     "execution_count": 46,
     "metadata": {},
     "output_type": "execute_result"
    }
   ],
   "source": [
    "mini_reference_y[558]"
   ]
  },
  {
   "cell_type": "code",
   "execution_count": 47,
   "id": "7897b68d",
   "metadata": {},
   "outputs": [
    {
     "data": {
      "text/plain": [
       "'@__sn__ hi there ! we are sorry to hear about this . can you please dm us the phone number associated with your account ? __url__'"
      ]
     },
     "execution_count": 47,
     "metadata": {},
     "output_type": "execute_result"
    }
   ],
   "source": [
    "mini_pred_y[558] #high bert, but low bleu"
   ]
  },
  {
   "cell_type": "markdown",
   "id": "e2f145a6",
   "metadata": {},
   "source": [
    "## high bert, low rouge example #1"
   ]
  },
  {
   "cell_type": "code",
   "execution_count": 25,
   "id": "2aaed17b",
   "metadata": {},
   "outputs": [
    {
     "data": {
      "text/plain": [
       "['Nothing like pulling a big piece of shrink wrap out of my mouth while trying to enjoy my @ChipotleTweets queso... completely gagged. :( __URL__',\n",
       " \" @__sn__ That's troubling to hear. Please contact __URL__ so we can investigate. -James\"]"
      ]
     },
     "execution_count": 25,
     "metadata": {},
     "output_type": "execute_result"
    }
   ],
   "source": [
    "testing_data.iloc[534].tolist() #training_x, training_y"
   ]
  },
  {
   "cell_type": "code",
   "execution_count": 48,
   "id": "17a0b8c2",
   "metadata": {
    "scrolled": true
   },
   "outputs": [
    {
     "name": "stdout",
     "output_type": "stream",
     "text": [
      "747\n"
     ]
    }
   ],
   "source": [
    "for idx, vle in enumerate(index):\n",
    "    if vle == 534:\n",
    "        print(idx)"
   ]
  },
  {
   "cell_type": "code",
   "execution_count": 49,
   "id": "94132bf0",
   "metadata": {},
   "outputs": [
    {
     "data": {
      "text/plain": [
       "\" @__sn__ That's troubling to hear. Please contact __URL__ so we can investigate. -James\""
      ]
     },
     "execution_count": 49,
     "metadata": {},
     "output_type": "execute_result"
    }
   ],
   "source": [
    "mini_reference_y[747] #high bert, low rouge"
   ]
  },
  {
   "cell_type": "code",
   "execution_count": 50,
   "id": "0c064f7a",
   "metadata": {},
   "outputs": [
    {
     "data": {
      "text/plain": [
       "\"@__sn__ that's concerning . please write us at __url__ - tay\""
      ]
     },
     "execution_count": 50,
     "metadata": {},
     "output_type": "execute_result"
    }
   ],
   "source": [
    "mini_pred_y[747]"
   ]
  },
  {
   "cell_type": "markdown",
   "id": "c02a1cc1",
   "metadata": {},
   "source": [
    "## high bert, low rouge example #2"
   ]
  },
  {
   "cell_type": "code",
   "execution_count": 51,
   "id": "5d4a1940",
   "metadata": {},
   "outputs": [
    {
     "name": "stdout",
     "output_type": "stream",
     "text": [
      "2132\n"
     ]
    }
   ],
   "source": [
    "for idx, vle in enumerate(index):\n",
    "    if vle == 5728:\n",
    "        print(idx)"
   ]
  },
  {
   "cell_type": "code",
   "execution_count": 55,
   "id": "de001e5d",
   "metadata": {},
   "outputs": [
    {
     "data": {
      "text/plain": [
       "text_x    Hey @ChipotleTweets @__sn__ can you please mak...\n",
       "text_y     @__sn__ Oh no! I'm so sorry this happened. Pl...\n",
       "Name: 183891, dtype: object"
      ]
     },
     "execution_count": 55,
     "metadata": {},
     "output_type": "execute_result"
    }
   ],
   "source": [
    "testing_data.iloc[5728] #training_x, training_y"
   ]
  },
  {
   "cell_type": "code",
   "execution_count": 52,
   "id": "ffd0ac35",
   "metadata": {},
   "outputs": [
    {
     "data": {
      "text/plain": [
       "\" @__sn__ Oh no! I'm so sorry this happened. Please share the details at __URL__ -Tay\""
      ]
     },
     "execution_count": 52,
     "metadata": {},
     "output_type": "execute_result"
    }
   ],
   "source": [
    "mini_reference_y[2132] #high bert, low rouge"
   ]
  },
  {
   "cell_type": "code",
   "execution_count": 53,
   "id": "a1981d6f",
   "metadata": {},
   "outputs": [
    {
     "data": {
      "text/plain": [
       "\"@__sn__ that's concerning . please write us at __url__ - tay\""
      ]
     },
     "execution_count": 53,
     "metadata": {},
     "output_type": "execute_result"
    }
   ],
   "source": [
    "mini_pred_y[2132] #high bert, low rouge"
   ]
  },
  {
   "cell_type": "code",
   "execution_count": null,
   "id": "c2ee935d",
   "metadata": {},
   "outputs": [],
   "source": [
    "## high bert, low rouge example #2"
   ]
  },
  {
   "cell_type": "code",
   "execution_count": 57,
   "id": "503b4cfa",
   "metadata": {},
   "outputs": [
    {
     "name": "stdout",
     "output_type": "stream",
     "text": [
      "259\n"
     ]
    }
   ],
   "source": [
    "for idx, vle in enumerate(index):\n",
    "    if vle == 11742:\n",
    "        print(idx)"
   ]
  },
  {
   "cell_type": "code",
   "execution_count": 58,
   "id": "00c3c9a6",
   "metadata": {},
   "outputs": [
    {
     "data": {
      "text/plain": [
       "text_x    Well chipotle made me sick  face_with_tears_of...\n",
       "text_y     @__sn__ This is concerning. Please reach out ...\n",
       "Name: 132977, dtype: object"
      ]
     },
     "execution_count": 58,
     "metadata": {},
     "output_type": "execute_result"
    }
   ],
   "source": [
    "testing_data.iloc[11742] #training_x, training_y"
   ]
  },
  {
   "cell_type": "code",
   "execution_count": 59,
   "id": "7df434cf",
   "metadata": {},
   "outputs": [
    {
     "data": {
      "text/plain": [
       "' @__sn__ This is concerning. Please reach out to our team here:  __URL__ -Tara'"
      ]
     },
     "execution_count": 59,
     "metadata": {},
     "output_type": "execute_result"
    }
   ],
   "source": [
    "mini_reference_y[259] #high bert, low rouge"
   ]
  },
  {
   "cell_type": "code",
   "execution_count": 60,
   "id": "f49ff536",
   "metadata": {},
   "outputs": [
    {
     "data": {
      "text/plain": [
       "\"@__sn__ that's concerning . please write us at __url__ - gabe\""
      ]
     },
     "execution_count": 60,
     "metadata": {},
     "output_type": "execute_result"
    }
   ],
   "source": [
    "mini_pred_y[259] #high bert, low rouge"
   ]
  },
  {
   "cell_type": "markdown",
   "id": "25bc49cc",
   "metadata": {},
   "source": [
    "# other examples (doing okay if its not very specific info)"
   ]
  },
  {
   "cell_type": "code",
   "execution_count": 70,
   "id": "c1cfedef",
   "metadata": {
    "scrolled": true
   },
   "outputs": [
    {
     "name": "stdout",
     "output_type": "stream",
     "text": [
      "876\n"
     ]
    }
   ],
   "source": [
    "for idx, vle in enumerate(index):\n",
    "    if vle == 162:\n",
    "        print(idx)"
   ]
  },
  {
   "cell_type": "code",
   "execution_count": 71,
   "id": "2d713694",
   "metadata": {},
   "outputs": [
    {
     "data": {
      "text/plain": [
       "\" @__sn__ Hi! Please send me a DM with your account email address, country of residence, and any applicable screenshots. I'm happy to help. :) ^JMR\""
      ]
     },
     "execution_count": 71,
     "metadata": {},
     "output_type": "execute_result"
    }
   ],
   "source": [
    "mini_reference_y[876] #1"
   ]
  },
  {
   "cell_type": "code",
   "execution_count": 72,
   "id": "ad2c5b3f",
   "metadata": {},
   "outputs": [
    {
     "data": {
      "text/plain": [
       "'@__sn__ hi there , thanks for reaching out to us . please send us a dm with your paypal email address and a screenshot of the transaction . ^ ds'"
      ]
     },
     "execution_count": 72,
     "metadata": {},
     "output_type": "execute_result"
    }
   ],
   "source": [
    "mini_pred_y[876] #1"
   ]
  },
  {
   "cell_type": "code",
   "execution_count": 73,
   "id": "7cf285f2",
   "metadata": {},
   "outputs": [
    {
     "name": "stdout",
     "output_type": "stream",
     "text": [
      "640\n"
     ]
    }
   ],
   "source": [
    "for idx, vle in enumerate(index):\n",
    "    if vle == 185:\n",
    "        print(idx)"
   ]
  },
  {
   "cell_type": "code",
   "execution_count": 27,
   "id": "390678db",
   "metadata": {},
   "outputs": [
    {
     "data": {
      "text/plain": [
       "[\"@British_Airways I am planning to book an internal flight from Heathrow to Glasgow, but one of my party's passport has expired. Can she use her driving licence instead? Will it be a problem checking in?\",\n",
       " \" @__sn__ Hi Katherine, If you are flying solely within the UK, including Northern Ireland, you don't need a passport but we advise that you carry photographic identification with you when travelling. ^Helen\"]"
      ]
     },
     "execution_count": 27,
     "metadata": {},
     "output_type": "execute_result"
    }
   ],
   "source": [
    "testing_data.iloc[185].tolist()"
   ]
  },
  {
   "cell_type": "code",
   "execution_count": 74,
   "id": "ca3ecdd8",
   "metadata": {},
   "outputs": [
    {
     "data": {
      "text/plain": [
       "\" @__sn__ Hi Katherine, If you are flying solely within the UK, including Northern Ireland, you don't need a passport but we advise that you carry photographic identification with you when travelling. ^Helen\""
      ]
     },
     "execution_count": 74,
     "metadata": {},
     "output_type": "execute_result"
    }
   ],
   "source": [
    "mini_reference_y[640] #bert: 0.4249 "
   ]
  },
  {
   "cell_type": "code",
   "execution_count": 28,
   "id": "ffe644a1",
   "metadata": {},
   "outputs": [
    {
     "data": {
      "text/plain": [
       "'@__sn__ hi __unk__ , we are not able to assist you with this . please dm your booking reference , email address and contact number . thanks . ^ __unk__'"
      ]
     },
     "execution_count": 28,
     "metadata": {},
     "output_type": "execute_result"
    }
   ],
   "source": [
    "mini_pred_y[640] #1"
   ]
  },
  {
   "cell_type": "code",
   "execution_count": 76,
   "id": "9f7ba3f9",
   "metadata": {},
   "outputs": [
    {
     "name": "stdout",
     "output_type": "stream",
     "text": [
      "2361\n"
     ]
    }
   ],
   "source": [
    "for idx, vle in enumerate(index):\n",
    "    if vle == 4006:\n",
    "        print(idx)"
   ]
  },
  {
   "cell_type": "code",
   "execution_count": 77,
   "id": "ff5b7419",
   "metadata": {},
   "outputs": [
    {
     "data": {
      "text/plain": [
       "' @__sn__ I am sorry for the poor experience. Can you please DM/PM the full service address and name on the account, as we ... __URL__'"
      ]
     },
     "execution_count": 77,
     "metadata": {},
     "output_type": "execute_result"
    }
   ],
   "source": [
    "mini_reference_y[2361] #bert: 0.4249 "
   ]
  },
  {
   "cell_type": "code",
   "execution_count": 79,
   "id": "1bbfffd1",
   "metadata": {},
   "outputs": [
    {
     "data": {
      "text/plain": [
       "'@__sn__ i am sorry to hear that . please dm your full address and phone number so we can look into this for you . ^ ls'"
      ]
     },
     "execution_count": 79,
     "metadata": {},
     "output_type": "execute_result"
    }
   ],
   "source": [
    "mini_pred_y[2361] #bert: 0.4249 "
   ]
  },
  {
   "cell_type": "markdown",
   "id": "61213332",
   "metadata": {},
   "source": [
    "# other examples (doing poorly because it talks about very specific info)"
   ]
  },
  {
   "cell_type": "code",
   "execution_count": null,
   "id": "f145889e",
   "metadata": {},
   "outputs": [],
   "source": [
    "22073 #other languages\n"
   ]
  }
 ],
 "metadata": {
  "kernelspec": {
   "display_name": "chatbot_venv_testing2",
   "language": "python",
   "name": "chatbot_venv_testing2"
  },
  "language_info": {
   "codemirror_mode": {
    "name": "ipython",
    "version": 3
   },
   "file_extension": ".py",
   "mimetype": "text/x-python",
   "name": "python",
   "nbconvert_exporter": "python",
   "pygments_lexer": "ipython3",
   "version": "3.9.7"
  }
 },
 "nbformat": 4,
 "nbformat_minor": 5
}
