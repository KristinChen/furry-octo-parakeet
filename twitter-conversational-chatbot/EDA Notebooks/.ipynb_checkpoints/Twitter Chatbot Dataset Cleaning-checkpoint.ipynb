{
 "cells": [
  {
   "cell_type": "code",
   "execution_count": 1,
   "metadata": {},
   "outputs": [],
   "source": [
    "#import libraries\n",
    "import pandas as pd\n",
    "import numpy as np\n",
    "import nltk\n",
    "#from nltk.corpus import stopwords\n",
    "from nltk.tokenize import word_tokenize\n",
    "#from nltk.stem import WordNetLemmatizer\n",
    "from nltk.tokenize import RegexpTokenizer\n",
    "import demoji\n",
    "import pickle\n",
    "import re\n",
    "from sklearn.model_selection import train_test_split"
   ]
  },
  {
   "cell_type": "code",
   "execution_count": 2,
   "metadata": {},
   "outputs": [],
   "source": [
    "nltk.download('punkt')"
   ]
  },
  {
   "cell_type": "code",
   "execution_count": 3,
   "metadata": {},
   "outputs": [],
   "source": [
    "%%time\n",
    "tweets_complete = pd.read_table('conv_all.txt',sep=',')"
   ]
  },
  {
   "cell_type": "code",
   "execution_count": 4,
   "metadata": {},
   "outputs": [],
   "source": [
    "tweets_complete.shape"
   ]
  },
  {
   "cell_type": "code",
   "execution_count": 5,
   "metadata": {},
   "outputs": [],
   "source": [
    "tweets_complete[0:2]"
   ]
  },
  {
   "cell_type": "markdown",
   "metadata": {},
   "source": [
    "## Data Preprocessing"
   ]
  },
  {
   "cell_type": "code",
   "execution_count": 6,
   "metadata": {},
   "outputs": [],
   "source": [
    "tweets = tweets_complete"
   ]
  },
  {
   "cell_type": "code",
   "execution_count": 7,
   "metadata": {},
   "outputs": [],
   "source": [
    "with open(r'C:\\Users\\AishwaryaBhangale\\Documents\\GitHub\\nlp-coe\\twitter-conversational-chatbot\\Emoji_Dict.p', 'rb') as fp:\n",
    "    Emoji_Dict = pickle.load(fp)\n",
    "Emoji_Dict = {v: k for k, v in Emoji_Dict.items()}\n",
    "\n",
    "def convert_emojis_to_word(text):\n",
    "    for emot in Emoji_Dict:\n",
    "        text = re.sub(r'(' +emot+ ')', \"\".join(Emoji_Dict[emot].replace(\":\",\" \")),text)\n",
    "    return text\n",
    "\n",
    "def remove_URL(text):\n",
    "    return re.sub(r\"http\\S+\", \"HTTPS_URL\", str(text))\n",
    "\n",
    "def sn_replace(match):\n",
    "    _sn = match.group(2).lower()\n",
    "    if not _sn.isnumeric():\n",
    "        # This is a company screen name\n",
    "        return match.group(1) + match.group(2)\n",
    "    return ' @__sn__'\n",
    "\n"
   ]
  },
  {
   "cell_type": "code",
   "execution_count": null,
   "metadata": {},
   "outputs": [],
   "source": [
    "#Define stop words\n",
    "#stop_words = set(stopwords.words('english'))\n",
    "#define special characters list\n",
    "#special_characters = ['!','#','$','%', '&','@','[',']',' ',']','_']\n",
    "\n",
    "tweets['text_x_clean'] = \"\"\n",
    "tweets['text_y_clean'] = \"\"\n",
    "\n",
    "for i in range(len(tweets)):\n",
    "\n",
    "    #################################################################################################################\n",
    "    \n",
    "    \n",
    "    \n",
    "    tweets['text_x_clean'][i] = tweets['text_x'][i].lower()\n",
    "    \n",
    "    #Conversion of Emojis to Text\n",
    "    tweets['text_x_clean'][i] = convert_emojis_to_word(tweets['text_x_clean'][i])\n",
    "    \n",
    "    #Removal of URLS\n",
    "    pattern=r'(?i)\\b((?:[a-z][\\w-]+:(?:/{1,3}|[a-z0-9%])|www\\d{0,3}[.]|[a-z0-9.\\-]+[.][a-z]{2,4}/)(?:[^\\s()<>]+|\\(([^\\s()<>]+|(\\([^\\s()<>]+\\)))*\\))+(?:\\(([^\\s()<>]+|(\\([^\\s()<>]+\\)))*\\)|[^\\s`!()\\[\\]{};:\\'\".,<>?«»“”‘’]))';\n",
    "    match = re.findall(pattern, tweets['text_x_clean'][i])\n",
    "    for m in match:\n",
    "        url = m[0]\n",
    "        tweets['text_x_clean'][i] = tweets['text_x_clean'][i].replace(url, 'URL')\n",
    "    \n",
    "    #Removal of HTTPS with HTTPS_URL\n",
    "    tweets['text_x_clean'][i] = remove_URL(tweets['text_x_clean'][i])\n",
    "    \n",
    "    #Replacing with _sn_\n",
    "    sn_re = re.compile('(\\W@|^@)([a-zA-Z0-9_]+)')\n",
    "    tweets['text_x_clean'][i] =  sn_re.sub(sn_replace, tweets['text_x_clean'][i])\n",
    "    \n",
    "    #print(tweets['text_x_clean'][i])\n",
    "    #################################################################################################################\n",
    "    \n",
    "    tweets['text_y_clean'][i] = tweets['text_y'][i].lower()\n",
    "    \n",
    "    #Conversion of Emojis to Text\n",
    "    tweets['text_y_clean'][i] = convert_emojis_to_word(tweets['text_y_clean'][i])\n",
    "    \n",
    "    #Replacement of url string with keyword URL\n",
    "    pattern=r'(?i)\\b((?:[a-z][\\w-]+:(?:/{1,3}|[a-z0-9%])|www\\d{0,3}[.]|[a-z0-9.\\-]+[.][a-z]{2,4}/)(?:[^\\s()<>]+|\\(([^\\s()<>]+|(\\([^\\s()<>]+\\)))*\\))+(?:\\(([^\\s()<>]+|(\\([^\\s()<>]+\\)))*\\)|[^\\s`!()\\[\\]{};:\\'\".,<>?«»“”‘’]))';\n",
    "    match = re.findall(pattern, tweets['text_y_clean'][i])\n",
    "    for m in match:\n",
    "        url = m[0]\n",
    "        tweets['text_y_clean'][i] = tweets['text_y_clean'][i].replace(url, 'URL')\n",
    "    \n",
    "    #Replacement of HTTPS\n",
    "    tweets['text_y_clean'][i] = remove_URL(tweets['text_y_clean'][i])\n",
    "\n",
    "    #Replacing with _sn_\n",
    "    sn_re = re.compile('(\\W@|^@)([a-zA-Z0-9_]+)')\n",
    "    tweets['text_y_clean'][i] =  sn_re.sub(sn_replace, tweets['text_y_clean'][i])    \n",
    "    \n",
    "    #print(tweets['text_y_clean'][i])\n",
    "\n",
    "    #################################################################################################################\n",
    "    "
   ]
  },
  {
   "cell_type": "code",
   "execution_count": null,
   "metadata": {},
   "outputs": [],
   "source": [
    "#Split into train and test\n",
    "x_train, x_test, y_train, y_test = train_test_split(tweets['text_x_clean'], tweets['text_y_clean'], test_size=0.25, random_state=11)\n"
   ]
  },
  {
   "cell_type": "code",
   "execution_count": null,
   "metadata": {},
   "outputs": [],
   "source": [
    "x_train.head()"
   ]
  },
  {
   "cell_type": "code",
   "execution_count": null,
   "metadata": {},
   "outputs": [],
   "source": [
    "x_train.shape"
   ]
  },
  {
   "cell_type": "code",
   "execution_count": null,
   "metadata": {},
   "outputs": [],
   "source": [
    "x_test.shape"
   ]
  },
  {
   "cell_type": "code",
   "execution_count": null,
   "metadata": {},
   "outputs": [],
   "source": []
  }
 ],
 "metadata": {
  "kernelspec": {
   "display_name": "Python 3",
   "language": "python",
   "name": "python3"
  },
  "language_info": {
   "codemirror_mode": {
    "name": "ipython",
    "version": 3
   },
   "file_extension": ".py",
   "mimetype": "text/x-python",
   "name": "python",
   "nbconvert_exporter": "python",
   "pygments_lexer": "ipython3",
   "version": "3.8.5"
  }
 },
 "nbformat": 4,
 "nbformat_minor": 4
}
