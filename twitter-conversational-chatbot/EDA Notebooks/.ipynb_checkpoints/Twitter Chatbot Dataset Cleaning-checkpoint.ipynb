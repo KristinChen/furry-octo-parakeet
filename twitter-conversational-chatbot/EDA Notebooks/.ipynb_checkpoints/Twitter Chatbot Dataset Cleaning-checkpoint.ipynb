{
 "cells": [
  {
   "cell_type": "code",
   "execution_count": 26,
   "metadata": {},
   "outputs": [],
   "source": [
    "#import libraries\n",
    "import pandas as pd\n",
    "import numpy as np\n",
    "import nltk\n",
    "from nltk.corpus import stopwords\n",
    "from nltk.tokenize import word_tokenize\n",
    "from nltk.stem import WordNetLemmatizer"
   ]
  },
  {
   "cell_type": "code",
   "execution_count": 21,
   "metadata": {},
   "outputs": [
    {
     "name": "stderr",
     "output_type": "stream",
     "text": [
      "[nltk_data] Downloading package punkt to\n",
      "[nltk_data]     C:\\Users\\AishwaryaBhangale\\AppData\\Roaming\\nltk_data..\n",
      "[nltk_data]     .\n",
      "[nltk_data]   Unzipping tokenizers\\punkt.zip.\n"
     ]
    },
    {
     "data": {
      "text/plain": [
       "True"
      ]
     },
     "execution_count": 21,
     "metadata": {},
     "output_type": "execute_result"
    }
   ],
   "source": [
    "nltk.download('punkt')"
   ]
  },
  {
   "cell_type": "code",
   "execution_count": 44,
   "metadata": {},
   "outputs": [
    {
     "name": "stdout",
     "output_type": "stream",
     "text": [
      "Wall time: 3.03 ms\n"
     ]
    }
   ],
   "source": [
    "%%time\n",
    "tweets_complete = pd.read_table('conv.txt',sep=',')"
   ]
  },
  {
   "cell_type": "code",
   "execution_count": 45,
   "metadata": {},
   "outputs": [
    {
     "data": {
      "text/html": [
       "<div>\n",
       "<style scoped>\n",
       "    .dataframe tbody tr th:only-of-type {\n",
       "        vertical-align: middle;\n",
       "    }\n",
       "\n",
       "    .dataframe tbody tr th {\n",
       "        vertical-align: top;\n",
       "    }\n",
       "\n",
       "    .dataframe thead th {\n",
       "        text-align: right;\n",
       "    }\n",
       "</style>\n",
       "<table border=\"1\" class=\"dataframe\">\n",
       "  <thead>\n",
       "    <tr style=\"text-align: right;\">\n",
       "      <th></th>\n",
       "      <th>text_x</th>\n",
       "      <th>text_y</th>\n",
       "    </tr>\n",
       "  </thead>\n",
       "  <tbody>\n",
       "    <tr>\n",
       "      <th>0</th>\n",
       "      <td>@sprintcare is the worst customer service</td>\n",
       "      <td>@115712 Hello! We never like our customers to ...</td>\n",
       "    </tr>\n",
       "    <tr>\n",
       "      <th>1</th>\n",
       "      <td>@sprintcare is the worst customer service</td>\n",
       "      <td>@115712 I would love the chance to review the ...</td>\n",
       "    </tr>\n",
       "  </tbody>\n",
       "</table>\n",
       "</div>"
      ],
      "text/plain": [
       "                                      text_x  \\\n",
       "0  @sprintcare is the worst customer service   \n",
       "1  @sprintcare is the worst customer service   \n",
       "\n",
       "                                              text_y  \n",
       "0  @115712 Hello! We never like our customers to ...  \n",
       "1  @115712 I would love the chance to review the ...  "
      ]
     },
     "execution_count": 45,
     "metadata": {},
     "output_type": "execute_result"
    }
   ],
   "source": [
    "tweets_complete[0:2]"
   ]
  },
  {
   "cell_type": "markdown",
   "metadata": {},
   "source": [
    "## Data Preprocessing"
   ]
  },
  {
   "cell_type": "code",
   "execution_count": 46,
   "metadata": {},
   "outputs": [
    {
     "name": "stdout",
     "output_type": "stream",
     "text": [
      "['i', 'me', 'my', 'myself', 'we', 'our', 'ours', 'ourselves', 'you', \"you're\", \"you've\", \"you'll\", \"you'd\", 'your', 'yours', 'yourself', 'yourselves', 'he', 'him', 'his', 'himself', 'she', \"she's\", 'her', 'hers', 'herself', 'it', \"it's\", 'its', 'itself', 'they', 'them', 'their', 'theirs', 'themselves', 'what', 'which', 'who', 'whom', 'this', 'that', \"that'll\", 'these', 'those', 'am', 'is', 'are', 'was', 'were', 'be', 'been', 'being', 'have', 'has', 'had', 'having', 'do', 'does', 'did', 'doing', 'a', 'an', 'the', 'and', 'but', 'if', 'or', 'because', 'as', 'until', 'while', 'of', 'at', 'by', 'for', 'with', 'about', 'against', 'between', 'into', 'through', 'during', 'before', 'after', 'above', 'below', 'to', 'from', 'up', 'down', 'in', 'out', 'on', 'off', 'over', 'under', 'again', 'further', 'then', 'once', 'here', 'there', 'when', 'where', 'why', 'how', 'all', 'any', 'both', 'each', 'few', 'more', 'most', 'other', 'some', 'such', 'no', 'nor', 'not', 'only', 'own', 'same', 'so', 'than', 'too', 'very', 's', 't', 'can', 'will', 'just', 'don', \"don't\", 'should', \"should've\", 'now', 'd', 'll', 'm', 'o', 're', 've', 'y', 'ain', 'aren', \"aren't\", 'couldn', \"couldn't\", 'didn', \"didn't\", 'doesn', \"doesn't\", 'hadn', \"hadn't\", 'hasn', \"hasn't\", 'haven', \"haven't\", 'isn', \"isn't\", 'ma', 'mightn', \"mightn't\", 'mustn', \"mustn't\", 'needn', \"needn't\", 'shan', \"shan't\", 'shouldn', \"shouldn't\", 'wasn', \"wasn't\", 'weren', \"weren't\", 'won', \"won't\", 'wouldn', \"wouldn't\"]\n"
     ]
    }
   ],
   "source": [
    "print(stopwords.words('english'))"
   ]
  },
  {
   "cell_type": "code",
   "execution_count": null,
   "metadata": {},
   "outputs": [],
   "source": []
  },
  {
   "cell_type": "code",
   "execution_count": 67,
   "metadata": {},
   "outputs": [
    {
     "data": {
      "text/html": [
       "<div>\n",
       "<style scoped>\n",
       "    .dataframe tbody tr th:only-of-type {\n",
       "        vertical-align: middle;\n",
       "    }\n",
       "\n",
       "    .dataframe tbody tr th {\n",
       "        vertical-align: top;\n",
       "    }\n",
       "\n",
       "    .dataframe thead th {\n",
       "        text-align: right;\n",
       "    }\n",
       "</style>\n",
       "<table border=\"1\" class=\"dataframe\">\n",
       "  <thead>\n",
       "    <tr style=\"text-align: right;\">\n",
       "      <th></th>\n",
       "      <th>text_x</th>\n",
       "      <th>text_y</th>\n",
       "    </tr>\n",
       "  </thead>\n",
       "  <tbody>\n",
       "    <tr>\n",
       "      <th>0</th>\n",
       "      <td>@sprintcare is the worst customer service</td>\n",
       "      <td>@115712 Hello! We never like our customers to ...</td>\n",
       "    </tr>\n",
       "    <tr>\n",
       "      <th>1</th>\n",
       "      <td>@sprintcare is the worst customer service</td>\n",
       "      <td>@115712 I would love the chance to review the ...</td>\n",
       "    </tr>\n",
       "    <tr>\n",
       "      <th>2</th>\n",
       "      <td>@sprintcare is the worst customer service</td>\n",
       "      <td>@115712 Can you please send us a private messa...</td>\n",
       "    </tr>\n",
       "    <tr>\n",
       "      <th>3</th>\n",
       "      <td>@115714 y’all lie about your “great” connectio...</td>\n",
       "      <td>@115713 H there! We'd definitely like to work ...</td>\n",
       "    </tr>\n",
       "    <tr>\n",
       "      <th>4</th>\n",
       "      <td>@115714 whenever I contact customer support, t...</td>\n",
       "      <td>@115715 Please send me a private message so th...</td>\n",
       "    </tr>\n",
       "  </tbody>\n",
       "</table>\n",
       "</div>"
      ],
      "text/plain": [
       "                                              text_x  \\\n",
       "0          @sprintcare is the worst customer service   \n",
       "1          @sprintcare is the worst customer service   \n",
       "2          @sprintcare is the worst customer service   \n",
       "3  @115714 y’all lie about your “great” connectio...   \n",
       "4  @115714 whenever I contact customer support, t...   \n",
       "\n",
       "                                              text_y  \n",
       "0  @115712 Hello! We never like our customers to ...  \n",
       "1  @115712 I would love the chance to review the ...  \n",
       "2  @115712 Can you please send us a private messa...  \n",
       "3  @115713 H there! We'd definitely like to work ...  \n",
       "4  @115715 Please send me a private message so th...  "
      ]
     },
     "execution_count": 67,
     "metadata": {},
     "output_type": "execute_result"
    }
   ],
   "source": [
    "tweets = tweets_complete.head()\n",
    "tweets"
   ]
  },
  {
   "cell_type": "code",
   "execution_count": 68,
   "metadata": {},
   "outputs": [
    {
     "name": "stdout",
     "output_type": "stream",
     "text": [
      "sprintcare is the worst customer service\n",
      "['sprintcare', 'worst', 'customer', 'service']\n",
      "sprintcare is the worst customer service\n",
      "['sprintcare', 'worst', 'customer', 'service']\n",
      "sprintcare is the worst customer service\n",
      "['sprintcare', 'worst', 'customer', 'service']\n",
      "115714 y ’ all lie about your “ great ” connection . 5 bars LTE , still won ’ t load something . Smh .\n",
      "['115714', '’', 'lie', '“', 'great', '”', 'connection', '.', '5', 'bars', 'LTE', ',', 'still', '’', 'load', 'something', '.', 'Smh', '.']\n",
      "115714 whenever I contact customer support , they tell me I have shortcode enabled on my account , but I have never in the 4 years I 've tried https : //t.co/0G98RtNxPK\n",
      "['115714', 'whenever', 'I', 'contact', 'customer', 'support', ',', 'tell', 'I', 'shortcode', 'enabled', 'account', ',', 'I', 'never', '4', 'years', 'I', \"'ve\", 'tried', 'https', ':', '//t.co/0G98RtNxPK']\n"
     ]
    },
    {
     "name": "stderr",
     "output_type": "stream",
     "text": [
      "<ipython-input-68-943d82b8d0d6>:5: SettingWithCopyWarning: \n",
      "A value is trying to be set on a copy of a slice from a DataFrame.\n",
      "Try using .loc[row_indexer,col_indexer] = value instead\n",
      "\n",
      "See the caveats in the documentation: https://pandas.pydata.org/pandas-docs/stable/user_guide/indexing.html#returning-a-view-versus-a-copy\n",
      "  tweets['text_x_clean'] = \"\"\n",
      "<ipython-input-68-943d82b8d0d6>:6: SettingWithCopyWarning: \n",
      "A value is trying to be set on a copy of a slice from a DataFrame.\n",
      "Try using .loc[row_indexer,col_indexer] = value instead\n",
      "\n",
      "See the caveats in the documentation: https://pandas.pydata.org/pandas-docs/stable/user_guide/indexing.html#returning-a-view-versus-a-copy\n",
      "  tweets['text_y_clean'] = \"\"\n",
      "C:\\ProgramData\\Anaconda3\\lib\\site-packages\\IPython\\core\\interactiveshell.py:3418: SettingWithCopyWarning: \n",
      "A value is trying to be set on a copy of a slice from a DataFrame\n",
      "\n",
      "See the caveats in the documentation: https://pandas.pydata.org/pandas-docs/stable/user_guide/indexing.html#returning-a-view-versus-a-copy\n",
      "  exec(code_obj, self.user_global_ns, self.user_ns)\n"
     ]
    }
   ],
   "source": [
    "\n",
    "\n",
    "stop_words = set(stopwords.words('english'))\n",
    "#define special characters list\n",
    "special_characters = ['!','#','$','%', '&','@','[',']',' ',']','_']\n",
    "\n",
    "tweets['text_x_clean'] = \"\"\n",
    "tweets['text_y_clean'] = \"\"\n",
    "\n",
    "for i in range(len(tweets)):\n",
    "\n",
    "    #################################################################################################################\n",
    "    #To Do :\n",
    "    #Lower casing\n",
    "    #Removal of Punctuation\n",
    "    #Conversion of Emojis to Text\n",
    "    #Removal of URL and HTML Tags\n",
    "    \n",
    "    \n",
    "    tweets['text_x_clean'][i] = tweets['text_x'][i]\n",
    "    \n",
    "    #Special Character Replacement\n",
    "    for j in range(len(special_characters)):\n",
    "        tweets['text_x_clean'][i] = tweets['text_x_clean'][i].replace(special_characters[j],' ')\n",
    "    \n",
    "    #Lemmatization\n",
    "    wordnet_lemmatizer = WordNetLemmatizer()\n",
    "    text = tweets['text_x_clean'][i]\n",
    "    lemma_text = nltk.word_tokenize(text)\n",
    "    tweets['text_x_clean'][i] = \" \".join(lemma_text)\n",
    "    print(tweets['text_x_clean'][i])\n",
    "    \n",
    "    #Removing Stop Words\n",
    "    word_tokens = word_tokenize(tweets['text_x_clean'][i])\n",
    "    filtered_sentence = [w for w in word_tokens if not w.lower() in stop_words]\n",
    "    filtered_sentence = []\n",
    "    for w in word_tokens:\n",
    "        if w not in stop_words:\n",
    "            filtered_sentence.append(w)\n",
    "    tweets['text_x_clean'][i] = filtered_sentence\n",
    "    print(tweets['text_x_clean'][i])\n",
    "\n",
    "    #################################################################################################################\n",
    "    \n",
    "    tweets['text_y_clean'][i] = tweets['text_y'][i]\n",
    "    \n",
    "    #Special Character Replacement\n",
    "    for j in range(len(special_characters)):\n",
    "        tweets['text_y_clean'][i] = tweets['text_y_clean'][i].replace(special_characters[j],' ')\n",
    "    \n",
    "    #Lemmatization\n",
    "    wordnet_lemmatizer = WordNetLemmatizer()\n",
    "    text = tweets['text_y_clean'][i]\n",
    "    lemma_text = nltk.word_tokenize(text)\n",
    "    tweets['text_y_clean'][i] = \" \".join(lemma_text)\n",
    "    \n",
    "    \n",
    "    #Removing Stop Words\n",
    "    word_tokens = word_tokenize(tweets['text_y_clean'][i])\n",
    "    filtered_sentence = [w for w in word_tokens if not w.lower() in stop_words]\n",
    "    filtered_sentence = []\n",
    "    for w in word_tokens:\n",
    "        if w not in stop_words:\n",
    "            filtered_sentence.append(w)\n",
    "    tweets['text_y_clean'][i] = filtered_sentence\n",
    "\n",
    "    #################################################################################################################\n",
    "    "
   ]
  },
  {
   "cell_type": "code",
   "execution_count": 43,
   "metadata": {},
   "outputs": [
    {
     "data": {
      "text/html": [
       "<div>\n",
       "<style scoped>\n",
       "    .dataframe tbody tr th:only-of-type {\n",
       "        vertical-align: middle;\n",
       "    }\n",
       "\n",
       "    .dataframe tbody tr th {\n",
       "        vertical-align: top;\n",
       "    }\n",
       "\n",
       "    .dataframe thead th {\n",
       "        text-align: right;\n",
       "    }\n",
       "</style>\n",
       "<table border=\"1\" class=\"dataframe\">\n",
       "  <thead>\n",
       "    <tr style=\"text-align: right;\">\n",
       "      <th></th>\n",
       "      <th>text_x</th>\n",
       "      <th>text_y</th>\n",
       "      <th>text_x_clean</th>\n",
       "      <th>text_y_clean</th>\n",
       "    </tr>\n",
       "  </thead>\n",
       "  <tbody>\n",
       "    <tr>\n",
       "      <th>0</th>\n",
       "      <td>@sprintcare is the worst customer service</td>\n",
       "      <td>@115712 Hello! We never like our customers to ...</td>\n",
       "      <td>[@, sprintcare, worst, customer, service]</td>\n",
       "      <td>[@, 1, 1, 5, 7, 1, 2, H, e, l, l, !, W, e, n, ...</td>\n",
       "    </tr>\n",
       "    <tr>\n",
       "      <th>1</th>\n",
       "      <td>@sprintcare is the worst customer service</td>\n",
       "      <td>@115712 I would love the chance to review the ...</td>\n",
       "      <td>[@, sprintcare, worst, customer, service]</td>\n",
       "      <td>[@, 1, 1, 5, 7, 1, 2, I, w, u, l, l, v, e, h, ...</td>\n",
       "    </tr>\n",
       "    <tr>\n",
       "      <th>2</th>\n",
       "      <td>@sprintcare is the worst customer service</td>\n",
       "      <td>@115712 Can you please send us a private messa...</td>\n",
       "      <td>[@, sprintcare, worst, customer, service]</td>\n",
       "      <td>[@, 1, 1, 5, 7, 1, 2, C, n, u, p, l, e, e, e, ...</td>\n",
       "    </tr>\n",
       "    <tr>\n",
       "      <th>3</th>\n",
       "      <td>@115714 y’all lie about your “great” connectio...</td>\n",
       "      <td>@115713 H there! We'd definitely like to work ...</td>\n",
       "      <td>[@, 115714, ’, lie, “, great, ”, connection, ....</td>\n",
       "      <td>[@, 1, 1, 5, 7, 1, 3, H, h, e, r, e, !, W, e, ...</td>\n",
       "    </tr>\n",
       "    <tr>\n",
       "      <th>4</th>\n",
       "      <td>@115714 whenever I contact customer support, t...</td>\n",
       "      <td>@115715 Please send me a private message so th...</td>\n",
       "      <td>[@, 115714, whenever, I, contact, customer, su...</td>\n",
       "      <td>[@, 1, 1, 5, 7, 1, 5, P, l, e, e, e, n, e, p, ...</td>\n",
       "    </tr>\n",
       "  </tbody>\n",
       "</table>\n",
       "</div>"
      ],
      "text/plain": [
       "                                              text_x  \\\n",
       "0          @sprintcare is the worst customer service   \n",
       "1          @sprintcare is the worst customer service   \n",
       "2          @sprintcare is the worst customer service   \n",
       "3  @115714 y’all lie about your “great” connectio...   \n",
       "4  @115714 whenever I contact customer support, t...   \n",
       "\n",
       "                                              text_y  \\\n",
       "0  @115712 Hello! We never like our customers to ...   \n",
       "1  @115712 I would love the chance to review the ...   \n",
       "2  @115712 Can you please send us a private messa...   \n",
       "3  @115713 H there! We'd definitely like to work ...   \n",
       "4  @115715 Please send me a private message so th...   \n",
       "\n",
       "                                        text_x_clean  \\\n",
       "0          [@, sprintcare, worst, customer, service]   \n",
       "1          [@, sprintcare, worst, customer, service]   \n",
       "2          [@, sprintcare, worst, customer, service]   \n",
       "3  [@, 115714, ’, lie, “, great, ”, connection, ....   \n",
       "4  [@, 115714, whenever, I, contact, customer, su...   \n",
       "\n",
       "                                        text_y_clean  \n",
       "0  [@, 1, 1, 5, 7, 1, 2, H, e, l, l, !, W, e, n, ...  \n",
       "1  [@, 1, 1, 5, 7, 1, 2, I, w, u, l, l, v, e, h, ...  \n",
       "2  [@, 1, 1, 5, 7, 1, 2, C, n, u, p, l, e, e, e, ...  \n",
       "3  [@, 1, 1, 5, 7, 1, 3, H, h, e, r, e, !, W, e, ...  \n",
       "4  [@, 1, 1, 5, 7, 1, 5, P, l, e, e, e, n, e, p, ...  "
      ]
     },
     "execution_count": 43,
     "metadata": {},
     "output_type": "execute_result"
    }
   ],
   "source": [
    "tweets.head()"
   ]
  },
  {
   "cell_type": "code",
   "execution_count": null,
   "metadata": {},
   "outputs": [],
   "source": []
  }
 ],
 "metadata": {
  "kernelspec": {
   "display_name": "Python 3",
   "language": "python",
   "name": "python3"
  },
  "language_info": {
   "codemirror_mode": {
    "name": "ipython",
    "version": 3
   },
   "file_extension": ".py",
   "mimetype": "text/x-python",
   "name": "python",
   "nbconvert_exporter": "python",
   "pygments_lexer": "ipython3",
   "version": "3.8.5"
  }
 },
 "nbformat": 4,
 "nbformat_minor": 4
}
