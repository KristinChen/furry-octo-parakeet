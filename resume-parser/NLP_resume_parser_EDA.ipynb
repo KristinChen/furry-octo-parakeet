{
 "cells": [
  {
   "cell_type": "code",
   "execution_count": 106,
   "id": "a4bcc437",
   "metadata": {},
   "outputs": [],
   "source": [
    "import sys\n",
    "import textract, PyPDF2, glob\n",
    "import nltk\n",
    "# nltk.download('punkt')\n",
    "# nltk.download('averaged_perceptron_tagger')\n",
    "# nltk.download('maxent_ne_chunker')\n",
    "# nltk.download('words')\n",
    "# nltk.download('stopwords')\n",
    "import re\n",
    "import os\n",
    "import subprocess \n",
    "from pdfminer.high_level import extract_text"
   ]
  },
  {
   "cell_type": "code",
   "execution_count": 129,
   "id": "8c5a0f7b",
   "metadata": {},
   "outputs": [],
   "source": [
    "files = glob.glob(r\"C:\\Users\\JiatingChen\\Documents\\resume_samplers\\*\")"
   ]
  },
  {
   "cell_type": "code",
   "execution_count": 113,
   "id": "301141ef",
   "metadata": {},
   "outputs": [
    {
     "data": {
      "text/plain": [
       "'C:\\\\Users\\\\JiatingChen\\\\Documents\\\\resume_samplers\\\\721091408_phonescreening.pdf'"
      ]
     },
     "execution_count": 113,
     "metadata": {},
     "output_type": "execute_result"
    }
   ],
   "source": [
    "files[0]"
   ]
  },
  {
   "cell_type": "code",
   "execution_count": 114,
   "id": "eb3140de",
   "metadata": {},
   "outputs": [],
   "source": [
    "txt = extract_text(files[0])"
   ]
  },
  {
   "cell_type": "markdown",
   "id": "5fd4d7a2",
   "metadata": {},
   "source": [
    "## NAME"
   ]
  },
  {
   "cell_type": "code",
   "execution_count": 81,
   "id": "30c82ecb",
   "metadata": {},
   "outputs": [],
   "source": [
    "def extract_names(txt): #nlp doesn't do a good job here\n",
    "    person_names = []\n",
    "\n",
    "    for sent in nltk.sent_tokenize(txt):\n",
    "        for chunk in nltk.ne_chunk(nltk.pos_tag(nltk.word_tokenize(sent))):\n",
    "            if hasattr(chunk, 'label') and chunk.label() == 'PERSON':\n",
    "                person_names.append(\n",
    "                    ' '.join(chunk_leave[0] for chunk_leave in chunk.leaves())\n",
    "                )\n",
    "\n",
    "    return person_names"
   ]
  },
  {
   "cell_type": "code",
   "execution_count": 97,
   "id": "e67ce5ad",
   "metadata": {},
   "outputs": [
    {
     "data": {
      "text/plain": [
       "'Karthik'"
      ]
     },
     "execution_count": 97,
     "metadata": {},
     "output_type": "execute_result"
    }
   ],
   "source": [
    "extract_names(txt)[0]"
   ]
  },
  {
   "cell_type": "markdown",
   "id": "e379f267",
   "metadata": {},
   "source": [
    "## PHONE NUMBER"
   ]
  },
  {
   "cell_type": "code",
   "execution_count": 84,
   "id": "36c6c735",
   "metadata": {},
   "outputs": [],
   "source": [
    "PHONE_REG = re.compile(r'[\\+\\(]?[1-9][0-9 .\\-\\(\\)]{8,}[0-9]')"
   ]
  },
  {
   "cell_type": "code",
   "execution_count": 89,
   "id": "5a7450ee",
   "metadata": {},
   "outputs": [],
   "source": [
    "def extract_phone_number(resume_text):\n",
    "    phone = re.findall(PHONE_REG, resume_text)\n",
    "\n",
    "    if phone:\n",
    "        number = ''.join(phone[0])\n",
    "\n",
    "        if resume_text.find(number) >= 0 and len(number) < 16:\n",
    "            return number\n",
    "    return None"
   ]
  },
  {
   "cell_type": "code",
   "execution_count": 90,
   "id": "5353056e",
   "metadata": {},
   "outputs": [
    {
     "data": {
      "text/plain": [
       "'(410)-292-1151'"
      ]
     },
     "execution_count": 90,
     "metadata": {},
     "output_type": "execute_result"
    }
   ],
   "source": [
    "extract_phone_number(txt)"
   ]
  },
  {
   "cell_type": "markdown",
   "id": "41ae5099",
   "metadata": {},
   "source": [
    "## EMAIL"
   ]
  },
  {
   "cell_type": "code",
   "execution_count": 91,
   "id": "21861023",
   "metadata": {},
   "outputs": [],
   "source": [
    "EMAIL_REG = re.compile(r'[a-z0-9\\.\\-+_]+@[a-z0-9\\.\\-+_]+\\.[a-z]+')"
   ]
  },
  {
   "cell_type": "code",
   "execution_count": 92,
   "id": "f4737e8e",
   "metadata": {},
   "outputs": [],
   "source": [
    "def extract_emails(resume_text):\n",
    "    return re.findall(EMAIL_REG, resume_text)"
   ]
  },
  {
   "cell_type": "code",
   "execution_count": 93,
   "id": "7fdf26b7",
   "metadata": {},
   "outputs": [
    {
     "data": {
      "text/plain": [
       "'karthikr2194@gmail.com'"
      ]
     },
     "execution_count": 93,
     "metadata": {},
     "output_type": "execute_result"
    }
   ],
   "source": [
    " extract_emails(txt)[0]"
   ]
  },
  {
   "cell_type": "markdown",
   "id": "d0d519ee",
   "metadata": {},
   "source": [
    "## SCHOOLS AND EDUCATION"
   ]
  },
  {
   "cell_type": "code",
   "execution_count": 94,
   "id": "816c009b",
   "metadata": {},
   "outputs": [],
   "source": [
    "RESERVED_WORDS = [\n",
    "    'school',\n",
    "    'college',\n",
    "    'univers',\n",
    "    'academy',\n",
    "    'faculty',\n",
    "    'institute',\n",
    "    'faculdades',\n",
    "    'Schola',\n",
    "    'schule',\n",
    "    'lise',\n",
    "    'lyceum',\n",
    "    'lycee',\n",
    "    'polytechnic',\n",
    "    'kolej',\n",
    "    'ünivers',\n",
    "    'okul',\n",
    "]"
   ]
  },
  {
   "cell_type": "code",
   "execution_count": 152,
   "id": "7723ab09",
   "metadata": {},
   "outputs": [],
   "source": [
    "def extract_education(input_text):\n",
    "    organizations = []\n",
    "\n",
    "    # first get all the organization names using nltk\n",
    "    for sent in nltk.sent_tokenize(input_text):\n",
    "        for chunk in nltk.ne_chunk(nltk.pos_tag(nltk.word_tokenize(sent))):\n",
    "            if hasattr(chunk, 'label') and chunk.label() == 'ORGANIZATION':\n",
    "                organizations.append(' '.join(c[0] for c in chunk.leaves()))\n",
    "\n",
    "    # we search for each bigram and trigram for reserved words\n",
    "    # (college, university etc...)\n",
    "    education = set()\n",
    "    for org in organizations:\n",
    "        for word in RESERVED_WORDS:\n",
    "            if org.lower().find(word) >= 0:\n",
    "                education.add(org)\n",
    "\n",
    "    return education\n"
   ]
  },
  {
   "cell_type": "code",
   "execution_count": 96,
   "id": "86370339",
   "metadata": {},
   "outputs": [
    {
     "data": {
      "text/plain": [
       "{'Bangalore Institute', 'EDUCATION University'}"
      ]
     },
     "execution_count": 96,
     "metadata": {},
     "output_type": "execute_result"
    }
   ],
   "source": [
    "extract_education(txt)"
   ]
  },
  {
   "cell_type": "code",
   "execution_count": 140,
   "id": "f6b0f0b3",
   "metadata": {},
   "outputs": [],
   "source": [
    "output_DataFrame = pd.DataFrame()"
   ]
  },
  {
   "cell_type": "code",
   "execution_count": 158,
   "id": "4b26063a",
   "metadata": {},
   "outputs": [],
   "source": [
    "def parse_resume(files):\n",
    "    output_DataFrame = pd.DataFrame()\n",
    "    \n",
    "    for file in files: \n",
    "        txt = extract_text(file)    \n",
    "        dict1 = {}\n",
    "        dict1['name'] = extract_names(txt)[0]\n",
    "        dict1['phone_num'] = extract_phone_number(txt)\n",
    "        dict1['email'] =  extract_emails(txt)[0]\n",
    "        dict1['education'] =  extract_education(txt)\n",
    "        print(dict1)\n",
    "        output_DataFrame = output_DataFrame.append(dict1, ignore_index=True)\n",
    "    return output_DataFrame"
   ]
  },
  {
   "cell_type": "code",
   "execution_count": 159,
   "id": "0ab5fd97",
   "metadata": {},
   "outputs": [
    {
     "name": "stdout",
     "output_type": "stream",
     "text": [
      "C:\\Users\\JiatingChen\\Documents\\resume_samplers\\721091408_phonescreening.pdf\n",
      "C:\\Users\\JiatingChen\\Documents\\resume_samplers\\821101104_phonescreening.pdf\n",
      "C:\\Users\\JiatingChen\\Documents\\resume_samplers\\821101136_phonescreening.pdf\n",
      "C:\\Users\\JiatingChen\\Documents\\resume_samplers\\821110440_Mythri.pdf\n",
      "C:\\Users\\JiatingChen\\Documents\\resume_samplers\\821110445_Qizhe.pdf\n",
      "C:\\Users\\JiatingChen\\Documents\\resume_samplers\\821110447_rachan.pdf\n",
      "C:\\Users\\JiatingChen\\Documents\\resume_samplers\\821110448_RAGHUVEERA.pdf\n",
      "C:\\Users\\JiatingChen\\Documents\\resume_samplers\\821110464_Saida.pdf\n",
      "C:\\Users\\JiatingChen\\Documents\\resume_samplers\\821110509_Akash.pdf\n",
      "C:\\Users\\JiatingChen\\Documents\\resume_samplers\\821110510_AKSHARA.pdf\n",
      "C:\\Users\\JiatingChen\\Documents\\resume_samplers\\821110511_Alexandra.pdf\n",
      "C:\\Users\\JiatingChen\\Documents\\resume_samplers\\821110527_.pdf\n",
      "C:\\Users\\JiatingChen\\Documents\\resume_samplers\\821110528_Wanting.pdf\n",
      "C:\\Users\\JiatingChen\\Documents\\resume_samplers\\821111539_manaswini.pdf\n",
      "C:\\Users\\JiatingChen\\Documents\\resume_samplers\\821112919_mohit.pdf\n",
      "C:\\Users\\JiatingChen\\Documents\\resume_samplers\\821112928_yechen.pdf\n",
      "C:\\Users\\JiatingChen\\Documents\\resume_samplers\\821122313_Dimple.pdf\n",
      "C:\\Users\\JiatingChen\\Documents\\resume_samplers\\821122315_Indupriya.pdf\n",
      "C:\\Users\\JiatingChen\\Documents\\resume_samplers\\821122316_James.pdf\n",
      "C:\\Users\\JiatingChen\\Documents\\resume_samplers\\822010605_anya.pdf\n",
      "C:\\Users\\JiatingChen\\Documents\\resume_samplers\\822010628_ryan.pdf\n",
      "C:\\Users\\JiatingChen\\Documents\\resume_samplers\\C01-21111807_Andrew_Decker.pdf\n",
      "C:\\Users\\JiatingChen\\Documents\\resume_samplers\\KRISTINJIATINGCHEN_RESUME_06082021 (1).pdf\n",
      "C:\\Users\\JiatingChen\\Documents\\resume_samplers\\Manisha Patel Resume.pdf\n",
      "C:\\Users\\JiatingChen\\Documents\\resume_samplers\\SAIKUMAR.pdf\n",
      "C:\\Users\\JiatingChen\\Documents\\resume_samplers\\Senthil Nathan M.pdf\n"
     ]
    }
   ],
   "source": [
    "for file in files:\n",
    "    print(file)"
   ]
  },
  {
   "cell_type": "code",
   "execution_count": 163,
   "id": "58d2082d",
   "metadata": {
    "scrolled": true
   },
   "outputs": [
    {
     "name": "stdout",
     "output_type": "stream",
     "text": [
      "{'name': 'Karthik', 'phone_num': '(410)-292-1151', 'email': 'karthikr2194@gmail.com', 'education': {'EDUCATION University', 'Bangalore Institute'}}\n",
      "{'name': 'Robert', 'phone_num': None, 'email': 'hpundir@umd.edu', 'education': {'University'}}\n",
      "{'name': 'Data Analysis', 'phone_num': '469-370-9437', 'email': 'tirth2410@gmail.com', 'education': {'University', 'Harvard Summer School', 'The University'}}\n",
      "{'name': 'Mythri', 'phone_num': '(281) 725-7080', 'email': 'mythripartha8@gmail.com', 'education': {'EDUCATION University'}}\n",
      "{'name': 'Qizhe', 'phone_num': None, 'email': 'ziyaotingyu@gmail.com', 'education': {'EDUCATION University', 'University', 'EXPERIENCE University'}}\n",
      "{'name': 'Stamford', 'phone_num': '(475) 685 0166', 'email': 'rachan_vamsi.bhooshi@uconn.edu', 'education': {'University', 'UNIVERSITY OF'}}\n",
      "{'name': 'Github', 'phone_num': '240-713-8296', 'email': 'rmadireddy1@student.gsu.edu', 'education': set()}\n",
      "{'name': 'Data Science', 'phone_num': '443-833-6344', 'email': 'saidam1@umbc.edu', 'education': {'UNIVERSITY OF'}}\n",
      "{'name': 'Akash Patel', 'phone_num': '+1 4845387112', 'email': 'adp178@scarletmail.rutgers.edu', 'education': {'State University', 'Institute'}}\n",
      "{'name': 'Analytics', 'phone_num': None, 'email': 'akshara@ou.edu', 'education': {'EDUCATION University', 'University'}}\n",
      "{'name': 'Alexandra', 'phone_num': '630.818.6275', 'email': 'manetas.alexandra@gmail.com', 'education': {'DePaul University', 'University Research Institutes'}}\n",
      "{'name': 'Pranav Premdas Gulghane', 'phone_num': '+1-4695140740', 'email': 'pranavpremdasgulghane@gmail.com', 'education': {'University'}}\n",
      "{'name': 'Lu Berkeley', 'phone_num': '(559) 387-0880', 'email': 'luwinnie12@gmail.com', 'education': {'University'}}\n",
      "{'name': 'Khoury College', 'phone_num': '(617) 818-4953', 'email': 'nagaraj.m@northeastern.edu', 'education': {'National University', 'D Institute', 'REVA University'}}\n",
      "{'name': 'Data Management', 'phone_num': '+18572077337', 'email': 'mohitmanjaria55333@gmail.com', 'education': {'UNIVERSITY Master', 'UNIVERSITY Masters'}}\n",
      "{'name': 'Yuchen', 'phone_num': '949-413-2863', 'email': 'yuchen724@ucla.edu', 'education': {'EDUCATION University', 'University'}}\n",
      "{'name': 'Dimple', 'phone_num': None, 'email': 'dimple8997@gmail.com', 'education': set()}\n",
      "{'name': 'Kompi S', 'phone_num': None, 'email': 'indupriyakompi@gmail.com', 'education': {'GPA Northeastern University'}}\n",
      "{'name': 'James', 'phone_num': '(706) 305-6369', 'email': 'james.domingo@gatech.edu', 'education': {'University', 'EDUCATION Georgia Institute'}}\n",
      "{'name': 'Machine Learning', 'phone_num': '805 453 1532', 'email': 'anyampatel@gmail.com', 'education': set()}\n",
      "{'name': 'Ryan Martin Goodwin LinkedIn Github', 'phone_num': '(910) 547-7027', 'email': 'rgoodwin1997@gmail.com', 'education': {'Science University'}}\n",
      "{'name': 'Andrew', 'phone_num': '(443)-742-3540', 'email': 'eckan01@gettysburg.edu', 'education': set()}\n",
      "{'name': 'Git', 'phone_num': '(202) 212 -9607', 'email': 'jiatingchen0107@gmail.com', 'education': {'UNIVERSITY Master'}}\n",
      "{'name': 'Data Scientist', 'phone_num': '774-994-4106', 'email': 'manishap2690@gmail.com', 'education': {'State University'}}\n",
      "{'name': 'Python', 'phone_num': '+12678819188', 'email': 'sgheereddy@gmail.com', 'education': {'EDUCATION University', 'Jawaharlal Nehru Technological University'}}\n",
      "{'name': 'Senthil', 'phone_num': '+91-8553247659', 'email': 'msnathan55@yahoo.com', 'education': {'University', 'Toyohashi University', 'PSG College'}}\n"
     ]
    }
   ],
   "source": [
    "output = parse_resume(files)"
   ]
  },
  {
   "cell_type": "code",
   "execution_count": 165,
   "id": "d0b8ca46",
   "metadata": {},
   "outputs": [],
   "source": [
    "output.to_csv('output_sample.csv')"
   ]
  },
  {
   "cell_type": "code",
   "execution_count": 128,
   "id": "5878d26e",
   "metadata": {},
   "outputs": [
    {
     "data": {
      "text/plain": [
       "'\\x0c'"
      ]
     },
     "execution_count": 128,
     "metadata": {},
     "output_type": "execute_result"
    }
   ],
   "source": [
    "extract_text(r'C:\\\\Users\\\\JiatingChen\\\\Documents\\\\resume_samplers\\\\C01-21120201_Jiayue_Fei.pdf')"
   ]
  }
 ],
 "metadata": {
  "kernelspec": {
   "display_name": "Python 3 (ipykernel)",
   "language": "python",
   "name": "python3"
  },
  "language_info": {
   "codemirror_mode": {
    "name": "ipython",
    "version": 3
   },
   "file_extension": ".py",
   "mimetype": "text/x-python",
   "name": "python",
   "nbconvert_exporter": "python",
   "pygments_lexer": "ipython3",
   "version": "3.9.7"
  }
 },
 "nbformat": 4,
 "nbformat_minor": 5
}
