{
 "cells": [
  {
   "cell_type": "code",
   "execution_count": 81,
   "metadata": {},
   "outputs": [
    {
     "name": "stderr",
     "output_type": "stream",
     "text": [
      "[nltk_data] Downloading package stopwords to\n",
      "[nltk_data]     C:\\Users\\AbhiramGopal\\AppData\\Roaming\\nltk_data...\n",
      "[nltk_data]   Package stopwords is already up-to-date!\n"
     ]
    }
   ],
   "source": [
    "import nltk\n",
    "nltk.download('stopwords')\n",
    "import spacy\n",
    "spacy.load(\"en_core_web_sm\")\n",
    "from pyresparser import ResumeParser\n",
    "from resume_parser import resumeparse\n",
    "import os\n",
    "import docx2txt\n",
    "import requests\n",
    "import pandas as pd\n",
    "from pdfminer.high_level import extract_text"
   ]
  },
  {
   "cell_type": "code",
   "execution_count": 82,
   "metadata": {},
   "outputs": [
    {
     "name": "stdout",
     "output_type": "stream",
     "text": [
      "721091408_phonescreening.pdf\n"
     ]
    },
    {
     "name": "stderr",
     "output_type": "stream",
     "text": [
      "C:\\Users\\AbhiramGopal\\anaconda3\\envs\\ResumeParsing\\lib\\site-packages\\spacy\\util.py:275: UserWarning: [W031] Model 'en_training' (0.0.0) requires spaCy v2.1 and is incompatible with the current spaCy version (2.3.5). This may lead to unexpected results or runtime errors. To resolve this, download a newer compatible model or retrain your custom model with the current spaCy version. For more details and available updates, run: python -m spacy validate\n",
      "  warnings.warn(warn_msg)\n"
     ]
    },
    {
     "name": "stdout",
     "output_type": "stream",
     "text": [
      "821101104_phonescreening.pdf\n"
     ]
    },
    {
     "name": "stderr",
     "output_type": "stream",
     "text": [
      "C:\\Users\\AbhiramGopal\\anaconda3\\envs\\ResumeParsing\\lib\\site-packages\\spacy\\util.py:275: UserWarning: [W031] Model 'en_training' (0.0.0) requires spaCy v2.1 and is incompatible with the current spaCy version (2.3.5). This may lead to unexpected results or runtime errors. To resolve this, download a newer compatible model or retrain your custom model with the current spaCy version. For more details and available updates, run: python -m spacy validate\n",
      "  warnings.warn(warn_msg)\n"
     ]
    },
    {
     "name": "stdout",
     "output_type": "stream",
     "text": [
      "821101136_phonescreening.pdf\n"
     ]
    },
    {
     "name": "stderr",
     "output_type": "stream",
     "text": [
      "C:\\Users\\AbhiramGopal\\anaconda3\\envs\\ResumeParsing\\lib\\site-packages\\spacy\\util.py:275: UserWarning: [W031] Model 'en_training' (0.0.0) requires spaCy v2.1 and is incompatible with the current spaCy version (2.3.5). This may lead to unexpected results or runtime errors. To resolve this, download a newer compatible model or retrain your custom model with the current spaCy version. For more details and available updates, run: python -m spacy validate\n",
      "  warnings.warn(warn_msg)\n"
     ]
    },
    {
     "name": "stdout",
     "output_type": "stream",
     "text": [
      "821110120.pdf\n"
     ]
    },
    {
     "name": "stderr",
     "output_type": "stream",
     "text": [
      "C:\\Users\\AbhiramGopal\\anaconda3\\envs\\ResumeParsing\\lib\\site-packages\\spacy\\util.py:275: UserWarning: [W031] Model 'en_training' (0.0.0) requires spaCy v2.1 and is incompatible with the current spaCy version (2.3.5). This may lead to unexpected results or runtime errors. To resolve this, download a newer compatible model or retrain your custom model with the current spaCy version. For more details and available updates, run: python -m spacy validate\n",
      "  warnings.warn(warn_msg)\n"
     ]
    },
    {
     "name": "stdout",
     "output_type": "stream",
     "text": [
      "821110440_Mythri.pdf\n"
     ]
    },
    {
     "name": "stderr",
     "output_type": "stream",
     "text": [
      "C:\\Users\\AbhiramGopal\\anaconda3\\envs\\ResumeParsing\\lib\\site-packages\\spacy\\util.py:275: UserWarning: [W031] Model 'en_training' (0.0.0) requires spaCy v2.1 and is incompatible with the current spaCy version (2.3.5). This may lead to unexpected results or runtime errors. To resolve this, download a newer compatible model or retrain your custom model with the current spaCy version. For more details and available updates, run: python -m spacy validate\n",
      "  warnings.warn(warn_msg)\n"
     ]
    },
    {
     "name": "stdout",
     "output_type": "stream",
     "text": [
      "821110445_Qizhe.pdf\n"
     ]
    },
    {
     "name": "stderr",
     "output_type": "stream",
     "text": [
      "C:\\Users\\AbhiramGopal\\anaconda3\\envs\\ResumeParsing\\lib\\site-packages\\spacy\\util.py:275: UserWarning: [W031] Model 'en_training' (0.0.0) requires spaCy v2.1 and is incompatible with the current spaCy version (2.3.5). This may lead to unexpected results or runtime errors. To resolve this, download a newer compatible model or retrain your custom model with the current spaCy version. For more details and available updates, run: python -m spacy validate\n",
      "  warnings.warn(warn_msg)\n"
     ]
    },
    {
     "name": "stdout",
     "output_type": "stream",
     "text": [
      "821110447_rachan.pdf\n"
     ]
    },
    {
     "name": "stderr",
     "output_type": "stream",
     "text": [
      "C:\\Users\\AbhiramGopal\\anaconda3\\envs\\ResumeParsing\\lib\\site-packages\\spacy\\util.py:275: UserWarning: [W031] Model 'en_training' (0.0.0) requires spaCy v2.1 and is incompatible with the current spaCy version (2.3.5). This may lead to unexpected results or runtime errors. To resolve this, download a newer compatible model or retrain your custom model with the current spaCy version. For more details and available updates, run: python -m spacy validate\n",
      "  warnings.warn(warn_msg)\n"
     ]
    },
    {
     "name": "stdout",
     "output_type": "stream",
     "text": [
      "821110448_RAGHUVEERA.pdf\n"
     ]
    },
    {
     "name": "stderr",
     "output_type": "stream",
     "text": [
      "C:\\Users\\AbhiramGopal\\anaconda3\\envs\\ResumeParsing\\lib\\site-packages\\spacy\\util.py:275: UserWarning: [W031] Model 'en_training' (0.0.0) requires spaCy v2.1 and is incompatible with the current spaCy version (2.3.5). This may lead to unexpected results or runtime errors. To resolve this, download a newer compatible model or retrain your custom model with the current spaCy version. For more details and available updates, run: python -m spacy validate\n",
      "  warnings.warn(warn_msg)\n"
     ]
    },
    {
     "name": "stdout",
     "output_type": "stream",
     "text": [
      "821110464_Saida.pdf\n"
     ]
    },
    {
     "name": "stderr",
     "output_type": "stream",
     "text": [
      "C:\\Users\\AbhiramGopal\\anaconda3\\envs\\ResumeParsing\\lib\\site-packages\\spacy\\util.py:275: UserWarning: [W031] Model 'en_training' (0.0.0) requires spaCy v2.1 and is incompatible with the current spaCy version (2.3.5). This may lead to unexpected results or runtime errors. To resolve this, download a newer compatible model or retrain your custom model with the current spaCy version. For more details and available updates, run: python -m spacy validate\n",
      "  warnings.warn(warn_msg)\n"
     ]
    },
    {
     "name": "stdout",
     "output_type": "stream",
     "text": [
      "821110509_Akash.pdf\n"
     ]
    },
    {
     "name": "stderr",
     "output_type": "stream",
     "text": [
      "C:\\Users\\AbhiramGopal\\anaconda3\\envs\\ResumeParsing\\lib\\site-packages\\spacy\\util.py:275: UserWarning: [W031] Model 'en_training' (0.0.0) requires spaCy v2.1 and is incompatible with the current spaCy version (2.3.5). This may lead to unexpected results or runtime errors. To resolve this, download a newer compatible model or retrain your custom model with the current spaCy version. For more details and available updates, run: python -m spacy validate\n",
      "  warnings.warn(warn_msg)\n"
     ]
    },
    {
     "name": "stdout",
     "output_type": "stream",
     "text": [
      "821110510_AKSHARA.pdf\n"
     ]
    },
    {
     "name": "stderr",
     "output_type": "stream",
     "text": [
      "C:\\Users\\AbhiramGopal\\anaconda3\\envs\\ResumeParsing\\lib\\site-packages\\spacy\\util.py:275: UserWarning: [W031] Model 'en_training' (0.0.0) requires spaCy v2.1 and is incompatible with the current spaCy version (2.3.5). This may lead to unexpected results or runtime errors. To resolve this, download a newer compatible model or retrain your custom model with the current spaCy version. For more details and available updates, run: python -m spacy validate\n",
      "  warnings.warn(warn_msg)\n"
     ]
    },
    {
     "name": "stdout",
     "output_type": "stream",
     "text": [
      "821110511_Alexandra.pdf\n"
     ]
    },
    {
     "name": "stderr",
     "output_type": "stream",
     "text": [
      "C:\\Users\\AbhiramGopal\\anaconda3\\envs\\ResumeParsing\\lib\\site-packages\\spacy\\util.py:275: UserWarning: [W031] Model 'en_training' (0.0.0) requires spaCy v2.1 and is incompatible with the current spaCy version (2.3.5). This may lead to unexpected results or runtime errors. To resolve this, download a newer compatible model or retrain your custom model with the current spaCy version. For more details and available updates, run: python -m spacy validate\n",
      "  warnings.warn(warn_msg)\n"
     ]
    },
    {
     "name": "stdout",
     "output_type": "stream",
     "text": [
      "821110527_.pdf\n"
     ]
    },
    {
     "name": "stderr",
     "output_type": "stream",
     "text": [
      "C:\\Users\\AbhiramGopal\\anaconda3\\envs\\ResumeParsing\\lib\\site-packages\\spacy\\util.py:275: UserWarning: [W031] Model 'en_training' (0.0.0) requires spaCy v2.1 and is incompatible with the current spaCy version (2.3.5). This may lead to unexpected results or runtime errors. To resolve this, download a newer compatible model or retrain your custom model with the current spaCy version. For more details and available updates, run: python -m spacy validate\n",
      "  warnings.warn(warn_msg)\n"
     ]
    },
    {
     "name": "stdout",
     "output_type": "stream",
     "text": [
      "821110528_Wanting.pdf\n"
     ]
    },
    {
     "name": "stderr",
     "output_type": "stream",
     "text": [
      "C:\\Users\\AbhiramGopal\\anaconda3\\envs\\ResumeParsing\\lib\\site-packages\\spacy\\util.py:275: UserWarning: [W031] Model 'en_training' (0.0.0) requires spaCy v2.1 and is incompatible with the current spaCy version (2.3.5). This may lead to unexpected results or runtime errors. To resolve this, download a newer compatible model or retrain your custom model with the current spaCy version. For more details and available updates, run: python -m spacy validate\n",
      "  warnings.warn(warn_msg)\n"
     ]
    },
    {
     "name": "stdout",
     "output_type": "stream",
     "text": [
      "821111539_manaswini.pdf\n"
     ]
    },
    {
     "name": "stderr",
     "output_type": "stream",
     "text": [
      "C:\\Users\\AbhiramGopal\\anaconda3\\envs\\ResumeParsing\\lib\\site-packages\\spacy\\util.py:275: UserWarning: [W031] Model 'en_training' (0.0.0) requires spaCy v2.1 and is incompatible with the current spaCy version (2.3.5). This may lead to unexpected results or runtime errors. To resolve this, download a newer compatible model or retrain your custom model with the current spaCy version. For more details and available updates, run: python -m spacy validate\n",
      "  warnings.warn(warn_msg)\n"
     ]
    },
    {
     "name": "stdout",
     "output_type": "stream",
     "text": [
      "821112919_mohit.pdf\n"
     ]
    },
    {
     "name": "stderr",
     "output_type": "stream",
     "text": [
      "C:\\Users\\AbhiramGopal\\anaconda3\\envs\\ResumeParsing\\lib\\site-packages\\spacy\\util.py:275: UserWarning: [W031] Model 'en_training' (0.0.0) requires spaCy v2.1 and is incompatible with the current spaCy version (2.3.5). This may lead to unexpected results or runtime errors. To resolve this, download a newer compatible model or retrain your custom model with the current spaCy version. For more details and available updates, run: python -m spacy validate\n",
      "  warnings.warn(warn_msg)\n"
     ]
    },
    {
     "name": "stdout",
     "output_type": "stream",
     "text": [
      "821112928_yechen.pdf\n"
     ]
    },
    {
     "name": "stderr",
     "output_type": "stream",
     "text": [
      "C:\\Users\\AbhiramGopal\\anaconda3\\envs\\ResumeParsing\\lib\\site-packages\\spacy\\util.py:275: UserWarning: [W031] Model 'en_training' (0.0.0) requires spaCy v2.1 and is incompatible with the current spaCy version (2.3.5). This may lead to unexpected results or runtime errors. To resolve this, download a newer compatible model or retrain your custom model with the current spaCy version. For more details and available updates, run: python -m spacy validate\n",
      "  warnings.warn(warn_msg)\n"
     ]
    },
    {
     "name": "stdout",
     "output_type": "stream",
     "text": [
      "821122313_Dimple.pdf\n"
     ]
    },
    {
     "name": "stderr",
     "output_type": "stream",
     "text": [
      "C:\\Users\\AbhiramGopal\\anaconda3\\envs\\ResumeParsing\\lib\\site-packages\\spacy\\util.py:275: UserWarning: [W031] Model 'en_training' (0.0.0) requires spaCy v2.1 and is incompatible with the current spaCy version (2.3.5). This may lead to unexpected results or runtime errors. To resolve this, download a newer compatible model or retrain your custom model with the current spaCy version. For more details and available updates, run: python -m spacy validate\n",
      "  warnings.warn(warn_msg)\n"
     ]
    },
    {
     "name": "stdout",
     "output_type": "stream",
     "text": [
      "821122315_Indupriya.pdf\n"
     ]
    },
    {
     "name": "stderr",
     "output_type": "stream",
     "text": [
      "C:\\Users\\AbhiramGopal\\anaconda3\\envs\\ResumeParsing\\lib\\site-packages\\spacy\\util.py:275: UserWarning: [W031] Model 'en_training' (0.0.0) requires spaCy v2.1 and is incompatible with the current spaCy version (2.3.5). This may lead to unexpected results or runtime errors. To resolve this, download a newer compatible model or retrain your custom model with the current spaCy version. For more details and available updates, run: python -m spacy validate\n",
      "  warnings.warn(warn_msg)\n"
     ]
    },
    {
     "name": "stdout",
     "output_type": "stream",
     "text": [
      "821122316_James.pdf\n"
     ]
    },
    {
     "name": "stderr",
     "output_type": "stream",
     "text": [
      "C:\\Users\\AbhiramGopal\\anaconda3\\envs\\ResumeParsing\\lib\\site-packages\\spacy\\util.py:275: UserWarning: [W031] Model 'en_training' (0.0.0) requires spaCy v2.1 and is incompatible with the current spaCy version (2.3.5). This may lead to unexpected results or runtime errors. To resolve this, download a newer compatible model or retrain your custom model with the current spaCy version. For more details and available updates, run: python -m spacy validate\n",
      "  warnings.warn(warn_msg)\n"
     ]
    },
    {
     "name": "stdout",
     "output_type": "stream",
     "text": [
      "822010605_anya.pdf\n"
     ]
    },
    {
     "name": "stderr",
     "output_type": "stream",
     "text": [
      "C:\\Users\\AbhiramGopal\\anaconda3\\envs\\ResumeParsing\\lib\\site-packages\\spacy\\util.py:275: UserWarning: [W031] Model 'en_training' (0.0.0) requires spaCy v2.1 and is incompatible with the current spaCy version (2.3.5). This may lead to unexpected results or runtime errors. To resolve this, download a newer compatible model or retrain your custom model with the current spaCy version. For more details and available updates, run: python -m spacy validate\n",
      "  warnings.warn(warn_msg)\n"
     ]
    },
    {
     "name": "stdout",
     "output_type": "stream",
     "text": [
      "822010628_ryan.pdf\n"
     ]
    },
    {
     "name": "stderr",
     "output_type": "stream",
     "text": [
      "C:\\Users\\AbhiramGopal\\anaconda3\\envs\\ResumeParsing\\lib\\site-packages\\spacy\\util.py:275: UserWarning: [W031] Model 'en_training' (0.0.0) requires spaCy v2.1 and is incompatible with the current spaCy version (2.3.5). This may lead to unexpected results or runtime errors. To resolve this, download a newer compatible model or retrain your custom model with the current spaCy version. For more details and available updates, run: python -m spacy validate\n",
      "  warnings.warn(warn_msg)\n"
     ]
    },
    {
     "name": "stdout",
     "output_type": "stream",
     "text": [
      "822011416_Mayank.pdf\n"
     ]
    },
    {
     "name": "stderr",
     "output_type": "stream",
     "text": [
      "C:\\Users\\AbhiramGopal\\anaconda3\\envs\\ResumeParsing\\lib\\site-packages\\spacy\\util.py:275: UserWarning: [W031] Model 'en_training' (0.0.0) requires spaCy v2.1 and is incompatible with the current spaCy version (2.3.5). This may lead to unexpected results or runtime errors. To resolve this, download a newer compatible model or retrain your custom model with the current spaCy version. For more details and available updates, run: python -m spacy validate\n",
      "  warnings.warn(warn_msg)\n"
     ]
    },
    {
     "name": "stdout",
     "output_type": "stream",
     "text": [
      "822011417_Abhinay.pdf\n"
     ]
    },
    {
     "name": "stderr",
     "output_type": "stream",
     "text": [
      "C:\\Users\\AbhiramGopal\\anaconda3\\envs\\ResumeParsing\\lib\\site-packages\\spacy\\util.py:275: UserWarning: [W031] Model 'en_training' (0.0.0) requires spaCy v2.1 and is incompatible with the current spaCy version (2.3.5). This may lead to unexpected results or runtime errors. To resolve this, download a newer compatible model or retrain your custom model with the current spaCy version. For more details and available updates, run: python -m spacy validate\n",
      "  warnings.warn(warn_msg)\n"
     ]
    },
    {
     "name": "stdout",
     "output_type": "stream",
     "text": [
      "822013101_Noah.pdf\n"
     ]
    },
    {
     "name": "stderr",
     "output_type": "stream",
     "text": [
      "C:\\Users\\AbhiramGopal\\anaconda3\\envs\\ResumeParsing\\lib\\site-packages\\spacy\\util.py:275: UserWarning: [W031] Model 'en_training' (0.0.0) requires spaCy v2.1 and is incompatible with the current spaCy version (2.3.5). This may lead to unexpected results or runtime errors. To resolve this, download a newer compatible model or retrain your custom model with the current spaCy version. For more details and available updates, run: python -m spacy validate\n",
      "  warnings.warn(warn_msg)\n"
     ]
    },
    {
     "name": "stdout",
     "output_type": "stream",
     "text": [
      "AbhilashRajaram.pdf\n"
     ]
    },
    {
     "name": "stderr",
     "output_type": "stream",
     "text": [
      "C:\\Users\\AbhiramGopal\\anaconda3\\envs\\ResumeParsing\\lib\\site-packages\\spacy\\util.py:275: UserWarning: [W031] Model 'en_training' (0.0.0) requires spaCy v2.1 and is incompatible with the current spaCy version (2.3.5). This may lead to unexpected results or runtime errors. To resolve this, download a newer compatible model or retrain your custom model with the current spaCy version. For more details and available updates, run: python -m spacy validate\n",
      "  warnings.warn(warn_msg)\n",
      "ERROR:root:'NoneType' object has no attribute 'group'\n"
     ]
    },
    {
     "name": "stdout",
     "output_type": "stream",
     "text": [
      "AdamDinser.pdf\n"
     ]
    },
    {
     "name": "stderr",
     "output_type": "stream",
     "text": [
      "C:\\Users\\AbhiramGopal\\anaconda3\\envs\\ResumeParsing\\lib\\site-packages\\spacy\\util.py:275: UserWarning: [W031] Model 'en_training' (0.0.0) requires spaCy v2.1 and is incompatible with the current spaCy version (2.3.5). This may lead to unexpected results or runtime errors. To resolve this, download a newer compatible model or retrain your custom model with the current spaCy version. For more details and available updates, run: python -m spacy validate\n",
      "  warnings.warn(warn_msg)\n"
     ]
    },
    {
     "name": "stdout",
     "output_type": "stream",
     "text": [
      "AdeolaAdesoba.pdf\n"
     ]
    },
    {
     "name": "stderr",
     "output_type": "stream",
     "text": [
      "C:\\Users\\AbhiramGopal\\anaconda3\\envs\\ResumeParsing\\lib\\site-packages\\spacy\\util.py:275: UserWarning: [W031] Model 'en_training' (0.0.0) requires spaCy v2.1 and is incompatible with the current spaCy version (2.3.5). This may lead to unexpected results or runtime errors. To resolve this, download a newer compatible model or retrain your custom model with the current spaCy version. For more details and available updates, run: python -m spacy validate\n",
      "  warnings.warn(warn_msg)\n"
     ]
    },
    {
     "name": "stdout",
     "output_type": "stream",
     "text": [
      "AjayPrasathManoharan.pdf\n"
     ]
    },
    {
     "name": "stderr",
     "output_type": "stream",
     "text": [
      "C:\\Users\\AbhiramGopal\\anaconda3\\envs\\ResumeParsing\\lib\\site-packages\\spacy\\util.py:275: UserWarning: [W031] Model 'en_training' (0.0.0) requires spaCy v2.1 and is incompatible with the current spaCy version (2.3.5). This may lead to unexpected results or runtime errors. To resolve this, download a newer compatible model or retrain your custom model with the current spaCy version. For more details and available updates, run: python -m spacy validate\n",
      "  warnings.warn(warn_msg)\n"
     ]
    },
    {
     "name": "stdout",
     "output_type": "stream",
     "text": [
      "AkshayKajale.pdf\n"
     ]
    },
    {
     "name": "stderr",
     "output_type": "stream",
     "text": [
      "C:\\Users\\AbhiramGopal\\anaconda3\\envs\\ResumeParsing\\lib\\site-packages\\spacy\\util.py:275: UserWarning: [W031] Model 'en_training' (0.0.0) requires spaCy v2.1 and is incompatible with the current spaCy version (2.3.5). This may lead to unexpected results or runtime errors. To resolve this, download a newer compatible model or retrain your custom model with the current spaCy version. For more details and available updates, run: python -m spacy validate\n",
      "  warnings.warn(warn_msg)\n"
     ]
    },
    {
     "name": "stdout",
     "output_type": "stream",
     "text": [
      "Alexander Friend.pdf\n"
     ]
    },
    {
     "name": "stderr",
     "output_type": "stream",
     "text": [
      "C:\\Users\\AbhiramGopal\\anaconda3\\envs\\ResumeParsing\\lib\\site-packages\\spacy\\util.py:275: UserWarning: [W031] Model 'en_training' (0.0.0) requires spaCy v2.1 and is incompatible with the current spaCy version (2.3.5). This may lead to unexpected results or runtime errors. To resolve this, download a newer compatible model or retrain your custom model with the current spaCy version. For more details and available updates, run: python -m spacy validate\n",
      "  warnings.warn(warn_msg)\n"
     ]
    },
    {
     "name": "stdout",
     "output_type": "stream",
     "text": [
      "AmarJha.pdf\n"
     ]
    },
    {
     "name": "stderr",
     "output_type": "stream",
     "text": [
      "C:\\Users\\AbhiramGopal\\anaconda3\\envs\\ResumeParsing\\lib\\site-packages\\spacy\\util.py:275: UserWarning: [W031] Model 'en_training' (0.0.0) requires spaCy v2.1 and is incompatible with the current spaCy version (2.3.5). This may lead to unexpected results or runtime errors. To resolve this, download a newer compatible model or retrain your custom model with the current spaCy version. For more details and available updates, run: python -m spacy validate\n",
      "  warnings.warn(warn_msg)\n"
     ]
    },
    {
     "name": "stdout",
     "output_type": "stream",
     "text": [
      "AmolAgrawal.pdf\n"
     ]
    },
    {
     "name": "stderr",
     "output_type": "stream",
     "text": [
      "C:\\Users\\AbhiramGopal\\anaconda3\\envs\\ResumeParsing\\lib\\site-packages\\spacy\\util.py:275: UserWarning: [W031] Model 'en_training' (0.0.0) requires spaCy v2.1 and is incompatible with the current spaCy version (2.3.5). This may lead to unexpected results or runtime errors. To resolve this, download a newer compatible model or retrain your custom model with the current spaCy version. For more details and available updates, run: python -m spacy validate\n",
      "  warnings.warn(warn_msg)\n"
     ]
    },
    {
     "name": "stdout",
     "output_type": "stream",
     "text": [
      "AndrewLin.pdf\n"
     ]
    },
    {
     "name": "stderr",
     "output_type": "stream",
     "text": [
      "C:\\Users\\AbhiramGopal\\anaconda3\\envs\\ResumeParsing\\lib\\site-packages\\spacy\\util.py:275: UserWarning: [W031] Model 'en_training' (0.0.0) requires spaCy v2.1 and is incompatible with the current spaCy version (2.3.5). This may lead to unexpected results or runtime errors. To resolve this, download a newer compatible model or retrain your custom model with the current spaCy version. For more details and available updates, run: python -m spacy validate\n",
      "  warnings.warn(warn_msg)\n"
     ]
    },
    {
     "name": "stdout",
     "output_type": "stream",
     "text": [
      "AnirudhSuram.pdf\n"
     ]
    },
    {
     "name": "stderr",
     "output_type": "stream",
     "text": [
      "C:\\Users\\AbhiramGopal\\anaconda3\\envs\\ResumeParsing\\lib\\site-packages\\spacy\\util.py:275: UserWarning: [W031] Model 'en_training' (0.0.0) requires spaCy v2.1 and is incompatible with the current spaCy version (2.3.5). This may lead to unexpected results or runtime errors. To resolve this, download a newer compatible model or retrain your custom model with the current spaCy version. For more details and available updates, run: python -m spacy validate\n",
      "  warnings.warn(warn_msg)\n"
     ]
    },
    {
     "name": "stdout",
     "output_type": "stream",
     "text": [
      "AnnapoornaGopalakrishhna.pdf\n"
     ]
    },
    {
     "name": "stderr",
     "output_type": "stream",
     "text": [
      "C:\\Users\\AbhiramGopal\\anaconda3\\envs\\ResumeParsing\\lib\\site-packages\\spacy\\util.py:275: UserWarning: [W031] Model 'en_training' (0.0.0) requires spaCy v2.1 and is incompatible with the current spaCy version (2.3.5). This may lead to unexpected results or runtime errors. To resolve this, download a newer compatible model or retrain your custom model with the current spaCy version. For more details and available updates, run: python -m spacy validate\n",
      "  warnings.warn(warn_msg)\n"
     ]
    },
    {
     "name": "stdout",
     "output_type": "stream",
     "text": [
      "AnttonWillbanks.pdf\n"
     ]
    },
    {
     "name": "stderr",
     "output_type": "stream",
     "text": [
      "C:\\Users\\AbhiramGopal\\anaconda3\\envs\\ResumeParsing\\lib\\site-packages\\spacy\\util.py:275: UserWarning: [W031] Model 'en_training' (0.0.0) requires spaCy v2.1 and is incompatible with the current spaCy version (2.3.5). This may lead to unexpected results or runtime errors. To resolve this, download a newer compatible model or retrain your custom model with the current spaCy version. For more details and available updates, run: python -m spacy validate\n",
      "  warnings.warn(warn_msg)\n"
     ]
    },
    {
     "name": "stdout",
     "output_type": "stream",
     "text": [
      "AnyaPatel.pdf\n"
     ]
    },
    {
     "name": "stderr",
     "output_type": "stream",
     "text": [
      "C:\\Users\\AbhiramGopal\\anaconda3\\envs\\ResumeParsing\\lib\\site-packages\\spacy\\util.py:275: UserWarning: [W031] Model 'en_training' (0.0.0) requires spaCy v2.1 and is incompatible with the current spaCy version (2.3.5). This may lead to unexpected results or runtime errors. To resolve this, download a newer compatible model or retrain your custom model with the current spaCy version. For more details and available updates, run: python -m spacy validate\n",
      "  warnings.warn(warn_msg)\n"
     ]
    },
    {
     "name": "stdout",
     "output_type": "stream",
     "text": [
      "ArchitPrem.pdf\n"
     ]
    },
    {
     "name": "stderr",
     "output_type": "stream",
     "text": [
      "C:\\Users\\AbhiramGopal\\anaconda3\\envs\\ResumeParsing\\lib\\site-packages\\spacy\\util.py:275: UserWarning: [W031] Model 'en_training' (0.0.0) requires spaCy v2.1 and is incompatible with the current spaCy version (2.3.5). This may lead to unexpected results or runtime errors. To resolve this, download a newer compatible model or retrain your custom model with the current spaCy version. For more details and available updates, run: python -m spacy validate\n",
      "  warnings.warn(warn_msg)\n"
     ]
    },
    {
     "name": "stdout",
     "output_type": "stream",
     "text": [
      "AshviSoni.pdf\n"
     ]
    },
    {
     "name": "stderr",
     "output_type": "stream",
     "text": [
      "C:\\Users\\AbhiramGopal\\anaconda3\\envs\\ResumeParsing\\lib\\site-packages\\spacy\\util.py:275: UserWarning: [W031] Model 'en_training' (0.0.0) requires spaCy v2.1 and is incompatible with the current spaCy version (2.3.5). This may lead to unexpected results or runtime errors. To resolve this, download a newer compatible model or retrain your custom model with the current spaCy version. For more details and available updates, run: python -m spacy validate\n",
      "  warnings.warn(warn_msg)\n"
     ]
    },
    {
     "name": "stdout",
     "output_type": "stream",
     "text": [
      "BaiyuChen.pdf\n"
     ]
    },
    {
     "name": "stderr",
     "output_type": "stream",
     "text": [
      "C:\\Users\\AbhiramGopal\\anaconda3\\envs\\ResumeParsing\\lib\\site-packages\\spacy\\util.py:275: UserWarning: [W031] Model 'en_training' (0.0.0) requires spaCy v2.1 and is incompatible with the current spaCy version (2.3.5). This may lead to unexpected results or runtime errors. To resolve this, download a newer compatible model or retrain your custom model with the current spaCy version. For more details and available updates, run: python -m spacy validate\n",
      "  warnings.warn(warn_msg)\n"
     ]
    },
    {
     "name": "stdout",
     "output_type": "stream",
     "text": [
      "BhavikaChavda.pdf\n"
     ]
    },
    {
     "name": "stderr",
     "output_type": "stream",
     "text": [
      "C:\\Users\\AbhiramGopal\\anaconda3\\envs\\ResumeParsing\\lib\\site-packages\\spacy\\util.py:275: UserWarning: [W031] Model 'en_training' (0.0.0) requires spaCy v2.1 and is incompatible with the current spaCy version (2.3.5). This may lead to unexpected results or runtime errors. To resolve this, download a newer compatible model or retrain your custom model with the current spaCy version. For more details and available updates, run: python -m spacy validate\n",
      "  warnings.warn(warn_msg)\n"
     ]
    },
    {
     "name": "stdout",
     "output_type": "stream",
     "text": [
      "BokyeungKim.pdf\n"
     ]
    },
    {
     "name": "stderr",
     "output_type": "stream",
     "text": [
      "C:\\Users\\AbhiramGopal\\anaconda3\\envs\\ResumeParsing\\lib\\site-packages\\spacy\\util.py:275: UserWarning: [W031] Model 'en_training' (0.0.0) requires spaCy v2.1 and is incompatible with the current spaCy version (2.3.5). This may lead to unexpected results or runtime errors. To resolve this, download a newer compatible model or retrain your custom model with the current spaCy version. For more details and available updates, run: python -m spacy validate\n",
      "  warnings.warn(warn_msg)\n"
     ]
    },
    {
     "name": "stdout",
     "output_type": "stream",
     "text": [
      "BonTrinh.pdf\n"
     ]
    },
    {
     "name": "stderr",
     "output_type": "stream",
     "text": [
      "C:\\Users\\AbhiramGopal\\anaconda3\\envs\\ResumeParsing\\lib\\site-packages\\spacy\\util.py:275: UserWarning: [W031] Model 'en_training' (0.0.0) requires spaCy v2.1 and is incompatible with the current spaCy version (2.3.5). This may lead to unexpected results or runtime errors. To resolve this, download a newer compatible model or retrain your custom model with the current spaCy version. For more details and available updates, run: python -m spacy validate\n",
      "  warnings.warn(warn_msg)\n"
     ]
    },
    {
     "name": "stdout",
     "output_type": "stream",
     "text": [
      "BukaCakrawala.pdf\n"
     ]
    },
    {
     "name": "stderr",
     "output_type": "stream",
     "text": [
      "C:\\Users\\AbhiramGopal\\anaconda3\\envs\\ResumeParsing\\lib\\site-packages\\spacy\\util.py:275: UserWarning: [W031] Model 'en_training' (0.0.0) requires spaCy v2.1 and is incompatible with the current spaCy version (2.3.5). This may lead to unexpected results or runtime errors. To resolve this, download a newer compatible model or retrain your custom model with the current spaCy version. For more details and available updates, run: python -m spacy validate\n",
      "  warnings.warn(warn_msg)\n"
     ]
    },
    {
     "name": "stdout",
     "output_type": "stream",
     "text": [
      "C01-21111807_Andrew_Decker.pdf\n"
     ]
    },
    {
     "name": "stderr",
     "output_type": "stream",
     "text": [
      "C:\\Users\\AbhiramGopal\\anaconda3\\envs\\ResumeParsing\\lib\\site-packages\\spacy\\util.py:275: UserWarning: [W031] Model 'en_training' (0.0.0) requires spaCy v2.1 and is incompatible with the current spaCy version (2.3.5). This may lead to unexpected results or runtime errors. To resolve this, download a newer compatible model or retrain your custom model with the current spaCy version. For more details and available updates, run: python -m spacy validate\n",
      "  warnings.warn(warn_msg)\n"
     ]
    },
    {
     "name": "stdout",
     "output_type": "stream",
     "text": [
      "C01-21120201_Jiayue_Fei.pdf\n"
     ]
    },
    {
     "name": "stderr",
     "output_type": "stream",
     "text": [
      "C:\\Users\\AbhiramGopal\\anaconda3\\envs\\ResumeParsing\\lib\\site-packages\\spacy\\util.py:275: UserWarning: [W031] Model 'en_training' (0.0.0) requires spaCy v2.1 and is incompatible with the current spaCy version (2.3.5). This may lead to unexpected results or runtime errors. To resolve this, download a newer compatible model or retrain your custom model with the current spaCy version. For more details and available updates, run: python -m spacy validate\n",
      "  warnings.warn(warn_msg)\n"
     ]
    },
    {
     "name": "stdout",
     "output_type": "stream",
     "text": [
      "CahyariniHariga.pdf\n"
     ]
    },
    {
     "name": "stderr",
     "output_type": "stream",
     "text": [
      "C:\\Users\\AbhiramGopal\\anaconda3\\envs\\ResumeParsing\\lib\\site-packages\\spacy\\util.py:275: UserWarning: [W031] Model 'en_training' (0.0.0) requires spaCy v2.1 and is incompatible with the current spaCy version (2.3.5). This may lead to unexpected results or runtime errors. To resolve this, download a newer compatible model or retrain your custom model with the current spaCy version. For more details and available updates, run: python -m spacy validate\n",
      "  warnings.warn(warn_msg)\n"
     ]
    },
    {
     "name": "stdout",
     "output_type": "stream",
     "text": [
      "CarlosPerez.pdf\n"
     ]
    },
    {
     "name": "stderr",
     "output_type": "stream",
     "text": [
      "C:\\Users\\AbhiramGopal\\anaconda3\\envs\\ResumeParsing\\lib\\site-packages\\spacy\\util.py:275: UserWarning: [W031] Model 'en_training' (0.0.0) requires spaCy v2.1 and is incompatible with the current spaCy version (2.3.5). This may lead to unexpected results or runtime errors. To resolve this, download a newer compatible model or retrain your custom model with the current spaCy version. For more details and available updates, run: python -m spacy validate\n",
      "  warnings.warn(warn_msg)\n"
     ]
    },
    {
     "name": "stdout",
     "output_type": "stream",
     "text": [
      "CassinEdwin.pdf\n"
     ]
    },
    {
     "name": "stderr",
     "output_type": "stream",
     "text": [
      "C:\\Users\\AbhiramGopal\\anaconda3\\envs\\ResumeParsing\\lib\\site-packages\\spacy\\util.py:275: UserWarning: [W031] Model 'en_training' (0.0.0) requires spaCy v2.1 and is incompatible with the current spaCy version (2.3.5). This may lead to unexpected results or runtime errors. To resolve this, download a newer compatible model or retrain your custom model with the current spaCy version. For more details and available updates, run: python -m spacy validate\n",
      "  warnings.warn(warn_msg)\n"
     ]
    },
    {
     "name": "stdout",
     "output_type": "stream",
     "text": [
      "ChengwiChen.pdf\n"
     ]
    },
    {
     "name": "stderr",
     "output_type": "stream",
     "text": [
      "C:\\Users\\AbhiramGopal\\anaconda3\\envs\\ResumeParsing\\lib\\site-packages\\spacy\\util.py:275: UserWarning: [W031] Model 'en_training' (0.0.0) requires spaCy v2.1 and is incompatible with the current spaCy version (2.3.5). This may lead to unexpected results or runtime errors. To resolve this, download a newer compatible model or retrain your custom model with the current spaCy version. For more details and available updates, run: python -m spacy validate\n",
      "  warnings.warn(warn_msg)\n"
     ]
    },
    {
     "name": "stdout",
     "output_type": "stream",
     "text": [
      "ChetnaKhanna.pdf\n"
     ]
    },
    {
     "name": "stderr",
     "output_type": "stream",
     "text": [
      "C:\\Users\\AbhiramGopal\\anaconda3\\envs\\ResumeParsing\\lib\\site-packages\\spacy\\util.py:275: UserWarning: [W031] Model 'en_training' (0.0.0) requires spaCy v2.1 and is incompatible with the current spaCy version (2.3.5). This may lead to unexpected results or runtime errors. To resolve this, download a newer compatible model or retrain your custom model with the current spaCy version. For more details and available updates, run: python -m spacy validate\n",
      "  warnings.warn(warn_msg)\n"
     ]
    },
    {
     "name": "stdout",
     "output_type": "stream",
     "text": [
      "DhruvParikh.pdf\n"
     ]
    },
    {
     "name": "stderr",
     "output_type": "stream",
     "text": [
      "C:\\Users\\AbhiramGopal\\anaconda3\\envs\\ResumeParsing\\lib\\site-packages\\spacy\\util.py:275: UserWarning: [W031] Model 'en_training' (0.0.0) requires spaCy v2.1 and is incompatible with the current spaCy version (2.3.5). This may lead to unexpected results or runtime errors. To resolve this, download a newer compatible model or retrain your custom model with the current spaCy version. For more details and available updates, run: python -m spacy validate\n",
      "  warnings.warn(warn_msg)\n"
     ]
    },
    {
     "name": "stdout",
     "output_type": "stream",
     "text": [
      "DhwaniGandhi.pdf\n"
     ]
    },
    {
     "name": "stderr",
     "output_type": "stream",
     "text": [
      "C:\\Users\\AbhiramGopal\\anaconda3\\envs\\ResumeParsing\\lib\\site-packages\\spacy\\util.py:275: UserWarning: [W031] Model 'en_training' (0.0.0) requires spaCy v2.1 and is incompatible with the current spaCy version (2.3.5). This may lead to unexpected results or runtime errors. To resolve this, download a newer compatible model or retrain your custom model with the current spaCy version. For more details and available updates, run: python -m spacy validate\n",
      "  warnings.warn(warn_msg)\n"
     ]
    },
    {
     "name": "stdout",
     "output_type": "stream",
     "text": [
      "DimpleMehra.pdf\n"
     ]
    },
    {
     "name": "stderr",
     "output_type": "stream",
     "text": [
      "C:\\Users\\AbhiramGopal\\anaconda3\\envs\\ResumeParsing\\lib\\site-packages\\spacy\\util.py:275: UserWarning: [W031] Model 'en_training' (0.0.0) requires spaCy v2.1 and is incompatible with the current spaCy version (2.3.5). This may lead to unexpected results or runtime errors. To resolve this, download a newer compatible model or retrain your custom model with the current spaCy version. For more details and available updates, run: python -m spacy validate\n",
      "  warnings.warn(warn_msg)\n"
     ]
    },
    {
     "name": "stdout",
     "output_type": "stream",
     "text": [
      "DivyaManku.pdf\n"
     ]
    },
    {
     "name": "stderr",
     "output_type": "stream",
     "text": [
      "C:\\Users\\AbhiramGopal\\anaconda3\\envs\\ResumeParsing\\lib\\site-packages\\spacy\\util.py:275: UserWarning: [W031] Model 'en_training' (0.0.0) requires spaCy v2.1 and is incompatible with the current spaCy version (2.3.5). This may lead to unexpected results or runtime errors. To resolve this, download a newer compatible model or retrain your custom model with the current spaCy version. For more details and available updates, run: python -m spacy validate\n",
      "  warnings.warn(warn_msg)\n"
     ]
    },
    {
     "name": "stdout",
     "output_type": "stream",
     "text": [
      "ElijahHall.pdf\n"
     ]
    },
    {
     "name": "stderr",
     "output_type": "stream",
     "text": [
      "C:\\Users\\AbhiramGopal\\anaconda3\\envs\\ResumeParsing\\lib\\site-packages\\spacy\\util.py:275: UserWarning: [W031] Model 'en_training' (0.0.0) requires spaCy v2.1 and is incompatible with the current spaCy version (2.3.5). This may lead to unexpected results or runtime errors. To resolve this, download a newer compatible model or retrain your custom model with the current spaCy version. For more details and available updates, run: python -m spacy validate\n",
      "  warnings.warn(warn_msg)\n"
     ]
    },
    {
     "name": "stdout",
     "output_type": "stream",
     "text": [
      "EvanJones.pdf\n"
     ]
    },
    {
     "name": "stderr",
     "output_type": "stream",
     "text": [
      "C:\\Users\\AbhiramGopal\\anaconda3\\envs\\ResumeParsing\\lib\\site-packages\\spacy\\util.py:275: UserWarning: [W031] Model 'en_training' (0.0.0) requires spaCy v2.1 and is incompatible with the current spaCy version (2.3.5). This may lead to unexpected results or runtime errors. To resolve this, download a newer compatible model or retrain your custom model with the current spaCy version. For more details and available updates, run: python -m spacy validate\n",
      "  warnings.warn(warn_msg)\n"
     ]
    },
    {
     "name": "stdout",
     "output_type": "stream",
     "text": [
      "EvanJoyce.pdf\n"
     ]
    },
    {
     "name": "stderr",
     "output_type": "stream",
     "text": [
      "C:\\Users\\AbhiramGopal\\anaconda3\\envs\\ResumeParsing\\lib\\site-packages\\spacy\\util.py:275: UserWarning: [W031] Model 'en_training' (0.0.0) requires spaCy v2.1 and is incompatible with the current spaCy version (2.3.5). This may lead to unexpected results or runtime errors. To resolve this, download a newer compatible model or retrain your custom model with the current spaCy version. For more details and available updates, run: python -m spacy validate\n",
      "  warnings.warn(warn_msg)\n"
     ]
    },
    {
     "name": "stdout",
     "output_type": "stream",
     "text": [
      "GaliSabyr.pdf\n"
     ]
    },
    {
     "name": "stderr",
     "output_type": "stream",
     "text": [
      "C:\\Users\\AbhiramGopal\\anaconda3\\envs\\ResumeParsing\\lib\\site-packages\\spacy\\util.py:275: UserWarning: [W031] Model 'en_training' (0.0.0) requires spaCy v2.1 and is incompatible with the current spaCy version (2.3.5). This may lead to unexpected results or runtime errors. To resolve this, download a newer compatible model or retrain your custom model with the current spaCy version. For more details and available updates, run: python -m spacy validate\n",
      "  warnings.warn(warn_msg)\n"
     ]
    },
    {
     "name": "stdout",
     "output_type": "stream",
     "text": [
      "GrishmaParajuli.pdf\n"
     ]
    },
    {
     "name": "stderr",
     "output_type": "stream",
     "text": [
      "C:\\Users\\AbhiramGopal\\anaconda3\\envs\\ResumeParsing\\lib\\site-packages\\spacy\\util.py:275: UserWarning: [W031] Model 'en_training' (0.0.0) requires spaCy v2.1 and is incompatible with the current spaCy version (2.3.5). This may lead to unexpected results or runtime errors. To resolve this, download a newer compatible model or retrain your custom model with the current spaCy version. For more details and available updates, run: python -m spacy validate\n",
      "  warnings.warn(warn_msg)\n"
     ]
    },
    {
     "name": "stdout",
     "output_type": "stream",
     "text": [
      "Hamza Abdelghani.pdf\n"
     ]
    },
    {
     "name": "stderr",
     "output_type": "stream",
     "text": [
      "C:\\Users\\AbhiramGopal\\anaconda3\\envs\\ResumeParsing\\lib\\site-packages\\spacy\\util.py:275: UserWarning: [W031] Model 'en_training' (0.0.0) requires spaCy v2.1 and is incompatible with the current spaCy version (2.3.5). This may lead to unexpected results or runtime errors. To resolve this, download a newer compatible model or retrain your custom model with the current spaCy version. For more details and available updates, run: python -m spacy validate\n",
      "  warnings.warn(warn_msg)\n"
     ]
    },
    {
     "name": "stdout",
     "output_type": "stream",
     "text": [
      "IndupriyaKompiS.pdf\n"
     ]
    },
    {
     "name": "stderr",
     "output_type": "stream",
     "text": [
      "C:\\Users\\AbhiramGopal\\anaconda3\\envs\\ResumeParsing\\lib\\site-packages\\spacy\\util.py:275: UserWarning: [W031] Model 'en_training' (0.0.0) requires spaCy v2.1 and is incompatible with the current spaCy version (2.3.5). This may lead to unexpected results or runtime errors. To resolve this, download a newer compatible model or retrain your custom model with the current spaCy version. For more details and available updates, run: python -m spacy validate\n",
      "  warnings.warn(warn_msg)\n"
     ]
    },
    {
     "name": "stdout",
     "output_type": "stream",
     "text": [
      "JairoCarreon.pdf\n"
     ]
    },
    {
     "name": "stderr",
     "output_type": "stream",
     "text": [
      "C:\\Users\\AbhiramGopal\\anaconda3\\envs\\ResumeParsing\\lib\\site-packages\\spacy\\util.py:275: UserWarning: [W031] Model 'en_training' (0.0.0) requires spaCy v2.1 and is incompatible with the current spaCy version (2.3.5). This may lead to unexpected results or runtime errors. To resolve this, download a newer compatible model or retrain your custom model with the current spaCy version. For more details and available updates, run: python -m spacy validate\n",
      "  warnings.warn(warn_msg)\n"
     ]
    },
    {
     "name": "stdout",
     "output_type": "stream",
     "text": [
      "JamesRenierDomingo.pdf\n"
     ]
    },
    {
     "name": "stderr",
     "output_type": "stream",
     "text": [
      "C:\\Users\\AbhiramGopal\\anaconda3\\envs\\ResumeParsing\\lib\\site-packages\\spacy\\util.py:275: UserWarning: [W031] Model 'en_training' (0.0.0) requires spaCy v2.1 and is incompatible with the current spaCy version (2.3.5). This may lead to unexpected results or runtime errors. To resolve this, download a newer compatible model or retrain your custom model with the current spaCy version. For more details and available updates, run: python -m spacy validate\n",
      "  warnings.warn(warn_msg)\n"
     ]
    },
    {
     "name": "stdout",
     "output_type": "stream",
     "text": [
      "JialuXia.pdf\n"
     ]
    },
    {
     "name": "stderr",
     "output_type": "stream",
     "text": [
      "C:\\Users\\AbhiramGopal\\anaconda3\\envs\\ResumeParsing\\lib\\site-packages\\spacy\\util.py:275: UserWarning: [W031] Model 'en_training' (0.0.0) requires spaCy v2.1 and is incompatible with the current spaCy version (2.3.5). This may lead to unexpected results or runtime errors. To resolve this, download a newer compatible model or retrain your custom model with the current spaCy version. For more details and available updates, run: python -m spacy validate\n",
      "  warnings.warn(warn_msg)\n"
     ]
    },
    {
     "name": "stdout",
     "output_type": "stream",
     "text": [
      "JianboGu.pdf\n"
     ]
    },
    {
     "name": "stderr",
     "output_type": "stream",
     "text": [
      "C:\\Users\\AbhiramGopal\\anaconda3\\envs\\ResumeParsing\\lib\\site-packages\\spacy\\util.py:275: UserWarning: [W031] Model 'en_training' (0.0.0) requires spaCy v2.1 and is incompatible with the current spaCy version (2.3.5). This may lead to unexpected results or runtime errors. To resolve this, download a newer compatible model or retrain your custom model with the current spaCy version. For more details and available updates, run: python -m spacy validate\n",
      "  warnings.warn(warn_msg)\n"
     ]
    },
    {
     "name": "stdout",
     "output_type": "stream",
     "text": [
      "JiehongLiu.pdf\n"
     ]
    },
    {
     "name": "stderr",
     "output_type": "stream",
     "text": [
      "C:\\Users\\AbhiramGopal\\anaconda3\\envs\\ResumeParsing\\lib\\site-packages\\spacy\\util.py:275: UserWarning: [W031] Model 'en_training' (0.0.0) requires spaCy v2.1 and is incompatible with the current spaCy version (2.3.5). This may lead to unexpected results or runtime errors. To resolve this, download a newer compatible model or retrain your custom model with the current spaCy version. For more details and available updates, run: python -m spacy validate\n",
      "  warnings.warn(warn_msg)\n"
     ]
    },
    {
     "name": "stdout",
     "output_type": "stream",
     "text": [
      "JimLiu.pdf\n"
     ]
    },
    {
     "name": "stderr",
     "output_type": "stream",
     "text": [
      "C:\\Users\\AbhiramGopal\\anaconda3\\envs\\ResumeParsing\\lib\\site-packages\\spacy\\util.py:275: UserWarning: [W031] Model 'en_training' (0.0.0) requires spaCy v2.1 and is incompatible with the current spaCy version (2.3.5). This may lead to unexpected results or runtime errors. To resolve this, download a newer compatible model or retrain your custom model with the current spaCy version. For more details and available updates, run: python -m spacy validate\n",
      "  warnings.warn(warn_msg)\n"
     ]
    },
    {
     "name": "stdout",
     "output_type": "stream",
     "text": [
      "JuliaXia.pdf\n"
     ]
    },
    {
     "name": "stderr",
     "output_type": "stream",
     "text": [
      "C:\\Users\\AbhiramGopal\\anaconda3\\envs\\ResumeParsing\\lib\\site-packages\\spacy\\util.py:275: UserWarning: [W031] Model 'en_training' (0.0.0) requires spaCy v2.1 and is incompatible with the current spaCy version (2.3.5). This may lead to unexpected results or runtime errors. To resolve this, download a newer compatible model or retrain your custom model with the current spaCy version. For more details and available updates, run: python -m spacy validate\n",
      "  warnings.warn(warn_msg)\n"
     ]
    },
    {
     "name": "stdout",
     "output_type": "stream",
     "text": [
      "KRISTINJIATINGCHEN_RESUME_06082021 (1).pdf\n"
     ]
    },
    {
     "name": "stderr",
     "output_type": "stream",
     "text": [
      "C:\\Users\\AbhiramGopal\\anaconda3\\envs\\ResumeParsing\\lib\\site-packages\\spacy\\util.py:275: UserWarning: [W031] Model 'en_training' (0.0.0) requires spaCy v2.1 and is incompatible with the current spaCy version (2.3.5). This may lead to unexpected results or runtime errors. To resolve this, download a newer compatible model or retrain your custom model with the current spaCy version. For more details and available updates, run: python -m spacy validate\n",
      "  warnings.warn(warn_msg)\n"
     ]
    },
    {
     "name": "stdout",
     "output_type": "stream",
     "text": [
      "KunjMithapara.pdf\n"
     ]
    },
    {
     "name": "stderr",
     "output_type": "stream",
     "text": [
      "C:\\Users\\AbhiramGopal\\anaconda3\\envs\\ResumeParsing\\lib\\site-packages\\spacy\\util.py:275: UserWarning: [W031] Model 'en_training' (0.0.0) requires spaCy v2.1 and is incompatible with the current spaCy version (2.3.5). This may lead to unexpected results or runtime errors. To resolve this, download a newer compatible model or retrain your custom model with the current spaCy version. For more details and available updates, run: python -m spacy validate\n",
      "  warnings.warn(warn_msg)\n"
     ]
    },
    {
     "name": "stdout",
     "output_type": "stream",
     "text": [
      "LejianHe.pdf\n"
     ]
    },
    {
     "name": "stderr",
     "output_type": "stream",
     "text": [
      "C:\\Users\\AbhiramGopal\\anaconda3\\envs\\ResumeParsing\\lib\\site-packages\\spacy\\util.py:275: UserWarning: [W031] Model 'en_training' (0.0.0) requires spaCy v2.1 and is incompatible with the current spaCy version (2.3.5). This may lead to unexpected results or runtime errors. To resolve this, download a newer compatible model or retrain your custom model with the current spaCy version. For more details and available updates, run: python -m spacy validate\n",
      "  warnings.warn(warn_msg)\n"
     ]
    },
    {
     "name": "stdout",
     "output_type": "stream",
     "text": [
      "ManaswiniNagaraj.pdf\n"
     ]
    },
    {
     "name": "stderr",
     "output_type": "stream",
     "text": [
      "C:\\Users\\AbhiramGopal\\anaconda3\\envs\\ResumeParsing\\lib\\site-packages\\spacy\\util.py:275: UserWarning: [W031] Model 'en_training' (0.0.0) requires spaCy v2.1 and is incompatible with the current spaCy version (2.3.5). This may lead to unexpected results or runtime errors. To resolve this, download a newer compatible model or retrain your custom model with the current spaCy version. For more details and available updates, run: python -m spacy validate\n",
      "  warnings.warn(warn_msg)\n"
     ]
    },
    {
     "name": "stdout",
     "output_type": "stream",
     "text": [
      "Manisha Patel Resume.pdf\n"
     ]
    },
    {
     "name": "stderr",
     "output_type": "stream",
     "text": [
      "C:\\Users\\AbhiramGopal\\anaconda3\\envs\\ResumeParsing\\lib\\site-packages\\spacy\\util.py:275: UserWarning: [W031] Model 'en_training' (0.0.0) requires spaCy v2.1 and is incompatible with the current spaCy version (2.3.5). This may lead to unexpected results or runtime errors. To resolve this, download a newer compatible model or retrain your custom model with the current spaCy version. For more details and available updates, run: python -m spacy validate\n",
      "  warnings.warn(warn_msg)\n"
     ]
    },
    {
     "name": "stdout",
     "output_type": "stream",
     "text": [
      "MasenBachleda.pdf\n"
     ]
    },
    {
     "name": "stderr",
     "output_type": "stream",
     "text": [
      "C:\\Users\\AbhiramGopal\\anaconda3\\envs\\ResumeParsing\\lib\\site-packages\\spacy\\util.py:275: UserWarning: [W031] Model 'en_training' (0.0.0) requires spaCy v2.1 and is incompatible with the current spaCy version (2.3.5). This may lead to unexpected results or runtime errors. To resolve this, download a newer compatible model or retrain your custom model with the current spaCy version. For more details and available updates, run: python -m spacy validate\n",
      "  warnings.warn(warn_msg)\n"
     ]
    },
    {
     "name": "stdout",
     "output_type": "stream",
     "text": [
      "MatthewHolcombe.pdf\n"
     ]
    },
    {
     "name": "stderr",
     "output_type": "stream",
     "text": [
      "C:\\Users\\AbhiramGopal\\anaconda3\\envs\\ResumeParsing\\lib\\site-packages\\spacy\\util.py:275: UserWarning: [W031] Model 'en_training' (0.0.0) requires spaCy v2.1 and is incompatible with the current spaCy version (2.3.5). This may lead to unexpected results or runtime errors. To resolve this, download a newer compatible model or retrain your custom model with the current spaCy version. For more details and available updates, run: python -m spacy validate\n",
      "  warnings.warn(warn_msg)\n"
     ]
    },
    {
     "name": "stdout",
     "output_type": "stream",
     "text": [
      "MayuriLalwani.pdf\n"
     ]
    },
    {
     "name": "stderr",
     "output_type": "stream",
     "text": [
      "C:\\Users\\AbhiramGopal\\anaconda3\\envs\\ResumeParsing\\lib\\site-packages\\spacy\\util.py:275: UserWarning: [W031] Model 'en_training' (0.0.0) requires spaCy v2.1 and is incompatible with the current spaCy version (2.3.5). This may lead to unexpected results or runtime errors. To resolve this, download a newer compatible model or retrain your custom model with the current spaCy version. For more details and available updates, run: python -m spacy validate\n",
      "  warnings.warn(warn_msg)\n"
     ]
    },
    {
     "name": "stdout",
     "output_type": "stream",
     "text": [
      "MikhailTokarev.pdf\n"
     ]
    },
    {
     "name": "stderr",
     "output_type": "stream",
     "text": [
      "C:\\Users\\AbhiramGopal\\anaconda3\\envs\\ResumeParsing\\lib\\site-packages\\spacy\\util.py:275: UserWarning: [W031] Model 'en_training' (0.0.0) requires spaCy v2.1 and is incompatible with the current spaCy version (2.3.5). This may lead to unexpected results or runtime errors. To resolve this, download a newer compatible model or retrain your custom model with the current spaCy version. For more details and available updates, run: python -m spacy validate\n",
      "  warnings.warn(warn_msg)\n"
     ]
    },
    {
     "name": "stdout",
     "output_type": "stream",
     "text": [
      "MistereAbate.pdf\n"
     ]
    },
    {
     "name": "stderr",
     "output_type": "stream",
     "text": [
      "C:\\Users\\AbhiramGopal\\anaconda3\\envs\\ResumeParsing\\lib\\site-packages\\spacy\\util.py:275: UserWarning: [W031] Model 'en_training' (0.0.0) requires spaCy v2.1 and is incompatible with the current spaCy version (2.3.5). This may lead to unexpected results or runtime errors. To resolve this, download a newer compatible model or retrain your custom model with the current spaCy version. For more details and available updates, run: python -m spacy validate\n",
      "  warnings.warn(warn_msg)\n"
     ]
    },
    {
     "name": "stdout",
     "output_type": "stream",
     "text": [
      "MohammadZarei.pdf\n"
     ]
    },
    {
     "name": "stderr",
     "output_type": "stream",
     "text": [
      "C:\\Users\\AbhiramGopal\\anaconda3\\envs\\ResumeParsing\\lib\\site-packages\\spacy\\util.py:275: UserWarning: [W031] Model 'en_training' (0.0.0) requires spaCy v2.1 and is incompatible with the current spaCy version (2.3.5). This may lead to unexpected results or runtime errors. To resolve this, download a newer compatible model or retrain your custom model with the current spaCy version. For more details and available updates, run: python -m spacy validate\n",
      "  warnings.warn(warn_msg)\n"
     ]
    },
    {
     "name": "stdout",
     "output_type": "stream",
     "text": [
      "MonaEslamijam.pdf\n"
     ]
    },
    {
     "name": "stderr",
     "output_type": "stream",
     "text": [
      "C:\\Users\\AbhiramGopal\\anaconda3\\envs\\ResumeParsing\\lib\\site-packages\\spacy\\util.py:275: UserWarning: [W031] Model 'en_training' (0.0.0) requires spaCy v2.1 and is incompatible with the current spaCy version (2.3.5). This may lead to unexpected results or runtime errors. To resolve this, download a newer compatible model or retrain your custom model with the current spaCy version. For more details and available updates, run: python -m spacy validate\n",
      "  warnings.warn(warn_msg)\n"
     ]
    },
    {
     "name": "stdout",
     "output_type": "stream",
     "text": [
      "NahianSiddique.pdf\n"
     ]
    },
    {
     "name": "stderr",
     "output_type": "stream",
     "text": [
      "C:\\Users\\AbhiramGopal\\anaconda3\\envs\\ResumeParsing\\lib\\site-packages\\spacy\\util.py:275: UserWarning: [W031] Model 'en_training' (0.0.0) requires spaCy v2.1 and is incompatible with the current spaCy version (2.3.5). This may lead to unexpected results or runtime errors. To resolve this, download a newer compatible model or retrain your custom model with the current spaCy version. For more details and available updates, run: python -m spacy validate\n",
      "  warnings.warn(warn_msg)\n"
     ]
    },
    {
     "name": "stdout",
     "output_type": "stream",
     "text": [
      "NidhiChovatiya.pdf\n"
     ]
    },
    {
     "name": "stderr",
     "output_type": "stream",
     "text": [
      "C:\\Users\\AbhiramGopal\\anaconda3\\envs\\ResumeParsing\\lib\\site-packages\\spacy\\util.py:275: UserWarning: [W031] Model 'en_training' (0.0.0) requires spaCy v2.1 and is incompatible with the current spaCy version (2.3.5). This may lead to unexpected results or runtime errors. To resolve this, download a newer compatible model or retrain your custom model with the current spaCy version. For more details and available updates, run: python -m spacy validate\n",
      "  warnings.warn(warn_msg)\n"
     ]
    },
    {
     "name": "stdout",
     "output_type": "stream",
     "text": [
      "NiksonPanigrahi.pdf\n"
     ]
    },
    {
     "name": "stderr",
     "output_type": "stream",
     "text": [
      "C:\\Users\\AbhiramGopal\\anaconda3\\envs\\ResumeParsing\\lib\\site-packages\\spacy\\util.py:275: UserWarning: [W031] Model 'en_training' (0.0.0) requires spaCy v2.1 and is incompatible with the current spaCy version (2.3.5). This may lead to unexpected results or runtime errors. To resolve this, download a newer compatible model or retrain your custom model with the current spaCy version. For more details and available updates, run: python -m spacy validate\n",
      "  warnings.warn(warn_msg)\n"
     ]
    },
    {
     "name": "stdout",
     "output_type": "stream",
     "text": [
      "PratikSatpute.pdf\n"
     ]
    },
    {
     "name": "stderr",
     "output_type": "stream",
     "text": [
      "C:\\Users\\AbhiramGopal\\anaconda3\\envs\\ResumeParsing\\lib\\site-packages\\spacy\\util.py:275: UserWarning: [W031] Model 'en_training' (0.0.0) requires spaCy v2.1 and is incompatible with the current spaCy version (2.3.5). This may lead to unexpected results or runtime errors. To resolve this, download a newer compatible model or retrain your custom model with the current spaCy version. For more details and available updates, run: python -m spacy validate\n",
      "  warnings.warn(warn_msg)\n"
     ]
    },
    {
     "name": "stdout",
     "output_type": "stream",
     "text": [
      "PraveenPandey.pdf\n"
     ]
    },
    {
     "name": "stderr",
     "output_type": "stream",
     "text": [
      "C:\\Users\\AbhiramGopal\\anaconda3\\envs\\ResumeParsing\\lib\\site-packages\\spacy\\util.py:275: UserWarning: [W031] Model 'en_training' (0.0.0) requires spaCy v2.1 and is incompatible with the current spaCy version (2.3.5). This may lead to unexpected results or runtime errors. To resolve this, download a newer compatible model or retrain your custom model with the current spaCy version. For more details and available updates, run: python -m spacy validate\n",
      "  warnings.warn(warn_msg)\n"
     ]
    },
    {
     "name": "stdout",
     "output_type": "stream",
     "text": [
      "Resume_Adedamola_Olawoye.pdf\n"
     ]
    },
    {
     "name": "stderr",
     "output_type": "stream",
     "text": [
      "C:\\Users\\AbhiramGopal\\anaconda3\\envs\\ResumeParsing\\lib\\site-packages\\spacy\\util.py:275: UserWarning: [W031] Model 'en_training' (0.0.0) requires spaCy v2.1 and is incompatible with the current spaCy version (2.3.5). This may lead to unexpected results or runtime errors. To resolve this, download a newer compatible model or retrain your custom model with the current spaCy version. For more details and available updates, run: python -m spacy validate\n",
      "  warnings.warn(warn_msg)\n"
     ]
    },
    {
     "name": "stdout",
     "output_type": "stream",
     "text": [
      "Resume_Aditya_Deshpande.pdf\n"
     ]
    },
    {
     "name": "stderr",
     "output_type": "stream",
     "text": [
      "C:\\Users\\AbhiramGopal\\anaconda3\\envs\\ResumeParsing\\lib\\site-packages\\spacy\\util.py:275: UserWarning: [W031] Model 'en_training' (0.0.0) requires spaCy v2.1 and is incompatible with the current spaCy version (2.3.5). This may lead to unexpected results or runtime errors. To resolve this, download a newer compatible model or retrain your custom model with the current spaCy version. For more details and available updates, run: python -m spacy validate\n",
      "  warnings.warn(warn_msg)\n"
     ]
    },
    {
     "name": "stdout",
     "output_type": "stream",
     "text": [
      "Resume_Ali_Majidian.pdf\n"
     ]
    },
    {
     "name": "stderr",
     "output_type": "stream",
     "text": [
      "C:\\Users\\AbhiramGopal\\anaconda3\\envs\\ResumeParsing\\lib\\site-packages\\spacy\\util.py:275: UserWarning: [W031] Model 'en_training' (0.0.0) requires spaCy v2.1 and is incompatible with the current spaCy version (2.3.5). This may lead to unexpected results or runtime errors. To resolve this, download a newer compatible model or retrain your custom model with the current spaCy version. For more details and available updates, run: python -m spacy validate\n",
      "  warnings.warn(warn_msg)\n"
     ]
    },
    {
     "name": "stdout",
     "output_type": "stream",
     "text": [
      "Resume_Ankit_Hemant_Lade.pdf\n"
     ]
    },
    {
     "name": "stderr",
     "output_type": "stream",
     "text": [
      "C:\\Users\\AbhiramGopal\\anaconda3\\envs\\ResumeParsing\\lib\\site-packages\\spacy\\util.py:275: UserWarning: [W031] Model 'en_training' (0.0.0) requires spaCy v2.1 and is incompatible with the current spaCy version (2.3.5). This may lead to unexpected results or runtime errors. To resolve this, download a newer compatible model or retrain your custom model with the current spaCy version. For more details and available updates, run: python -m spacy validate\n",
      "  warnings.warn(warn_msg)\n"
     ]
    },
    {
     "name": "stdout",
     "output_type": "stream",
     "text": [
      "Resume_Anqi_Cheng.pdf\n"
     ]
    },
    {
     "name": "stderr",
     "output_type": "stream",
     "text": [
      "C:\\Users\\AbhiramGopal\\anaconda3\\envs\\ResumeParsing\\lib\\site-packages\\spacy\\util.py:275: UserWarning: [W031] Model 'en_training' (0.0.0) requires spaCy v2.1 and is incompatible with the current spaCy version (2.3.5). This may lead to unexpected results or runtime errors. To resolve this, download a newer compatible model or retrain your custom model with the current spaCy version. For more details and available updates, run: python -m spacy validate\n",
      "  warnings.warn(warn_msg)\n"
     ]
    },
    {
     "name": "stdout",
     "output_type": "stream",
     "text": [
      "Resume_Arbaaz_Mohideen.pdf\n"
     ]
    },
    {
     "name": "stderr",
     "output_type": "stream",
     "text": [
      "C:\\Users\\AbhiramGopal\\anaconda3\\envs\\ResumeParsing\\lib\\site-packages\\spacy\\util.py:275: UserWarning: [W031] Model 'en_training' (0.0.0) requires spaCy v2.1 and is incompatible with the current spaCy version (2.3.5). This may lead to unexpected results or runtime errors. To resolve this, download a newer compatible model or retrain your custom model with the current spaCy version. For more details and available updates, run: python -m spacy validate\n",
      "  warnings.warn(warn_msg)\n"
     ]
    },
    {
     "name": "stdout",
     "output_type": "stream",
     "text": [
      "Resume_Arunava_Ray.pdf\n"
     ]
    },
    {
     "name": "stderr",
     "output_type": "stream",
     "text": [
      "C:\\Users\\AbhiramGopal\\anaconda3\\envs\\ResumeParsing\\lib\\site-packages\\spacy\\util.py:275: UserWarning: [W031] Model 'en_training' (0.0.0) requires spaCy v2.1 and is incompatible with the current spaCy version (2.3.5). This may lead to unexpected results or runtime errors. To resolve this, download a newer compatible model or retrain your custom model with the current spaCy version. For more details and available updates, run: python -m spacy validate\n",
      "  warnings.warn(warn_msg)\n"
     ]
    },
    {
     "name": "stdout",
     "output_type": "stream",
     "text": [
      "Resume_Ashutosh_Shinde.pdf\n"
     ]
    },
    {
     "name": "stderr",
     "output_type": "stream",
     "text": [
      "C:\\Users\\AbhiramGopal\\anaconda3\\envs\\ResumeParsing\\lib\\site-packages\\spacy\\util.py:275: UserWarning: [W031] Model 'en_training' (0.0.0) requires spaCy v2.1 and is incompatible with the current spaCy version (2.3.5). This may lead to unexpected results or runtime errors. To resolve this, download a newer compatible model or retrain your custom model with the current spaCy version. For more details and available updates, run: python -m spacy validate\n",
      "  warnings.warn(warn_msg)\n"
     ]
    },
    {
     "name": "stdout",
     "output_type": "stream",
     "text": [
      "Resume_Bah_Yannick_Konan.pdf\n"
     ]
    },
    {
     "name": "stderr",
     "output_type": "stream",
     "text": [
      "C:\\Users\\AbhiramGopal\\anaconda3\\envs\\ResumeParsing\\lib\\site-packages\\spacy\\util.py:275: UserWarning: [W031] Model 'en_training' (0.0.0) requires spaCy v2.1 and is incompatible with the current spaCy version (2.3.5). This may lead to unexpected results or runtime errors. To resolve this, download a newer compatible model or retrain your custom model with the current spaCy version. For more details and available updates, run: python -m spacy validate\n",
      "  warnings.warn(warn_msg)\n"
     ]
    },
    {
     "name": "stdout",
     "output_type": "stream",
     "text": [
      "Resume_Bala_Harimani.pdf\n"
     ]
    },
    {
     "name": "stderr",
     "output_type": "stream",
     "text": [
      "C:\\Users\\AbhiramGopal\\anaconda3\\envs\\ResumeParsing\\lib\\site-packages\\spacy\\util.py:275: UserWarning: [W031] Model 'en_training' (0.0.0) requires spaCy v2.1 and is incompatible with the current spaCy version (2.3.5). This may lead to unexpected results or runtime errors. To resolve this, download a newer compatible model or retrain your custom model with the current spaCy version. For more details and available updates, run: python -m spacy validate\n",
      "  warnings.warn(warn_msg)\n"
     ]
    },
    {
     "name": "stdout",
     "output_type": "stream",
     "text": [
      "Resume_Bonface_Njuguna.pdf\n"
     ]
    },
    {
     "name": "stderr",
     "output_type": "stream",
     "text": [
      "C:\\Users\\AbhiramGopal\\anaconda3\\envs\\ResumeParsing\\lib\\site-packages\\spacy\\util.py:275: UserWarning: [W031] Model 'en_training' (0.0.0) requires spaCy v2.1 and is incompatible with the current spaCy version (2.3.5). This may lead to unexpected results or runtime errors. To resolve this, download a newer compatible model or retrain your custom model with the current spaCy version. For more details and available updates, run: python -m spacy validate\n",
      "  warnings.warn(warn_msg)\n"
     ]
    },
    {
     "name": "stdout",
     "output_type": "stream",
     "text": [
      "Resume_Chaeeun_Lim.pdf\n"
     ]
    },
    {
     "name": "stderr",
     "output_type": "stream",
     "text": [
      "C:\\Users\\AbhiramGopal\\anaconda3\\envs\\ResumeParsing\\lib\\site-packages\\spacy\\util.py:275: UserWarning: [W031] Model 'en_training' (0.0.0) requires spaCy v2.1 and is incompatible with the current spaCy version (2.3.5). This may lead to unexpected results or runtime errors. To resolve this, download a newer compatible model or retrain your custom model with the current spaCy version. For more details and available updates, run: python -m spacy validate\n",
      "  warnings.warn(warn_msg)\n"
     ]
    },
    {
     "name": "stdout",
     "output_type": "stream",
     "text": [
      "Resume_Chantelle_Lim.pdf\n"
     ]
    },
    {
     "name": "stderr",
     "output_type": "stream",
     "text": [
      "C:\\Users\\AbhiramGopal\\anaconda3\\envs\\ResumeParsing\\lib\\site-packages\\spacy\\util.py:275: UserWarning: [W031] Model 'en_training' (0.0.0) requires spaCy v2.1 and is incompatible with the current spaCy version (2.3.5). This may lead to unexpected results or runtime errors. To resolve this, download a newer compatible model or retrain your custom model with the current spaCy version. For more details and available updates, run: python -m spacy validate\n",
      "  warnings.warn(warn_msg)\n"
     ]
    },
    {
     "name": "stdout",
     "output_type": "stream",
     "text": [
      "Resume_Chitranjan_Joshi.pdf\n"
     ]
    },
    {
     "name": "stderr",
     "output_type": "stream",
     "text": [
      "C:\\Users\\AbhiramGopal\\anaconda3\\envs\\ResumeParsing\\lib\\site-packages\\spacy\\util.py:275: UserWarning: [W031] Model 'en_training' (0.0.0) requires spaCy v2.1 and is incompatible with the current spaCy version (2.3.5). This may lead to unexpected results or runtime errors. To resolve this, download a newer compatible model or retrain your custom model with the current spaCy version. For more details and available updates, run: python -m spacy validate\n",
      "  warnings.warn(warn_msg)\n"
     ]
    },
    {
     "name": "stdout",
     "output_type": "stream",
     "text": [
      "Resume_Diego_Burgos.pdf\n"
     ]
    },
    {
     "name": "stderr",
     "output_type": "stream",
     "text": [
      "C:\\Users\\AbhiramGopal\\anaconda3\\envs\\ResumeParsing\\lib\\site-packages\\spacy\\util.py:275: UserWarning: [W031] Model 'en_training' (0.0.0) requires spaCy v2.1 and is incompatible with the current spaCy version (2.3.5). This may lead to unexpected results or runtime errors. To resolve this, download a newer compatible model or retrain your custom model with the current spaCy version. For more details and available updates, run: python -m spacy validate\n",
      "  warnings.warn(warn_msg)\n"
     ]
    },
    {
     "name": "stdout",
     "output_type": "stream",
     "text": [
      "Resume_Ethan_Laurenceau.pdf\n"
     ]
    },
    {
     "name": "stderr",
     "output_type": "stream",
     "text": [
      "C:\\Users\\AbhiramGopal\\anaconda3\\envs\\ResumeParsing\\lib\\site-packages\\spacy\\util.py:275: UserWarning: [W031] Model 'en_training' (0.0.0) requires spaCy v2.1 and is incompatible with the current spaCy version (2.3.5). This may lead to unexpected results or runtime errors. To resolve this, download a newer compatible model or retrain your custom model with the current spaCy version. For more details and available updates, run: python -m spacy validate\n",
      "  warnings.warn(warn_msg)\n"
     ]
    },
    {
     "name": "stdout",
     "output_type": "stream",
     "text": [
      "Resume_Girija_Bandaru.pdf\n"
     ]
    },
    {
     "name": "stderr",
     "output_type": "stream",
     "text": [
      "C:\\Users\\AbhiramGopal\\anaconda3\\envs\\ResumeParsing\\lib\\site-packages\\spacy\\util.py:275: UserWarning: [W031] Model 'en_training' (0.0.0) requires spaCy v2.1 and is incompatible with the current spaCy version (2.3.5). This may lead to unexpected results or runtime errors. To resolve this, download a newer compatible model or retrain your custom model with the current spaCy version. For more details and available updates, run: python -m spacy validate\n",
      "  warnings.warn(warn_msg)\n"
     ]
    },
    {
     "name": "stdout",
     "output_type": "stream",
     "text": [
      "Resume_Harshitha_Prasad.pdf\n"
     ]
    },
    {
     "name": "stderr",
     "output_type": "stream",
     "text": [
      "C:\\Users\\AbhiramGopal\\anaconda3\\envs\\ResumeParsing\\lib\\site-packages\\spacy\\util.py:275: UserWarning: [W031] Model 'en_training' (0.0.0) requires spaCy v2.1 and is incompatible with the current spaCy version (2.3.5). This may lead to unexpected results or runtime errors. To resolve this, download a newer compatible model or retrain your custom model with the current spaCy version. For more details and available updates, run: python -m spacy validate\n",
      "  warnings.warn(warn_msg)\n"
     ]
    },
    {
     "name": "stdout",
     "output_type": "stream",
     "text": [
      "Resume_Harsh_Pundir.pdf\n"
     ]
    },
    {
     "name": "stderr",
     "output_type": "stream",
     "text": [
      "C:\\Users\\AbhiramGopal\\anaconda3\\envs\\ResumeParsing\\lib\\site-packages\\spacy\\util.py:275: UserWarning: [W031] Model 'en_training' (0.0.0) requires spaCy v2.1 and is incompatible with the current spaCy version (2.3.5). This may lead to unexpected results or runtime errors. To resolve this, download a newer compatible model or retrain your custom model with the current spaCy version. For more details and available updates, run: python -m spacy validate\n",
      "  warnings.warn(warn_msg)\n"
     ]
    },
    {
     "name": "stdout",
     "output_type": "stream",
     "text": [
      "Resume_Hemanth_Kodakandla.pdf\n"
     ]
    },
    {
     "name": "stderr",
     "output_type": "stream",
     "text": [
      "C:\\Users\\AbhiramGopal\\anaconda3\\envs\\ResumeParsing\\lib\\site-packages\\spacy\\util.py:275: UserWarning: [W031] Model 'en_training' (0.0.0) requires spaCy v2.1 and is incompatible with the current spaCy version (2.3.5). This may lead to unexpected results or runtime errors. To resolve this, download a newer compatible model or retrain your custom model with the current spaCy version. For more details and available updates, run: python -m spacy validate\n",
      "  warnings.warn(warn_msg)\n"
     ]
    },
    {
     "name": "stdout",
     "output_type": "stream",
     "text": [
      "Resume_Isioma_Ochia.pdf\n"
     ]
    },
    {
     "name": "stderr",
     "output_type": "stream",
     "text": [
      "C:\\Users\\AbhiramGopal\\anaconda3\\envs\\ResumeParsing\\lib\\site-packages\\spacy\\util.py:275: UserWarning: [W031] Model 'en_training' (0.0.0) requires spaCy v2.1 and is incompatible with the current spaCy version (2.3.5). This may lead to unexpected results or runtime errors. To resolve this, download a newer compatible model or retrain your custom model with the current spaCy version. For more details and available updates, run: python -m spacy validate\n",
      "  warnings.warn(warn_msg)\n"
     ]
    },
    {
     "name": "stdout",
     "output_type": "stream",
     "text": [
      "Resume_Jay_Pandya.pdf\n"
     ]
    },
    {
     "name": "stderr",
     "output_type": "stream",
     "text": [
      "C:\\Users\\AbhiramGopal\\anaconda3\\envs\\ResumeParsing\\lib\\site-packages\\spacy\\util.py:275: UserWarning: [W031] Model 'en_training' (0.0.0) requires spaCy v2.1 and is incompatible with the current spaCy version (2.3.5). This may lead to unexpected results or runtime errors. To resolve this, download a newer compatible model or retrain your custom model with the current spaCy version. For more details and available updates, run: python -m spacy validate\n",
      "  warnings.warn(warn_msg)\n"
     ]
    },
    {
     "name": "stdout",
     "output_type": "stream",
     "text": [
      "Resume_Jessica_Rega.pdf\n"
     ]
    },
    {
     "name": "stderr",
     "output_type": "stream",
     "text": [
      "C:\\Users\\AbhiramGopal\\anaconda3\\envs\\ResumeParsing\\lib\\site-packages\\spacy\\util.py:275: UserWarning: [W031] Model 'en_training' (0.0.0) requires spaCy v2.1 and is incompatible with the current spaCy version (2.3.5). This may lead to unexpected results or runtime errors. To resolve this, download a newer compatible model or retrain your custom model with the current spaCy version. For more details and available updates, run: python -m spacy validate\n",
      "  warnings.warn(warn_msg)\n"
     ]
    },
    {
     "name": "stdout",
     "output_type": "stream",
     "text": [
      "Resume_Jishan_Ahmed.pdf\n"
     ]
    },
    {
     "name": "stderr",
     "output_type": "stream",
     "text": [
      "C:\\Users\\AbhiramGopal\\anaconda3\\envs\\ResumeParsing\\lib\\site-packages\\spacy\\util.py:275: UserWarning: [W031] Model 'en_training' (0.0.0) requires spaCy v2.1 and is incompatible with the current spaCy version (2.3.5). This may lead to unexpected results or runtime errors. To resolve this, download a newer compatible model or retrain your custom model with the current spaCy version. For more details and available updates, run: python -m spacy validate\n",
      "  warnings.warn(warn_msg)\n",
      "ERROR:root:invalid literal for int() with base 10: 'Nov-2019'\n",
      "ERROR:root:invalid literal for int() with base 10: 'May-2021'\n"
     ]
    },
    {
     "name": "stdout",
     "output_type": "stream",
     "text": [
      "Resume_Kaleb_Shikur.pdf\n"
     ]
    },
    {
     "name": "stderr",
     "output_type": "stream",
     "text": [
      "C:\\Users\\AbhiramGopal\\anaconda3\\envs\\ResumeParsing\\lib\\site-packages\\spacy\\util.py:275: UserWarning: [W031] Model 'en_training' (0.0.0) requires spaCy v2.1 and is incompatible with the current spaCy version (2.3.5). This may lead to unexpected results or runtime errors. To resolve this, download a newer compatible model or retrain your custom model with the current spaCy version. For more details and available updates, run: python -m spacy validate\n",
      "  warnings.warn(warn_msg)\n"
     ]
    },
    {
     "name": "stdout",
     "output_type": "stream",
     "text": [
      "Resume_Kanth_Juvadi.pdf\n"
     ]
    },
    {
     "name": "stderr",
     "output_type": "stream",
     "text": [
      "C:\\Users\\AbhiramGopal\\anaconda3\\envs\\ResumeParsing\\lib\\site-packages\\spacy\\util.py:275: UserWarning: [W031] Model 'en_training' (0.0.0) requires spaCy v2.1 and is incompatible with the current spaCy version (2.3.5). This may lead to unexpected results or runtime errors. To resolve this, download a newer compatible model or retrain your custom model with the current spaCy version. For more details and available updates, run: python -m spacy validate\n",
      "  warnings.warn(warn_msg)\n"
     ]
    },
    {
     "name": "stdout",
     "output_type": "stream",
     "text": [
      "Resume_Katherine_Pearson.pdf\n"
     ]
    },
    {
     "name": "stderr",
     "output_type": "stream",
     "text": [
      "C:\\Users\\AbhiramGopal\\anaconda3\\envs\\ResumeParsing\\lib\\site-packages\\spacy\\util.py:275: UserWarning: [W031] Model 'en_training' (0.0.0) requires spaCy v2.1 and is incompatible with the current spaCy version (2.3.5). This may lead to unexpected results or runtime errors. To resolve this, download a newer compatible model or retrain your custom model with the current spaCy version. For more details and available updates, run: python -m spacy validate\n",
      "  warnings.warn(warn_msg)\n"
     ]
    },
    {
     "name": "stdout",
     "output_type": "stream",
     "text": [
      "Resume_Kruti_Allenki.pdf\n"
     ]
    },
    {
     "name": "stderr",
     "output_type": "stream",
     "text": [
      "C:\\Users\\AbhiramGopal\\anaconda3\\envs\\ResumeParsing\\lib\\site-packages\\spacy\\util.py:275: UserWarning: [W031] Model 'en_training' (0.0.0) requires spaCy v2.1 and is incompatible with the current spaCy version (2.3.5). This may lead to unexpected results or runtime errors. To resolve this, download a newer compatible model or retrain your custom model with the current spaCy version. For more details and available updates, run: python -m spacy validate\n",
      "  warnings.warn(warn_msg)\n"
     ]
    },
    {
     "name": "stdout",
     "output_type": "stream",
     "text": [
      "Resume_Kunjan_Devendra_Khatri.pdf\n"
     ]
    },
    {
     "name": "stderr",
     "output_type": "stream",
     "text": [
      "C:\\Users\\AbhiramGopal\\anaconda3\\envs\\ResumeParsing\\lib\\site-packages\\spacy\\util.py:275: UserWarning: [W031] Model 'en_training' (0.0.0) requires spaCy v2.1 and is incompatible with the current spaCy version (2.3.5). This may lead to unexpected results or runtime errors. To resolve this, download a newer compatible model or retrain your custom model with the current spaCy version. For more details and available updates, run: python -m spacy validate\n",
      "  warnings.warn(warn_msg)\n"
     ]
    },
    {
     "name": "stdout",
     "output_type": "stream",
     "text": [
      "Resume_Leonel_Flores.pdf\n"
     ]
    },
    {
     "name": "stderr",
     "output_type": "stream",
     "text": [
      "C:\\Users\\AbhiramGopal\\anaconda3\\envs\\ResumeParsing\\lib\\site-packages\\spacy\\util.py:275: UserWarning: [W031] Model 'en_training' (0.0.0) requires spaCy v2.1 and is incompatible with the current spaCy version (2.3.5). This may lead to unexpected results or runtime errors. To resolve this, download a newer compatible model or retrain your custom model with the current spaCy version. For more details and available updates, run: python -m spacy validate\n",
      "  warnings.warn(warn_msg)\n"
     ]
    },
    {
     "name": "stdout",
     "output_type": "stream",
     "text": [
      "Resume_Maaz_Zahid_Shaikh.pdf\n"
     ]
    },
    {
     "name": "stderr",
     "output_type": "stream",
     "text": [
      "C:\\Users\\AbhiramGopal\\anaconda3\\envs\\ResumeParsing\\lib\\site-packages\\spacy\\util.py:275: UserWarning: [W031] Model 'en_training' (0.0.0) requires spaCy v2.1 and is incompatible with the current spaCy version (2.3.5). This may lead to unexpected results or runtime errors. To resolve this, download a newer compatible model or retrain your custom model with the current spaCy version. For more details and available updates, run: python -m spacy validate\n",
      "  warnings.warn(warn_msg)\n"
     ]
    },
    {
     "name": "stdout",
     "output_type": "stream",
     "text": [
      "Resume_Naina Grover.pdf\n"
     ]
    },
    {
     "name": "stderr",
     "output_type": "stream",
     "text": [
      "C:\\Users\\AbhiramGopal\\anaconda3\\envs\\ResumeParsing\\lib\\site-packages\\spacy\\util.py:275: UserWarning: [W031] Model 'en_training' (0.0.0) requires spaCy v2.1 and is incompatible with the current spaCy version (2.3.5). This may lead to unexpected results or runtime errors. To resolve this, download a newer compatible model or retrain your custom model with the current spaCy version. For more details and available updates, run: python -m spacy validate\n",
      "  warnings.warn(warn_msg)\n"
     ]
    },
    {
     "name": "stdout",
     "output_type": "stream",
     "text": [
      "Resume_Nasir_Sarkar.pdf\n"
     ]
    },
    {
     "name": "stderr",
     "output_type": "stream",
     "text": [
      "C:\\Users\\AbhiramGopal\\anaconda3\\envs\\ResumeParsing\\lib\\site-packages\\spacy\\util.py:275: UserWarning: [W031] Model 'en_training' (0.0.0) requires spaCy v2.1 and is incompatible with the current spaCy version (2.3.5). This may lead to unexpected results or runtime errors. To resolve this, download a newer compatible model or retrain your custom model with the current spaCy version. For more details and available updates, run: python -m spacy validate\n",
      "  warnings.warn(warn_msg)\n"
     ]
    },
    {
     "name": "stdout",
     "output_type": "stream",
     "text": [
      "Resume_Natnael_Tsegaw.pdf\n"
     ]
    },
    {
     "name": "stderr",
     "output_type": "stream",
     "text": [
      "C:\\Users\\AbhiramGopal\\anaconda3\\envs\\ResumeParsing\\lib\\site-packages\\spacy\\util.py:275: UserWarning: [W031] Model 'en_training' (0.0.0) requires spaCy v2.1 and is incompatible with the current spaCy version (2.3.5). This may lead to unexpected results or runtime errors. To resolve this, download a newer compatible model or retrain your custom model with the current spaCy version. For more details and available updates, run: python -m spacy validate\n",
      "  warnings.warn(warn_msg)\n"
     ]
    },
    {
     "name": "stdout",
     "output_type": "stream",
     "text": [
      "Resume_Navina_Sethi.pdf\n"
     ]
    },
    {
     "name": "stderr",
     "output_type": "stream",
     "text": [
      "C:\\Users\\AbhiramGopal\\anaconda3\\envs\\ResumeParsing\\lib\\site-packages\\spacy\\util.py:275: UserWarning: [W031] Model 'en_training' (0.0.0) requires spaCy v2.1 and is incompatible with the current spaCy version (2.3.5). This may lead to unexpected results or runtime errors. To resolve this, download a newer compatible model or retrain your custom model with the current spaCy version. For more details and available updates, run: python -m spacy validate\n",
      "  warnings.warn(warn_msg)\n"
     ]
    },
    {
     "name": "stdout",
     "output_type": "stream",
     "text": [
      "Resume_Rakshit_Sinha.pdf\n"
     ]
    },
    {
     "name": "stderr",
     "output_type": "stream",
     "text": [
      "C:\\Users\\AbhiramGopal\\anaconda3\\envs\\ResumeParsing\\lib\\site-packages\\spacy\\util.py:275: UserWarning: [W031] Model 'en_training' (0.0.0) requires spaCy v2.1 and is incompatible with the current spaCy version (2.3.5). This may lead to unexpected results or runtime errors. To resolve this, download a newer compatible model or retrain your custom model with the current spaCy version. For more details and available updates, run: python -m spacy validate\n",
      "  warnings.warn(warn_msg)\n",
      "ERROR:root:invalid literal for int() with base 10: 'Aug2019'\n"
     ]
    },
    {
     "name": "stdout",
     "output_type": "stream",
     "text": [
      "Resume_Reetika_Chaturvedi.pdf\n"
     ]
    },
    {
     "name": "stderr",
     "output_type": "stream",
     "text": [
      "C:\\Users\\AbhiramGopal\\anaconda3\\envs\\ResumeParsing\\lib\\site-packages\\spacy\\util.py:275: UserWarning: [W031] Model 'en_training' (0.0.0) requires spaCy v2.1 and is incompatible with the current spaCy version (2.3.5). This may lead to unexpected results or runtime errors. To resolve this, download a newer compatible model or retrain your custom model with the current spaCy version. For more details and available updates, run: python -m spacy validate\n",
      "  warnings.warn(warn_msg)\n"
     ]
    },
    {
     "name": "stdout",
     "output_type": "stream",
     "text": [
      "Resume_Rishitha_Muddana.pdf\n"
     ]
    },
    {
     "name": "stderr",
     "output_type": "stream",
     "text": [
      "C:\\Users\\AbhiramGopal\\anaconda3\\envs\\ResumeParsing\\lib\\site-packages\\spacy\\util.py:275: UserWarning: [W031] Model 'en_training' (0.0.0) requires spaCy v2.1 and is incompatible with the current spaCy version (2.3.5). This may lead to unexpected results or runtime errors. To resolve this, download a newer compatible model or retrain your custom model with the current spaCy version. For more details and available updates, run: python -m spacy validate\n",
      "  warnings.warn(warn_msg)\n"
     ]
    },
    {
     "name": "stdout",
     "output_type": "stream",
     "text": [
      "Resume_Rohin_Bhagavatula.pdf\n"
     ]
    },
    {
     "name": "stderr",
     "output_type": "stream",
     "text": [
      "C:\\Users\\AbhiramGopal\\anaconda3\\envs\\ResumeParsing\\lib\\site-packages\\spacy\\util.py:275: UserWarning: [W031] Model 'en_training' (0.0.0) requires spaCy v2.1 and is incompatible with the current spaCy version (2.3.5). This may lead to unexpected results or runtime errors. To resolve this, download a newer compatible model or retrain your custom model with the current spaCy version. For more details and available updates, run: python -m spacy validate\n",
      "  warnings.warn(warn_msg)\n"
     ]
    },
    {
     "name": "stdout",
     "output_type": "stream",
     "text": [
      "Resume_Saida_Muktar.pdf\n"
     ]
    },
    {
     "name": "stderr",
     "output_type": "stream",
     "text": [
      "C:\\Users\\AbhiramGopal\\anaconda3\\envs\\ResumeParsing\\lib\\site-packages\\spacy\\util.py:275: UserWarning: [W031] Model 'en_training' (0.0.0) requires spaCy v2.1 and is incompatible with the current spaCy version (2.3.5). This may lead to unexpected results or runtime errors. To resolve this, download a newer compatible model or retrain your custom model with the current spaCy version. For more details and available updates, run: python -m spacy validate\n",
      "  warnings.warn(warn_msg)\n"
     ]
    },
    {
     "name": "stdout",
     "output_type": "stream",
     "text": [
      "Resume_Saivalini_Durvasula.pdf\n"
     ]
    },
    {
     "name": "stderr",
     "output_type": "stream",
     "text": [
      "C:\\Users\\AbhiramGopal\\anaconda3\\envs\\ResumeParsing\\lib\\site-packages\\spacy\\util.py:275: UserWarning: [W031] Model 'en_training' (0.0.0) requires spaCy v2.1 and is incompatible with the current spaCy version (2.3.5). This may lead to unexpected results or runtime errors. To resolve this, download a newer compatible model or retrain your custom model with the current spaCy version. For more details and available updates, run: python -m spacy validate\n",
      "  warnings.warn(warn_msg)\n"
     ]
    },
    {
     "name": "stdout",
     "output_type": "stream",
     "text": [
      "Resume_Sai_Sri_Malempati.pdf\n"
     ]
    },
    {
     "name": "stderr",
     "output_type": "stream",
     "text": [
      "C:\\Users\\AbhiramGopal\\anaconda3\\envs\\ResumeParsing\\lib\\site-packages\\spacy\\util.py:275: UserWarning: [W031] Model 'en_training' (0.0.0) requires spaCy v2.1 and is incompatible with the current spaCy version (2.3.5). This may lead to unexpected results or runtime errors. To resolve this, download a newer compatible model or retrain your custom model with the current spaCy version. For more details and available updates, run: python -m spacy validate\n",
      "  warnings.warn(warn_msg)\n"
     ]
    },
    {
     "name": "stdout",
     "output_type": "stream",
     "text": [
      "Resume_Sanat_Lal.pdf\n"
     ]
    },
    {
     "name": "stderr",
     "output_type": "stream",
     "text": [
      "C:\\Users\\AbhiramGopal\\anaconda3\\envs\\ResumeParsing\\lib\\site-packages\\spacy\\util.py:275: UserWarning: [W031] Model 'en_training' (0.0.0) requires spaCy v2.1 and is incompatible with the current spaCy version (2.3.5). This may lead to unexpected results or runtime errors. To resolve this, download a newer compatible model or retrain your custom model with the current spaCy version. For more details and available updates, run: python -m spacy validate\n",
      "  warnings.warn(warn_msg)\n"
     ]
    },
    {
     "name": "stdout",
     "output_type": "stream",
     "text": [
      "Resume_Saumil_Jariwala.pdf\n"
     ]
    },
    {
     "name": "stderr",
     "output_type": "stream",
     "text": [
      "C:\\Users\\AbhiramGopal\\anaconda3\\envs\\ResumeParsing\\lib\\site-packages\\spacy\\util.py:275: UserWarning: [W031] Model 'en_training' (0.0.0) requires spaCy v2.1 and is incompatible with the current spaCy version (2.3.5). This may lead to unexpected results or runtime errors. To resolve this, download a newer compatible model or retrain your custom model with the current spaCy version. For more details and available updates, run: python -m spacy validate\n",
      "  warnings.warn(warn_msg)\n"
     ]
    },
    {
     "name": "stdout",
     "output_type": "stream",
     "text": [
      "Resume_Saumil_Sudhir_Jariwala.pdf\n"
     ]
    },
    {
     "name": "stderr",
     "output_type": "stream",
     "text": [
      "C:\\Users\\AbhiramGopal\\anaconda3\\envs\\ResumeParsing\\lib\\site-packages\\spacy\\util.py:275: UserWarning: [W031] Model 'en_training' (0.0.0) requires spaCy v2.1 and is incompatible with the current spaCy version (2.3.5). This may lead to unexpected results or runtime errors. To resolve this, download a newer compatible model or retrain your custom model with the current spaCy version. For more details and available updates, run: python -m spacy validate\n",
      "  warnings.warn(warn_msg)\n"
     ]
    },
    {
     "name": "stdout",
     "output_type": "stream",
     "text": [
      "Resume_Shalin_Shanghavi.pdf\n"
     ]
    },
    {
     "name": "stderr",
     "output_type": "stream",
     "text": [
      "C:\\Users\\AbhiramGopal\\anaconda3\\envs\\ResumeParsing\\lib\\site-packages\\spacy\\util.py:275: UserWarning: [W031] Model 'en_training' (0.0.0) requires spaCy v2.1 and is incompatible with the current spaCy version (2.3.5). This may lead to unexpected results or runtime errors. To resolve this, download a newer compatible model or retrain your custom model with the current spaCy version. For more details and available updates, run: python -m spacy validate\n",
      "  warnings.warn(warn_msg)\n"
     ]
    },
    {
     "name": "stdout",
     "output_type": "stream",
     "text": [
      "Resume_Siyu_Tao.pdf\n"
     ]
    },
    {
     "name": "stderr",
     "output_type": "stream",
     "text": [
      "C:\\Users\\AbhiramGopal\\anaconda3\\envs\\ResumeParsing\\lib\\site-packages\\spacy\\util.py:275: UserWarning: [W031] Model 'en_training' (0.0.0) requires spaCy v2.1 and is incompatible with the current spaCy version (2.3.5). This may lead to unexpected results or runtime errors. To resolve this, download a newer compatible model or retrain your custom model with the current spaCy version. For more details and available updates, run: python -m spacy validate\n",
      "  warnings.warn(warn_msg)\n"
     ]
    },
    {
     "name": "stdout",
     "output_type": "stream",
     "text": [
      "Resume_Sobanaa_Jayakumar.pdf\n"
     ]
    },
    {
     "name": "stderr",
     "output_type": "stream",
     "text": [
      "C:\\Users\\AbhiramGopal\\anaconda3\\envs\\ResumeParsing\\lib\\site-packages\\spacy\\util.py:275: UserWarning: [W031] Model 'en_training' (0.0.0) requires spaCy v2.1 and is incompatible with the current spaCy version (2.3.5). This may lead to unexpected results or runtime errors. To resolve this, download a newer compatible model or retrain your custom model with the current spaCy version. For more details and available updates, run: python -m spacy validate\n",
      "  warnings.warn(warn_msg)\n"
     ]
    },
    {
     "name": "stdout",
     "output_type": "stream",
     "text": [
      "Resume_Srinath_Narayanan.pdf\n"
     ]
    },
    {
     "name": "stderr",
     "output_type": "stream",
     "text": [
      "C:\\Users\\AbhiramGopal\\anaconda3\\envs\\ResumeParsing\\lib\\site-packages\\spacy\\util.py:275: UserWarning: [W031] Model 'en_training' (0.0.0) requires spaCy v2.1 and is incompatible with the current spaCy version (2.3.5). This may lead to unexpected results or runtime errors. To resolve this, download a newer compatible model or retrain your custom model with the current spaCy version. For more details and available updates, run: python -m spacy validate\n",
      "  warnings.warn(warn_msg)\n"
     ]
    },
    {
     "name": "stdout",
     "output_type": "stream",
     "text": [
      "Resume_Srishti_Piplani.pdf\n"
     ]
    },
    {
     "name": "stderr",
     "output_type": "stream",
     "text": [
      "C:\\Users\\AbhiramGopal\\anaconda3\\envs\\ResumeParsing\\lib\\site-packages\\spacy\\util.py:275: UserWarning: [W031] Model 'en_training' (0.0.0) requires spaCy v2.1 and is incompatible with the current spaCy version (2.3.5). This may lead to unexpected results or runtime errors. To resolve this, download a newer compatible model or retrain your custom model with the current spaCy version. For more details and available updates, run: python -m spacy validate\n",
      "  warnings.warn(warn_msg)\n"
     ]
    },
    {
     "name": "stdout",
     "output_type": "stream",
     "text": [
      "Resume_Srushti_Shah.pdf\n"
     ]
    },
    {
     "name": "stderr",
     "output_type": "stream",
     "text": [
      "C:\\Users\\AbhiramGopal\\anaconda3\\envs\\ResumeParsing\\lib\\site-packages\\spacy\\util.py:275: UserWarning: [W031] Model 'en_training' (0.0.0) requires spaCy v2.1 and is incompatible with the current spaCy version (2.3.5). This may lead to unexpected results or runtime errors. To resolve this, download a newer compatible model or retrain your custom model with the current spaCy version. For more details and available updates, run: python -m spacy validate\n",
      "  warnings.warn(warn_msg)\n"
     ]
    },
    {
     "name": "stdout",
     "output_type": "stream",
     "text": [
      "Resume_Taegun_Ohe.pdf\n"
     ]
    },
    {
     "name": "stderr",
     "output_type": "stream",
     "text": [
      "C:\\Users\\AbhiramGopal\\anaconda3\\envs\\ResumeParsing\\lib\\site-packages\\spacy\\util.py:275: UserWarning: [W031] Model 'en_training' (0.0.0) requires spaCy v2.1 and is incompatible with the current spaCy version (2.3.5). This may lead to unexpected results or runtime errors. To resolve this, download a newer compatible model or retrain your custom model with the current spaCy version. For more details and available updates, run: python -m spacy validate\n",
      "  warnings.warn(warn_msg)\n"
     ]
    },
    {
     "name": "stdout",
     "output_type": "stream",
     "text": [
      "Resume_Tanishk_Parihar.pdf\n"
     ]
    },
    {
     "name": "stderr",
     "output_type": "stream",
     "text": [
      "C:\\Users\\AbhiramGopal\\anaconda3\\envs\\ResumeParsing\\lib\\site-packages\\spacy\\util.py:275: UserWarning: [W031] Model 'en_training' (0.0.0) requires spaCy v2.1 and is incompatible with the current spaCy version (2.3.5). This may lead to unexpected results or runtime errors. To resolve this, download a newer compatible model or retrain your custom model with the current spaCy version. For more details and available updates, run: python -m spacy validate\n",
      "  warnings.warn(warn_msg)\n"
     ]
    },
    {
     "name": "stdout",
     "output_type": "stream",
     "text": [
      "Resume_Tej_Gottapu.pdf\n"
     ]
    },
    {
     "name": "stderr",
     "output_type": "stream",
     "text": [
      "C:\\Users\\AbhiramGopal\\anaconda3\\envs\\ResumeParsing\\lib\\site-packages\\spacy\\util.py:275: UserWarning: [W031] Model 'en_training' (0.0.0) requires spaCy v2.1 and is incompatible with the current spaCy version (2.3.5). This may lead to unexpected results or runtime errors. To resolve this, download a newer compatible model or retrain your custom model with the current spaCy version. For more details and available updates, run: python -m spacy validate\n",
      "  warnings.warn(warn_msg)\n"
     ]
    },
    {
     "name": "stdout",
     "output_type": "stream",
     "text": [
      "Resume_Tezewi_Madarasu.pdf\n"
     ]
    },
    {
     "name": "stderr",
     "output_type": "stream",
     "text": [
      "C:\\Users\\AbhiramGopal\\anaconda3\\envs\\ResumeParsing\\lib\\site-packages\\spacy\\util.py:275: UserWarning: [W031] Model 'en_training' (0.0.0) requires spaCy v2.1 and is incompatible with the current spaCy version (2.3.5). This may lead to unexpected results or runtime errors. To resolve this, download a newer compatible model or retrain your custom model with the current spaCy version. For more details and available updates, run: python -m spacy validate\n",
      "  warnings.warn(warn_msg)\n"
     ]
    },
    {
     "name": "stdout",
     "output_type": "stream",
     "text": [
      "Resume_Tia_Moody.pdf\n"
     ]
    },
    {
     "name": "stderr",
     "output_type": "stream",
     "text": [
      "C:\\Users\\AbhiramGopal\\anaconda3\\envs\\ResumeParsing\\lib\\site-packages\\spacy\\util.py:275: UserWarning: [W031] Model 'en_training' (0.0.0) requires spaCy v2.1 and is incompatible with the current spaCy version (2.3.5). This may lead to unexpected results or runtime errors. To resolve this, download a newer compatible model or retrain your custom model with the current spaCy version. For more details and available updates, run: python -m spacy validate\n",
      "  warnings.warn(warn_msg)\n"
     ]
    },
    {
     "name": "stdout",
     "output_type": "stream",
     "text": [
      "Resume_Vijayalakshmi_Girijala.pdf\n"
     ]
    },
    {
     "name": "stderr",
     "output_type": "stream",
     "text": [
      "C:\\Users\\AbhiramGopal\\anaconda3\\envs\\ResumeParsing\\lib\\site-packages\\spacy\\util.py:275: UserWarning: [W031] Model 'en_training' (0.0.0) requires spaCy v2.1 and is incompatible with the current spaCy version (2.3.5). This may lead to unexpected results or runtime errors. To resolve this, download a newer compatible model or retrain your custom model with the current spaCy version. For more details and available updates, run: python -m spacy validate\n",
      "  warnings.warn(warn_msg)\n"
     ]
    },
    {
     "name": "stdout",
     "output_type": "stream",
     "text": [
      "Resume_Wei-chen_Lu.pdf\n"
     ]
    },
    {
     "name": "stderr",
     "output_type": "stream",
     "text": [
      "C:\\Users\\AbhiramGopal\\anaconda3\\envs\\ResumeParsing\\lib\\site-packages\\spacy\\util.py:275: UserWarning: [W031] Model 'en_training' (0.0.0) requires spaCy v2.1 and is incompatible with the current spaCy version (2.3.5). This may lead to unexpected results or runtime errors. To resolve this, download a newer compatible model or retrain your custom model with the current spaCy version. For more details and available updates, run: python -m spacy validate\n",
      "  warnings.warn(warn_msg)\n"
     ]
    },
    {
     "name": "stdout",
     "output_type": "stream",
     "text": [
      "Resume_Yann_Tamraz.pdf\n"
     ]
    },
    {
     "name": "stderr",
     "output_type": "stream",
     "text": [
      "C:\\Users\\AbhiramGopal\\anaconda3\\envs\\ResumeParsing\\lib\\site-packages\\spacy\\util.py:275: UserWarning: [W031] Model 'en_training' (0.0.0) requires spaCy v2.1 and is incompatible with the current spaCy version (2.3.5). This may lead to unexpected results or runtime errors. To resolve this, download a newer compatible model or retrain your custom model with the current spaCy version. For more details and available updates, run: python -m spacy validate\n",
      "  warnings.warn(warn_msg)\n"
     ]
    },
    {
     "name": "stdout",
     "output_type": "stream",
     "text": [
      "Resume_Yeni_Arely_Perez.pdf\n"
     ]
    },
    {
     "name": "stderr",
     "output_type": "stream",
     "text": [
      "C:\\Users\\AbhiramGopal\\anaconda3\\envs\\ResumeParsing\\lib\\site-packages\\spacy\\util.py:275: UserWarning: [W031] Model 'en_training' (0.0.0) requires spaCy v2.1 and is incompatible with the current spaCy version (2.3.5). This may lead to unexpected results or runtime errors. To resolve this, download a newer compatible model or retrain your custom model with the current spaCy version. For more details and available updates, run: python -m spacy validate\n",
      "  warnings.warn(warn_msg)\n"
     ]
    },
    {
     "name": "stdout",
     "output_type": "stream",
     "text": [
      "Resume_Yingkun_Wang.pdf\n"
     ]
    },
    {
     "name": "stderr",
     "output_type": "stream",
     "text": [
      "C:\\Users\\AbhiramGopal\\anaconda3\\envs\\ResumeParsing\\lib\\site-packages\\spacy\\util.py:275: UserWarning: [W031] Model 'en_training' (0.0.0) requires spaCy v2.1 and is incompatible with the current spaCy version (2.3.5). This may lead to unexpected results or runtime errors. To resolve this, download a newer compatible model or retrain your custom model with the current spaCy version. For more details and available updates, run: python -m spacy validate\n",
      "  warnings.warn(warn_msg)\n"
     ]
    },
    {
     "name": "stdout",
     "output_type": "stream",
     "text": [
      "Resume_Ying_Lu.pdf\n"
     ]
    },
    {
     "name": "stderr",
     "output_type": "stream",
     "text": [
      "C:\\Users\\AbhiramGopal\\anaconda3\\envs\\ResumeParsing\\lib\\site-packages\\spacy\\util.py:275: UserWarning: [W031] Model 'en_training' (0.0.0) requires spaCy v2.1 and is incompatible with the current spaCy version (2.3.5). This may lead to unexpected results or runtime errors. To resolve this, download a newer compatible model or retrain your custom model with the current spaCy version. For more details and available updates, run: python -m spacy validate\n",
      "  warnings.warn(warn_msg)\n"
     ]
    },
    {
     "name": "stdout",
     "output_type": "stream",
     "text": [
      "Resume_Yutong_Tang.pdf\n"
     ]
    },
    {
     "name": "stderr",
     "output_type": "stream",
     "text": [
      "C:\\Users\\AbhiramGopal\\anaconda3\\envs\\ResumeParsing\\lib\\site-packages\\spacy\\util.py:275: UserWarning: [W031] Model 'en_training' (0.0.0) requires spaCy v2.1 and is incompatible with the current spaCy version (2.3.5). This may lead to unexpected results or runtime errors. To resolve this, download a newer compatible model or retrain your custom model with the current spaCy version. For more details and available updates, run: python -m spacy validate\n",
      "  warnings.warn(warn_msg)\n"
     ]
    },
    {
     "name": "stdout",
     "output_type": "stream",
     "text": [
      "RichieLahoti.pdf\n"
     ]
    },
    {
     "name": "stderr",
     "output_type": "stream",
     "text": [
      "C:\\Users\\AbhiramGopal\\anaconda3\\envs\\ResumeParsing\\lib\\site-packages\\spacy\\util.py:275: UserWarning: [W031] Model 'en_training' (0.0.0) requires spaCy v2.1 and is incompatible with the current spaCy version (2.3.5). This may lead to unexpected results or runtime errors. To resolve this, download a newer compatible model or retrain your custom model with the current spaCy version. For more details and available updates, run: python -m spacy validate\n",
      "  warnings.warn(warn_msg)\n"
     ]
    },
    {
     "name": "stdout",
     "output_type": "stream",
     "text": [
      "RickyLindsey.pdf\n"
     ]
    },
    {
     "name": "stderr",
     "output_type": "stream",
     "text": [
      "C:\\Users\\AbhiramGopal\\anaconda3\\envs\\ResumeParsing\\lib\\site-packages\\spacy\\util.py:275: UserWarning: [W031] Model 'en_training' (0.0.0) requires spaCy v2.1 and is incompatible with the current spaCy version (2.3.5). This may lead to unexpected results or runtime errors. To resolve this, download a newer compatible model or retrain your custom model with the current spaCy version. For more details and available updates, run: python -m spacy validate\n",
      "  warnings.warn(warn_msg)\n"
     ]
    },
    {
     "name": "stdout",
     "output_type": "stream",
     "text": [
      "RohithMallula.pdf\n"
     ]
    },
    {
     "name": "stderr",
     "output_type": "stream",
     "text": [
      "C:\\Users\\AbhiramGopal\\anaconda3\\envs\\ResumeParsing\\lib\\site-packages\\spacy\\util.py:275: UserWarning: [W031] Model 'en_training' (0.0.0) requires spaCy v2.1 and is incompatible with the current spaCy version (2.3.5). This may lead to unexpected results or runtime errors. To resolve this, download a newer compatible model or retrain your custom model with the current spaCy version. For more details and available updates, run: python -m spacy validate\n",
      "  warnings.warn(warn_msg)\n"
     ]
    },
    {
     "name": "stdout",
     "output_type": "stream",
     "text": [
      "RuoshiZhao.pdf\n"
     ]
    },
    {
     "name": "stderr",
     "output_type": "stream",
     "text": [
      "C:\\Users\\AbhiramGopal\\anaconda3\\envs\\ResumeParsing\\lib\\site-packages\\spacy\\util.py:275: UserWarning: [W031] Model 'en_training' (0.0.0) requires spaCy v2.1 and is incompatible with the current spaCy version (2.3.5). This may lead to unexpected results or runtime errors. To resolve this, download a newer compatible model or retrain your custom model with the current spaCy version. For more details and available updates, run: python -m spacy validate\n",
      "  warnings.warn(warn_msg)\n"
     ]
    },
    {
     "name": "stdout",
     "output_type": "stream",
     "text": [
      "RutvikPatel.pdf\n"
     ]
    },
    {
     "name": "stderr",
     "output_type": "stream",
     "text": [
      "C:\\Users\\AbhiramGopal\\anaconda3\\envs\\ResumeParsing\\lib\\site-packages\\spacy\\util.py:275: UserWarning: [W031] Model 'en_training' (0.0.0) requires spaCy v2.1 and is incompatible with the current spaCy version (2.3.5). This may lead to unexpected results or runtime errors. To resolve this, download a newer compatible model or retrain your custom model with the current spaCy version. For more details and available updates, run: python -m spacy validate\n",
      "  warnings.warn(warn_msg)\n"
     ]
    },
    {
     "name": "stdout",
     "output_type": "stream",
     "text": [
      "RyanGoodwin.pdf\n"
     ]
    },
    {
     "name": "stderr",
     "output_type": "stream",
     "text": [
      "C:\\Users\\AbhiramGopal\\anaconda3\\envs\\ResumeParsing\\lib\\site-packages\\spacy\\util.py:275: UserWarning: [W031] Model 'en_training' (0.0.0) requires spaCy v2.1 and is incompatible with the current spaCy version (2.3.5). This may lead to unexpected results or runtime errors. To resolve this, download a newer compatible model or retrain your custom model with the current spaCy version. For more details and available updates, run: python -m spacy validate\n",
      "  warnings.warn(warn_msg)\n"
     ]
    },
    {
     "name": "stdout",
     "output_type": "stream",
     "text": [
      "SahanaHalady.pdf\n"
     ]
    },
    {
     "name": "stderr",
     "output_type": "stream",
     "text": [
      "C:\\Users\\AbhiramGopal\\anaconda3\\envs\\ResumeParsing\\lib\\site-packages\\spacy\\util.py:275: UserWarning: [W031] Model 'en_training' (0.0.0) requires spaCy v2.1 and is incompatible with the current spaCy version (2.3.5). This may lead to unexpected results or runtime errors. To resolve this, download a newer compatible model or retrain your custom model with the current spaCy version. For more details and available updates, run: python -m spacy validate\n",
      "  warnings.warn(warn_msg)\n"
     ]
    },
    {
     "name": "stdout",
     "output_type": "stream",
     "text": [
      "SAIKUMAR.pdf\n"
     ]
    },
    {
     "name": "stderr",
     "output_type": "stream",
     "text": [
      "C:\\Users\\AbhiramGopal\\anaconda3\\envs\\ResumeParsing\\lib\\site-packages\\spacy\\util.py:275: UserWarning: [W031] Model 'en_training' (0.0.0) requires spaCy v2.1 and is incompatible with the current spaCy version (2.3.5). This may lead to unexpected results or runtime errors. To resolve this, download a newer compatible model or retrain your custom model with the current spaCy version. For more details and available updates, run: python -m spacy validate\n",
      "  warnings.warn(warn_msg)\n"
     ]
    },
    {
     "name": "stdout",
     "output_type": "stream",
     "text": [
      "SamSong.pdf\n"
     ]
    },
    {
     "name": "stderr",
     "output_type": "stream",
     "text": [
      "C:\\Users\\AbhiramGopal\\anaconda3\\envs\\ResumeParsing\\lib\\site-packages\\spacy\\util.py:275: UserWarning: [W031] Model 'en_training' (0.0.0) requires spaCy v2.1 and is incompatible with the current spaCy version (2.3.5). This may lead to unexpected results or runtime errors. To resolve this, download a newer compatible model or retrain your custom model with the current spaCy version. For more details and available updates, run: python -m spacy validate\n",
      "  warnings.warn(warn_msg)\n"
     ]
    },
    {
     "name": "stdout",
     "output_type": "stream",
     "text": [
      "Senthil Nathan M.pdf\n"
     ]
    },
    {
     "name": "stderr",
     "output_type": "stream",
     "text": [
      "C:\\Users\\AbhiramGopal\\anaconda3\\envs\\ResumeParsing\\lib\\site-packages\\spacy\\util.py:275: UserWarning: [W031] Model 'en_training' (0.0.0) requires spaCy v2.1 and is incompatible with the current spaCy version (2.3.5). This may lead to unexpected results or runtime errors. To resolve this, download a newer compatible model or retrain your custom model with the current spaCy version. For more details and available updates, run: python -m spacy validate\n",
      "  warnings.warn(warn_msg)\n",
      "ERROR:root:'NoneType' object has no attribute 'group'\n"
     ]
    },
    {
     "name": "stdout",
     "output_type": "stream",
     "text": [
      "SharmistaVemulapalli.pdf\n"
     ]
    },
    {
     "name": "stderr",
     "output_type": "stream",
     "text": [
      "C:\\Users\\AbhiramGopal\\anaconda3\\envs\\ResumeParsing\\lib\\site-packages\\spacy\\util.py:275: UserWarning: [W031] Model 'en_training' (0.0.0) requires spaCy v2.1 and is incompatible with the current spaCy version (2.3.5). This may lead to unexpected results or runtime errors. To resolve this, download a newer compatible model or retrain your custom model with the current spaCy version. For more details and available updates, run: python -m spacy validate\n",
      "  warnings.warn(warn_msg)\n"
     ]
    },
    {
     "name": "stdout",
     "output_type": "stream",
     "text": [
      "ShianChen.pdf\n"
     ]
    },
    {
     "name": "stderr",
     "output_type": "stream",
     "text": [
      "C:\\Users\\AbhiramGopal\\anaconda3\\envs\\ResumeParsing\\lib\\site-packages\\spacy\\util.py:275: UserWarning: [W031] Model 'en_training' (0.0.0) requires spaCy v2.1 and is incompatible with the current spaCy version (2.3.5). This may lead to unexpected results or runtime errors. To resolve this, download a newer compatible model or retrain your custom model with the current spaCy version. For more details and available updates, run: python -m spacy validate\n",
      "  warnings.warn(warn_msg)\n"
     ]
    },
    {
     "name": "stdout",
     "output_type": "stream",
     "text": [
      "ShreyaDharmarajan.pdf\n"
     ]
    },
    {
     "name": "stderr",
     "output_type": "stream",
     "text": [
      "C:\\Users\\AbhiramGopal\\anaconda3\\envs\\ResumeParsing\\lib\\site-packages\\spacy\\util.py:275: UserWarning: [W031] Model 'en_training' (0.0.0) requires spaCy v2.1 and is incompatible with the current spaCy version (2.3.5). This may lead to unexpected results or runtime errors. To resolve this, download a newer compatible model or retrain your custom model with the current spaCy version. For more details and available updates, run: python -m spacy validate\n",
      "  warnings.warn(warn_msg)\n"
     ]
    },
    {
     "name": "stdout",
     "output_type": "stream",
     "text": [
      "ShwetankRokade.pdf\n"
     ]
    },
    {
     "name": "stderr",
     "output_type": "stream",
     "text": [
      "C:\\Users\\AbhiramGopal\\anaconda3\\envs\\ResumeParsing\\lib\\site-packages\\spacy\\util.py:275: UserWarning: [W031] Model 'en_training' (0.0.0) requires spaCy v2.1 and is incompatible with the current spaCy version (2.3.5). This may lead to unexpected results or runtime errors. To resolve this, download a newer compatible model or retrain your custom model with the current spaCy version. For more details and available updates, run: python -m spacy validate\n",
      "  warnings.warn(warn_msg)\n"
     ]
    },
    {
     "name": "stdout",
     "output_type": "stream",
     "text": [
      "StevenZhang.pdf\n"
     ]
    },
    {
     "name": "stderr",
     "output_type": "stream",
     "text": [
      "C:\\Users\\AbhiramGopal\\anaconda3\\envs\\ResumeParsing\\lib\\site-packages\\spacy\\util.py:275: UserWarning: [W031] Model 'en_training' (0.0.0) requires spaCy v2.1 and is incompatible with the current spaCy version (2.3.5). This may lead to unexpected results or runtime errors. To resolve this, download a newer compatible model or retrain your custom model with the current spaCy version. For more details and available updates, run: python -m spacy validate\n",
      "  warnings.warn(warn_msg)\n"
     ]
    },
    {
     "name": "stdout",
     "output_type": "stream",
     "text": [
      "SushantPatankar.pdf\n"
     ]
    },
    {
     "name": "stderr",
     "output_type": "stream",
     "text": [
      "C:\\Users\\AbhiramGopal\\anaconda3\\envs\\ResumeParsing\\lib\\site-packages\\spacy\\util.py:275: UserWarning: [W031] Model 'en_training' (0.0.0) requires spaCy v2.1 and is incompatible with the current spaCy version (2.3.5). This may lead to unexpected results or runtime errors. To resolve this, download a newer compatible model or retrain your custom model with the current spaCy version. For more details and available updates, run: python -m spacy validate\n",
      "  warnings.warn(warn_msg)\n"
     ]
    },
    {
     "name": "stdout",
     "output_type": "stream",
     "text": [
      "TanviTembhurne.pdf\n"
     ]
    },
    {
     "name": "stderr",
     "output_type": "stream",
     "text": [
      "C:\\Users\\AbhiramGopal\\anaconda3\\envs\\ResumeParsing\\lib\\site-packages\\spacy\\util.py:275: UserWarning: [W031] Model 'en_training' (0.0.0) requires spaCy v2.1 and is incompatible with the current spaCy version (2.3.5). This may lead to unexpected results or runtime errors. To resolve this, download a newer compatible model or retrain your custom model with the current spaCy version. For more details and available updates, run: python -m spacy validate\n",
      "  warnings.warn(warn_msg)\n"
     ]
    },
    {
     "name": "stdout",
     "output_type": "stream",
     "text": [
      "test_parse\n",
      "Tzu-YaoLin.pdf\n"
     ]
    },
    {
     "name": "stderr",
     "output_type": "stream",
     "text": [
      "C:\\Users\\AbhiramGopal\\anaconda3\\envs\\ResumeParsing\\lib\\site-packages\\spacy\\util.py:275: UserWarning: [W031] Model 'en_training' (0.0.0) requires spaCy v2.1 and is incompatible with the current spaCy version (2.3.5). This may lead to unexpected results or runtime errors. To resolve this, download a newer compatible model or retrain your custom model with the current spaCy version. For more details and available updates, run: python -m spacy validate\n",
      "  warnings.warn(warn_msg)\n"
     ]
    },
    {
     "name": "stdout",
     "output_type": "stream",
     "text": [
      "UdayHiremath.pdf\n"
     ]
    },
    {
     "name": "stderr",
     "output_type": "stream",
     "text": [
      "C:\\Users\\AbhiramGopal\\anaconda3\\envs\\ResumeParsing\\lib\\site-packages\\spacy\\util.py:275: UserWarning: [W031] Model 'en_training' (0.0.0) requires spaCy v2.1 and is incompatible with the current spaCy version (2.3.5). This may lead to unexpected results or runtime errors. To resolve this, download a newer compatible model or retrain your custom model with the current spaCy version. For more details and available updates, run: python -m spacy validate\n",
      "  warnings.warn(warn_msg)\n"
     ]
    },
    {
     "name": "stdout",
     "output_type": "stream",
     "text": [
      "VanisaAchakulvisut.pdf\n"
     ]
    },
    {
     "name": "stderr",
     "output_type": "stream",
     "text": [
      "C:\\Users\\AbhiramGopal\\anaconda3\\envs\\ResumeParsing\\lib\\site-packages\\spacy\\util.py:275: UserWarning: [W031] Model 'en_training' (0.0.0) requires spaCy v2.1 and is incompatible with the current spaCy version (2.3.5). This may lead to unexpected results or runtime errors. To resolve this, download a newer compatible model or retrain your custom model with the current spaCy version. For more details and available updates, run: python -m spacy validate\n",
      "  warnings.warn(warn_msg)\n"
     ]
    },
    {
     "name": "stdout",
     "output_type": "stream",
     "text": [
      "VictorJohnson.pdf\n"
     ]
    },
    {
     "name": "stderr",
     "output_type": "stream",
     "text": [
      "C:\\Users\\AbhiramGopal\\anaconda3\\envs\\ResumeParsing\\lib\\site-packages\\spacy\\util.py:275: UserWarning: [W031] Model 'en_training' (0.0.0) requires spaCy v2.1 and is incompatible with the current spaCy version (2.3.5). This may lead to unexpected results or runtime errors. To resolve this, download a newer compatible model or retrain your custom model with the current spaCy version. For more details and available updates, run: python -m spacy validate\n",
      "  warnings.warn(warn_msg)\n"
     ]
    },
    {
     "name": "stdout",
     "output_type": "stream",
     "text": [
      "WenmoSun.pdf\n"
     ]
    },
    {
     "name": "stderr",
     "output_type": "stream",
     "text": [
      "C:\\Users\\AbhiramGopal\\anaconda3\\envs\\ResumeParsing\\lib\\site-packages\\spacy\\util.py:275: UserWarning: [W031] Model 'en_training' (0.0.0) requires spaCy v2.1 and is incompatible with the current spaCy version (2.3.5). This may lead to unexpected results or runtime errors. To resolve this, download a newer compatible model or retrain your custom model with the current spaCy version. For more details and available updates, run: python -m spacy validate\n",
      "  warnings.warn(warn_msg)\n"
     ]
    },
    {
     "name": "stdout",
     "output_type": "stream",
     "text": [
      "XiaolanLi.pdf\n"
     ]
    },
    {
     "name": "stderr",
     "output_type": "stream",
     "text": [
      "C:\\Users\\AbhiramGopal\\anaconda3\\envs\\ResumeParsing\\lib\\site-packages\\spacy\\util.py:275: UserWarning: [W031] Model 'en_training' (0.0.0) requires spaCy v2.1 and is incompatible with the current spaCy version (2.3.5). This may lead to unexpected results or runtime errors. To resolve this, download a newer compatible model or retrain your custom model with the current spaCy version. For more details and available updates, run: python -m spacy validate\n",
      "  warnings.warn(warn_msg)\n"
     ]
    },
    {
     "name": "stdout",
     "output_type": "stream",
     "text": [
      "YichiQian.pdf\n"
     ]
    },
    {
     "name": "stderr",
     "output_type": "stream",
     "text": [
      "C:\\Users\\AbhiramGopal\\anaconda3\\envs\\ResumeParsing\\lib\\site-packages\\spacy\\util.py:275: UserWarning: [W031] Model 'en_training' (0.0.0) requires spaCy v2.1 and is incompatible with the current spaCy version (2.3.5). This may lead to unexpected results or runtime errors. To resolve this, download a newer compatible model or retrain your custom model with the current spaCy version. For more details and available updates, run: python -m spacy validate\n",
      "  warnings.warn(warn_msg)\n"
     ]
    },
    {
     "name": "stdout",
     "output_type": "stream",
     "text": [
      "YichuanHong.pdf\n"
     ]
    },
    {
     "name": "stderr",
     "output_type": "stream",
     "text": [
      "C:\\Users\\AbhiramGopal\\anaconda3\\envs\\ResumeParsing\\lib\\site-packages\\spacy\\util.py:275: UserWarning: [W031] Model 'en_training' (0.0.0) requires spaCy v2.1 and is incompatible with the current spaCy version (2.3.5). This may lead to unexpected results or runtime errors. To resolve this, download a newer compatible model or retrain your custom model with the current spaCy version. For more details and available updates, run: python -m spacy validate\n",
      "  warnings.warn(warn_msg)\n"
     ]
    },
    {
     "name": "stdout",
     "output_type": "stream",
     "text": [
      "YifanLiu.pdf\n"
     ]
    },
    {
     "name": "stderr",
     "output_type": "stream",
     "text": [
      "C:\\Users\\AbhiramGopal\\anaconda3\\envs\\ResumeParsing\\lib\\site-packages\\spacy\\util.py:275: UserWarning: [W031] Model 'en_training' (0.0.0) requires spaCy v2.1 and is incompatible with the current spaCy version (2.3.5). This may lead to unexpected results or runtime errors. To resolve this, download a newer compatible model or retrain your custom model with the current spaCy version. For more details and available updates, run: python -m spacy validate\n",
      "  warnings.warn(warn_msg)\n"
     ]
    },
    {
     "name": "stdout",
     "output_type": "stream",
     "text": [
      "YiruWen.pdf\n"
     ]
    },
    {
     "name": "stderr",
     "output_type": "stream",
     "text": [
      "C:\\Users\\AbhiramGopal\\anaconda3\\envs\\ResumeParsing\\lib\\site-packages\\spacy\\util.py:275: UserWarning: [W031] Model 'en_training' (0.0.0) requires spaCy v2.1 and is incompatible with the current spaCy version (2.3.5). This may lead to unexpected results or runtime errors. To resolve this, download a newer compatible model or retrain your custom model with the current spaCy version. For more details and available updates, run: python -m spacy validate\n",
      "  warnings.warn(warn_msg)\n"
     ]
    },
    {
     "name": "stdout",
     "output_type": "stream",
     "text": [
      "YunhanDong.pdf\n"
     ]
    },
    {
     "name": "stderr",
     "output_type": "stream",
     "text": [
      "C:\\Users\\AbhiramGopal\\anaconda3\\envs\\ResumeParsing\\lib\\site-packages\\spacy\\util.py:275: UserWarning: [W031] Model 'en_training' (0.0.0) requires spaCy v2.1 and is incompatible with the current spaCy version (2.3.5). This may lead to unexpected results or runtime errors. To resolve this, download a newer compatible model or retrain your custom model with the current spaCy version. For more details and available updates, run: python -m spacy validate\n",
      "  warnings.warn(warn_msg)\n"
     ]
    },
    {
     "name": "stdout",
     "output_type": "stream",
     "text": [
      "ZhengyangZhang.pdf\n"
     ]
    },
    {
     "name": "stderr",
     "output_type": "stream",
     "text": [
      "C:\\Users\\AbhiramGopal\\anaconda3\\envs\\ResumeParsing\\lib\\site-packages\\spacy\\util.py:275: UserWarning: [W031] Model 'en_training' (0.0.0) requires spaCy v2.1 and is incompatible with the current spaCy version (2.3.5). This may lead to unexpected results or runtime errors. To resolve this, download a newer compatible model or retrain your custom model with the current spaCy version. For more details and available updates, run: python -m spacy validate\n",
      "  warnings.warn(warn_msg)\n"
     ]
    },
    {
     "name": "stdout",
     "output_type": "stream",
     "text": [
      "ZhuohanZhang.pdf\n"
     ]
    },
    {
     "name": "stderr",
     "output_type": "stream",
     "text": [
      "C:\\Users\\AbhiramGopal\\anaconda3\\envs\\ResumeParsing\\lib\\site-packages\\spacy\\util.py:275: UserWarning: [W031] Model 'en_training' (0.0.0) requires spaCy v2.1 and is incompatible with the current spaCy version (2.3.5). This may lead to unexpected results or runtime errors. To resolve this, download a newer compatible model or retrain your custom model with the current spaCy version. For more details and available updates, run: python -m spacy validate\n",
      "  warnings.warn(warn_msg)\n"
     ]
    },
    {
     "name": "stdout",
     "output_type": "stream",
     "text": [
      "ZixiaoHuang.pdf\n"
     ]
    },
    {
     "name": "stderr",
     "output_type": "stream",
     "text": [
      "C:\\Users\\AbhiramGopal\\anaconda3\\envs\\ResumeParsing\\lib\\site-packages\\spacy\\util.py:275: UserWarning: [W031] Model 'en_training' (0.0.0) requires spaCy v2.1 and is incompatible with the current spaCy version (2.3.5). This may lead to unexpected results or runtime errors. To resolve this, download a newer compatible model or retrain your custom model with the current spaCy version. For more details and available updates, run: python -m spacy validate\n",
      "  warnings.warn(warn_msg)\n"
     ]
    },
    {
     "name": "stdout",
     "output_type": "stream",
     "text": [
      "ZiyongWang.pdf\n"
     ]
    },
    {
     "name": "stderr",
     "output_type": "stream",
     "text": [
      "C:\\Users\\AbhiramGopal\\anaconda3\\envs\\ResumeParsing\\lib\\site-packages\\spacy\\util.py:275: UserWarning: [W031] Model 'en_training' (0.0.0) requires spaCy v2.1 and is incompatible with the current spaCy version (2.3.5). This may lead to unexpected results or runtime errors. To resolve this, download a newer compatible model or retrain your custom model with the current spaCy version. For more details and available updates, run: python -m spacy validate\n",
      "  warnings.warn(warn_msg)\n"
     ]
    }
   ],
   "source": [
    "def extract_text_from_docx(docx_path):\n",
    "    txt = docx2txt.process(docx_path)\n",
    "    if txt:\n",
    "        return txt.replace('\\t', ' ')\n",
    "    return None\n",
    "\n",
    "def extract_text_from_pdf(pdf_path):\n",
    "    return extract_text(pdf_path)\n",
    "\n",
    "directory = r'Data/Resumes'\n",
    "pdf = []\n",
    "docs = []\n",
    "pyresparser = []\n",
    "resumeparser = []\n",
    "for filename in os.listdir(directory):\n",
    "    print(filename)\n",
    "    data = {}\n",
    "    if filename.endswith(\".docx\"):\n",
    "        path = os.path.join(directory, filename)\n",
    "        \n",
    "        data = resumeparse.read_file(path)\n",
    "        data['text'] = extract_text_from_docx(path)\n",
    "        \n",
    "              \n",
    "        resumeparser.append(data)\n",
    "        \n",
    "        data = ResumeParser(path).get_extracted_data()\n",
    "        data['text'] = extract_text_from_docx(path)\n",
    "        \n",
    "        pyresparser.append(data)\n",
    "        \n",
    "        \n",
    "        \n",
    "    elif filename.endswith(\".pdf\"):\n",
    "\n",
    "               \n",
    "        path = os.path.join(directory, filename)\n",
    "        \n",
    "        data = resumeparse.read_file(path)\n",
    "        data['text'] = extract_text_from_pdf(path)\n",
    "        \n",
    "              \n",
    "        resumeparser.append(data)\n",
    "        \n",
    "        data = ResumeParser(path).get_extracted_data()\n",
    "        data['text'] = extract_text_from_pdf(path)\n",
    "        \n",
    "        pyresparser.append(data)\n",
    "\n",
    "    else:\n",
    "        continue\n",
    "    \n",
    "\n",
    "\n"
   ]
  },
  {
   "cell_type": "code",
   "execution_count": null,
   "metadata": {},
   "outputs": [],
   "source": []
  },
  {
   "cell_type": "code",
   "execution_count": 83,
   "metadata": {},
   "outputs": [
    {
     "data": {
      "text/html": [
       "<div>\n",
       "<style scoped>\n",
       "    .dataframe tbody tr th:only-of-type {\n",
       "        vertical-align: middle;\n",
       "    }\n",
       "\n",
       "    .dataframe tbody tr th {\n",
       "        vertical-align: top;\n",
       "    }\n",
       "\n",
       "    .dataframe thead th {\n",
       "        text-align: right;\n",
       "    }\n",
       "</style>\n",
       "<table border=\"1\" class=\"dataframe\">\n",
       "  <thead>\n",
       "    <tr style=\"text-align: right;\">\n",
       "      <th></th>\n",
       "      <th>name</th>\n",
       "      <th>email</th>\n",
       "      <th>mobile_number</th>\n",
       "      <th>skills</th>\n",
       "      <th>college_name</th>\n",
       "      <th>degree</th>\n",
       "      <th>designation</th>\n",
       "      <th>experience</th>\n",
       "      <th>company_names</th>\n",
       "      <th>no_of_pages</th>\n",
       "      <th>total_experience</th>\n",
       "      <th>text</th>\n",
       "    </tr>\n",
       "  </thead>\n",
       "  <tbody>\n",
       "    <tr>\n",
       "      <th>0</th>\n",
       "      <td>Karthik Ramanarayana</td>\n",
       "      <td>karthikr2194@gmail.com</td>\n",
       "      <td>292-1151</td>\n",
       "      <td>[Communication, Hbase, Statistics, Matrix, Tab...</td>\n",
       "      <td>None</td>\n",
       "      <td></td>\n",
       "      <td>None</td>\n",
       "      <td>[Data Intern, Index Analytics LLC, Baltimore, MD]</td>\n",
       "      <td>None</td>\n",
       "      <td>1</td>\n",
       "      <td>0.00</td>\n",
       "      <td>Karthik Ramanarayana \\n2001 Eastern Avenue, Ba...</td>\n",
       "    </tr>\n",
       "    <tr>\n",
       "      <th>1</th>\n",
       "      <td>HARSH PUNDIR</td>\n",
       "      <td>hpundir@umd.edu</td>\n",
       "      <td>240.423.5453</td>\n",
       "      <td>[Algorithms, Six sigma, Tableau, Big data, Pay...</td>\n",
       "      <td>None</td>\n",
       "      <td>Master of Science in Business Analytics</td>\n",
       "      <td>None</td>\n",
       "      <td>[SMSA (  VP, Operations), ■  Help with the pla...</td>\n",
       "      <td>None</td>\n",
       "      <td>1</td>\n",
       "      <td>0.00</td>\n",
       "      <td>HARSH PUNDIR \\n3425 Tulane Dr.    Hyattsville,...</td>\n",
       "    </tr>\n",
       "    <tr>\n",
       "      <th>2</th>\n",
       "      <td>TX Master</td>\n",
       "      <td>tirth2410@gmail.com</td>\n",
       "      <td>469-370-9437</td>\n",
       "      <td>[Statistics, Algorithms, Tableau, Statistical ...</td>\n",
       "      <td>None</td>\n",
       "      <td></td>\n",
       "      <td>None</td>\n",
       "      <td>[Web Analyst, The University of Texas at Dalla...</td>\n",
       "      <td>None</td>\n",
       "      <td>1</td>\n",
       "      <td>2.83</td>\n",
       "      <td>TIRTH PATEL \\nHolbrook, NY | tirth2410@gmail.c...</td>\n",
       "    </tr>\n",
       "    <tr>\n",
       "      <th>3</th>\n",
       "      <td>Akanksha Bapna</td>\n",
       "      <td>None</td>\n",
       "      <td>None</td>\n",
       "      <td>[Retail, Health, Strategy, Ibm, Budget, Tablea...</td>\n",
       "      <td>None</td>\n",
       "      <td>Bachelors in Technology, Chemical Engineering</td>\n",
       "      <td>None</td>\n",
       "      <td>[The Editorial Board, Head of Logistics, Oct 2...</td>\n",
       "      <td>None</td>\n",
       "      <td>2</td>\n",
       "      <td>3.92</td>\n",
       "      <td>Akanksha Bapna\\nabapna.com ● Email ● Personal ...</td>\n",
       "    </tr>\n",
       "    <tr>\n",
       "      <th>4</th>\n",
       "      <td>Mythri Partha</td>\n",
       "      <td>mythripartha8@gmail.com</td>\n",
       "      <td>725-7080</td>\n",
       "      <td>[Health, Numpy, Email, Access, Pandas, Enginee...</td>\n",
       "      <td>None</td>\n",
       "      <td></td>\n",
       "      <td>None</td>\n",
       "      <td>[InventXYZ, Data Engineering Intern, Aug. 2015...</td>\n",
       "      <td>None</td>\n",
       "      <td>1</td>\n",
       "      <td>0.75</td>\n",
       "      <td>Mythri Partha \\nHouston, TX | Phone: (281) 725...</td>\n",
       "    </tr>\n",
       "    <tr>\n",
       "      <th>...</th>\n",
       "      <td>...</td>\n",
       "      <td>...</td>\n",
       "      <td>...</td>\n",
       "      <td>...</td>\n",
       "      <td>...</td>\n",
       "      <td>...</td>\n",
       "      <td>...</td>\n",
       "      <td>...</td>\n",
       "      <td>...</td>\n",
       "      <td>...</td>\n",
       "      <td>...</td>\n",
       "      <td>...</td>\n",
       "    </tr>\n",
       "    <tr>\n",
       "      <th>177</th>\n",
       "      <td>Columbia University</td>\n",
       "      <td>yd2578@columbia.edu·(319)</td>\n",
       "      <td>512-0421</td>\n",
       "      <td>[Sqlalchemy, Ibm, Workflow, Tableau, P, Nosql,...</td>\n",
       "      <td>None</td>\n",
       "      <td>M.S. in Computer and Information Science</td>\n",
       "      <td>None</td>\n",
       "      <td>[Streaming Data Retrieval System              ...</td>\n",
       "      <td>None</td>\n",
       "      <td>1</td>\n",
       "      <td>0.00</td>\n",
       "      <td>yd2578@columbia.edu·(319) 512-0421·www.zoedong...</td>\n",
       "    </tr>\n",
       "    <tr>\n",
       "      <th>178</th>\n",
       "      <td>Jersey City</td>\n",
       "      <td>zzhan67@stevens.edu</td>\n",
       "      <td>531-8942</td>\n",
       "      <td>[Communication, Algorithms, Statistics, Tablea...</td>\n",
       "      <td>None</td>\n",
       "      <td></td>\n",
       "      <td>None</td>\n",
       "      <td>[Utegration LLC, Houston, TX, Data Analytics I...</td>\n",
       "      <td>None</td>\n",
       "      <td>1</td>\n",
       "      <td>0.00</td>\n",
       "      <td>Jersey City, NJ                               ...</td>\n",
       "    </tr>\n",
       "    <tr>\n",
       "      <th>179</th>\n",
       "      <td>Columbia University</td>\n",
       "      <td>zz2751@columbia.edu</td>\n",
       "      <td>763-4795</td>\n",
       "      <td>[Health, Statistics, Data analytics, Tableau, ...</td>\n",
       "      <td>None</td>\n",
       "      <td>Bachelor of Arts, Mathematics (Statistics), Ec...</td>\n",
       "      <td>None</td>\n",
       "      <td>[Project on Covid Social Media Data           ...</td>\n",
       "      <td>None</td>\n",
       "      <td>1</td>\n",
       "      <td>0.75</td>\n",
       "      <td>Zhuohan Zhang \\n (617) 763-4795 | zz2751@colum...</td>\n",
       "    </tr>\n",
       "    <tr>\n",
       "      <th>180</th>\n",
       "      <td>Zixiao Huang</td>\n",
       "      <td>zixiao.huang.74@gmail.com</td>\n",
       "      <td>615-977-2160</td>\n",
       "      <td>[Algorithms, Statistics, Tableau, Startup, Big...</td>\n",
       "      <td>None</td>\n",
       "      <td>Master of Science in Analytics</td>\n",
       "      <td>None</td>\n",
       "      <td>[Stealth Mode Startup, Deep Learning Innovatio...</td>\n",
       "      <td>None</td>\n",
       "      <td>1</td>\n",
       "      <td>1.25</td>\n",
       "      <td>Zixiao Huang \\n\\nzixiao.huang.74@gmail.com | 6...</td>\n",
       "    </tr>\n",
       "    <tr>\n",
       "      <th>181</th>\n",
       "      <td>Stream Bank</td>\n",
       "      <td>zwang160@terpmail.umd.edu</td>\n",
       "      <td>216-6448</td>\n",
       "      <td>[Communication, Strategy, Statistics, Tableau,...</td>\n",
       "      <td>None</td>\n",
       "      <td></td>\n",
       "      <td>[Investment Manager Assistant]</td>\n",
       "      <td>[FRM designation. CFA level one exam passed., ...</td>\n",
       "      <td>None</td>\n",
       "      <td>1</td>\n",
       "      <td>0.00</td>\n",
       "      <td>Ziyong “Willis” Wang \\n(667) 216-6448 ● 5504 S...</td>\n",
       "    </tr>\n",
       "  </tbody>\n",
       "</table>\n",
       "<p>182 rows × 12 columns</p>\n",
       "</div>"
      ],
      "text/plain": [
       "                     name                      email mobile_number  \\\n",
       "0    Karthik Ramanarayana     karthikr2194@gmail.com      292-1151   \n",
       "1            HARSH PUNDIR            hpundir@umd.edu  240.423.5453   \n",
       "2               TX Master        tirth2410@gmail.com  469-370-9437   \n",
       "3          Akanksha Bapna                       None          None   \n",
       "4           Mythri Partha    mythripartha8@gmail.com      725-7080   \n",
       "..                    ...                        ...           ...   \n",
       "177   Columbia University  yd2578@columbia.edu·(319)      512-0421   \n",
       "178           Jersey City        zzhan67@stevens.edu      531-8942   \n",
       "179   Columbia University        zz2751@columbia.edu      763-4795   \n",
       "180          Zixiao Huang  zixiao.huang.74@gmail.com  615-977-2160   \n",
       "181           Stream Bank  zwang160@terpmail.umd.edu      216-6448   \n",
       "\n",
       "                                                skills college_name  \\\n",
       "0    [Communication, Hbase, Statistics, Matrix, Tab...         None   \n",
       "1    [Algorithms, Six sigma, Tableau, Big data, Pay...         None   \n",
       "2    [Statistics, Algorithms, Tableau, Statistical ...         None   \n",
       "3    [Retail, Health, Strategy, Ibm, Budget, Tablea...         None   \n",
       "4    [Health, Numpy, Email, Access, Pandas, Enginee...         None   \n",
       "..                                                 ...          ...   \n",
       "177  [Sqlalchemy, Ibm, Workflow, Tableau, P, Nosql,...         None   \n",
       "178  [Communication, Algorithms, Statistics, Tablea...         None   \n",
       "179  [Health, Statistics, Data analytics, Tableau, ...         None   \n",
       "180  [Algorithms, Statistics, Tableau, Startup, Big...         None   \n",
       "181  [Communication, Strategy, Statistics, Tableau,...         None   \n",
       "\n",
       "                                                degree  \\\n",
       "0                                                        \n",
       "1              Master of Science in Business Analytics   \n",
       "2                                                        \n",
       "3        Bachelors in Technology, Chemical Engineering   \n",
       "4                                                        \n",
       "..                                                 ...   \n",
       "177           M.S. in Computer and Information Science   \n",
       "178                                                      \n",
       "179  Bachelor of Arts, Mathematics (Statistics), Ec...   \n",
       "180                     Master of Science in Analytics   \n",
       "181                                                      \n",
       "\n",
       "                        designation  \\\n",
       "0                              None   \n",
       "1                              None   \n",
       "2                              None   \n",
       "3                              None   \n",
       "4                              None   \n",
       "..                              ...   \n",
       "177                            None   \n",
       "178                            None   \n",
       "179                            None   \n",
       "180                            None   \n",
       "181  [Investment Manager Assistant]   \n",
       "\n",
       "                                            experience company_names  \\\n",
       "0    [Data Intern, Index Analytics LLC, Baltimore, MD]          None   \n",
       "1    [SMSA (  VP, Operations), ■  Help with the pla...          None   \n",
       "2    [Web Analyst, The University of Texas at Dalla...          None   \n",
       "3    [The Editorial Board, Head of Logistics, Oct 2...          None   \n",
       "4    [InventXYZ, Data Engineering Intern, Aug. 2015...          None   \n",
       "..                                                 ...           ...   \n",
       "177  [Streaming Data Retrieval System              ...          None   \n",
       "178  [Utegration LLC, Houston, TX, Data Analytics I...          None   \n",
       "179  [Project on Covid Social Media Data           ...          None   \n",
       "180  [Stealth Mode Startup, Deep Learning Innovatio...          None   \n",
       "181  [FRM designation. CFA level one exam passed., ...          None   \n",
       "\n",
       "     no_of_pages  total_experience  \\\n",
       "0              1              0.00   \n",
       "1              1              0.00   \n",
       "2              1              2.83   \n",
       "3              2              3.92   \n",
       "4              1              0.75   \n",
       "..           ...               ...   \n",
       "177            1              0.00   \n",
       "178            1              0.00   \n",
       "179            1              0.75   \n",
       "180            1              1.25   \n",
       "181            1              0.00   \n",
       "\n",
       "                                                  text  \n",
       "0    Karthik Ramanarayana \\n2001 Eastern Avenue, Ba...  \n",
       "1    HARSH PUNDIR \\n3425 Tulane Dr.    Hyattsville,...  \n",
       "2    TIRTH PATEL \\nHolbrook, NY | tirth2410@gmail.c...  \n",
       "3    Akanksha Bapna\\nabapna.com ● Email ● Personal ...  \n",
       "4    Mythri Partha \\nHouston, TX | Phone: (281) 725...  \n",
       "..                                                 ...  \n",
       "177  yd2578@columbia.edu·(319) 512-0421·www.zoedong...  \n",
       "178  Jersey City, NJ                               ...  \n",
       "179  Zhuohan Zhang \\n (617) 763-4795 | zz2751@colum...  \n",
       "180  Zixiao Huang \\n\\nzixiao.huang.74@gmail.com | 6...  \n",
       "181  Ziyong “Willis” Wang \\n(667) 216-6448 ● 5504 S...  \n",
       "\n",
       "[182 rows x 12 columns]"
      ]
     },
     "execution_count": 83,
     "metadata": {},
     "output_type": "execute_result"
    }
   ],
   "source": [
    "pyres_df = pd.DataFrame(pyresparser)\n",
    "def parse_degree(x):\n",
    "    if x is None:\n",
    "        return ''\n",
    "    if len(x)>0:\n",
    "        return x[0]\n",
    "    else:\n",
    "        return ''\n",
    "pyres_df['degree'] = pyres_df['degree'].apply(lambda x: parse_degree(x))\n",
    "pyres_df\n"
   ]
  },
  {
   "cell_type": "code",
   "execution_count": 84,
   "metadata": {},
   "outputs": [
    {
     "data": {
      "text/html": [
       "<div>\n",
       "<style scoped>\n",
       "    .dataframe tbody tr th:only-of-type {\n",
       "        vertical-align: middle;\n",
       "    }\n",
       "\n",
       "    .dataframe tbody tr th {\n",
       "        vertical-align: top;\n",
       "    }\n",
       "\n",
       "    .dataframe thead th {\n",
       "        text-align: right;\n",
       "    }\n",
       "</style>\n",
       "<table border=\"1\" class=\"dataframe\">\n",
       "  <thead>\n",
       "    <tr style=\"text-align: right;\">\n",
       "      <th></th>\n",
       "      <th>email</th>\n",
       "      <th>phone</th>\n",
       "      <th>name</th>\n",
       "      <th>total_exp</th>\n",
       "      <th>university</th>\n",
       "      <th>designition</th>\n",
       "      <th>degree</th>\n",
       "      <th>skills</th>\n",
       "      <th>Companies worked at</th>\n",
       "      <th>text</th>\n",
       "    </tr>\n",
       "  </thead>\n",
       "  <tbody>\n",
       "    <tr>\n",
       "      <th>0</th>\n",
       "      <td>karthikr2194@gmail.com</td>\n",
       "      <td>292-1151</td>\n",
       "      <td>Karthik Ramanarayana</td>\n",
       "      <td>5</td>\n",
       "      <td>university of mary</td>\n",
       "      <td>[data engineer, associate, associate software ...</td>\n",
       "      <td></td>\n",
       "      <td>[Programming: C,  Python,  SQL,  PySpark, Data...</td>\n",
       "      <td>[]</td>\n",
       "      <td>Karthik Ramanarayana \\n2001 Eastern Avenue, Ba...</td>\n",
       "    </tr>\n",
       "    <tr>\n",
       "      <th>1</th>\n",
       "      <td>hpundir@umd.edu</td>\n",
       "      <td>240.423.5453</td>\n",
       "      <td>HARSH PUNDIR</td>\n",
       "      <td>1</td>\n",
       "      <td>university of mary</td>\n",
       "      <td>[teaching assistant, graduate assistant, custo...</td>\n",
       "      <td>Bachelor of Technology in Mechanical</td>\n",
       "      <td>[R,  Python,  MySQL,  Tableau/ Certifications:...</td>\n",
       "      <td>[]</td>\n",
       "      <td>HARSH PUNDIR \\n3425 Tulane Dr.    Hyattsville,...</td>\n",
       "    </tr>\n",
       "    <tr>\n",
       "      <th>2</th>\n",
       "      <td>tirth2410@gmail.com</td>\n",
       "      <td>469-370-9437</td>\n",
       "      <td></td>\n",
       "      <td>13</td>\n",
       "      <td>nirma university</td>\n",
       "      <td>[web analyst, data analyst, teaching assistant...</td>\n",
       "      <td></td>\n",
       "      <td>[AND CERTIFICATIONS, Databases and Languages: ...</td>\n",
       "      <td>[]</td>\n",
       "      <td>TIRTH PATEL \\nHolbrook, NY | tirth2410@gmail.c...</td>\n",
       "    </tr>\n",
       "    <tr>\n",
       "      <th>3</th>\n",
       "      <td>mailto:akanksha.bapna@marylandsmith.umd.edu</td>\n",
       "      <td></td>\n",
       "      <td>Akanksha Bapna</td>\n",
       "      <td>1</td>\n",
       "      <td>university of mary</td>\n",
       "      <td>[brand strategist, teaching assistant, student...</td>\n",
       "      <td></td>\n",
       "      <td>[:, R,  SaS,  SQL,  Python,  Tableau,  Advance...</td>\n",
       "      <td>[]</td>\n",
       "      <td>Akanksha Bapna\\nabapna.com ● Email ● Personal ...</td>\n",
       "    </tr>\n",
       "    <tr>\n",
       "      <th>4</th>\n",
       "      <td>mythripartha8@gmail.com</td>\n",
       "      <td>(281) 725-7080</td>\n",
       "      <td>Mythri Partha</td>\n",
       "      <td>1</td>\n",
       "      <td>university of houston</td>\n",
       "      <td>[data analyst, engineering intern]</td>\n",
       "      <td></td>\n",
       "      <td>[health, components, numpy, email, access, dat...</td>\n",
       "      <td>[]</td>\n",
       "      <td>Mythri Partha \\nHouston, TX | Phone: (281) 725...</td>\n",
       "    </tr>\n",
       "    <tr>\n",
       "      <th>...</th>\n",
       "      <td>...</td>\n",
       "      <td>...</td>\n",
       "      <td>...</td>\n",
       "      <td>...</td>\n",
       "      <td>...</td>\n",
       "      <td>...</td>\n",
       "      <td>...</td>\n",
       "      <td>...</td>\n",
       "      <td>...</td>\n",
       "      <td>...</td>\n",
       "    </tr>\n",
       "    <tr>\n",
       "      <th>177</th>\n",
       "      <td>yd2578@columbia.edu·(319)</td>\n",
       "      <td>(319) 512-0421</td>\n",
       "      <td>Dong yd2578@columbia.edu·(319</td>\n",
       "      <td>0</td>\n",
       "      <td>columbia university</td>\n",
       "      <td>[data analyst, credit analyst]</td>\n",
       "      <td>M.S. in Computer and Information Science</td>\n",
       "      <td>[Programing Languages: R,  Python,  SQL,  NoSQ...</td>\n",
       "      <td>[Head Office Shanghai]</td>\n",
       "      <td>yd2578@columbia.edu·(319) 512-0421·www.zoedong...</td>\n",
       "    </tr>\n",
       "    <tr>\n",
       "      <th>178</th>\n",
       "      <td>zzhan67@stevens.edu</td>\n",
       "      <td>(646) 531-8942</td>\n",
       "      <td>Jersey City</td>\n",
       "      <td>0</td>\n",
       "      <td>stevens institute of technology</td>\n",
       "      <td>[analytics intern, supervisor, data analyst, d...</td>\n",
       "      <td></td>\n",
       "      <td>[Programming: Python,  Java,  C++,  R,  SQL,  ...</td>\n",
       "      <td>[SAP]</td>\n",
       "      <td>Jersey City, NJ                               ...</td>\n",
       "    </tr>\n",
       "    <tr>\n",
       "      <th>179</th>\n",
       "      <td>zz2751@columbia.edu</td>\n",
       "      <td>(617) 763-4795</td>\n",
       "      <td>Zhuohan Zhang</td>\n",
       "      <td>0</td>\n",
       "      <td>boston university</td>\n",
       "      <td>[data scientist, scientist, data analyst]</td>\n",
       "      <td></td>\n",
       "      <td>[Data Analytics: A/B Testing,  Casual Inferenc...</td>\n",
       "      <td>[]</td>\n",
       "      <td>Zhuohan Zhang \\n (617) 763-4795 | zz2751@colum...</td>\n",
       "    </tr>\n",
       "    <tr>\n",
       "      <th>180</th>\n",
       "      <td>zixiao.huang.74@gmail.com</td>\n",
       "      <td>615-977-2160</td>\n",
       "      <td>Zixiao Huang</td>\n",
       "      <td>1</td>\n",
       "      <td>western university</td>\n",
       "      <td>[science intern]</td>\n",
       "      <td></td>\n",
       "      <td>[Programming: Python (Pandas,  Numpy,  Matplot...</td>\n",
       "      <td>[]</td>\n",
       "      <td>Zixiao Huang \\n\\nzixiao.huang.74@gmail.com | 6...</td>\n",
       "    </tr>\n",
       "    <tr>\n",
       "      <th>181</th>\n",
       "      <td>zwang160@terpmail.umd.edu</td>\n",
       "      <td>(667) 216-6448</td>\n",
       "      <td>Stream Bank</td>\n",
       "      <td>1</td>\n",
       "      <td>university of mary</td>\n",
       "      <td>[greenbelt, teaching assistant, investment man...</td>\n",
       "      <td>MD</td>\n",
       "      <td>[: Fluent in English and Mandarin]</td>\n",
       "      <td>[]</td>\n",
       "      <td>Ziyong “Willis” Wang \\n(667) 216-6448 ● 5504 S...</td>\n",
       "    </tr>\n",
       "  </tbody>\n",
       "</table>\n",
       "<p>182 rows × 10 columns</p>\n",
       "</div>"
      ],
      "text/plain": [
       "                                           email           phone  \\\n",
       "0                         karthikr2194@gmail.com        292-1151   \n",
       "1                                hpundir@umd.edu    240.423.5453   \n",
       "2                            tirth2410@gmail.com    469-370-9437   \n",
       "3    mailto:akanksha.bapna@marylandsmith.umd.edu                   \n",
       "4                        mythripartha8@gmail.com  (281) 725-7080   \n",
       "..                                           ...             ...   \n",
       "177                    yd2578@columbia.edu·(319)  (319) 512-0421   \n",
       "178                          zzhan67@stevens.edu  (646) 531-8942   \n",
       "179                          zz2751@columbia.edu  (617) 763-4795   \n",
       "180                    zixiao.huang.74@gmail.com    615-977-2160   \n",
       "181                    zwang160@terpmail.umd.edu  (667) 216-6448   \n",
       "\n",
       "                              name  total_exp  \\\n",
       "0             Karthik Ramanarayana          5   \n",
       "1                     HARSH PUNDIR          1   \n",
       "2                                          13   \n",
       "3                   Akanksha Bapna          1   \n",
       "4                    Mythri Partha          1   \n",
       "..                             ...        ...   \n",
       "177  Dong yd2578@columbia.edu·(319          0   \n",
       "178                    Jersey City          0   \n",
       "179                  Zhuohan Zhang          0   \n",
       "180                   Zixiao Huang          1   \n",
       "181                    Stream Bank          1   \n",
       "\n",
       "                          university  \\\n",
       "0                 university of mary   \n",
       "1                 university of mary   \n",
       "2                   nirma university   \n",
       "3                 university of mary   \n",
       "4              university of houston   \n",
       "..                               ...   \n",
       "177              columbia university   \n",
       "178  stevens institute of technology   \n",
       "179                boston university   \n",
       "180               western university   \n",
       "181               university of mary   \n",
       "\n",
       "                                           designition  \\\n",
       "0    [data engineer, associate, associate software ...   \n",
       "1    [teaching assistant, graduate assistant, custo...   \n",
       "2    [web analyst, data analyst, teaching assistant...   \n",
       "3    [brand strategist, teaching assistant, student...   \n",
       "4                   [data analyst, engineering intern]   \n",
       "..                                                 ...   \n",
       "177                     [data analyst, credit analyst]   \n",
       "178  [analytics intern, supervisor, data analyst, d...   \n",
       "179          [data scientist, scientist, data analyst]   \n",
       "180                                   [science intern]   \n",
       "181  [greenbelt, teaching assistant, investment man...   \n",
       "\n",
       "                                       degree  \\\n",
       "0                                               \n",
       "1        Bachelor of Technology in Mechanical   \n",
       "2                                               \n",
       "3                                               \n",
       "4                                               \n",
       "..                                        ...   \n",
       "177  M.S. in Computer and Information Science   \n",
       "178                                             \n",
       "179                                             \n",
       "180                                             \n",
       "181                                        MD   \n",
       "\n",
       "                                                skills  \\\n",
       "0    [Programming: C,  Python,  SQL,  PySpark, Data...   \n",
       "1    [R,  Python,  MySQL,  Tableau/ Certifications:...   \n",
       "2    [AND CERTIFICATIONS, Databases and Languages: ...   \n",
       "3    [:, R,  SaS,  SQL,  Python,  Tableau,  Advance...   \n",
       "4    [health, components, numpy, email, access, dat...   \n",
       "..                                                 ...   \n",
       "177  [Programing Languages: R,  Python,  SQL,  NoSQ...   \n",
       "178  [Programming: Python,  Java,  C++,  R,  SQL,  ...   \n",
       "179  [Data Analytics: A/B Testing,  Casual Inferenc...   \n",
       "180  [Programming: Python (Pandas,  Numpy,  Matplot...   \n",
       "181                 [: Fluent in English and Mandarin]   \n",
       "\n",
       "        Companies worked at                                               text  \n",
       "0                        []  Karthik Ramanarayana \\n2001 Eastern Avenue, Ba...  \n",
       "1                        []  HARSH PUNDIR \\n3425 Tulane Dr.    Hyattsville,...  \n",
       "2                        []  TIRTH PATEL \\nHolbrook, NY | tirth2410@gmail.c...  \n",
       "3                        []  Akanksha Bapna\\nabapna.com ● Email ● Personal ...  \n",
       "4                        []  Mythri Partha \\nHouston, TX | Phone: (281) 725...  \n",
       "..                      ...                                                ...  \n",
       "177  [Head Office Shanghai]  yd2578@columbia.edu·(319) 512-0421·www.zoedong...  \n",
       "178                   [SAP]  Jersey City, NJ                               ...  \n",
       "179                      []  Zhuohan Zhang \\n (617) 763-4795 | zz2751@colum...  \n",
       "180                      []  Zixiao Huang \\n\\nzixiao.huang.74@gmail.com | 6...  \n",
       "181                      []  Ziyong “Willis” Wang \\n(667) 216-6448 ● 5504 S...  \n",
       "\n",
       "[182 rows x 10 columns]"
      ]
     },
     "execution_count": 84,
     "metadata": {},
     "output_type": "execute_result"
    }
   ],
   "source": [
    "resume_df = pd.DataFrame(resumeparser)\n",
    "def parse_univ(x):\n",
    "    if len(x)>0:\n",
    "        return x[0]\n",
    "    else:\n",
    "        return ''\n",
    "resume_df['university'] = resume_df['university'].apply(lambda x: parse_univ(x))\n",
    "resume_df['degree'] = resume_df['degree'].apply(lambda x: parse_degree(x))\n",
    "resume_df"
   ]
  },
  {
   "cell_type": "code",
   "execution_count": 34,
   "metadata": {},
   "outputs": [
    {
     "name": "stderr",
     "output_type": "stream",
     "text": [
      "[nltk_data] Downloading package punkt to\n",
      "[nltk_data]     C:\\Users\\AbhiramGopal\\AppData\\Roaming\\nltk_data...\n",
      "[nltk_data]   Package punkt is already up-to-date!\n",
      "[nltk_data] Downloading package averaged_perceptron_tagger to\n",
      "[nltk_data]     C:\\Users\\AbhiramGopal\\AppData\\Roaming\\nltk_data...\n",
      "[nltk_data]   Package averaged_perceptron_tagger is already up-to-\n",
      "[nltk_data]       date!\n",
      "[nltk_data] Downloading package maxent_ne_chunker to\n",
      "[nltk_data]     C:\\Users\\AbhiramGopal\\AppData\\Roaming\\nltk_data...\n",
      "[nltk_data]   Package maxent_ne_chunker is already up-to-date!\n",
      "[nltk_data] Downloading package words to\n",
      "[nltk_data]     C:\\Users\\AbhiramGopal\\AppData\\Roaming\\nltk_data...\n",
      "[nltk_data]   Package words is already up-to-date!\n",
      "[nltk_data] Downloading package stopwords to\n",
      "[nltk_data]     C:\\Users\\AbhiramGopal\\AppData\\Roaming\\nltk_data...\n",
      "[nltk_data]   Package stopwords is already up-to-date!\n"
     ]
    },
    {
     "name": "stdout",
     "output_type": "stream",
     "text": [
      "CRFClassifier invoked on Sun Mar 20 01:36:10 EDT 2022 with arguments:\n",
      "   -loadClassifier model\\english.all.3class.distsim.crf.ser.gz -textFile C:\\Users\\ABHIRA~1\\AppData\\Local\\Temp\\tmpkr9ff8jo -outputFormat slashTags -tokenizerFactory edu.stanford.nlp.process.WhitespaceTokenizer -tokenizerOptions \"tokenizeNLs=false\" -encoding utf-8\n",
      "tokenizerFactory=edu.stanford.nlp.process.WhitespaceTokenizer\n",
      "Unknown property: |tokenizerFactory|\n",
      "tokenizerOptions=\"tokenizeNLs=false\"\n",
      "Unknown property: |tokenizerOptions|\n",
      "loadClassifier=model\\english.all.3class.distsim.crf.ser.gz\n",
      "encoding=utf-8\n",
      "Unknown property: |encoding|\n",
      "textFile=C:\\Users\\ABHIRA~1\\AppData\\Local\\Temp\\tmpkr9ff8jo\n",
      "outputFormat=slashTags\n",
      "Loading classifier from c:\\personal\\Resume_Parsing\\model\\english.all.3class.distsim.crf.ser.gz ... Unknown property: |tokenizerFactory|\n",
      "Unknown property: |tokenizerOptions|\n",
      "Unknown property: |encoding|\n",
      "done [1.4 sec].\n",
      "Exception in thread \"main\" java.lang.RuntimeException: java.io.FileNotFoundException: C:\\Users\\ABHIRA~1\\AppData\\Local\\Temp\\tmpkr9ff8jo (Access is denied)\n",
      "\tat edu.stanford.nlp.objectbank.ReaderIteratorFactory$ReaderIterator.setNextObject(ReaderIteratorFactory.java:225)\n",
      "\tat edu.stanford.nlp.objectbank.ReaderIteratorFactory$ReaderIterator.<init>(ReaderIteratorFactory.java:161)\n",
      "\tat edu.stanford.nlp.objectbank.ResettableReaderIteratorFactory.iterator(ResettableReaderIteratorFactory.java:90)\n",
      "\tat edu.stanford.nlp.objectbank.ObjectBank$OBIterator.<init>(ObjectBank.java:393)\n",
      "\tat edu.stanford.nlp.objectbank.ObjectBank.iterator(ObjectBank.java:240)\n",
      "\tat edu.stanford.nlp.sequences.ObjectBankWrapper.iterator(ObjectBankWrapper.java:51)\n",
      "\tat edu.stanford.nlp.ie.AbstractSequenceClassifier.classifyAndWriteAnswers(AbstractSequenceClassifier.java:951)\n",
      "\tat edu.stanford.nlp.ie.AbstractSequenceClassifier.classifyAndWriteAnswers(AbstractSequenceClassifier.java:934)\n",
      "\tat edu.stanford.nlp.ie.AbstractSequenceClassifier.classifyAndWriteAnswers(AbstractSequenceClassifier.java:900)\n",
      "\tat edu.stanford.nlp.ie.crf.CRFClassifier.main(CRFClassifier.java:2368)\n",
      "Caused by: java.io.FileNotFoundException: C:\\Users\\ABHIRA~1\\AppData\\Local\\Temp\\tmpkr9ff8jo (Access is denied)\n",
      "\tat java.base/java.io.FileInputStream.open0(Native Method)\n",
      "\tat java.base/java.io.FileInputStream.open(FileInputStream.java:216)\n",
      "\tat java.base/java.io.FileInputStream.<init>(FileInputStream.java:157)\n",
      "\tat edu.stanford.nlp.io.EncodingFileReader.<init>(EncodingFileReader.java:78)\n",
      "\tat edu.stanford.nlp.objectbank.ReaderIteratorFactory$ReaderIterator.setNextObject(ReaderIteratorFactory.java:192)\n",
      "\t... 9 more\n",
      "\n"
     ]
    },
    {
     "ename": "OSError",
     "evalue": "Java command failed : ['C:\\\\Program Files\\\\Java\\\\jdk-17.0.2\\\\bin\\\\java.exe', '-mx1000m', '-cp', 'model\\\\stanford-ner.jar', 'edu.stanford.nlp.ie.crf.CRFClassifier', '-loadClassifier', 'model\\\\english.all.3class.distsim.crf.ser.gz', '-textFile', 'C:\\\\Users\\\\ABHIRA~1\\\\AppData\\\\Local\\\\Temp\\\\tmpkr9ff8jo', '-outputFormat', 'slashTags', '-tokenizerFactory', 'edu.stanford.nlp.process.WhitespaceTokenizer', '-tokenizerOptions', '\"tokenizeNLs=false\"', '-encoding', 'utf-8']",
     "output_type": "error",
     "traceback": [
      "\u001b[1;31m---------------------------------------------------------------------------\u001b[0m",
      "\u001b[1;31mOSError\u001b[0m                                   Traceback (most recent call last)",
      "\u001b[1;32mc:\\personal\\Resume_Parsing\\Abhiram.ipynb Cell 6'\u001b[0m in \u001b[0;36m<cell line: 211>\u001b[1;34m()\u001b[0m\n\u001b[0;32m    <a href='vscode-notebook-cell:/c%3A/personal/Resume_Parsing/Abhiram.ipynb#ch0000004?line=207'>208</a>\u001b[0m     EMAIL_REG \u001b[39m=\u001b[39m re\u001b[39m.\u001b[39mcompile(\u001b[39mr\u001b[39m\u001b[39m'\u001b[39m\u001b[39m[a-z0-9\u001b[39m\u001b[39m\\\u001b[39m\u001b[39m.\u001b[39m\u001b[39m\\\u001b[39m\u001b[39m-+_]+@[a-z0-9\u001b[39m\u001b[39m\\\u001b[39m\u001b[39m.\u001b[39m\u001b[39m\\\u001b[39m\u001b[39m-+_]+\u001b[39m\u001b[39m\\\u001b[39m\u001b[39m.[a-z]+\u001b[39m\u001b[39m'\u001b[39m)\n\u001b[0;32m    <a href='vscode-notebook-cell:/c%3A/personal/Resume_Parsing/Abhiram.ipynb#ch0000004?line=208'>209</a>\u001b[0m     \u001b[39mreturn\u001b[39;00m re\u001b[39m.\u001b[39mfindall(EMAIL_REG, txt)\n\u001b[1;32m--> <a href='vscode-notebook-cell:/c%3A/personal/Resume_Parsing/Abhiram.ipynb#ch0000004?line=210'>211</a>\u001b[0m StanfordNER \u001b[39m=\u001b[39m preprocessing()\n\u001b[0;32m    <a href='vscode-notebook-cell:/c%3A/personal/Resume_Parsing/Abhiram.ipynb#ch0000004?line=211'>212</a>\u001b[0m StanfordNER\u001b[39m.\u001b[39mhead()\n",
      "\u001b[1;32mc:\\personal\\Resume_Parsing\\Abhiram.ipynb Cell 6'\u001b[0m in \u001b[0;36mpreprocessing\u001b[1;34m(i, person, education, graduation_year, phone_nbr, emails)\u001b[0m\n\u001b[0;32m    <a href='vscode-notebook-cell:/c%3A/personal/Resume_Parsing/Abhiram.ipynb#ch0000004?line=122'>123</a>\u001b[0m res3 \u001b[39m=\u001b[39m [res\u001b[39m.\u001b[39mencode(\u001b[39m'\u001b[39m\u001b[39mascii\u001b[39m\u001b[39m'\u001b[39m,\u001b[39m\"\u001b[39m\u001b[39mignore\u001b[39m\u001b[39m\"\u001b[39m)\u001b[39m.\u001b[39mdecode() \u001b[39mfor\u001b[39;00m res \u001b[39min\u001b[39;00m res3]\n\u001b[0;32m    <a href='vscode-notebook-cell:/c%3A/personal/Resume_Parsing/Abhiram.ipynb#ch0000004?line=124'>125</a>\u001b[0m \u001b[39m##using the tagger object of StanfordNER for tagging the entities of the words \u001b[39;00m\n\u001b[1;32m--> <a href='vscode-notebook-cell:/c%3A/personal/Resume_Parsing/Abhiram.ipynb#ch0000004?line=125'>126</a>\u001b[0m tagged \u001b[39m=\u001b[39m tagger\u001b[39m.\u001b[39;49mtag(res3)\n\u001b[0;32m    <a href='vscode-notebook-cell:/c%3A/personal/Resume_Parsing/Abhiram.ipynb#ch0000004?line=127'>128</a>\u001b[0m \u001b[39m## appending the names extracted from name_person\u001b[39;00m\n\u001b[0;32m    <a href='vscode-notebook-cell:/c%3A/personal/Resume_Parsing/Abhiram.ipynb#ch0000004?line=128'>129</a>\u001b[0m \u001b[39m##Since 2 files are of weird format ( 1 is image file converted into .pdf)\u001b[39;00m\n\u001b[0;32m    <a href='vscode-notebook-cell:/c%3A/personal/Resume_Parsing/Abhiram.ipynb#ch0000004?line=129'>130</a>\u001b[0m \u001b[39mtry\u001b[39;00m:\n",
      "File \u001b[1;32m~\\anaconda3\\envs\\ResumeParsing\\lib\\site-packages\\nltk\\tag\\stanford.py:90\u001b[0m, in \u001b[0;36mStanfordTagger.tag\u001b[1;34m(self, tokens)\u001b[0m\n\u001b[0;32m     <a href='file:///c%3A/Users/AbhiramGopal/anaconda3/envs/ResumeParsing/lib/site-packages/nltk/tag/stanford.py?line=87'>88</a>\u001b[0m \u001b[39mdef\u001b[39;00m \u001b[39mtag\u001b[39m(\u001b[39mself\u001b[39m, tokens):\n\u001b[0;32m     <a href='file:///c%3A/Users/AbhiramGopal/anaconda3/envs/ResumeParsing/lib/site-packages/nltk/tag/stanford.py?line=88'>89</a>\u001b[0m     \u001b[39m# This function should return list of tuple rather than list of list\u001b[39;00m\n\u001b[1;32m---> <a href='file:///c%3A/Users/AbhiramGopal/anaconda3/envs/ResumeParsing/lib/site-packages/nltk/tag/stanford.py?line=89'>90</a>\u001b[0m     \u001b[39mreturn\u001b[39;00m \u001b[39msum\u001b[39m(\u001b[39mself\u001b[39;49m\u001b[39m.\u001b[39;49mtag_sents([tokens]), [])\n",
      "File \u001b[1;32m~\\anaconda3\\envs\\ResumeParsing\\lib\\site-packages\\nltk\\tag\\stanford.py:112\u001b[0m, in \u001b[0;36mStanfordTagger.tag_sents\u001b[1;34m(self, sentences)\u001b[0m\n\u001b[0;32m    <a href='file:///c%3A/Users/AbhiramGopal/anaconda3/envs/ResumeParsing/lib/site-packages/nltk/tag/stanford.py?line=108'>109</a>\u001b[0m _input_fh\u001b[39m.\u001b[39mclose()\n\u001b[0;32m    <a href='file:///c%3A/Users/AbhiramGopal/anaconda3/envs/ResumeParsing/lib/site-packages/nltk/tag/stanford.py?line=110'>111</a>\u001b[0m \u001b[39m# Run the tagger and get the output\u001b[39;00m\n\u001b[1;32m--> <a href='file:///c%3A/Users/AbhiramGopal/anaconda3/envs/ResumeParsing/lib/site-packages/nltk/tag/stanford.py?line=111'>112</a>\u001b[0m stanpos_output, _stderr \u001b[39m=\u001b[39m java(\n\u001b[0;32m    <a href='file:///c%3A/Users/AbhiramGopal/anaconda3/envs/ResumeParsing/lib/site-packages/nltk/tag/stanford.py?line=112'>113</a>\u001b[0m     cmd, classpath\u001b[39m=\u001b[39;49m\u001b[39mself\u001b[39;49m\u001b[39m.\u001b[39;49m_stanford_jar, stdout\u001b[39m=\u001b[39;49mPIPE, stderr\u001b[39m=\u001b[39;49mPIPE\n\u001b[0;32m    <a href='file:///c%3A/Users/AbhiramGopal/anaconda3/envs/ResumeParsing/lib/site-packages/nltk/tag/stanford.py?line=113'>114</a>\u001b[0m )\n\u001b[0;32m    <a href='file:///c%3A/Users/AbhiramGopal/anaconda3/envs/ResumeParsing/lib/site-packages/nltk/tag/stanford.py?line=114'>115</a>\u001b[0m stanpos_output \u001b[39m=\u001b[39m stanpos_output\u001b[39m.\u001b[39mdecode(encoding)\n\u001b[0;32m    <a href='file:///c%3A/Users/AbhiramGopal/anaconda3/envs/ResumeParsing/lib/site-packages/nltk/tag/stanford.py?line=116'>117</a>\u001b[0m \u001b[39m# Delete the temporary file\u001b[39;00m\n",
      "File \u001b[1;32m~\\anaconda3\\envs\\ResumeParsing\\lib\\site-packages\\nltk\\internals.py:140\u001b[0m, in \u001b[0;36mjava\u001b[1;34m(cmd, classpath, stdin, stdout, stderr, blocking)\u001b[0m\n\u001b[0;32m    <a href='file:///c%3A/Users/AbhiramGopal/anaconda3/envs/ResumeParsing/lib/site-packages/nltk/internals.py?line=137'>138</a>\u001b[0m \u001b[39mif\u001b[39;00m p\u001b[39m.\u001b[39mreturncode \u001b[39m!=\u001b[39m \u001b[39m0\u001b[39m:\n\u001b[0;32m    <a href='file:///c%3A/Users/AbhiramGopal/anaconda3/envs/ResumeParsing/lib/site-packages/nltk/internals.py?line=138'>139</a>\u001b[0m     \u001b[39mprint\u001b[39m(_decode_stdoutdata(stderr))\n\u001b[1;32m--> <a href='file:///c%3A/Users/AbhiramGopal/anaconda3/envs/ResumeParsing/lib/site-packages/nltk/internals.py?line=139'>140</a>\u001b[0m     \u001b[39mraise\u001b[39;00m \u001b[39mOSError\u001b[39;00m(\u001b[39m\"\u001b[39m\u001b[39mJava command failed : \u001b[39m\u001b[39m\"\u001b[39m \u001b[39m+\u001b[39m \u001b[39mstr\u001b[39m(cmd))\n\u001b[0;32m    <a href='file:///c%3A/Users/AbhiramGopal/anaconda3/envs/ResumeParsing/lib/site-packages/nltk/internals.py?line=141'>142</a>\u001b[0m \u001b[39mreturn\u001b[39;00m (stdout, stderr)\n",
      "\u001b[1;31mOSError\u001b[0m: Java command failed : ['C:\\\\Program Files\\\\Java\\\\jdk-17.0.2\\\\bin\\\\java.exe', '-mx1000m', '-cp', 'model\\\\stanford-ner.jar', 'edu.stanford.nlp.ie.crf.CRFClassifier', '-loadClassifier', 'model\\\\english.all.3class.distsim.crf.ser.gz', '-textFile', 'C:\\\\Users\\\\ABHIRA~1\\\\AppData\\\\Local\\\\Temp\\\\tmpkr9ff8jo', '-outputFormat', 'slashTags', '-tokenizerFactory', 'edu.stanford.nlp.process.WhitespaceTokenizer', '-tokenizerOptions', '\"tokenizeNLs=false\"', '-encoding', 'utf-8']"
     ]
    }
   ],
   "source": [
    "import sys\n",
    "import textract, PyPDF2, glob\n",
    "import nltk\n",
    "import pandas as pd\n",
    "nltk.download('punkt')\n",
    "nltk.download('averaged_perceptron_tagger')\n",
    "nltk.download('maxent_ne_chunker')\n",
    "nltk.download('words')\n",
    "nltk.download('stopwords')\n",
    "import os\n",
    "#java_path = r\"C:\\Program Files\\Java\\jdk-17.0.2\\bin\\java.exe\"\n",
    "# os.environ['JAVAHOME'] = java_path\n",
    "import re\n",
    "import os\n",
    "import subprocess\n",
    "from pdfminer.high_level import extract_text\n",
    "from nltk.corpus import stopwords\n",
    "import string\n",
    "import nltk\n",
    "from nltk.tag.stanford import StanfordNERTagger\n",
    "import pdfplumber\n",
    "#files = glob.glob(r\"C:\\Users\\rtd91\\Data\\Resume.pdf\")\n",
    "PATH_TO_JAR = \"model\\stanford-ner.jar\"\n",
    "PATH_TO_MODEL = \"model\\english.all.3class.distsim.crf.ser.gz\"\n",
    "stopwords = set(stopwords.words('english'))\n",
    "files1 = glob.glob(r\"Data\\Resumes\\test_parse\\*\")\n",
    "with pdfplumber.open(files1[4]) as pdf:\n",
    "    first_page = pdf.pages[0]\n",
    "    txt = first_page.extract_text()\n",
    "\n",
    "tagger = StanfordNERTagger(model_filename=r\"model\\english.all.3class.distsim.crf.ser.gz\",path_to_jar=r\"model\\stanford-ner.jar\", encoding='utf-8')\n",
    "with pdfplumber.open(files1[0]) as pdf:\n",
    "    first_page = pdf.pages[0]\n",
    "    txt = first_page.extract_text()\n",
    "words = nltk.word_tokenize(txt) \n",
    "##removing stopwords and punctuations\n",
    "simple_strings = [word for word in words if word not in stopwords if word not in string.punctuation]\n",
    "res = [re.sub(r'[^\\w\\s]', '', word) for word in simple_strings]\n",
    "res1 = [re.sub(r'^abc(.*?)=[A-Z0-9]+(.*)', r'\\1\\2', word) for word in res]\n",
    "res2 = [str(res) for res in res1]\n",
    "res3 = [re.sub(r'/^[A-Za-z]+$/', '', res) for res in res2]\n",
    "\n",
    "\n",
    "indian_last_names = [\"Acharya\", \"Agarwal\", \"Khatri\", \"Ahuja\", \"Anand\", \"Laghari\", \"Patel\",\n",
    "\n",
    "\"Reddy\", \"Bakshi\", \"Anthony\", \"Babu\", \"Arya\", \"Balakrishnan\", \"Banerjee\", \"Burman\", \"Bhatt\", \"Basu\", \"Bedi\", \"Varma\", \"Dara\", \"Dalal\", \"Chowdhury\",\n",
    "\"Chabra\", \"Chadha\", \"Chakrabarti\",\"Chawla\",\"Ahluwalia\", \"Amin\", \"Apte\", \"Datta\", \"Deol\", \"Deshpande\", \"Dewan\", \"Lal\", \"Kohli\", \"Mangal\", \"Malhotra\", \"Jha\",\n",
    "\"Joshi\",\"Kapadia\", \"Iyer\", \"Jain\", \"Khanna\", \"Grover\", \"Kaur\", \"Kashyap\", \"Gokhale\", \"Ghosh\", \"Garg\", \"Dhar\", \"Gandhi\", \"Ganguly\", \"Gupta\", \"Das\", \"Chopra\", \"Dhawan\",\n",
    "\"Dixit\", \"Dubey\", \"Haldar\", \"Kapoor\", \"Khurana\", \"Kulkarni\", \"Madan\", \"Bajwa\", \"Bhasin\", \"Chandra\", \"Chauhan\", \"Deshmukh\", \"Dayal\", \"Dhillon\", \"Goswami\", \"Goel\", \"Mallick\",\n",
    "\"Mahajan\", \"Kumar\", \"Mani\",  \"Gill\", \"Mannan\", \"Biswas\", \"Batra\", \"Bawa\", \"Mehta\", \"Mukherjee\", \"Saxena\", \"Zacharia\", \"Shah\", \"Ray\", \"Rao\", \"Purohit\", \"Parekh\", \"Thakur\", \"Singh\", \"Sharma\", \"Seth\", \"Sachdev\", \"Ranganathan\", \"Puri\", \"Pandey\", \"Naidu\", \"Modi\"]\n",
    "\n",
    "chinese_last_names = [\"Li\", \"Wang\", \"Zhang\", \"Liu\", \"Chen\", \"Yang\", \"Zhao\", \"Huang\", \"Zhou\",\n",
    "\n",
    "\"Wu\", \"Xu\", \"Sun\", \"Hu\", \"Zhu\", \"Gao\", \"Lin\", \"He\", \"Guo\", \"Ma\", \"Luo\", \"Liang\",\n",
    "\n",
    "\"Song\", \"Zheng\", \"Xie\", \"Han\", \"Tang\", \"Feng\", \"Yu\", \"Dong\", \"Xiao\", \"Cheng\",\n",
    "\n",
    "\"Cao\", \"Yuan\", \"Deng\", \"Xu\", \"Fu\", \"Shen\", \"Zeng\", \"Peng\", \"Lu\", \"Su\", \"Lu\", \"Jiang\", \"Cai\", \"Jia\", \"Ding\", \"Wei\", \"Xue\", \"Ye\", \"Yan\", \n",
    "\n",
    "\"Yu\", \"Pan\", \"Du\", \"Dai\", \"Xia\", \"Zhong\", \"Wang\", \"Tian\", \"Ren\", \"Jiang\", \"Fan\", \"Fang\", \"Shi\", \"Yao\", \"Tan\", \"Sheng\", \"Zou\", \"Xiong\", \"Jin\", \"Lu\", \"Hao\", \"Kong\", \"Bai\", \"Cui\",\n",
    "\n",
    "\"Kang\", \"Mao\", \"Qio\", \"Qin\", \"Jiang\", \"Shu\", \"Shi\", \"Gu\", \"Hou\", \"Shao\", \"Meng\", \"Long\", \"Wan\", \"Duan\", \"Zhang\", \"Qian\", \"Tang\", \"Yin\", \"Li\", \"Yi\", \"Chang\", \"Wu\", \n",
    "    \n",
    "\"Qiao\", \"He\", \"Lao\", \"Gong\", \"Wen\"]\n",
    "\n",
    "chinese_last_names = [chinese_last_name.lower() for chinese_last_name in chinese_last_names]\n",
    "indian_last_names = [indian_last_name.lower() for indian_last_name in indian_last_names]\n",
    "RESERVED_WORDS = [\n",
    "    'school',\n",
    "    'college',\n",
    "    'univers',\n",
    "    'academy',\n",
    "    'faculty',\n",
    "    'institute',\n",
    "    'faculdades',\n",
    "    'Schola',\n",
    "    'schule',\n",
    "    'lise',\n",
    "    'lyceum',\n",
    "    'lycee',\n",
    "    'polytechnic',\n",
    "    'kolej',\n",
    "    'ünivers',\n",
    "    'okul',\n",
    "    'University'\n",
    "]\n",
    "\n",
    "def tokenize(i):\n",
    "    ###Extract text from files\n",
    "    try:\n",
    "        with pdfplumber.open(files1[i]) as pdf:\n",
    "            first_page = pdf.pages[0]\n",
    "            txt1 = first_page.extract_text()\n",
    "    except:\n",
    "        txt1=\"\"\n",
    "        i+=1\n",
    "        tokenize(i)\n",
    "    txt = extract_text(files1[i], codec='utf-8')\n",
    "    #print(txt)\n",
    "    words = nltk.word_tokenize(txt) \n",
    "    return words,i,txt,txt1\n",
    "\n",
    "\n",
    "def preprocessing(i=0, person=[],education=[],graduation_year=[], phone_nbr=[],emails=[]):\n",
    "    ##Here i is for iterating over the files and doing the process for each file\n",
    "    flag_success = 1 # Trying to check if try was successful for appending person record\n",
    "    words,i,txt,txt1 = tokenize(i)\n",
    "    #print(txt)\n",
    "    ##removing stopwords and punctuations\n",
    "    simple_strings = [word for word in words if word not in stopwords if word not in string.punctuation]\n",
    "    res = [re.sub(r'[^\\w\\s]', '', word) for word in simple_strings]\n",
    "    res1 = [re.sub(r'^abc(.*?)=[A-Z0-9]+(.*)', r'\\1\\2', word) for word in res]\n",
    "    res2 = [str(res) for res in res1]\n",
    "    res3 = [re.sub(r'/^[A-Za-z]+$/', '', res) for res in res2]\n",
    "    \n",
    "    ##removing some ascii character\n",
    "    res3 = [res.replace(\"ï\",\"i\") if \"ï\" in res else res for res in res3]\n",
    "    \n",
    "    ##removing numbers\n",
    "    res3 = [re.sub('\\d', '', res) for res in res3]\n",
    "    \n",
    "    ##trying to remove acii characters\n",
    "    res3 = [res.encode('ascii',\"ignore\").decode() for res in res3]\n",
    "    \n",
    "    ##using the tagger object of StanfordNER for tagging the entities of the words \n",
    "    tagged = tagger.tag(res3)\n",
    "    \n",
    "    ## appending the names extracted from name_person\n",
    "    ##Since 2 files are of weird format ( 1 is image file converted into .pdf)\n",
    "    try:\n",
    "        person.append(name_person(tagged,words,res3))\n",
    "    except:\n",
    "        flag_success = 0\n",
    "        person.append(files1[i])\n",
    "        pass\n",
    "    #tagged_list.append(tagged) \n",
    "    flag_success = 1\n",
    "    if flag_success == 1:\n",
    "        education.append(extract_education(txt))\n",
    "        graduation_year.append(extract_graduation_date(txt1))\n",
    "        phone_nbr.append(extract_phone_number(txt))\n",
    "        emails.append(extract_emails(txt))\n",
    "    if i+1 < len(files1):\n",
    "        i+=1\n",
    "        preprocessing(i, person)\n",
    "    \n",
    "    #len(person), len(education), len(graduation_year), len(phone_nbr), len(emails)#\n",
    "    return pd.DataFrame({'name':person,'education':education, 'graduation_year':graduation_year, 'Contact':phone_nbr, 'email':emails})\n",
    "\n",
    "def name_person(tagged, words,res3):\n",
    "    #tagged_list = preprocessing(0,[],[])\n",
    "    #print(tagged_list)\n",
    "    person = []\n",
    "    temp_person = []\n",
    "    \n",
    "    for k in range(10):\n",
    "        if res3[k].lower() in indian_last_names or res3[k].lower() in chinese_last_names:\n",
    "            j = k-1\n",
    "            return res3[j]#+\"(Extracted using 1st approach)\"\n",
    "    for tuple_ele in tagged:\n",
    "        if \"PERSON\" in tuple_ele[1]:\n",
    "            temp_person.append(tuple_ele[0])\n",
    "    ## loop through the original words so we can extract from the first words and get the first PERSON\n",
    "    for word in words:\n",
    "        if word in temp_person:\n",
    "            return word\n",
    "\n",
    "def extract_education(txt):\n",
    "    edu=set()\n",
    "    p = re.compile('(EDUCATION)?\\n?(.*?),\\s+(.*?),(.*?)') \n",
    "    for m in re.finditer(p,txt):\n",
    "        try:\n",
    "            if any(x in m.group(1) for x in RESERVED_WORDS):\n",
    "                edu.append(m.group(1))\n",
    "        except:\n",
    "            pass\n",
    "        for word in RESERVED_WORDS:\n",
    "            if word in m.group(2):\n",
    "                edu.add(m.group(2))\n",
    "    return edu\n",
    "\n",
    "def extract_graduation_date(txt1):\n",
    "    dates=[\"Jan\",\"Feb\",\"Mar\",\"Apr\",\"May\",\"Jun\",\"Jul\",\"Aug\",\"Sep\",\"Oct\",\"Nov\",\"Dec\"]\n",
    "    #/^(?=^abc)(?=.*xyz$)(?=.*123)(?=^(?:(?!456).)*$).*$/\n",
    "    # Working to extract Months :x=\"(?=(\"+'|'.join(dates)+r\"))\"\n",
    "    x=\"(?is)education.*?(\\d{4})\"\n",
    "    # Working to extract year after education: x=\"(?is)education.*?(\\d{4})\"\n",
    "    if len(re.findall(x,txt1))==0:\n",
    "        return None\n",
    "    return max(re.findall(x,txt1))\n",
    "    ## for dates\n",
    "    #for dt in dates:\n",
    "    #    if dt in txt:\n",
    "    #        return dt\n",
    "\n",
    "def extract_phone_number(txt):\n",
    "    PHONE_REG = re.compile(r'[\\+\\(]?[1-9][0-9 .\\-\\(\\)]{8,}[0-9]')\n",
    "    phone = re.findall(PHONE_REG, txt)\n",
    "\n",
    "    if phone:\n",
    "        number = ''.join(phone[0])\n",
    "\n",
    "        if txt.find(number) >= 0 and len(number) < 16:\n",
    "            return number\n",
    "    return None\n",
    "\n",
    "def extract_emails(txt):\n",
    "    EMAIL_REG = re.compile(r'[a-z0-9\\.\\-+_]+@[a-z0-9\\.\\-+_]+\\.[a-z]+')\n",
    "    return re.findall(EMAIL_REG, txt)\n",
    "\n",
    "StanfordNER = preprocessing()\n",
    "StanfordNER.head()"
   ]
  },
  {
   "cell_type": "code",
   "execution_count": 85,
   "metadata": {},
   "outputs": [
    {
     "name": "stdout",
     "output_type": "stream",
     "text": [
      "['filenames', 'name', 'middle name', 'education', 'graduation month', 'graduation_year', 'Degree', 'Major', 'Contact', 'email', 'Comments']\n",
      "['C:\\\\Users\\\\rtd91\\\\Data\\\\resume_samples\\\\721091408_phonescreening.pdf', 'Karthik Ramanarayana', '', \"{'University of Maryland'}\", 'Dec', '2021', 'Master', 'Data Science', '(410)-292-1151', \"['karthikr2194@gmail.com']\", '']\n",
      "['C:\\\\Users\\\\rtd91\\\\Data\\\\resume_samples\\\\821101104_phonescreening.pdf', 'HARSH PUNDIR', '', \"{'Robert H. Smith School of Business, University of Maryland'}\", 'August', '2020', 'Master of Science', 'Business Analytics', '240.423.5453', \"['hpundir@umd.edu']\", 'Instead of \"-\", \".\" in contact']\n",
      "['C:\\\\Users\\\\rtd91\\\\Data\\\\resume_samples\\\\821101136_phonescreening.pdf', 'TIRTH PATEL', '', \"{'The University of Texas at Dallas'}\", 'May', '2021', 'Master of science', 'Business Analytics', '469-370-9437', \"['tirth2410@gmail.com']\", '']\n",
      "['C:\\\\Users\\\\rtd91\\\\Data\\\\resume_samples\\\\821110120.pdf', 'Akanksha Bapna', '', \"{'University of Maryland'}\", 'Dec', '2021', 'Master', 'Marketing Analytics', '', '[]', 'No email/ contact in resume']\n",
      "['C:\\\\Users\\\\rtd91\\\\Data\\\\resume_samples\\\\821110440_Mythri.pdf', 'Mythri Partha', '', \"{'University of Houston'}\", 'May', '2020', 'B.S.', 'Chemistry', '(281) 725-7080', \"['mythripartha8@gmail.com']\", 'education in format start date - end date']\n",
      "['C:\\\\Users\\\\rtd91\\\\Data\\\\resume_samples\\\\821110445_Qizhe.pdf', 'Qizhe Wang', '', 'University of Delaware', 'Jun', '2021', 'Master of Science', 'Statistics', '+1(302)-690-9388 ', \"['ziyaotingyu@gmail.com']\", '\"+1\" extension in contacts']\n",
      "['C:\\\\Users\\\\rtd91\\\\Data\\\\resume_samples\\\\821110447_rachan.pdf', 'RACHAN BHOOSHI', 'VAMSI', 'UNIVERSITY OF CONNECTICUT', 'December', '2021', 'Master of Science', 'Business Analytics and Project Management', '(475) 685 0166', \"['rachan_vamsi.bhooshi@uconn.edu']\", 'difficult name, resume not in a good format']\n",
      "['C:\\\\Users\\\\rtd91\\\\Data\\\\resume_samples\\\\821110448_RAGHUVEERA.pdf', 'RAGHUVEERA MADIREDDY', 'KARTHIK', 'Georgia StateUniversity', '', '2021', 'M.Sc', 'Data Science and Analytics', '240-713-8296', \"['rmadireddy1@student.gsu.edu']\", 'difficult name, resume not in a good format. Spaces not properly given in university name.']\n",
      "['C:\\\\Users\\\\rtd91\\\\Data\\\\resume_samples\\\\821110464_Saida.pdf', 'SAIDA MUKTAR', '', 'set()', 'August', '2021', 'MS', 'Data Science', '443-833-6344', \"['saidam1@umbc.edu']\", '']\n",
      "['C:\\\\Users\\\\rtd91\\\\Data\\\\resume_samples\\\\821110509_Akash.pdf', 'Akash Patel', '', 'Rutgers, The State University', 'December', '2021', \"Master's\", 'Data Science', '+1 4845387112', \"['adp178@scarletmail.rutgers.edu']\", '']\n",
      "['C:\\\\Users\\\\rtd91\\\\Data\\\\resume_samples\\\\821110510_AKSHARA.pdf', 'AKSHARA ARCOT', '', 'University of Oklahoma Norman', 'May', '2021', 'Master of science', 'Data Science and Analytics', '+1 (405) -761-7041', \"['akshara@ou.edu']\", \"For year, '21 (new format possibility)\"]\n",
      "['C:\\\\Users\\\\rtd91\\\\Data\\\\resume_samples\\\\821110511_Alexandra.pdf', 'Alexandra Manetas', '', \"{'Northwestern University', 'DePaul University'}\", 'August', '2021', 'Master of Science', 'Data Science', '630.818.6275', \"['manetas.alexandra@gmail.com']\", 'Instead of \"-\", \".\" in contact (Still working), education in format start date - end date']\n",
      "['C:\\\\Users\\\\rtd91\\\\Data\\\\resume_samples\\\\821110527_.pdf', 'Pranav Gulghane', 'Premdas', 'The University of Texas at Dallas', 'December', '2021', 'M.S.', 'Information Technology and Management', '14695140740', \"['pranavpremdasgulghane@gmail.com']\", 'The contact is subtracting the value : \"+1\" - \"remaining contact\"']\n",
      "['C:\\\\Users\\\\rtd91\\\\Data\\\\resume_samples\\\\821110528_Wanting.pdf', 'Wanting Lu', '', 'University of California', 'December', '2021', 'Bachelor of Arts', 'Applied Mathematics and Data Science', '(559) 387-0880', \"['luwinnie12@gmail.com']\", '']\n",
      "['C:\\\\Users\\\\rtd91\\\\Data\\\\resume_samples\\\\821111539_manaswini.pdf', 'Manaswini Nagaraj', '', \"{'National University of Singapore- HPE', 'â\\x80¢  Northeastern University', 'â\\x80¢  REVA University'}\", 'Dec', '2021', 'Master of Science', 'Data Science', '(617) 818-4953', \"['nagaraj.m@northeastern.edu']\", '']\n",
      "['C:\\\\Users\\\\rtd91\\\\Data\\\\resume_samples\\\\821112919_mohit.pdf', 'MOHIT MANJARIA', '', \"{'Data Scientist/Research Assistant | Northeastern University', 'Graduate Teaching Assistant | Northeastern University'}\", 'Jun', '2021', \"Master's\", 'Data Analytics', '\"+18572077337\"', \"['mohitmanjaria55333@gmail.com']\", '']\n",
      "['C:\\\\Users\\\\rtd91\\\\Data\\\\resume_samples\\\\821112928_yechen.pdf', 'Yuchen Xie', '', \"{'University of California'}\", '12', '2021', 'B.S.', 'Applied Mathematics', '949-413-2863', \"['yuchen724@ucla.edu']\", 'education in format start date - end date also in number format \"12/21\"']\n",
      "['C:\\\\Users\\\\rtd91\\\\Data\\\\resume_samples\\\\821122313_Dimple.pdf', 'Dimple Mehra', '', 'Illinois Institute of Technology', 'December', '2021', 'Master of Science', 'Computer Science', '\"+1-(312-358-1359)\"', \"['dimple8997@gmail.com']\", '']\n",
      "['C:\\\\Users\\\\rtd91\\\\Data\\\\resume_samples\\\\821122315_Indupriya.pdf', 'Indupriya Kompi', '', \"{'Visveswaraya Technological University', 'Northeastern University'}\", '12', '2021', 'Master of Science', 'Information Systems', '+1(857)-701-6039', \"['indupriyakompi@gmail.com']\", 'education in format start date - end date also in number format \"12/21\"']\n",
      "['C:\\\\Users\\\\rtd91\\\\Data\\\\resume_samples\\\\821122316_James.pdf', 'James Domingo', 'Renier', 'Georgia Institute of Technology', 'December', '2021', 'Master of Science', 'Analytics', '(706) 305-6369', \"['james.domingo@gatech.edu']\", '']\n",
      "['C:\\\\Users\\\\rtd91\\\\Data\\\\resume_samples\\\\822010605_anya.pdf', 'ANYA PATEL', '', 'SYRACUSE  UNVERSITY', 'Dec', '2021', 'M.S.', 'Applied Data Science', '805 453 1532', \"['anyampatel@gmail.com']\", '']\n",
      "['C:\\\\Users\\\\rtd91\\\\Data\\\\resume_samples\\\\822010628_ryan.pdf', 'Ryan Goodwin', 'Martin', 'University of North Carolina Wilmington', 'December', '2021', 'M.S.', 'Data Science', '(910) 547-7027', \"['rgoodwin1997@gmail.com']\", '']\n",
      "['C:\\\\Users\\\\rtd91\\\\Data\\\\resume_samples\\\\822011416_Mayank.pdf', 'Mayank Dubey', '', 'George Mason University', 'May', '2021', 'M.S.', 'Data Analytics', '+1 571- 474-9095', \"['mayankdubey1996@gmail.com']\", '']\n",
      "['C:\\\\Users\\\\rtd91\\\\Data\\\\resume_samples\\\\822011417_Abhinay.pdf', 'ABHINAY NAGULAPALLI', '', \"{'University of Maryland'}\", 'December', '2021', 'Master', 'Data Science', '(571) 752-8188', \"['abhinay.nagulapalli98@gmail.com']\", '']\n",
      "['C:\\\\Users\\\\rtd91\\\\Data\\\\resume_samples\\\\822013101_Noah.pdf', 'Noah Mattheis', '', 'University of Maryland', 'May', '2021', 'BS', 'Mathematics', '240.490.0733', \"['noahwkm@gmail.com']\", '']\n",
      "['C:\\\\Users\\\\rtd91\\\\Data\\\\resume_samples\\\\AbhilashRajaram.pdf', 'Abhilash Rajaram', '', 'University at Buffalo', 'Feb', '2022', 'Masters', 'Data Science', '7162929981', \"['rajaram2@buffalo.edu']\", '']\n",
      "['C:\\\\Users\\\\rtd91\\\\Data\\\\resume_samples\\\\AdamDinser.pdf', 'Adam Dinser', '', 'University Of Colorado', 'May', '2021', 'BA', 'Computer Science', '(720) 560-3886', \"['adam.m.dinser@gmail.com']\", '']\n",
      "['C:\\\\Users\\\\rtd91\\\\Data\\\\resume_samples\\\\AdeolaAdesoba.pdf', 'ADEOLA ADESOBA', '', \"{'University of Ilorin', 'University of Arkansas at Little Rock'}\", 'Dec', '2021', 'MS', 'Information Science', '(423) 741-5160', \"['atadesoba@gmail.com']\", '']\n",
      "['C:\\\\Users\\\\rtd91\\\\Data\\\\resume_samples\\\\AjayPrasathManoharan.pdf', 'AJAY MANOHARAN', 'PRASATH', 'North Carolina State University', 'May', '2021', 'Master', 'Industial Engineering', '+1 (919)-637-2246', \"['amanoha3@ncsu.edu']\", '']\n",
      "['C:\\\\Users\\\\rtd91\\\\Data\\\\resume_samples\\\\AkshayKajale.pdf', 'Akshay Kajale', '', 'San Jose State University', 'May', '2021', 'Master of Science', 'Computer Science', '+1 669-278-8855', \"['akshay.kajale@sjsu.edu']\", '']\n",
      "['C:\\\\Users\\\\rtd91\\\\Data\\\\resume_samples\\\\Alexander Friend.pdf', 'Alexander Friend', '', 'UNIVERSITY OF CALIFORNIA', '', '2021', 'Bachelor of Science', 'Data Science', '(949) 441-8713', \"['afriend6874@gmail.com']\", '']\n",
      "['C:\\\\Users\\\\rtd91\\\\Data\\\\resume_samples\\\\AmarJha.pdf', 'Amar Jha', 'Nath', \"{'University of Southern California'}\", 'Dec', '2021', \"Master's\", 'Applied Data Science', '(213) 462-8044', \"['jhaa@usc.edu']\", '']\n",
      "['C:\\\\Users\\\\rtd91\\\\Data\\\\resume_samples\\\\AmolAgrawal.pdf', 'Amol Agrawal', '', 'Georgia Institute of Technology', '', 'Present', 'Master of Science', 'Computer Science', '404-271-4401', \"['amolagrawal05@gmail.com']\", '']\n",
      "['C:\\\\Users\\\\rtd91\\\\Data\\\\resume_samples\\\\AndrewLin.pdf', 'Andrew Lin', 'Yuchen', 'Georgia Institute of Technology', '', '2021', 'Master of Science', 'Analytics', '678-707-0060', \"['andrew.linlyc@gmail.com']\", '']\n",
      "['C:\\\\Users\\\\rtd91\\\\Data\\\\resume_samples\\\\AnirudhSuram.pdf', 'ANIRUDH SURAM', 'REDDY', 'University      of      Massachusetts', 'Mar', '2021', 'MS', 'Data Science', '5087175999', \"['arsuram99@gmail.com']\", '']\n",
      "['C:\\\\Users\\\\rtd91\\\\Data\\\\resume_samples\\\\AnnapoornaGopalakrishhna.pdf', 'ANNAPOORNA GOPALAKRISHNA', '', \"{'Cleveland State University'}\", 'December', '2021', 'Master', 'Computer Science and Information systems', '440-990-8497', \"['annapoornagopalakrishna@gmail.com']\", '']\n",
      "['C:\\\\Users\\\\rtd91\\\\Data\\\\resume_samples\\\\AnttonWillbanks.pdf', 'Antton Wilbanks', '', 'University of North Carolina Wilmington', '', 'Present', 'Master of Science', 'Data Science', '+1 910.238.0756', \"['wilbanks83@gmail.com']\", '']\n",
      "['C:\\\\Users\\\\rtd91\\\\Data\\\\resume_samples\\\\AnyaPatel.pdf', 'ANYA PATEL', '', 'SYRACUSE  UNVERSITY', 'Dec', '2021', 'M.S.', 'Applied Data Science', '805 453 1532', \"['anyampatel@gmail.com']\", '']\n",
      "['C:\\\\Users\\\\rtd91\\\\Data\\\\resume_samples\\\\ArchitPrem.pdf', 'Archit Prem', '', 'The University of Maryland', 'Dec', '2021', 'Master of Science', 'Business Analytics', '+1 (571-430-8026)', \"['archit7@umd.edu']\", '']\n",
      "['C:\\\\Users\\\\rtd91\\\\Data\\\\resume_samples\\\\AshviSoni.pdf', 'Ashvi Soni', '', 'The George Washington University', 'May', '2021', 'Master of Science', 'Computer Science', '+1(202)823-8515', \"['ashvi.y.soni@gmail.com']\", '']\n",
      "['C:\\\\Users\\\\rtd91\\\\Data\\\\resume_samples\\\\BaiyuChen.pdf', 'BAIYU CHEN', '', 'STONY BROOK UNIVERSITY', 'Dec', '2021', 'Master of Science', 'Business Analytics', '631-305-9842', \"['baiyu@wustl.edu']\", '']\n",
      "['C:\\\\Users\\\\rtd91\\\\Data\\\\resume_samples\\\\BhavikaChavda.pdf', 'BHAVIKA CHAVDA', '', \"{'University of Maryland', 'schools across 4 counties of California (Santa Clara'}\", 'December', '2021', 'Master', 'Data Science', '(609) 271-1612', \"['bhavika.chavda@gmail.com']\", '']\n",
      "['C:\\\\Users\\\\rtd91\\\\Data\\\\resume_samples\\\\BokyeungKim.pdf', 'BOKYEUNG KIM', '', 'University of Maryland', 'Dec', '2021', 'Master of Science', 'Business Analytics', '(443) 379-9308', \"['bokyeung.kim1@gmail.com']\", '']\n",
      "['C:\\\\Users\\\\rtd91\\\\Data\\\\resume_samples\\\\BonTrinh.pdf', 'BON TRINH', '', 'University of Wisconsin-Madison', 'Dec', '2021', '', 'Computer Science', '608-724-2688', \"['bontrinh169@gmail.com']\", '']\n",
      "['C:\\\\Users\\\\rtd91\\\\Data\\\\resume_samples\\\\BukaCakrawala.pdf', 'Buka Cakrawala', '', 'University of California', 'June', '2021', 'B.S.', 'Mathematics, Computer Science', '2019 - 2020', \"['bcakrawa@ucsd.edu']\", '']\n",
      "['C:\\\\Users\\\\rtd91\\\\Data\\\\resume_samples\\\\C01-21111807_Andrew_Decker.pdf', 'Andrew Decker', '', 'Gettysburg College', 'May', '2022', 'Bachelor of Science', 'Mathematical Economics', '(443)-742-3540', \"['eckan01@gettysburg.edu']\", '']\n",
      "['C:\\\\Users\\\\rtd91\\\\Data\\\\resume_samples\\\\C01-21120201_Jiayue_Fei.pdf', 'C:\\\\Users\\\\rtd91\\\\Data\\\\resume_samples\\\\C01-21120201_Jiayue_Fei.pdf', '', 'set()', '', '', '', '', '', '[]', '']\n",
      "['C:\\\\Users\\\\rtd91\\\\Data\\\\resume_samples\\\\CahyariniHariga.pdf', 'Cahyarini (Crystal) Hariga', '', \"{'Brandeis University | Waltham'}\", '12', '2021', 'Master of Science', 'Business Analytics', '+1 (857) 242-8583', \"['chariga@brandeis.edu']\", '']\n",
      "['C:\\\\Users\\\\rtd91\\\\Data\\\\resume_samples\\\\CarlosPerez.pdf', 'Carlos Perez', '', 'Western Governors University', '', '2021', 'Bachelor of Science', 'Computer Science', '(760)694-5383', \"['arloshernesto.perez@outlook.com']\", '']\n",
      "['C:\\\\Users\\\\rtd91\\\\Data\\\\resume_samples\\\\CassinEdwin.pdf', 'Cassin Edwin', 'Thangam', \"{'Anna University', 'The University of Texas at Dallas'}\", 'Dec.', '2021', 'Master of Science', 'Business Analytics', '1-909-313-9792', \"['cassinthangam4996@gmail.com']\", '']\n",
      "['C:\\\\Users\\\\rtd91\\\\Data\\\\resume_samples\\\\ChengwiChen.pdf', 'CHENGWEI CHEN', '', \"{'New York University', 'University of California Los Angeles'}\", 'Dec', '2021', 'MS', 'Data Analytics', '(510)378-5561', \"['ccwiris@gmail.com']\", '']\n",
      "['C:\\\\Users\\\\rtd91\\\\Data\\\\resume_samples\\\\ChetnaKhanna.pdf', 'CHETNA KHANNA', '', 'Northeastern University', 'Dec', '2021', 'MS', 'Data Analytics', '(631)-542-3150', \"['khanna.c@northeastern.edu']\", '']\n",
      "['C:\\\\Users\\\\rtd91\\\\Data\\\\resume_samples\\\\DhruvParikh.pdf', 'Dhruv Parikh', '', 'University of Southern California', 'December', '2021', 'MS', 'Electrical Engineering', '+1 213-464-8614', \"['dhruv.parikh1998@gmail.com']\", '']\n",
      "['C:\\\\Users\\\\rtd91\\\\Data\\\\resume_samples\\\\DhwaniGandhi.pdf', 'Dhwani Gandhi', '', 'Syracuse University', 'Dec', '2021', 'Master of Science', 'Applied Data Science', '+1(619)-430-6786', \"['dgandhi@syr.edu']\", '']\n",
      "['C:\\\\Users\\\\rtd91\\\\Data\\\\resume_samples\\\\DimpleMehra.pdf', 'Dimple Mehra', '', 'Illinois Institute of Technology', 'Dec', '2021', 'Master of Science', 'Computer Science', ' +1-(312-358-1359)', \"['dimple8997@gmail.com']\", '']\n",
      "['C:\\\\Users\\\\rtd91\\\\Data\\\\resume_samples\\\\DivyaManku.pdf', 'Divya Manku', 'Reddy', \"{'Jawaharlal Nehru Technological University', '  Missouri University of Science and Technology'}\", 'December', '2021', 'Masters', 'Information Science and Technology', '573-202-0190', \"['dmmnr@mst.edu']\", '']\n",
      "['C:\\\\Users\\\\rtd91\\\\Data\\\\resume_samples\\\\ElijahHall.pdf', 'Elijah Hall', 'James', 'North Carolina State University', 'December', '2021', 'Bachelor of Science', 'Applied Mathematics', '(828)-750-4063', \"['elijahjameshall49@gmail.com']\", '']\n",
      "['C:\\\\Users\\\\rtd91\\\\Data\\\\resume_samples\\\\EvanJones.pdf', 'Evan JONES', 'W.', 'University of Maryland', 'December', '2021', '', 'Applied Mathematics', '(703) 939-1514', \"['ejje2010@gmail.com']\", '']\n",
      "['C:\\\\Users\\\\rtd91\\\\Data\\\\resume_samples\\\\EvanJoyce.pdf', 'EVAN JOYCE', '', 'University of Maryland', 'December', '2021', 'Masters', 'Machine Learning', '(301) 525-4486', \"['ejoyce74@gmail.com']\", '']\n",
      "['C:\\\\Users\\\\rtd91\\\\Data\\\\resume_samples\\\\GaliSabyr.pdf', 'Gali Sabyr', '', 'North American University', 'December', '2021', 'B.S.', 'SOFTWARE ENGINEERING AND COMPUTER NETWORKING', '+1(832)310-3195', \"['ggabituly99@gmail.com']\", '']\n",
      "['C:\\\\Users\\\\rtd91\\\\Data\\\\resume_samples\\\\GrishmaParajuli.pdf', 'GRISHMA PARAJULI', '', 'Drexel University', 'December', '2021', 'Bachelor of Science', 'Mathematics', '973-204-2812', \"['grishma.parajuli@drexel.edu']\", '']\n",
      "['C:\\\\Users\\\\rtd91\\\\Data\\\\resume_samples\\\\Hamza Abdelghani.pdf', 'Hamza Abdelghani', '', 'set()', '', '', '', '', '+1 301 979 3644', \"['hamza.aghani@gmail.com']\", '']\n",
      "['C:\\\\Users\\\\rtd91\\\\Data\\\\resume_samples\\\\IndupriyaKompiS.pdf', 'Indupriya Kompi', '', \"{'Visveswaraya Technological University', 'Northeastern University'}\", '12', '2021', 'Bachelor of Engineering', 'Electronics and Communications', '', \"['indupriyakompi@gmail.com']\", '']\n",
      "['C:\\\\Users\\\\rtd91\\\\Data\\\\resume_samples\\\\JairoCarreon.pdf', 'Jairo Carreon', '', 'University of California', 'Dec', '2021', 'Bachelor of Science', 'Computer Science and Engineering', '(619) 451-9507', \"['jairo.carreon03@gmail.com']\", '']\n",
      "['C:\\\\Users\\\\rtd91\\\\Data\\\\resume_samples\\\\JamesRenierDomingo.pdf', 'James Domingo', 'Renier', 'University of California', 'December', '2021', 'Master of Science', 'Analytics', '(706) 305-6369', \"['james.domingo@gatech.edu']\", '']\n",
      "['C:\\\\Users\\\\rtd91\\\\Data\\\\resume_samples\\\\JialuXia.pdf', 'Stellar(Jialu) Xia', '', 'Columbia University in the City of New York', 'Dec', '2021', 'Master of Science', 'Data Science', '(917) 346 1107', \"['jx2360@columbia.edu']\", '']\n",
      "['C:\\\\Users\\\\rtd91\\\\Data\\\\resume_samples\\\\JianboGu.pdf', 'Jianbo Gu', '', \"{'â\\x9a«  Lehigh University', 'â\\x9a«  Tongji University', 'â\\x9a«  University of Michigan'}\", 'Dec', '2021', 'Dual Master', 'IOE and ME', '+1 (610)-704-9590', \"['jianbogu@umich.edu']\", '']\n",
      "['C:\\\\Users\\\\rtd91\\\\Data\\\\resume_samples\\\\JiehongLiu.pdf', 'Jiehong Liu', '', 'Virginia Tech', 'Dec', '2021', 'Bachelor of Computational Mathematics', '', '(757)846-3898', \"['ljiehong@vt.edu']\", '']\n",
      "['C:\\\\Users\\\\rtd91\\\\Data\\\\resume_samples\\\\JimLiu.pdf', 'Jim Liu', '', 'Georgia Institute of Technology', 'Dec', '2021', 'M.S.', 'Statistics', '(+1)404-528-9521', \"['chen-yang.liu@outlook.com']\", '']\n",
      "['C:\\\\Users\\\\rtd91\\\\Data\\\\resume_samples\\\\JuliaXia.pdf', 'JULIA XIA', '', \"{'Columbia University'}\", 'Dec', '2021', 'M.S.', 'Operation Research', '929-215-4334', \"['yx2648@columbia.edu']\", '']\n",
      "['C:\\\\Users\\\\rtd91\\\\Data\\\\resume_samples\\\\KRISTINJIATINGCHEN_RESUME_06082021 (1).pdf', 'KRISTIN CHEN ', 'JIATING', 'THE GEORGE WASHINGTON UNIVERSITY', 'May', '2018', 'Master of Science', 'Data Science', '(202) 212 -9607', \"['jiatingchen0107@gmail.com']\", '']\n",
      "['C:\\\\Users\\\\rtd91\\\\Data\\\\resume_samples\\\\KunjMithapara.pdf', 'KUNJ MITHAPARA', '', \"{'Master of Science in Industrial Engineering (GPA 3.89/4.0) | Northeastern University'}\", 'Dec', '2021', 'Master of Science', 'Industrial Engineering', '(857) 308-6625', \"['mithapara.k@northeastern.edu']\", '']\n",
      "['C:\\\\Users\\\\rtd91\\\\Data\\\\resume_samples\\\\LejianHe.pdf', 'Lejian He', '', \"{'Sun Yat-sen University', 'Cornell University'}\", 'August', '2021', 'Master of Science', 'Transportation Systems Engineering', '(607) 262-6716', \"['leolejianhe@gmail.com']\", '']\n",
      "['C:\\\\Users\\\\rtd91\\\\Data\\\\resume_samples\\\\ManaswiniNagaraj.pdf', 'Manaswini Nagaraj', '', \"{'National University of Singapore- HPE', 'â\\x80¢  Northeastern University', 'â\\x80¢  REVA University'}\", 'Dec', '2021', 'Master of Science', 'Data Science', '(617) 818-4953', \"['nagaraj.m@northeastern.edu']\", '']\n",
      "['C:\\\\Users\\\\rtd91\\\\Data\\\\resume_samples\\\\Manisha Patel Resume.pdf', 'Manisha Patel', '', 'The State University of New York at Buffalo', 'Jan', '2022', 'Master of Science', 'Data Science', '774-994-4106', \"['manishap2690@gmail.com']\", '']\n",
      "['C:\\\\Users\\\\rtd91\\\\Data\\\\resume_samples\\\\MasenBachleda.pdf', 'MASEN BACHLEDA', '', \"{'University of Nebraska'}\", 'August', '2021', 'Master of Science', 'Business Analytics', '847-346-6868', \"['masenbachleda@gmail.com']\", '']\n",
      "['C:\\\\Users\\\\rtd91\\\\Data\\\\resume_samples\\\\MatthewHolcombe.pdf', 'Matthew Holcombe', '', \"{'University of Houston'}\", 'December', '2021', 'Bachelor of Science', 'Mathematics', '409-926-9421', \"['mholcombe9@gmail.com']\", '']\n",
      "['C:\\\\Users\\\\rtd91\\\\Data\\\\resume_samples\\\\MayuriLalwani.pdf', 'MAYURI LALWANI', '', 'San Jose State University', 'December', '2021', 'Master of Science', 'Data Science', '(949) 609-9405', \"['mayuri.lalwani123@gmail.com']\", '']\n",
      "['C:\\\\Users\\\\rtd91\\\\Data\\\\resume_samples\\\\MikhailTokarev.pdf', 'Mikhail Tokarev', '', 'Oregon State University Corvallis', 'December', '2021', 'Master of Science', 'Computer Science', '+1 (541) 908-66-78', \"['liberty06071992@gmail.com']\", '']\n",
      "['C:\\\\Users\\\\rtd91\\\\Data\\\\resume_samples\\\\MistereAbate.pdf', 'Mistere Abate', '', 'UniversityofNorthCarolinaWilmington', '', 'Present', 'MASTEROFSCIENCE', 'Data Science', '214-680-4902', \"['mta6203@uncw.edu']\", '']\n",
      "['C:\\\\Users\\\\rtd91\\\\Data\\\\resume_samples\\\\MohammadZarei.pdf', 'Mohammad Zarei', '', 'UniversityofCalifornia', '', '2021', 'Master of Science', 'MachineLearningandDataScience', '(858)901-0001', \"['ei@ucsd.edu']\", '']\n",
      "['C:\\\\Users\\\\rtd91\\\\Data\\\\resume_samples\\\\MonaEslamijam.pdf', 'Mona Eslamijam', '', 'TheUniversityofTexasatDallas', '', '2021', 'M.Sc', 'Business Analytics', 'mona.eslamijam@utdallas.edu', \"['mona.eslamijam@utdallas.edu']\", '']\n",
      "['C:\\\\Users\\\\rtd91\\\\Data\\\\resume_samples\\\\NahianSiddique.pdf', 'Nahian Siddique', '', \"{'Teaching Assistant | Purdue University', 'Research Assistant | Purdue University', 'Purdue University'}\", 'Aug', '2021', 'M.S.', 'Electrical and Computer Engineering', '(219) 308-6658', \"['nahiansiddique10@gmail.com']\", '']\n",
      "['C:\\\\Users\\\\rtd91\\\\Data\\\\resume_samples\\\\NidhiChovatiya.pdf', 'NIDHI CHOVATIYA', '', \"{'Gujarat Technological University'}\", 'Dec', '2021', 'Master of Science', 'Computer Science', '(551) 263-8620', \"['nidhichovatiya12@gmail.com']\", '']\n",
      "['C:\\\\Users\\\\rtd91\\\\Data\\\\resume_samples\\\\NiksonPanigrahi.pdf', 'NIKSON PANIGRAHI', '', ' Northeastern University', 'December', '2021', 'Master of Science', 'Data Science', '5) 8573647484', \"['panigrahi.n@northeastern.edu']\", '']\n",
      "['C:\\\\Users\\\\rtd91\\\\Data\\\\resume_samples\\\\PratikSatpute.pdf', 'PRATIK SATPUTE', '', 'Seattle Pacific University', 'Dec', '2021', 'Master\\x92s', 'Data Analytics', '425-217-9815', \"['pratik.sms@gmail.com']\", '']\n",
      "['C:\\\\Users\\\\rtd91\\\\Data\\\\resume_samples\\\\PraveenPandey.pdf', 'PRAVEEN PANDEY', '', 'Northeastern University', 'Dec', '2021', \"Master's\", 'Artificial Intelligence', '(857)-544-9465', \"['andey.pra@northeastern.edu']\", '']\n",
      "['C:\\\\Users\\\\rtd91\\\\Data\\\\resume_samples\\\\Resume_Adedamola_Olawoye.pdf', 'Adedamola Olawoye', '\"Ade\"', 'University of Maryland', 'December', '2021', 'Master of Science', 'Marketing Analytics', '(301) -979-1538', \"['aolawoye@umd.edu']\", '']\n",
      "['C:\\\\Users\\\\rtd91\\\\Data\\\\resume_samples\\\\Resume_Aditya_Deshpande.pdf', 'Aditya Deshpande', '', 'University of Maryland', 'Dec', '2021', 'Master of Science', 'Business Analytics', '(240) 467-6901', \"['adeshpa1@umd.edu']\", '']\n",
      "['C:\\\\Users\\\\rtd91\\\\Data\\\\resume_samples\\\\Resume_Ali_Majidian.pdf', 'Ali Majidian', '', \"{'                           January 2020 â\\x80\\x93 May 2022   University of North Carolina at Charlotte', 'September 2014 - September 2019  Islamic Azad University'}\", 'September ', '2019', 'Master of Science', 'Information Technology', '', \"['amajidia@uncc.edu']\", '']\n",
      "['C:\\\\Users\\\\rtd91\\\\Data\\\\resume_samples\\\\Resume_Ankit_Hemant_Lade.pdf', 'ANKIT LADE', 'HEMANT', 'University of Central Missouri', 'May', '2021', 'Master of Science', 'Computer Science', '1-660-238-1759', \"['ankitlade12@gmail.com']\", '']\n",
      "['C:\\\\Users\\\\rtd91\\\\Data\\\\resume_samples\\\\Resume_Anqi_Cheng.pdf', 'Anqi Cheng', '', \"{'University of Maryland'}\", 'November', '2021', 'Master', 'Data Science and Analytics', '(424)-542-3050', \"['aqcheng7@gmail.com']\", '']\n",
      "['C:\\\\Users\\\\rtd91\\\\Data\\\\resume_samples\\\\Resume_Arbaaz_Mohideen.pdf', 'Arbaaz Mohideen', '', 'North Carolina A&T State University', 'May', '2022', 'M.S.', 'Applied Mathematics', '(336) 615-4089', \"['amohidee@aggies.ncat.edu']\", '']\n",
      "['C:\\\\Users\\\\rtd91\\\\Data\\\\resume_samples\\\\Resume_Arunava_Ray.pdf', 'Arunava Ray', '', \"{'Johns Hopkins University'}\", 'May', '2021', 'Master of Science', 'Data Science', '+1 443-248-5326', \"['arunava.ray13@gmail.com']\", '']\n",
      "['C:\\\\Users\\\\rtd91\\\\Data\\\\resume_samples\\\\Resume_Ashutosh_Shinde.pdf', 'ASHUTOSH SHINDE', '', 'Stevens Institute of Technology', 'May', '2021', 'Master of Science', ' Data Science', '551-229-5711', \"['ashinde8@stevens.edu']\", '']\n",
      "['C:\\\\Users\\\\rtd91\\\\Data\\\\resume_samples\\\\Resume_Bah_Yannick_Konan.pdf', 'BAH KONAN', 'YANNICK', 'American University', 'August', '2021', 'Master of Science', 'Data Analytics', '612-757-8182', \"['bk3591a@american.edu']\", '']\n",
      "['C:\\\\Users\\\\rtd91\\\\Data\\\\resume_samples\\\\Resume_Bala_Harimani.pdf', 'Bala Harimani', '', \"{'Anna University', 'Wayne State University'}\", 'August', '2021', 'M.S.', 'Data Science and Business Analytics', '313-818-7830', \"['balamani@wayne.edu']\", '']\n",
      "['C:\\\\Users\\\\rtd91\\\\Data\\\\resume_samples\\\\Resume_Bonface_Njuguna.pdf', 'BONFACE NJUGUNA', '', 'Towson University', 'Sep.', '2021', 'Masters', 'Applied and Industrial Mathematics', '443 495 9539', \"['bnjugun1@students.towson.edu']\", '']\n",
      "['C:\\\\Users\\\\rtd91\\\\Data\\\\resume_samples\\\\Resume_Chaeeun_Lim.pdf', 'Chaeeun Lim', '\"Michelle\"', \"{' University of Maryland  College Park', 'â\\x97\\x8f  Roberta Ma Scholarship'}\", 'December', '2021', 'Master of Science', 'Information Systems', '(202) 816-9446', \"['clim43@terpmail.umd.edu']\", '']\n",
      "['C:\\\\Users\\\\rtd91\\\\Data\\\\resume_samples\\\\Resume_Chantelle_Lim.pdf', 'Chantelle Lim', '', 'Johns Hopkins University School of Medicine', 'December', '2021', 'Master of Science', 'Biomedical Engineering', '585.200.9095', \"['clim25@jhmi.edu']\", '']\n",
      "['C:\\\\Users\\\\rtd91\\\\Data\\\\resume_samples\\\\Resume_Chitranjan_Joshi.pdf', 'CHITRANJAN JOSHI', '', \"{'Drexel University'}\", 'Mar', '2021', 'Master of Science', 'Information Systems', '2678154518', \"['joshi.chitranjan@gmail.com']\", '']\n",
      "['C:\\\\Users\\\\rtd91\\\\Data\\\\resume_samples\\\\Resume_Diego_Burgos.pdf', 'Diego Burgos', '', 'University of Maryland', '', '2021', 'Master', 'Data Science', '240-593-7400', \"['dibu24@gmail.com']\", '']\n",
      "['C:\\\\Users\\\\rtd91\\\\Data\\\\resume_samples\\\\Resume_Ethan_Laurenceau.pdf', 'ETHAN LAURENCEAU', '', \"{'Howard University'}\", 'May', '2021', '', 'Bachalor of Science in Mathematics', '301-213-4286', 'ethan.laurenceau45@yahoo.com', '']\n",
      "['C:\\\\Users\\\\rtd91\\\\Data\\\\resume_samples\\\\Resume_Girija_Bandaru.pdf', 'GIRIJA BANDARU', '', \"{'University of South Florida'}\", 'Dec', '2021', '', 'MS in Business Analytics and Information Systems', '+1(813)5604825', \"['gbandaru@usf.edu']\", '']\n",
      "['C:\\\\Users\\\\rtd91\\\\Data\\\\resume_samples\\\\Resume_Harshitha_Prasad.pdf', 'Harshitha Prasad', '', 'Kent State University at Kent', 'NA', 'NA', '', 'Master\\x92s in Computer science in Computer Science', '401 206 0439', \"['harshitha.p@cvemail.com']\", '']\n",
      "['C:\\\\Users\\\\rtd91\\\\Data\\\\resume_samples\\\\Resume_Harsh_Pundir.pdf', 'HARSH PUNDIR', '', 'Robert H. Smith School of Business, University of Maryland', 'NA', 'NA', '', 'Master of Science in Business Analytics,', '240.423.5453', \"['hpundir@umd.edu']\", '']\n",
      "['C:\\\\Users\\\\rtd91\\\\Data\\\\resume_samples\\\\Resume_Hemanth_Kodakandla.pdf', 'Hemanth Kodakandla', 'Reddy', 'Syracuse University', 'May', '2021', '', 'M.S. Applied Data Science', '(315)-832-0730', \"['hkodakan@syr.edu']\", '']\n",
      "['C:\\\\Users\\\\rtd91\\\\Data\\\\resume_samples\\\\Resume_Isioma_Ochia.pdf', 'Isioma Ochia', '\\x93Isi\\x94', 'University of Maryland, Robert H. Smith School of Business', 'Dec', '2021', '', '', '(202) 848-8552', \"['iochia@umd.edu']\", '']\n",
      "['C:\\\\Users\\\\rtd91\\\\Data\\\\resume_samples\\\\Resume_Jay_Pandya.pdf', 'JAY PANDYA', '', \"{'University of Massachusetts Lowell', 'University of Mumbai'}\", 'Aug', '2021', '', 'Master of Science in Mechanical Engineering', '(978) 856-9350', \"['jpandya1997@gmail.com']\", '']\n",
      "['C:\\\\Users\\\\rtd91\\\\Data\\\\resume_samples\\\\Resume_Jessica_Rega.pdf', 'Jessica Rega', '', 'George Mason University - Fairfax, VA', 'Aug', '2021', '', 'Master of Science in Data Analytics Engineering', '6179978035', \"['rega202@gmail.com']\", '']\n",
      "['C:\\\\Users\\\\rtd91\\\\Data\\\\resume_samples\\\\Resume_Jishan_Ahmed.pdf', 'Jishan Ahmed', '', 'Bowling Green State University', 'NA', '2022', '', 'PHD IN DATA SCIENCE', '13179415746', \"['jahmed@bgsu.edu']\", '']\n",
      "['C:\\\\Users\\\\rtd91\\\\Data\\\\resume_samples\\\\Resume_Kaleb_Shikur.pdf', 'KALEB SHIKUR', '', 'University of Virginia', 'May', '2021', '', 'Master of Science Data Science', '703 863 3338', 'Kalebm1sales@gmail.com', '']\n",
      "['C:\\\\Users\\\\rtd91\\\\Data\\\\resume_samples\\\\Resume_Kanth_Juvadi.pdf', 'Kanth Juvadi', '', \"{'University of Central Missouri'}\", 'May', '2021', '', 'Master\\x92s in computer science', '1(816)-974-3322', \"['ram.jdatascience@gmail.com']\", '']\n",
      "['C:\\\\Users\\\\rtd91\\\\Data\\\\resume_samples\\\\Resume_Katherine_Pearson.pdf', 'Katherine Pearson', '', 'Saint Louis University', 'May', '2021', '', 'Master of Science in Data Science', '314-996-9471', \"['earson@slu.edu']\", '']\n",
      "['C:\\\\Users\\\\rtd91\\\\Data\\\\resume_samples\\\\Resume_Kruti_Allenki.pdf', 'KRUTI ALLENKI', 'GUPTA', 'Syracuse University', '', '2021', '', 'M.S. Applied Data Science', '1 (315)-403-5205', \"['krutiallenki@gmail.com']\", '']\n",
      "['C:\\\\Users\\\\rtd91\\\\Data\\\\resume_samples\\\\Resume_Kunjan_Devendra_Khatri.pdf', 'Kunjan Khatri', 'Devendra', 'Northeastern University', 'Aug', '2021', '', 'Master of Science in Data Science', '617-510-8648', \"['khatri.kun@northeastern.edu']\", '']\n",
      "['C:\\\\Users\\\\rtd91\\\\Data\\\\resume_samples\\\\Resume_Leonel_Flores.pdf', 'LEONEL FLORES', '', 'New York University', 'Dec', '2021', '', 'MS in computer science', '(832) 462-3924', \"['leo.flores@nyu.edu']\", '']\n",
      "['C:\\\\Users\\\\rtd91\\\\Data\\\\resume_samples\\\\Resume_Maaz_Zahid_Shaikh.pdf', 'MAAZ SHAIKH ', 'ZAHID', 'Syracuse University', 'May', '2022', '', 'Master of Science in Applied Data Science', '(315)-992-5840', \"['mzshaikh@syr.edu']\", '']\n",
      "['C:\\\\Users\\\\rtd91\\\\Data\\\\resume_samples\\\\Resume_Naina Grover.pdf', 'Naina Grover ', '', 'Johns Hopkins Carey Business School', 'Dec', '2021', '', 'Master of Science in Business Analytics and Risk Management', '206-643-7360', \"['ngrover4@jhu.edu']\", '']\n",
      "['C:\\\\Users\\\\rtd91\\\\Data\\\\resume_samples\\\\Resume_Nasir_Sarkar.pdf', 'Nasir Sarkar', 'U.', \"{'University of Maryland Baltimore County'}\", 'Dec', '2021', '', 'Master\\x92s in Professional Studies in Data Science', 'NA', \"['nasir2sarkar@gmail.com']\", '']\n",
      "['C:\\\\Users\\\\rtd91\\\\Data\\\\resume_samples\\\\Resume_Natnael_Tsegaw.pdf', 'Nate Tsegaw', '', 'Flatiron School', 'Aug', '2021', '', 'Data Science Bootcamp Program', '240-506-7317', \"['tsegaw@protonmail.com']\", '']\n",
      "['C:\\\\Users\\\\rtd91\\\\Data\\\\resume_samples\\\\Resume_Navina_Sethi.pdf', 'Navina Sethi ', 'Kaur', 'University of Maryland, Robert H. Smith School of Business', 'Aug', '2021', '', 'Master of Science in Information Systems', '(475) 236-4763', \"['avina.kaur@gmail.com']\", '']\n",
      "['C:\\\\Users\\\\rtd91\\\\Data\\\\resume_samples\\\\Resume_Rakshit_Sinha.pdf', 'Rakshit Sinha ', '', 'University of Maryland, Robert H. Smith School of Business', 'Aug', '2021', '', 'Master of Science in Information Systems', '(301)-792-8228', \"['rakshit.sinha@marylandsmith.umd.edu']\", '']\n",
      "['C:\\\\Users\\\\rtd91\\\\Data\\\\resume_samples\\\\Resume_Reetika_Chaturvedi.pdf', 'REETIKA CHATURVEDI ', '', 'Northeastern University', 'Apr', '2021', '', 'Masters in Daat Analytics in Statistical Modeling', '617.987.7863', \"['ritzjob696@gmail.com']\", '']\n",
      "['C:\\\\Users\\\\rtd91\\\\Data\\\\resume_samples\\\\Resume_Rishitha_Muddana.pdf', 'Rishitha Muddana ', '', 'University of North Carolina at Charlotte', 'May', '2021', '', 'Matser of Science in Data Science and Business Analytics', '704-632-5708', \"['rishithamuddanaa@gmail.com']\", '']\n",
      "['C:\\\\Users\\\\rtd91\\\\Data\\\\resume_samples\\\\Resume_Rohin_Bhagavatula.pdf', 'Rohin Bhagavatula ', '', 'University of Maryland, Robert H. Smith School of Business', 'Dec', '2021', '', 'Master of Business Analytics', '(201)779-7393', \"['rohin.bhagavatula@marylandsmith.umd.edu']\", '']\n",
      "['C:\\\\Users\\\\rtd91\\\\Data\\\\resume_samples\\\\Resume_Saida_Muktar.pdf', 'SAIDA MUKTAR ', '', 'NA', 'Aug', '2021', '', 'ms in data science', '443-833-6344', 'saidam1@umbc.edu', '']\n",
      "['C:\\\\Users\\\\rtd91\\\\Data\\\\resume_samples\\\\Resume_Saivalini_Durvasula.pdf', 'Saivalini Durvasula ', '', 'University of Connecticut', 'Dec', '2021', '', 'MS in Business Analytics and Project Management,', '551-226-3065', \"['saivalini.durvasula@uconn.edu']\", '']\n",
      "['C:\\\\Users\\\\rtd91\\\\Data\\\\resume_samples\\\\Resume_Sai_Sri_Malempati.pdf', 'Sai Malempati', 'Sri', 'Wright State University', 'NA', '2021', '', 'MS IN COMPUTER SCIENCE', '+1 740 803 1957', \"['saisri.mss@gmail.com']\", '']\n",
      "['C:\\\\Users\\\\rtd91\\\\Data\\\\resume_samples\\\\Resume_Sanat_Lal.pdf', 'Sanat Lal', '', 'George Washington University', 'NA', '2021', '', 'MS - Data Science', '+1 2023909784', \"['sanat.lal@gmail.com']\", '']\n",
      "['C:\\\\Users\\\\rtd91\\\\Data\\\\resume_samples\\\\Resume_Saumil_Jariwala.pdf', 'Saumil Jariwala ', 'Sudhir', 'Stevens Institute of Technology', '', '2021', '', '', '201-744-1333', \"['sjariwa2@stevens.edu']\", '']\n",
      "['C:\\\\Users\\\\rtd91\\\\Data\\\\resume_samples\\\\Resume_Shalin_Shanghavi.pdf', 'Shalin Shanghavi ', '', 'San Francisco State University', 'June', '2021', '', 'MS in Business Analytics', '(206) 581-1109', \"['sshanghavi.97@gmail.com']\", '']\n",
      "['C:\\\\Users\\\\rtd91\\\\Data\\\\resume_samples\\\\Resume_Siyu_Tao.pdf', 'Siyu Tao', '', 'University of Notre Dame', 'May', '2021', '', 'MS in Applied Statistics', '6262383387', \"['siyutb@gmail.com']\", '']\n",
      "['C:\\\\Users\\\\rtd91\\\\Data\\\\resume_samples\\\\Resume_Sobanaa_Jayakumar.pdf', 'SOBANAA JAYAKUMAR ', '', 'American University, Kogod School of Business', 'April', '2022', '', 'MS in Analytics', '(240) 906-1094', \"['sj4919a@american.edu']\", '']\n",
      "['C:\\\\Users\\\\rtd91\\\\Data\\\\resume_samples\\\\Resume_Srishti_Piplani.pdf', 'Srishti Piplani ', '', 'Michigan State University (MSU), Broad College of Business', 'Dec', '2021', '', 'MS in Business Analytics', '(517) 488-9361', \"['srishti.piplani10@gmail.com']\", '']\n",
      "['C:\\\\Users\\\\rtd91\\\\Data\\\\resume_samples\\\\Resume_Srushti_Shah.pdf', 'Srushti Shah', '', 'NA', 'NA', 'NA', '', 'NA', '+1 469-358-7814', \"['srushti.shah.2630@gmail.com']\", '']\n",
      "['C:\\\\Users\\\\rtd91\\\\Data\\\\resume_samples\\\\Resume_Srinath_Narayanan.pdf', 'Srinath Narayanan', '', 'Virginia Commonwealth University', 'Jan', '2021', '', 'Master of Decision Analytics', '8045888568', 'csenath@gamil.com', '']\n",
      "['C:\\\\Users\\\\rtd91\\\\Data\\\\resume_samples\\\\Resume_Taegun_Ohe.pdf', 'Taegeun Ohe', '', 'Georgia Institute of Technology', '', '2021', '', 'MS in Chemical and Biomolecular Engineering', '703-785-5459', 'tgohche@gmail.com', '']\n",
      "['C:\\\\Users\\\\rtd91\\\\Data\\\\resume_samples\\\\Resume_Tanishk_Parihar.pdf', 'TANISHK PARIHAR ', '', 'Syracuse University', 'May', '2021', '', 'MS in Applied Data Science', '315-447-5338', \"['tanishk305@gmail.com']\", '']\n",
      "['C:\\\\Users\\\\rtd91\\\\Data\\\\resume_samples\\\\Resume_Tej_Gottapu.pdf', 'Tej Gottapu', '', 'Drexel University', 'NA', '2021', '', 'MS IN DATA SCIENCE', '2672061097', \"['gottaputej@gmail.com']\", '']\n",
      "['C:\\\\Users\\\\rtd91\\\\Data\\\\resume_samples\\\\Resume_Tezewi_Madarasu.pdf', 'Tezeswi Madarasu', '', 'Arizona State University', 'September ', '2021', '', 'MS IN financial Mathematics', '+1 332 234 5155', \"['tezeswimadarasu0831@gmail.com']\", '']\n",
      "['C:\\\\Users\\\\rtd91\\\\Data\\\\resume_samples\\\\Resume_Tia_Moody.pdf', 'TIA MOODY ', '', 'University of Toledo', 'May', '2021', '', 'BS Natural Science and Mathematics', '(734) 341-3857', \"['moodytia27@gmail.com']\", '']\n",
      "['C:\\\\Users\\\\rtd91\\\\Data\\\\resume_samples\\\\Resume_Vijayalakshmi_Girijala.pdf', 'VIJAYALAKSHMI GIRIJALA ', '', 'Syracuse University', 'May', '2021', '', 'MS in computer science', '(248)-672-5051', \"['vijayalakshmi.girijala@gmail.com']\", '']\n",
      "['C:\\\\Users\\\\rtd91\\\\Data\\\\resume_samples\\\\Resume_Wei-chen_Lu.pdf', 'WEI-CHEN, LU   ', '', \"{'American University'\", 'Aug', '2021', '', 'MS in Data Science, Business Analytics Track', '202-322-8811', \"['gacktwww@gmail.com']\", '']\n",
      "['C:\\\\Users\\\\rtd91\\\\Data\\\\resume_samples\\\\Resume_Yann_Tamraz.pdf', '  Yann Tamraz', '', 'Johns Hopkins University', 'Dec', '2021', '', 'MS in Engineering Management', '202-929-8414', \"['yann.tamraz7@gmail.com']\", '']\n",
      "['C:\\\\Users\\\\rtd91\\\\Data\\\\resume_samples\\\\Resume_Yeni_Arely_Perez.pdf', 'YENI PEREZ', '', 'Johns Hopkins University', 'Apr', '2021', '', 'DataAnalytics Bootcamp Certification', '443-535-5036', \"['ms.yeni.a.perez@gmail.com']\", '']\n",
      "['C:\\\\Users\\\\rtd91\\\\Data\\\\resume_samples\\\\Resume_Ying_Lu.pdf', 'YING LU ', '', 'University of St.Thomas', 'NA', 'NA', '', 'MS in Business Analytics', '(612) 434-3346', \"['langellu@hotmail.com']\", '']\n",
      "['C:\\\\Users\\\\rtd91\\\\Data\\\\resume_samples\\\\Resume_Yingkun_Wang.pdf', 'Yingkun Wang', '', 'Johns Hopkins University', 'Dec', '2021', '', 'MS in Engineering', '858-247-9822', \"['ywang601@jh.edu']\", '']\n",
      "['C:\\\\Users\\\\rtd91\\\\Data\\\\resume_samples\\\\Resume_Yutong_Tang.pdf', 'Yutong Tang ', '', 'University of Maryland', 'Dec', '2021', '', 'MS in Business Analytics', '(302)-482-5045', \"['yutong@umd.edu']\", '']\n",
      "['C:\\\\Users\\\\rtd91\\\\Data\\\\resume_samples\\\\RichieLahoti.pdf', 'Richie Lahoti  ', '', 'Santa Clara University', 'Dec', '2021', '', 'MS in Business Analytics', '9492413940', \"['rlahoti@scu.edu']\", '']\n",
      "['C:\\\\Users\\\\rtd91\\\\Data\\\\resume_samples\\\\RickyLindsey.pdf', 'Ricky Lindsey', 'Donnell', \"{'Georgia State University'}\", 'Dec', '2021', '', 'MS in Analytics', '(678) 790-9452', \"['ricky@rickylindsey.tech']\", '']\n",
      "['C:\\\\Users\\\\rtd91\\\\Data\\\\resume_samples\\\\RohithMallula.pdf', 'ROHITH MALLULA ', '', 'Northeastern University', 'Dec', '2021', '', 'MS in Data Analytics', '+1 8578004080', \"['rohith19m@gmail.com']\", '']\n",
      "['C:\\\\Users\\\\rtd91\\\\Data\\\\resume_samples\\\\RuoshiZhao.pdf', 'Ruoshi Zhao ', '', 'Washiongton University in St. Louis', 'Dec', '2021', '', 'MS in Business Analytics', '5185964295', \"['ruoshi@wustl.edu']\", '']\n",
      "['C:\\\\Users\\\\rtd91\\\\Data\\\\resume_samples\\\\RutvikPatel.pdf', 'Rutvik Patel', '', 'Illinois Institute of Technology', 'Dec', '2021', '', 'Bachelors of Science in Artificial Intelligence', '(224) 245-7197', \"['rhpatel2000@gmail.com']\", '']\n",
      "['C:\\\\Users\\\\rtd91\\\\Data\\\\resume_samples\\\\RyanGoodwin.pdf', 'Ryan Goodwin', 'Martin', 'University of North Carolina Wilmington', 'Dec', '2021', '', 'MS Data Science', '(910) 547-7027', \"['rgoodwin1997@gmail.com']\", '']\n",
      "['C:\\\\Users\\\\rtd91\\\\Data\\\\resume_samples\\\\SahanaHalady.pdf', 'Sahana Halady ', '', 'San Jose State University', 'Dec', '2021', '', \"Master's in Sofrware Engineering\", '(669)210-2518', \"['sahana.halady@sjsu.edu']\", '']\n",
      "['C:\\\\Users\\\\rtd91\\\\Data\\\\resume_samples\\\\SAIKUMAR.pdf', 'SAI KUMAR', '', 'University of Maryland Baltimore', 'Dec', '2021', '', 'MS in Data Science', '12678819188', \"['sgheereddy@gmail.com']\", '']\n",
      "['C:\\\\Users\\\\rtd91\\\\Data\\\\resume_samples\\\\SamSong.pdf', 'Sam Song', '', 'Univeristy of Illinois - Urbana-Champaign', 'NA', '2021', '', 'MS in Data Science', '408-431-5412', \"['samsong974@gmail.com']\", '']\n",
      "['C:\\\\Users\\\\rtd91\\\\Data\\\\resume_samples\\\\Senthil Nathan M.pdf', 'Senthil Nathan', '', 'Indian Institute of Science', 'Apr', '2017', '', 'MS of Management Business Analytics', '91-8553247568', \"['msnathan55@yahoo.com']\", '']\n",
      "['C:\\\\Users\\\\rtd91\\\\Data\\\\resume_samples\\\\SharmistaVemulapalli.pdf', 'Sharmista Vemulapalli  ', '', 'ROWAN University', 'Dec', '2021', '', 'MS in Data Science', '5512968019', \"['sharmiv1129@gmail.com']\", '']\n",
      "['C:\\\\Users\\\\rtd91\\\\Data\\\\resume_samples\\\\ShianChen.pdf', 'Shian Chen ', '', 'University of Chicago', 'Dec', '2021', '', 'MS in Analytics', '(504) 250-3514', \"['schen9@uchicago.edu']\", '']\n",
      "['C:\\\\Users\\\\rtd91\\\\Data\\\\resume_samples\\\\ShreyaDharmarajan.pdf', 'Shreya Dharmarajan ', '', \"{'The University of Texas at Dallas}\", 'Dec', '2021', '', 'MS Business Analytics', '(469)-456-5940', \"['saishreya0298@gmail.com']\", '']\n",
      "['C:\\\\Users\\\\rtd91\\\\Data\\\\resume_samples\\\\ShwetankRokade.pdf', 'SHWETANK ROKADE  ', '', 'Northeastern University', 'Dec', '2021', '', 'MS in Information Systems', '719-235-1235', 'shwerokade@gmail.com', '']\n",
      "['C:\\\\Users\\\\rtd91\\\\Data\\\\resume_samples\\\\StevenZhang.pdf', 'Steven Zhang ', 'H.', 'Pepperdine Graziadio Business School', 'Dec', '2021', '', 'MS in Business Analytics', '949-735-0792', \"['haoxiang.zhang@pepperdine.edu']\", '']\n",
      "['C:\\\\Users\\\\rtd91\\\\Data\\\\resume_samples\\\\SushantPatankar.pdf', 'Sushant Patankar', '', 'Colorado State University', 'Dec', '2021', '', 'MS in computer science', '(970)-232-6261', \"['patankarsushant@gmail.com']\", '']\n",
      "['C:\\\\Users\\\\rtd91\\\\Data\\\\resume_samples\\\\TanviTembhurne.pdf', 'Tanvi Tembhurne', '', 'Northeastern University', 'Dec', '2021', '', 'MS in Information Ssytems', '972-339-0664', \"['tembhurne.t@northeastern.edu']\", '']\n",
      "['C:\\\\Users\\\\rtd91\\\\Data\\\\resume_samples\\\\Tzu-YaoLin.pdf', 'TZUYAO Lin', '', 'Duke University', 'Dec', '2021', '', 'MS in Engineering Management', '919-690-9788', 'q0919239042@gmail.com', '']\n",
      "['C:\\\\Users\\\\rtd91\\\\Data\\\\resume_samples\\\\UdayHiremath.pdf', 'UDAY hiremath', 'm', 'New York University', 'Dec', '2021', '', 'MS in Management of Technology', '5512270644', 'umh205@nyu.edu', '']\n",
      "['C:\\\\Users\\\\rtd91\\\\Data\\\\resume_samples\\\\VanisaAchakulvisut.pdf', 'Vanisa ACHAKULVISUT', '', 'University of Illinois At Chicago', 'Dec', '2021', '', 'MS in Business Analytics', '224-999-3633', 'mai.vanisa@gmail.com', '']\n",
      "['C:\\\\Users\\\\rtd91\\\\Data\\\\resume_samples\\\\VictorJohnson.pdf', 'VICTOR JOHNSON, JR', '', 'Northern Illinois University', 'Aug', '2021', '', 'Master of Science in Data Analytics', '708-530-2495', 'va.johnson2@gmail.com', '']\n",
      "['C:\\\\Users\\\\rtd91\\\\Data\\\\resume_samples\\\\WenmoSun.pdf', 'Wenmo Sun', '', 'The university of Arizona', 'December', '2021', '', 'MS Information Science', '(520)548-2523', 'wmsun@email.arizona.edu |', '']\n",
      "['C:\\\\Users\\\\rtd91\\\\Data\\\\resume_samples\\\\XiaolanLi.pdf', 'Xiaolan Li', '', 'Yeshiva University', 'December', '2021', '', 'MS in Artificial Intelligence', '626-265-6973', 'xiaolancara@gmail.com', '']\n",
      "['C:\\\\Users\\\\rtd91\\\\Data\\\\resume_samples\\\\YichiQian.pdf', 'Yichi Qian', 'Oliver', 'University of Rochester', 'December', '2021', '', 'Master of Science in Data Science', '814-826-8103', \"['oliverqian0510@gmail.com']\", '']\n",
      "['C:\\\\Users\\\\rtd91\\\\Data\\\\resume_samples\\\\YichuanHong.pdf', 'Yichuan Hong', '', 'Columbia University', '', '2021', '', 'Master of Science in Applied Analutics', '(860) 617-9847', \"['clementh97@gmail.com']\", '']\n",
      "['C:\\\\Users\\\\rtd91\\\\Data\\\\resume_samples\\\\YifanLiu.pdf', 'Yifan Liu', '', 'University of Delaware', 'May', '2021', '', 'Master of Science in Statistics', '302-807-1729', \"['yifanliu@udel.edu']\", '']\n",
      "['C:\\\\Users\\\\rtd91\\\\Data\\\\resume_samples\\\\YiruWen.pdf', 'Yiru Wen', 'Ruth', 'Rady School of Management, UC San Diago', '12', '2021', '', 'Master of Science in Business Analytics', '(405) 551-5277', \"['ruth.wen@rady.ucsd.edu']\", '']\n",
      "['C:\\\\Users\\\\rtd91\\\\Data\\\\resume_samples\\\\YunhanDong.pdf', 'Yanhan Dong', 'Zoe', 'Columbia University', 'December', '2021', '', 'MS in computer and information science - applied analytics', '(319) 512-0421', \"['yd2578@columbia.edu']\", '']\n",
      "['C:\\\\Users\\\\rtd91\\\\Data\\\\resume_samples\\\\ZhengyangZhang.pdf', 'Zhengyang Zhang', '', 'Stevens Institute of Technology', 'December', '2020', '', 'matser of science in data science', '(646) 531-8942', \"['zzhan67@stevens.edu']\", '']\n",
      "['C:\\\\Users\\\\rtd91\\\\Data\\\\resume_samples\\\\ZhuohanZhang.pdf', 'Zhuohan Zhang', '', 'Columbia University', 'December', '2021', '', 'Master of Arts, Statistics', '(617) 763-4795', \"['zz2751@columbia.edu']\", '']\n",
      "['C:\\\\Users\\\\rtd91\\\\Data\\\\resume_samples\\\\ZixiaoHuang.pdf', 'Zixiao Huang', '', 'Northwestern Univeristy', 'December', '2021', '', 'Master of Science in Analytics', '615-977-2160', \"['zixiao.huang.74@gmail.com']\", '']\n",
      "['C:\\\\Users\\\\rtd91\\\\Data\\\\resume_samples\\\\ZiyongWang.pdf', 'Ziyong Wang', 'Willis', 'Robert H. Smith School of Business, University of Maryland', 'December', '2021', '', 'Master of Quantitative Finance', '(667) 216-6448', \"['zwang160@terpmail.umd.edu']\", '']\n"
     ]
    }
   ],
   "source": [
    "import csv\n",
    "\n",
    "with open('Data\\ground_truth.csv',encoding = 'latin1') as csv_file:\n",
    "    csv_reader = csv.reader(csv_file, delimiter=',')\n",
    "    line_count = 0\n",
    "    for row in csv_reader:\n",
    "        print(row)"
   ]
  },
  {
   "cell_type": "code",
   "execution_count": 48,
   "metadata": {},
   "outputs": [
    {
     "data": {
      "text/plain": [
       "176          yd2578@columbia.edu\n",
       "177          zzhan67@stevens.edu\n",
       "178          zz2751@columbia.edu\n",
       "179    zixiao.huang.74@gmail.com\n",
       "180    zwang160@terpmail.umd.edu\n",
       "Name: email, dtype: object"
      ]
     },
     "execution_count": 48,
     "metadata": {},
     "output_type": "execute_result"
    }
   ],
   "source": []
  },
  {
   "cell_type": "code",
   "execution_count": 87,
   "metadata": {},
   "outputs": [
    {
     "data": {
      "text/html": [
       "<div>\n",
       "<style scoped>\n",
       "    .dataframe tbody tr th:only-of-type {\n",
       "        vertical-align: middle;\n",
       "    }\n",
       "\n",
       "    .dataframe tbody tr th {\n",
       "        vertical-align: top;\n",
       "    }\n",
       "\n",
       "    .dataframe thead th {\n",
       "        text-align: right;\n",
       "    }\n",
       "</style>\n",
       "<table border=\"1\" class=\"dataframe\">\n",
       "  <thead>\n",
       "    <tr style=\"text-align: right;\">\n",
       "      <th></th>\n",
       "      <th>filenames</th>\n",
       "      <th>name</th>\n",
       "      <th>middle name</th>\n",
       "      <th>education</th>\n",
       "      <th>graduation month</th>\n",
       "      <th>graduation_year</th>\n",
       "      <th>Degree</th>\n",
       "      <th>Major</th>\n",
       "      <th>Contact</th>\n",
       "      <th>email</th>\n",
       "      <th>Comments</th>\n",
       "    </tr>\n",
       "  </thead>\n",
       "  <tbody>\n",
       "    <tr>\n",
       "      <th>0</th>\n",
       "      <td>C:\\Users\\rtd91\\Data\\resume_samples\\721091408_p...</td>\n",
       "      <td>Karthik Ramanarayana</td>\n",
       "      <td>NaN</td>\n",
       "      <td>{'University of Maryland'}</td>\n",
       "      <td>Dec</td>\n",
       "      <td>2021</td>\n",
       "      <td>Master</td>\n",
       "      <td>Data Science</td>\n",
       "      <td>(410)-292-1151</td>\n",
       "      <td>karthikr2194@gmail.com</td>\n",
       "      <td>NaN</td>\n",
       "    </tr>\n",
       "    <tr>\n",
       "      <th>1</th>\n",
       "      <td>C:\\Users\\rtd91\\Data\\resume_samples\\821101104_p...</td>\n",
       "      <td>HARSH PUNDIR</td>\n",
       "      <td>NaN</td>\n",
       "      <td>{'Robert H. Smith School of Business, Universi...</td>\n",
       "      <td>August</td>\n",
       "      <td>2020</td>\n",
       "      <td>Master of Science</td>\n",
       "      <td>Business Analytics</td>\n",
       "      <td>240.423.5453</td>\n",
       "      <td>hpundir@umd.edu</td>\n",
       "      <td>Instead of \"-\", \".\" in contact</td>\n",
       "    </tr>\n",
       "    <tr>\n",
       "      <th>2</th>\n",
       "      <td>C:\\Users\\rtd91\\Data\\resume_samples\\821101136_p...</td>\n",
       "      <td>TIRTH PATEL</td>\n",
       "      <td>NaN</td>\n",
       "      <td>{'The University of Texas at Dallas'}</td>\n",
       "      <td>May</td>\n",
       "      <td>2021</td>\n",
       "      <td>Master of science</td>\n",
       "      <td>Business Analytics</td>\n",
       "      <td>469-370-9437</td>\n",
       "      <td>tirth2410@gmail.com</td>\n",
       "      <td>NaN</td>\n",
       "    </tr>\n",
       "    <tr>\n",
       "      <th>3</th>\n",
       "      <td>C:\\Users\\rtd91\\Data\\resume_samples\\821110120.pdf</td>\n",
       "      <td>Akanksha Bapna</td>\n",
       "      <td>NaN</td>\n",
       "      <td>{'University of Maryland'}</td>\n",
       "      <td>Dec</td>\n",
       "      <td>2021</td>\n",
       "      <td>Master</td>\n",
       "      <td>Marketing Analytics</td>\n",
       "      <td>NaN</td>\n",
       "      <td></td>\n",
       "      <td>No email/ contact in resume</td>\n",
       "    </tr>\n",
       "    <tr>\n",
       "      <th>4</th>\n",
       "      <td>C:\\Users\\rtd91\\Data\\resume_samples\\821110440_M...</td>\n",
       "      <td>Mythri Partha</td>\n",
       "      <td>NaN</td>\n",
       "      <td>{'University of Houston'}</td>\n",
       "      <td>May</td>\n",
       "      <td>2020</td>\n",
       "      <td>B.S.</td>\n",
       "      <td>Chemistry</td>\n",
       "      <td>(281) 725-7080</td>\n",
       "      <td>mythripartha8@gmail.com</td>\n",
       "      <td>education in format start date - end date</td>\n",
       "    </tr>\n",
       "  </tbody>\n",
       "</table>\n",
       "</div>"
      ],
      "text/plain": [
       "                                           filenames                  name  \\\n",
       "0  C:\\Users\\rtd91\\Data\\resume_samples\\721091408_p...  Karthik Ramanarayana   \n",
       "1  C:\\Users\\rtd91\\Data\\resume_samples\\821101104_p...          HARSH PUNDIR   \n",
       "2  C:\\Users\\rtd91\\Data\\resume_samples\\821101136_p...           TIRTH PATEL   \n",
       "3   C:\\Users\\rtd91\\Data\\resume_samples\\821110120.pdf        Akanksha Bapna   \n",
       "4  C:\\Users\\rtd91\\Data\\resume_samples\\821110440_M...         Mythri Partha   \n",
       "\n",
       "  middle name                                          education  \\\n",
       "0         NaN                         {'University of Maryland'}   \n",
       "1         NaN  {'Robert H. Smith School of Business, Universi...   \n",
       "2         NaN              {'The University of Texas at Dallas'}   \n",
       "3         NaN                         {'University of Maryland'}   \n",
       "4         NaN                          {'University of Houston'}   \n",
       "\n",
       "  graduation month graduation_year             Degree                Major  \\\n",
       "0              Dec            2021             Master         Data Science   \n",
       "1           August            2020  Master of Science   Business Analytics   \n",
       "2              May            2021  Master of science   Business Analytics   \n",
       "3              Dec            2021             Master  Marketing Analytics   \n",
       "4              May            2020               B.S.            Chemistry   \n",
       "\n",
       "          Contact                    email  \\\n",
       "0  (410)-292-1151   karthikr2194@gmail.com   \n",
       "1    240.423.5453          hpundir@umd.edu   \n",
       "2    469-370-9437      tirth2410@gmail.com   \n",
       "3             NaN                            \n",
       "4  (281) 725-7080  mythripartha8@gmail.com   \n",
       "\n",
       "                                    Comments  \n",
       "0                                        NaN  \n",
       "1             Instead of \"-\", \".\" in contact  \n",
       "2                                        NaN  \n",
       "3                No email/ contact in resume  \n",
       "4  education in format start date - end date  "
      ]
     },
     "execution_count": 87,
     "metadata": {},
     "output_type": "execute_result"
    }
   ],
   "source": [
    "import re\n",
    "ground_truth = pd.read_csv(r\"Data\\ground_truth.csv\", encoding = 'latin1')\n",
    "# ground_truth = ground_truth.drop(\"Unnamed: 0\",axis=1)\n",
    "# ground_truth[\"graduation_year\"] = ground_truth[\"graduation_year\"].fillna(-1).astype(int)\n",
    "def parse_email(email_str):\n",
    "    email = re.findall(r'[\\w.+-]+@[\\w-]+\\.[\\w.-]+', email_str)\n",
    "    if len(email)>0:\n",
    "        return email[0]\n",
    "    else:\n",
    "        return ''\n",
    "\n",
    "\n",
    "ground_truth['email'] = ground_truth['email'].apply(lambda x: parse_email(x))\n",
    "ground_truth.head()"
   ]
  },
  {
   "cell_type": "code",
   "execution_count": 88,
   "metadata": {},
   "outputs": [
    {
     "data": {
      "text/html": [
       "<div>\n",
       "<style scoped>\n",
       "    .dataframe tbody tr th:only-of-type {\n",
       "        vertical-align: middle;\n",
       "    }\n",
       "\n",
       "    .dataframe tbody tr th {\n",
       "        vertical-align: top;\n",
       "    }\n",
       "\n",
       "    .dataframe thead th {\n",
       "        text-align: right;\n",
       "    }\n",
       "</style>\n",
       "<table border=\"1\" class=\"dataframe\">\n",
       "  <thead>\n",
       "    <tr style=\"text-align: right;\">\n",
       "      <th></th>\n",
       "      <th>name</th>\n",
       "      <th>email</th>\n",
       "      <th>mobile_number</th>\n",
       "      <th>skills</th>\n",
       "      <th>college_name</th>\n",
       "      <th>degree</th>\n",
       "      <th>designation</th>\n",
       "      <th>experience</th>\n",
       "      <th>company_names</th>\n",
       "      <th>no_of_pages</th>\n",
       "      <th>total_experience</th>\n",
       "      <th>text</th>\n",
       "    </tr>\n",
       "  </thead>\n",
       "  <tbody>\n",
       "    <tr>\n",
       "      <th>0</th>\n",
       "      <td>Karthik Ramanarayana</td>\n",
       "      <td>karthikr2194@gmail.com</td>\n",
       "      <td>292-1151</td>\n",
       "      <td>[Communication, Hbase, Statistics, Matrix, Tab...</td>\n",
       "      <td>None</td>\n",
       "      <td></td>\n",
       "      <td>None</td>\n",
       "      <td>[Data Intern, Index Analytics LLC, Baltimore, MD]</td>\n",
       "      <td>None</td>\n",
       "      <td>1</td>\n",
       "      <td>0.00</td>\n",
       "      <td>Karthik Ramanarayana \\n2001 Eastern Avenue, Ba...</td>\n",
       "    </tr>\n",
       "    <tr>\n",
       "      <th>1</th>\n",
       "      <td>HARSH PUNDIR</td>\n",
       "      <td>hpundir@umd.edu</td>\n",
       "      <td>240.423.5453</td>\n",
       "      <td>[Algorithms, Six sigma, Tableau, Big data, Pay...</td>\n",
       "      <td>None</td>\n",
       "      <td>Master of Science in Business Analytics</td>\n",
       "      <td>None</td>\n",
       "      <td>[SMSA (  VP, Operations), ■  Help with the pla...</td>\n",
       "      <td>None</td>\n",
       "      <td>1</td>\n",
       "      <td>0.00</td>\n",
       "      <td>HARSH PUNDIR \\n3425 Tulane Dr.    Hyattsville,...</td>\n",
       "    </tr>\n",
       "    <tr>\n",
       "      <th>2</th>\n",
       "      <td>TX Master</td>\n",
       "      <td>tirth2410@gmail.com</td>\n",
       "      <td>469-370-9437</td>\n",
       "      <td>[Statistics, Algorithms, Tableau, Statistical ...</td>\n",
       "      <td>None</td>\n",
       "      <td></td>\n",
       "      <td>None</td>\n",
       "      <td>[Web Analyst, The University of Texas at Dalla...</td>\n",
       "      <td>None</td>\n",
       "      <td>1</td>\n",
       "      <td>2.83</td>\n",
       "      <td>TIRTH PATEL \\nHolbrook, NY | tirth2410@gmail.c...</td>\n",
       "    </tr>\n",
       "    <tr>\n",
       "      <th>3</th>\n",
       "      <td>Akanksha Bapna</td>\n",
       "      <td>None</td>\n",
       "      <td>None</td>\n",
       "      <td>[Retail, Health, Strategy, Ibm, Budget, Tablea...</td>\n",
       "      <td>None</td>\n",
       "      <td>Bachelors in Technology, Chemical Engineering</td>\n",
       "      <td>None</td>\n",
       "      <td>[The Editorial Board, Head of Logistics, Oct 2...</td>\n",
       "      <td>None</td>\n",
       "      <td>2</td>\n",
       "      <td>3.92</td>\n",
       "      <td>Akanksha Bapna\\nabapna.com ● Email ● Personal ...</td>\n",
       "    </tr>\n",
       "    <tr>\n",
       "      <th>4</th>\n",
       "      <td>Mythri Partha</td>\n",
       "      <td>mythripartha8@gmail.com</td>\n",
       "      <td>725-7080</td>\n",
       "      <td>[Health, Numpy, Email, Access, Pandas, Enginee...</td>\n",
       "      <td>None</td>\n",
       "      <td></td>\n",
       "      <td>None</td>\n",
       "      <td>[InventXYZ, Data Engineering Intern, Aug. 2015...</td>\n",
       "      <td>None</td>\n",
       "      <td>1</td>\n",
       "      <td>0.75</td>\n",
       "      <td>Mythri Partha \\nHouston, TX | Phone: (281) 725...</td>\n",
       "    </tr>\n",
       "    <tr>\n",
       "      <th>...</th>\n",
       "      <td>...</td>\n",
       "      <td>...</td>\n",
       "      <td>...</td>\n",
       "      <td>...</td>\n",
       "      <td>...</td>\n",
       "      <td>...</td>\n",
       "      <td>...</td>\n",
       "      <td>...</td>\n",
       "      <td>...</td>\n",
       "      <td>...</td>\n",
       "      <td>...</td>\n",
       "      <td>...</td>\n",
       "    </tr>\n",
       "    <tr>\n",
       "      <th>177</th>\n",
       "      <td>Columbia University</td>\n",
       "      <td>yd2578@columbia.edu·(319)</td>\n",
       "      <td>512-0421</td>\n",
       "      <td>[Sqlalchemy, Ibm, Workflow, Tableau, P, Nosql,...</td>\n",
       "      <td>None</td>\n",
       "      <td>M.S. in Computer and Information Science</td>\n",
       "      <td>None</td>\n",
       "      <td>[Streaming Data Retrieval System              ...</td>\n",
       "      <td>None</td>\n",
       "      <td>1</td>\n",
       "      <td>0.00</td>\n",
       "      <td>yd2578@columbia.edu·(319) 512-0421·www.zoedong...</td>\n",
       "    </tr>\n",
       "    <tr>\n",
       "      <th>178</th>\n",
       "      <td>Jersey City</td>\n",
       "      <td>zzhan67@stevens.edu</td>\n",
       "      <td>531-8942</td>\n",
       "      <td>[Communication, Algorithms, Statistics, Tablea...</td>\n",
       "      <td>None</td>\n",
       "      <td></td>\n",
       "      <td>None</td>\n",
       "      <td>[Utegration LLC, Houston, TX, Data Analytics I...</td>\n",
       "      <td>None</td>\n",
       "      <td>1</td>\n",
       "      <td>0.00</td>\n",
       "      <td>Jersey City, NJ                               ...</td>\n",
       "    </tr>\n",
       "    <tr>\n",
       "      <th>179</th>\n",
       "      <td>Columbia University</td>\n",
       "      <td>zz2751@columbia.edu</td>\n",
       "      <td>763-4795</td>\n",
       "      <td>[Health, Statistics, Data analytics, Tableau, ...</td>\n",
       "      <td>None</td>\n",
       "      <td>Bachelor of Arts, Mathematics (Statistics), Ec...</td>\n",
       "      <td>None</td>\n",
       "      <td>[Project on Covid Social Media Data           ...</td>\n",
       "      <td>None</td>\n",
       "      <td>1</td>\n",
       "      <td>0.75</td>\n",
       "      <td>Zhuohan Zhang \\n (617) 763-4795 | zz2751@colum...</td>\n",
       "    </tr>\n",
       "    <tr>\n",
       "      <th>180</th>\n",
       "      <td>Zixiao Huang</td>\n",
       "      <td>zixiao.huang.74@gmail.com</td>\n",
       "      <td>615-977-2160</td>\n",
       "      <td>[Algorithms, Statistics, Tableau, Startup, Big...</td>\n",
       "      <td>None</td>\n",
       "      <td>Master of Science in Analytics</td>\n",
       "      <td>None</td>\n",
       "      <td>[Stealth Mode Startup, Deep Learning Innovatio...</td>\n",
       "      <td>None</td>\n",
       "      <td>1</td>\n",
       "      <td>1.25</td>\n",
       "      <td>Zixiao Huang \\n\\nzixiao.huang.74@gmail.com | 6...</td>\n",
       "    </tr>\n",
       "    <tr>\n",
       "      <th>181</th>\n",
       "      <td>Stream Bank</td>\n",
       "      <td>zwang160@terpmail.umd.edu</td>\n",
       "      <td>216-6448</td>\n",
       "      <td>[Communication, Strategy, Statistics, Tableau,...</td>\n",
       "      <td>None</td>\n",
       "      <td></td>\n",
       "      <td>[Investment Manager Assistant]</td>\n",
       "      <td>[FRM designation. CFA level one exam passed., ...</td>\n",
       "      <td>None</td>\n",
       "      <td>1</td>\n",
       "      <td>0.00</td>\n",
       "      <td>Ziyong “Willis” Wang \\n(667) 216-6448 ● 5504 S...</td>\n",
       "    </tr>\n",
       "  </tbody>\n",
       "</table>\n",
       "<p>182 rows × 12 columns</p>\n",
       "</div>"
      ],
      "text/plain": [
       "                     name                      email mobile_number  \\\n",
       "0    Karthik Ramanarayana     karthikr2194@gmail.com      292-1151   \n",
       "1            HARSH PUNDIR            hpundir@umd.edu  240.423.5453   \n",
       "2               TX Master        tirth2410@gmail.com  469-370-9437   \n",
       "3          Akanksha Bapna                       None          None   \n",
       "4           Mythri Partha    mythripartha8@gmail.com      725-7080   \n",
       "..                    ...                        ...           ...   \n",
       "177   Columbia University  yd2578@columbia.edu·(319)      512-0421   \n",
       "178           Jersey City        zzhan67@stevens.edu      531-8942   \n",
       "179   Columbia University        zz2751@columbia.edu      763-4795   \n",
       "180          Zixiao Huang  zixiao.huang.74@gmail.com  615-977-2160   \n",
       "181           Stream Bank  zwang160@terpmail.umd.edu      216-6448   \n",
       "\n",
       "                                                skills college_name  \\\n",
       "0    [Communication, Hbase, Statistics, Matrix, Tab...         None   \n",
       "1    [Algorithms, Six sigma, Tableau, Big data, Pay...         None   \n",
       "2    [Statistics, Algorithms, Tableau, Statistical ...         None   \n",
       "3    [Retail, Health, Strategy, Ibm, Budget, Tablea...         None   \n",
       "4    [Health, Numpy, Email, Access, Pandas, Enginee...         None   \n",
       "..                                                 ...          ...   \n",
       "177  [Sqlalchemy, Ibm, Workflow, Tableau, P, Nosql,...         None   \n",
       "178  [Communication, Algorithms, Statistics, Tablea...         None   \n",
       "179  [Health, Statistics, Data analytics, Tableau, ...         None   \n",
       "180  [Algorithms, Statistics, Tableau, Startup, Big...         None   \n",
       "181  [Communication, Strategy, Statistics, Tableau,...         None   \n",
       "\n",
       "                                                degree  \\\n",
       "0                                                        \n",
       "1              Master of Science in Business Analytics   \n",
       "2                                                        \n",
       "3        Bachelors in Technology, Chemical Engineering   \n",
       "4                                                        \n",
       "..                                                 ...   \n",
       "177           M.S. in Computer and Information Science   \n",
       "178                                                      \n",
       "179  Bachelor of Arts, Mathematics (Statistics), Ec...   \n",
       "180                     Master of Science in Analytics   \n",
       "181                                                      \n",
       "\n",
       "                        designation  \\\n",
       "0                              None   \n",
       "1                              None   \n",
       "2                              None   \n",
       "3                              None   \n",
       "4                              None   \n",
       "..                              ...   \n",
       "177                            None   \n",
       "178                            None   \n",
       "179                            None   \n",
       "180                            None   \n",
       "181  [Investment Manager Assistant]   \n",
       "\n",
       "                                            experience company_names  \\\n",
       "0    [Data Intern, Index Analytics LLC, Baltimore, MD]          None   \n",
       "1    [SMSA (  VP, Operations), ■  Help with the pla...          None   \n",
       "2    [Web Analyst, The University of Texas at Dalla...          None   \n",
       "3    [The Editorial Board, Head of Logistics, Oct 2...          None   \n",
       "4    [InventXYZ, Data Engineering Intern, Aug. 2015...          None   \n",
       "..                                                 ...           ...   \n",
       "177  [Streaming Data Retrieval System              ...          None   \n",
       "178  [Utegration LLC, Houston, TX, Data Analytics I...          None   \n",
       "179  [Project on Covid Social Media Data           ...          None   \n",
       "180  [Stealth Mode Startup, Deep Learning Innovatio...          None   \n",
       "181  [FRM designation. CFA level one exam passed., ...          None   \n",
       "\n",
       "     no_of_pages  total_experience  \\\n",
       "0              1              0.00   \n",
       "1              1              0.00   \n",
       "2              1              2.83   \n",
       "3              2              3.92   \n",
       "4              1              0.75   \n",
       "..           ...               ...   \n",
       "177            1              0.00   \n",
       "178            1              0.00   \n",
       "179            1              0.75   \n",
       "180            1              1.25   \n",
       "181            1              0.00   \n",
       "\n",
       "                                                  text  \n",
       "0    Karthik Ramanarayana \\n2001 Eastern Avenue, Ba...  \n",
       "1    HARSH PUNDIR \\n3425 Tulane Dr.    Hyattsville,...  \n",
       "2    TIRTH PATEL \\nHolbrook, NY | tirth2410@gmail.c...  \n",
       "3    Akanksha Bapna\\nabapna.com ● Email ● Personal ...  \n",
       "4    Mythri Partha \\nHouston, TX | Phone: (281) 725...  \n",
       "..                                                 ...  \n",
       "177  yd2578@columbia.edu·(319) 512-0421·www.zoedong...  \n",
       "178  Jersey City, NJ                               ...  \n",
       "179  Zhuohan Zhang \\n (617) 763-4795 | zz2751@colum...  \n",
       "180  Zixiao Huang \\n\\nzixiao.huang.74@gmail.com | 6...  \n",
       "181  Ziyong “Willis” Wang \\n(667) 216-6448 ● 5504 S...  \n",
       "\n",
       "[182 rows x 12 columns]"
      ]
     },
     "execution_count": 88,
     "metadata": {},
     "output_type": "execute_result"
    }
   ],
   "source": [
    "pyres_df"
   ]
  },
  {
   "cell_type": "code",
   "execution_count": 91,
   "metadata": {},
   "outputs": [
    {
     "name": "stdout",
     "output_type": "stream",
     "text": [
      "['Karthik Ramanarayana', 'HARSH PUNDIR', 'TIRTH PATEL', 'Akanksha Bapna', 'Mythri Partha', 'Qizhe Wang', 'RACHAN BHOOSHI', 'RAGHUVEERA MADIREDDY', 'SAIDA MUKTAR', 'Akash Patel', 'AKSHARA ARCOT', 'Alexandra Manetas', 'Pranav Gulghane', 'Wanting Lu', 'Manaswini Nagaraj', 'MOHIT MANJARIA', 'Yuchen Xie', 'Dimple Mehra', 'Indupriya Kompi', 'James Domingo', 'ANYA PATEL', 'Ryan Goodwin', 'Mayank Dubey', 'ABHINAY NAGULAPALLI', 'Noah Mattheis', 'Abhilash Rajaram', 'Adam Dinser', 'ADEOLA ADESOBA', 'AJAY MANOHARAN', 'Akshay Kajale', 'Alexander Friend', 'Amar Jha', 'Amol Agrawal', 'Andrew Lin', 'ANIRUDH SURAM', 'ANNAPOORNA GOPALAKRISHNA', 'Antton Wilbanks', 'ANYA PATEL', 'Archit Prem', 'Ashvi Soni', 'BAIYU CHEN', 'BHAVIKA CHAVDA', 'BOKYEUNG KIM', 'BON TRINH', 'Buka Cakrawala', 'Andrew Decker', 'C:\\\\Users\\\\rtd91\\\\Data\\\\resume_samples\\\\C01-21120201_Jiayue_Fei.pdf', 'Cahyarini (Crystal) Hariga', 'Carlos Perez', 'Cassin Edwin', 'CHENGWEI CHEN', 'CHETNA KHANNA', 'Dhruv Parikh', 'Dhwani Gandhi', 'Dimple Mehra', 'Divya Manku', 'Elijah Hall', 'Evan JONES', 'EVAN JOYCE', 'Gali Sabyr', 'GRISHMA PARAJULI', 'Hamza Abdelghani', 'Indupriya Kompi', 'Jairo Carreon', 'James Domingo', 'Stellar(Jialu) Xia', 'Jianbo Gu', 'Jiehong Liu', 'Jim Liu', 'JULIA XIA', 'KRISTIN CHEN ', 'KUNJ MITHAPARA', 'Lejian He', 'Manaswini Nagaraj', 'Manisha Patel', 'MASEN BACHLEDA', 'Matthew Holcombe', 'MAYURI LALWANI', 'Mikhail Tokarev', 'Mistere Abate', 'Mohammad Zarei', 'Mona Eslamijam', 'Nahian Siddique', 'NIDHI CHOVATIYA', 'NIKSON PANIGRAHI', 'PRATIK SATPUTE', 'PRAVEEN PANDEY', 'Adedamola Olawoye', 'Aditya Deshpande', 'Ali Majidian', 'ANKIT LADE', 'Anqi Cheng', 'Arbaaz Mohideen', 'Arunava Ray', 'ASHUTOSH SHINDE', 'BAH KONAN', 'Bala Harimani', 'BONFACE NJUGUNA', 'Chaeeun Lim', 'Chantelle Lim', 'CHITRANJAN JOSHI', 'Diego Burgos', 'ETHAN LAURENCEAU', 'GIRIJA BANDARU', 'Harshitha Prasad', 'HARSH PUNDIR', 'Hemanth Kodakandla', 'Isioma Ochia', 'JAY PANDYA', 'Jessica Rega', 'Jishan Ahmed', 'KALEB SHIKUR', 'Kanth Juvadi', 'Katherine Pearson', 'KRUTI ALLENKI', 'Kunjan Khatri', 'LEONEL FLORES', 'MAAZ SHAIKH ', 'Naina Grover ', 'Nasir Sarkar', 'Nate Tsegaw', 'Navina Sethi ', 'Rakshit Sinha ', 'REETIKA CHATURVEDI ', 'Rishitha Muddana ', 'Rohin Bhagavatula ', 'SAIDA MUKTAR ', 'Saivalini Durvasula ', 'Sai Malempati', 'Sanat Lal', 'Saumil Jariwala ', 'Shalin Shanghavi ', 'Siyu Tao', 'SOBANAA JAYAKUMAR ', 'Srishti Piplani ', 'Srushti Shah', 'Srinath Narayanan', 'Taegeun Ohe', 'TANISHK PARIHAR ', 'Tej Gottapu', 'Tezeswi Madarasu', 'TIA MOODY ', 'VIJAYALAKSHMI GIRIJALA ', 'WEI-CHEN, LU   ', '  Yann Tamraz', 'YENI PEREZ', 'YING LU ', 'Yingkun Wang', 'Yutong Tang ', 'Richie Lahoti  ', 'Ricky Lindsey', 'ROHITH MALLULA ', 'Ruoshi Zhao ', 'Rutvik Patel', 'Ryan Goodwin', 'Sahana Halady ', 'SAI KUMAR', 'Sam Song', 'Senthil Nathan', 'Sharmista Vemulapalli  ', 'Shian Chen ', 'Shreya Dharmarajan ', 'SHWETANK ROKADE  ', 'Steven Zhang ', 'Sushant Patankar', 'Tanvi Tembhurne', 'TZUYAO Lin', 'UDAY hiremath', 'Vanisa ACHAKULVISUT', 'VICTOR JOHNSON, JR', 'Wenmo Sun', 'Xiaolan Li', 'Yichi Qian', 'Yichuan Hong', 'Yifan Liu', 'Yiru Wen', 'Yanhan Dong', 'Zhengyang Zhang', 'Zhuohan Zhang', 'Zixiao Huang', 'Ziyong Wang'] ['Karthik Ramanarayana', 'HARSH PUNDIR', 'TX Master', 'Akanksha Bapna', 'Mythri Partha', 'Qizhe Wang', 'RACHAN VAMSI', 'RAGHUVEERA KARTHIK MADIREDDY', 'SAIDA MUKTAR', 'USA |', 'AKSHARA ARCOT', 'Alexandra Manetas', 'Pranav Premdas', 'Wanting Lu', 'Manaswini Nagaraj', 'NORTHEASTERN UNIVERSITY', 'Yuchen Xie', 'Dimple Mehra', 'Indupriya Kompi', 'James Renier', 'ANYA PATEL', 'Martin Goodwin', 'Mayank Dubey', 'ABHINAY NAGULAPALLI', 'Noah Mattheis', 'Abhilash Rajaram', 'Adam Dinser', 'ADEOLA ADESOBA', 'AJAY PRASATH', 'Akshay Kajale', 'ALEXANDER FRIEND', 'Amar Nath', 'Amol Agrawal', 'Andrew Yuchen', '\\uf095 \\uf0e1', 'ANNAPOORNA M', 'Antton Wilbanks', 'ANYA PATEL', 'Archit Prem', '| Linkedin', 'BAIYU CHEN', 'BHAVIKA CHAVDA', 'BOKYEUNG KIM', 'https://www.linkedin.com/in/bon-trinh/ EDUCATION', 'Buka Cakrawala', 'Andrew Decker', None, 'VA |', 'Carlos Perez', 'Cassin Thangam', 'CHENGWEI CHEN', 'CHETNA KHANNA', 'Dhruv Parikh', 'Dhwani Gandhi', 'Dimple Mehra', 'Divya Reddy Manku', 'Elijah James', 'EVAN W.', 'EVAN M. JOYCE', 'Gali Sabyr', 'GRISHMA PARAJULI', 'Hamza Abdelghani', 'Indupriya Kompi', 'Jairo Carreon', 'James Renier', 'EDUCATION Columbia', 'jianbogu@umich.edu +1', 'Jiehong Liu', '| github.com/cyliu657', 'JULIA XIA', '-9607 |', 'KUNJ MITHAPARA', 'Lejian He', 'Manaswini Nagaraj', 'Manisha Patel', 'MASEN BACHLEDA', 'Matthew Holcombe', 'MAYURI LALWANI', 'Mikhail Tokarev', 'Pepys Ln', 'Mohammad Zarei', 'Mona Eslamijam', 'Nahian Siddique', 'NIDHI CHOVATIYA', 'www.linkedin.com/in/niksnikson EDUCATION', 'PRATIK SATPUTE', 'PRAVEEN PANDEY', 'Broadmore Road', 'Aditya Deshpande', 'Education January', 'New York', 'Anqi Cheng', 'Arbaaz Mohideen', 'Arunava Ray', '| www.linkedin.com/in/ashinde8', 'BAH YANNICK', 'balamani@wayne.edu |', 'BONFACE NJUGUNA', 'Chaeeun “Michelle', 'Chantelle Lim', 'CHITRANJAN JOSHI', 'D i', 'ETHAN LAURENCEAU', 'GIRIJA BANDARU', 'Harshitha Prasad', 'HARSH PUNDIR', 'Hemanth Reddy', 'Data Science', '| linkedin.com/in/thejay', 'Jessica Rega', 'Jishan Ahmed', 'KALEB SHIKUR', 'Kanth Juvadi', 'Katherine Pearson', 'KRUTI GUPTA', 'Kunjan Devendra', 'github.com/leoflowers EDUCAT', '| LinkedIn', 'Naina Grover', 'Nasir U.', 'Nate Tsegaw', 'Navina Kaur', 'Rakshit Sinha', 'Ward Street', 'Rishitha Muddana', 'Rohin Bhagavatula', 'SAIDA MUKTAR', '| saivalini.durvasula@uconn.edu', 'Sai Sri', 'Sanat Lal', 'Saumil Sudhir', 'Saumil Sudhir', 'Shalin Shanghavi', 'Siyu Tao', 'SOBANAA JAYAKUMAR', None, '| Linkedin.com/in/srishtipiplani', 'Srushti Shah', '| tgohche@gmail.com', 'TANISHK PARIHAR', 'Tej Gottapu', 'Tezeswi Madarasu', 'TIA MOODY', 'VIJAYALAKSHMI GIRIJALA', 'LU Washington', 'Yann Tamraz', 'YENI PEREZ', 'ywang601@jh.edu |', 'YING LU', '20770| yutong@umd.edu|', 'Richie Lahoti', 'Ricky Donnell', 'ROHITH MALLULA', 'Ruoshi Zhao', 'Rutvik Patel', 'Martin Goodwin', 'San Jose', 'SAI KUMAR', 'Sam Song', 'Senthil Nathan', 'Sharmista Vemulapalli', 'Shian Chen', 'Shreya Dharmarajan', 'University of Mumbai', 'Steven H.', 'Sushant Patankar', 'Tanvi Tembhurne', '| linkedin.com/in/tzu-yao-lin-1656bb134', 'UDAY M', 'VANISA ACHAKULVISUT', 'State St.', '| Tucson', 'Xiaolan Li', 'Qian EDUCATION', 'Yichuan Hong', 'Marvin Dr.', '| www.linkedin.com/in/yiruwen', 'Columbia University', 'Jersey City', 'Columbia University', 'Zixiao Huang', 'Stream Bank']\n",
      "['karthikr2194@gmail.com', 'hpundir@umd.edu', 'tirth2410@gmail.com', '', 'mythripartha8@gmail.com', 'ziyaotingyu@gmail.com', 'rachan_vamsi.bhooshi@uconn.edu', 'rmadireddy1@student.gsu.edu', 'saidam1@umbc.edu', 'adp178@scarletmail.rutgers.edu', 'akshara@ou.edu', 'manetas.alexandra@gmail.com', 'pranavpremdasgulghane@gmail.com', 'luwinnie12@gmail.com', 'nagaraj.m@northeastern.edu', 'mohitmanjaria55333@gmail.com', 'yuchen724@ucla.edu', 'dimple8997@gmail.com', 'indupriyakompi@gmail.com', 'james.domingo@gatech.edu', 'anyampatel@gmail.com', 'rgoodwin1997@gmail.com', 'mayankdubey1996@gmail.com', 'abhinay.nagulapalli98@gmail.com', 'noahwkm@gmail.com', 'rajaram2@buffalo.edu', 'adam.m.dinser@gmail.com', 'atadesoba@gmail.com', 'amanoha3@ncsu.edu', 'akshay.kajale@sjsu.edu', 'afriend6874@gmail.com', 'jhaa@usc.edu', 'amolagrawal05@gmail.com', 'andrew.linlyc@gmail.com', 'arsuram99@gmail.com', 'annapoornagopalakrishna@gmail.com', 'wilbanks83@gmail.com', 'anyampatel@gmail.com', 'archit7@umd.edu', 'ashvi.y.soni@gmail.com', 'baiyu@wustl.edu', 'bhavika.chavda@gmail.com', 'bokyeung.kim1@gmail.com', 'bontrinh169@gmail.com', 'bcakrawa@ucsd.edu', 'eckan01@gettysburg.edu', '', 'chariga@brandeis.edu', 'arloshernesto.perez@outlook.com', 'cassinthangam4996@gmail.com', 'ccwiris@gmail.com', 'khanna.c@northeastern.edu', 'dhruv.parikh1998@gmail.com', 'dgandhi@syr.edu', 'dimple8997@gmail.com', 'dmmnr@mst.edu', 'elijahjameshall49@gmail.com', 'ejje2010@gmail.com', 'ejoyce74@gmail.com', 'ggabituly99@gmail.com', 'grishma.parajuli@drexel.edu', 'hamza.aghani@gmail.com', 'indupriyakompi@gmail.com', 'jairo.carreon03@gmail.com', 'james.domingo@gatech.edu', 'jx2360@columbia.edu', 'jianbogu@umich.edu', 'ljiehong@vt.edu', 'chen-yang.liu@outlook.com', 'yx2648@columbia.edu', 'jiatingchen0107@gmail.com', 'mithapara.k@northeastern.edu', 'leolejianhe@gmail.com', 'nagaraj.m@northeastern.edu', 'manishap2690@gmail.com', 'masenbachleda@gmail.com', 'mholcombe9@gmail.com', 'mayuri.lalwani123@gmail.com', 'liberty06071992@gmail.com', 'mta6203@uncw.edu', 'ei@ucsd.edu', 'mona.eslamijam@utdallas.edu', 'nahiansiddique10@gmail.com', 'nidhichovatiya12@gmail.com', 'panigrahi.n@northeastern.edu', 'pratik.sms@gmail.com', 'andey.pra@northeastern.edu', 'aolawoye@umd.edu', 'adeshpa1@umd.edu', 'amajidia@uncc.edu', 'ankitlade12@gmail.com', 'aqcheng7@gmail.com', 'amohidee@aggies.ncat.edu', 'arunava.ray13@gmail.com', 'ashinde8@stevens.edu', 'bk3591a@american.edu', 'balamani@wayne.edu', 'bnjugun1@students.towson.edu', 'clim43@terpmail.umd.edu', 'clim25@jhmi.edu', 'joshi.chitranjan@gmail.com', 'dibu24@gmail.com', 'ethan.laurenceau45@yahoo.com', 'gbandaru@usf.edu', 'harshitha.p@cvemail.com', 'hpundir@umd.edu', 'hkodakan@syr.edu', 'iochia@umd.edu', 'jpandya1997@gmail.com', 'rega202@gmail.com', 'jahmed@bgsu.edu', 'Kalebm1sales@gmail.com', 'ram.jdatascience@gmail.com', 'earson@slu.edu', 'krutiallenki@gmail.com', 'khatri.kun@northeastern.edu', 'leo.flores@nyu.edu', 'mzshaikh@syr.edu', 'ngrover4@jhu.edu', 'nasir2sarkar@gmail.com', 'tsegaw@protonmail.com', 'avina.kaur@gmail.com', 'rakshit.sinha@marylandsmith.umd.edu', 'ritzjob696@gmail.com', 'rishithamuddanaa@gmail.com', 'rohin.bhagavatula@marylandsmith.umd.edu', 'saidam1@umbc.edu', 'saivalini.durvasula@uconn.edu', 'saisri.mss@gmail.com', 'sanat.lal@gmail.com', 'sjariwa2@stevens.edu', 'sshanghavi.97@gmail.com', 'siyutb@gmail.com', 'sj4919a@american.edu', 'srishti.piplani10@gmail.com', 'srushti.shah.2630@gmail.com', 'csenath@gamil.com', 'tgohche@gmail.com', 'tanishk305@gmail.com', 'gottaputej@gmail.com', 'tezeswimadarasu0831@gmail.com', 'moodytia27@gmail.com', 'vijayalakshmi.girijala@gmail.com', 'gacktwww@gmail.com', 'yann.tamraz7@gmail.com', 'ms.yeni.a.perez@gmail.com', 'langellu@hotmail.com', 'ywang601@jh.edu', 'yutong@umd.edu', 'rlahoti@scu.edu', 'ricky@rickylindsey.tech', 'rohith19m@gmail.com', 'ruoshi@wustl.edu', 'rhpatel2000@gmail.com', 'rgoodwin1997@gmail.com', 'sahana.halady@sjsu.edu', 'sgheereddy@gmail.com', 'samsong974@gmail.com', 'msnathan55@yahoo.com', 'sharmiv1129@gmail.com', 'schen9@uchicago.edu', 'saishreya0298@gmail.com', 'shwerokade@gmail.com', 'haoxiang.zhang@pepperdine.edu', 'patankarsushant@gmail.com', 'tembhurne.t@northeastern.edu', 'q0919239042@gmail.com', 'umh205@nyu.edu', 'mai.vanisa@gmail.com', 'va.johnson2@gmail.com', 'wmsun@email.arizona.edu', 'xiaolancara@gmail.com', 'oliverqian0510@gmail.com', 'clementh97@gmail.com', 'yifanliu@udel.edu', 'ruth.wen@rady.ucsd.edu', 'yd2578@columbia.edu', 'zzhan67@stevens.edu', 'zz2751@columbia.edu', 'zixiao.huang.74@gmail.com', 'zwang160@terpmail.umd.edu'] ['karthikr2194@gmail.com', 'hpundir@umd.edu', 'tirth2410@gmail.com', None, 'mythripartha8@gmail.com', 'ziyaotingyu@gmail.com', 'rachan_vamsi.bhooshi@uconn.edu', 'rmadireddy1@student.gsu.edu|', 'saidam1@umbc.edu', 'adp178@scarletmail.rutgers.edu', 'akshara@ou.edu', 'manetas.alexandra@gmail.com', 'pranavpremdasgulghane@gmail.com', 'luwinnie12@gmail.com', 'nagaraj.m@northeastern.edu', 'mohitmanjaria55333@gmail.com', 'yuchen724@ucla.edu', 'dimple8997@gmail.com', 'indupriyakompi@gmail.com', 'james.domingo@gatech.edu', 'anyampatel@gmail.com', 'rgoodwin1997@gmail.com', 'mayankdubey1996@gmail.com', 'abhinay.nagulapalli98@gmail.com', 'noahwkm@gmail.com', 'rajaram2@buffalo.edu', 'adam.m.dinser@gmail.com', 'atadesoba@gmail.com', 'amanoha3@ncsu.edu|', 'akshay.kajale@sjsu.edu', 'afriend6874@gmail.com', 'jhaa@usc.edu', 'amolagrawal05@gmail.com', 'andrew.linlyc@gmail.com', 'arsuram99@gmail.com', 'annapoornagopalakrishna@gmail.com', 'Awilbanks83@gmail.com', 'anyampatel@gmail.com', 'archit7@umd.edu', 'ashvi.y.soni@gmail.com', 'baiyu@wustl.edu', 'bhavika.chavda@gmail.com', 'bokyeung.kim1@gmail.com', 'bontrinh169@gmail.com\\uf0bd608-724-2688', 'bcakrawa@ucsd.edu', 'Deckan01@gettysburg.edu', None, 'chariga@brandeis.edu', 'Carloshernesto.perez@outlook.com', 'cassinthangam4996@gmail.com', 'ccwiris@gmail.com', 'khanna.c@northeastern.edu', 'dhruv.parikh1998@gmail.com', 'dgandhi@syr.edu', 'dimple8997@gmail.com', 'dmmnr@mst.edu', 'elijahjameshall49@gmail.com', 'ejje2010@gmail.com', 'ejoyce74@gmail.com', 'ggabituly99@gmail.com', 'grishma.parajuli@drexel.edu', 'hamza.aghani@gmail.com', 'indupriyakompi@gmail.com', 'jairo.carreon03@gmail.com', 'james.domingo@gatech.edu', 'jx2360@columbia.edu', 'jianbogu@umich.edu', 'ljiehong@vt.edu', 'chen-yang.liu@outlook.com', 'yx2648@columbia.edu', 'jiatingchen0107@gmail.com', 'mithapara.k@northeastern.edu|', 'leolejianhe@gmail.com', 'nagaraj.m@northeastern.edu', 'manishap2690@gmail.com', 'masenbachleda@gmail.com', 'mholcombe9@gmail.com', 'mayuri.lalwani123@gmail.com', 'liberty06071992@gmail.com', 'mta6203@uncw.edu', 'ei@ucsd.edu|', 'mona.eslamijam@utdallas.edu', 'nahiansiddique10@gmail.com', 'nidhichovatiya12@gmail.com', 'panigrahi.n@northeastern.edu', 'pratik.sms@gmail.com', 'Pandey.pra@northeastern.edu', 'aolawoye@umd.edu', 'adeshpa1@umd.edu', 'amajidia@uncc.edu', 'ankitlade12@gmail.com', 'aqcheng7@gmail.com', 'amohidee@aggies.ncat.edu', 'arunava.ray13@gmail.com', 'ashinde8@stevens.edu', 'bk3591a@american.edu', 'balamani@wayne.edu', 'bnjugun1@students.towson.edu', 'clim43@terpmail.umd.edu', 'clim25@jhmi.edu', 'joshi.chitranjan@gmail.com', 'dibu24@gmail.com', None, 'gbandaru@usf.edu|', 'harshitha.p@cvemail.com', 'hpundir@umd.edu', 'hkodakan@syr.edu', 'iochia@umd.edu', 'jpandya1997@gmail.com', 'rega202@gmail.com', 'jahmed@bgsu.edu', 'Kalebm1sales@gmail.com', 'ram.jdatascience@gmail.com', 'Kate.A.Pearson@slu.edu', 'krutiallenki@gmail.com', 'khatri.kun@northeastern.edu', 'leo.flores@nyu.edu', 'mzshaikh@syr.edu', 'ngrover4@jhu.edu', 'nasir2sarkar@gmail.com', 'tsegaw@protonmail.com', 'Navina.kaur@gmail.com', 'rakshit.sinha@marylandsmith.umd.edu', 'ritzjob696@gmail.com', 'rishithamuddanaa@gmail.com|LinkedIn|GitHub', 'rohin.bhagavatula@marylandsmith.umd.edu', 'saidam1@umbc.edu', 'saivalini.durvasula@uconn.edu', 'saisri.mss@gmail.com', 'sanat.lal@gmail.com', 'sjariwa2@stevens.edu', 'sjariwa2@stevens.edu', 'sshanghavi.97@gmail.com', 'siyutb@gmail.com', 'sj4919a@american.edu', None, 'srishti.piplani10@gmail.com', 'srushti.shah.2630@gmail.com', 'tgohche@gmail.com', 'tanishk305@gmail.com', 'gottaputej@gmail.com', 'tezeswimadarasu0831@gmail.com', 'moodytia27@gmail.com', 'vijayalakshmi.girijala@gmail.com', 'gacktwww@gmail.com/', 'yann.tamraz7@gmail.com', 'ms.yeni.a.perez@gmail.com', 'ywang601@jh.edu', 'langellu@hotmail.com', 'yutong@umd.edu|', 'rlahoti@scu.edu,', 'ricky@rickylindsey.tech', 'rohith19m@gmail.com', 'ruoshi@wustl.edu', 'rhpatel2000@gmail.com', 'rgoodwin1997@gmail.com', 'sahana.halady@sjsu.edu', 'sgheereddy@gmail.com', 'samsong974@gmail.com', 'msnathan55@yahoo.com', 'sharmiv1129@gmail.com', 'schen9@uchicago.edu', 'saishreya0298@gmail.com|', 'shwerokade@gmail.com|', 'haoxiang.zhang@pepperdine.edu', 'patankarsushant@gmail.com', 'tembhurne.t@northeastern.edu', 'q0919239042@gmail.com', 'Umh205@nyu.edu', 'mai.vanisa@gmail.com', 'va.johnson2@gmail.com', 'wmsun@email.arizona.edu', 'xiaolancara@gmail.com', 'oliverqian0510@gmail.com', 'clementh97@gmail.com', 'yifanliu@udel.edu', 'ruth.wen@rady.ucsd.edu', 'yd2578@columbia.edu·(319)', 'zzhan67@stevens.edu', 'zz2751@columbia.edu', 'zixiao.huang.74@gmail.com', 'zwang160@terpmail.umd.edu']\n",
      "['(410)-292-1151', '240.423.5453', '469-370-9437', nan, '(281) 725-7080', '+1(302)-690-9388 ', '(475) 685 0166', '240-713-8296', '443-833-6344', '+1 4845387112', '+1 (405) -761-7041', '630.818.6275', '14695140740', '(559) 387-0880', '(617) 818-4953', '\"+18572077337\"', '949-413-2863', '\"+1-(312-358-1359)\"', '+1(857)-701-6039', '(706) 305-6369', '805 453 1532', '(910) 547-7027', '+1 571- 474-9095', '(571) 752-8188', '240.490.0733', '7162929981', '(720) 560-3886', '(423) 741-5160', '+1 (919)-637-2246', '+1 669-278-8855', '(949) 441-8713', '(213) 462-8044', '404-271-4401', '678-707-0060', '5087175999', '440-990-8497', '+1 910.238.0756', '805 453 1532', '+1 (571-430-8026)', '+1(202)823-8515', '631-305-9842', '(609) 271-1612', '(443) 379-9308', '608-724-2688', '2019 - 2020', '(443)-742-3540', nan, '+1 (857) 242-8583', '(760)694-5383', '1-909-313-9792', '(510)378-5561', '(631)-542-3150', '+1 213-464-8614', '+1(619)-430-6786', ' +1-(312-358-1359)', '573-202-0190', '(828)-750-4063', '(703) 939-1514', '(301) 525-4486', '+1(832)310-3195', '973-204-2812', '+1 301 979 3644', nan, '(619) 451-9507', '(706) 305-6369', '(917) 346 1107', '+1 (610)-704-9590', '(757)846-3898', '(+1)404-528-9521', '929-215-4334', '(202) 212 -9607', '(857) 308-6625', '(607) 262-6716', '(617) 818-4953', '774-994-4106', '847-346-6868', '409-926-9421', '(949) 609-9405', '+1 (541) 908-66-78', '214-680-4902', '(858)901-0001', 'mona.eslamijam@utdallas.edu', '(219) 308-6658', '(551) 263-8620', '5) 8573647484', '425-217-9815', '(857)-544-9465', '(301) -979-1538', '(240) 467-6901', nan, '1-660-238-1759', '(424)-542-3050', '(336) 615-4089', '+1 443-248-5326', '551-229-5711', '612-757-8182', '313-818-7830', '443 495 9539', '(202) 816-9446', '585.200.9095', '2678154518', '240-593-7400', '301-213-4286', '+1(813)5604825', '401 206 0439', '240.423.5453', '(315)-832-0730', '(202) 848-8552', '(978) 856-9350', '6179978035', '13179415746', '703 863 3338', '1(816)-974-3322', '314-996-9471', '1 (315)-403-5205', '617-510-8648', '(832) 462-3924', '(315)-992-5840', '206-643-7360', nan, '240-506-7317', '(475) 236-4763', '(301)-792-8228', '617.987.7863', '704-632-5708', '(201)779-7393', '443-833-6344', '551-226-3065', '+1 740 803 1957', '+1 2023909784', '201-744-1333', '(206) 581-1109', '6262383387', '(240) 906-1094', '(517) 488-9361', '+1 469-358-7814', '8045888568', '703-785-5459', '315-447-5338', '2672061097', '+1 332 234 5155', '(734) 341-3857', '(248)-672-5051', '202-322-8811', '202-929-8414', '443-535-5036', '(612) 434-3346', '858-247-9822', '(302)-482-5045', '9492413940', '(678) 790-9452', '+1 8578004080', '5185964295', '(224) 245-7197', '(910) 547-7027', '(669)210-2518', '12678819188', '408-431-5412', '91-8553247568', '5512968019', '(504) 250-3514', '(469)-456-5940', '719-235-1235', '949-735-0792', '(970)-232-6261', '972-339-0664', '919-690-9788', '5512270644', '224-999-3633', '708-530-2495', '(520)548-2523', '626-265-6973', '814-826-8103', '(860) 617-9847', '302-807-1729', '(405) 551-5277', '(319) 512-0421', '(646) 531-8942', '(617) 763-4795', '615-977-2160', '(667) 216-6448'] ['292-1151', '240.423.5453', '469-370-9437', None, '725-7080', '690-9388', '685 0166', '240-713-8296', '443-833-6344', '4845387112', '761-7041', '630.818.6275', '4695140740', '387-0880', '818-4953', '1857207733', '949-413-2863', '312-358-1359', '701-6039', '305-6369', '805 453 1532', '547-7027', '474-9095', '752-8188', '240.490.0733', '7162929981', '560-3886', '741-5160', '637-2246', '669-278-8855', '441-8713', '462-8044', '404-271-4401', '678-707-0060', '5087175999', '440-990-8497', '910.238.0756', '805 453 1532', '571-430-8026', '823-8515', '631-305-9842', '271-1612', '379-9308', '608-724-2688', None, '742-3540', None, '242-8583', '694-5383', '909-313-9792', '378-5561', '542-3150', '213-464-8614', '430-6786', '312-358-1359', '573-202-0190', '750-4063', '939-1514', '525-4486', '310-3195', '973-204-2812', '301 979 3644', '701-6039', '451-9507', '305-6369', '346 1107', '704-9590', '846-3898', '404-528-9521', '929-215-4334', None, '308-6625', '262-6716', '818-4953', '774-994-4106', '847-346-6868', '409-926-9421', '609-9405', '0607199', '214-680-4902', '901-0001', '021 2018', '308-6658', '263-8620', '8573647484', '425-217-9815', '544-9465', '979-1538', '467-6901', '9508120', '660-238-1759', '542-3050', '615-4089', '443-248-5326', '551-229-5711', '612-757-8182', '313-818-7830', '443 495 9539', '816-9446', '585.200.9095', '2678154518', '240-593-7400', None, '5604825', '401 206 0439', '240.423.5453', '832-0730', '848-8552', '856-9350', '6179978035', '1317941574', '703 863 3338', '974-3322', '314-996-9471', '403-5205', '617-510-8648', '462-3924', '992-5840', '206-643-7360', None, '240-506-7317', '236-4763', '792-8228', '617.987.7863', '704-632-5708', '779-7393', '443-833-6344', '551-226-3065', '740 803 1957', '2023909784', '201-744-1333', '201-744-1333', '581-1109', '6262383387', '906-1094', None, '488-9361', '469-358-7814', '703 785 5459', '315-447-5338', '2672061097', '332 234 5155', '341-3857', '672-5051', '202-322-8811', None, '443-535-5036', '858-247-9822', '434-3346', '482-5045', '949-241-3940', '790-9452', '8578004080', '5185964295', '245-7197', '547-7027', '210-2518', '1267881918', '408-431-5412', '8553247659', '5512968019', '250-3514', '456-5940', '719-235-1235', '735-0792', '232-6261', '972-339-0664', '690-9788', '5512270644', '999-3633', '708-530-2495', '548-2523', '626-265-6973', '814-826-8103', '617-9847', '302-897-1729', '551-5277', '512-0421', '531-8942', '763-4795', '615-977-2160', '216-6448']\n",
      "[\"{'University of Maryland'}\", \"{'Robert H. Smith School of Business, University of Maryland'}\", \"{'The University of Texas at Dallas'}\", \"{'University of Maryland'}\", \"{'University of Houston'}\", 'University of Delaware', 'UNIVERSITY OF CONNECTICUT', 'Georgia StateUniversity', 'set()', 'Rutgers, The State University', 'University of Oklahoma Norman', \"{'Northwestern University', 'DePaul University'}\", 'The University of Texas at Dallas', 'University of California', \"{'National University of Singapore- HPE', 'â\\x80¢  Northeastern University', 'â\\x80¢  REVA University'}\", \"{'Data Scientist/Research Assistant | Northeastern University', 'Graduate Teaching Assistant | Northeastern University'}\", \"{'University of California'}\", 'Illinois Institute of Technology', \"{'Visveswaraya Technological University', 'Northeastern University'}\", 'Georgia Institute of Technology', 'SYRACUSE  UNVERSITY', 'University of North Carolina Wilmington', 'George Mason University', \"{'University of Maryland'}\", 'University of Maryland', 'University at Buffalo', 'University Of Colorado', \"{'University of Ilorin', 'University of Arkansas at Little Rock'}\", 'North Carolina State University', 'San Jose State University', 'UNIVERSITY OF CALIFORNIA', \"{'University of Southern California'}\", 'Georgia Institute of Technology', 'Georgia Institute of Technology', 'University      of      Massachusetts', \"{'Cleveland State University'}\", 'University of North Carolina Wilmington', 'SYRACUSE  UNVERSITY', 'The University of Maryland', 'The George Washington University', 'STONY BROOK UNIVERSITY', \"{'University of Maryland', 'schools across 4 counties of California (Santa Clara'}\", 'University of Maryland', 'University of Wisconsin-Madison', 'University of California', 'Gettysburg College', 'set()', \"{'Brandeis University | Waltham'}\", 'Western Governors University', \"{'Anna University', 'The University of Texas at Dallas'}\", \"{'New York University', 'University of California Los Angeles'}\", 'Northeastern University', 'University of Southern California', 'Syracuse University', 'Illinois Institute of Technology', \"{'Jawaharlal Nehru Technological University', '  Missouri University of Science and Technology'}\", 'North Carolina State University', 'University of Maryland', 'University of Maryland', 'North American University', 'Drexel University', 'set()', \"{'Visveswaraya Technological University', 'Northeastern University'}\", 'University of California', 'University of California', 'Columbia University in the City of New York', \"{'â\\x9a«  Lehigh University', 'â\\x9a«  Tongji University', 'â\\x9a«  University of Michigan'}\", 'Virginia Tech', 'Georgia Institute of Technology', \"{'Columbia University'}\", 'THE GEORGE WASHINGTON UNIVERSITY', \"{'Master of Science in Industrial Engineering (GPA 3.89/4.0) | Northeastern University'}\", \"{'Sun Yat-sen University', 'Cornell University'}\", \"{'National University of Singapore- HPE', 'â\\x80¢  Northeastern University', 'â\\x80¢  REVA University'}\", 'The State University of New York at Buffalo', \"{'University of Nebraska'}\", \"{'University of Houston'}\", 'San Jose State University', 'Oregon State University Corvallis', 'UniversityofNorthCarolinaWilmington', 'UniversityofCalifornia', 'TheUniversityofTexasatDallas', \"{'Teaching Assistant | Purdue University', 'Research Assistant | Purdue University', 'Purdue University'}\", \"{'Gujarat Technological University'}\", ' Northeastern University', 'Seattle Pacific University', 'Northeastern University', 'University of Maryland', 'University of Maryland', \"{'                           January 2020 â\\x80\\x93 May 2022   University of North Carolina at Charlotte', 'September 2014 - September 2019  Islamic Azad University'}\", 'University of Central Missouri', \"{'University of Maryland'}\", 'North Carolina A&T State University', \"{'Johns Hopkins University'}\", 'Stevens Institute of Technology', 'American University', \"{'Anna University', 'Wayne State University'}\", 'Towson University', \"{' University of Maryland  College Park', 'â\\x97\\x8f  Roberta Ma Scholarship'}\", 'Johns Hopkins University School of Medicine', \"{'Drexel University'}\", 'University of Maryland', \"{'Howard University'}\", \"{'University of South Florida'}\", 'Kent State University at Kent', 'Robert H. Smith School of Business, University of Maryland', 'Syracuse University', 'University of Maryland, Robert H. Smith School of Business', \"{'University of Massachusetts Lowell', 'University of Mumbai'}\", 'George Mason University - Fairfax, VA', 'Bowling Green State University', 'University of Virginia', \"{'University of Central Missouri'}\", 'Saint Louis University', 'Syracuse University', 'Northeastern University', 'New York University', 'Syracuse University', 'Johns Hopkins Carey Business School', \"{'University of Maryland Baltimore County'}\", 'Flatiron School', 'University of Maryland, Robert H. Smith School of Business', 'University of Maryland, Robert H. Smith School of Business', 'Northeastern University', 'University of North Carolina at Charlotte', 'University of Maryland, Robert H. Smith School of Business', nan, 'University of Connecticut', 'Wright State University', 'George Washington University', 'Stevens Institute of Technology', 'San Francisco State University', 'University of Notre Dame', 'American University, Kogod School of Business', 'Michigan State University (MSU), Broad College of Business', nan, 'Virginia Commonwealth University', 'Georgia Institute of Technology', 'Syracuse University', 'Drexel University', 'Arizona State University', 'University of Toledo', 'Syracuse University', \"{'American University'\", 'Johns Hopkins University', 'Johns Hopkins University', 'University of St.Thomas', 'Johns Hopkins University', 'University of Maryland', 'Santa Clara University', \"{'Georgia State University'}\", 'Northeastern University', 'Washiongton University in St. Louis', 'Illinois Institute of Technology', 'University of North Carolina Wilmington', 'San Jose State University', 'University of Maryland Baltimore', 'Univeristy of Illinois - Urbana-Champaign', 'Indian Institute of Science', 'ROWAN University', 'University of Chicago', \"{'The University of Texas at Dallas}\", 'Northeastern University', 'Pepperdine Graziadio Business School', 'Colorado State University', 'Northeastern University', 'Duke University', 'New York University', 'University of Illinois At Chicago', 'Northern Illinois University', 'The university of Arizona', 'Yeshiva University', 'University of Rochester', 'Columbia University', 'University of Delaware', 'Rady School of Management, UC San Diago', 'Columbia University', 'Stevens Institute of Technology', 'Columbia University', 'Northwestern Univeristy', 'Robert H. Smith School of Business, University of Maryland'] [None, None, None, None, None, None, None, None, None, None, None, None, None, None, None, None, None, None, None, None, None, None, None, None, None, None, None, None, None, None, None, None, None, None, None, None, None, None, None, None, None, None, None, None, None, None, None, None, None, None, None, None, None, None, None, None, None, None, None, None, None, None, None, None, None, None, None, None, None, None, None, None, None, None, None, None, None, None, None, None, None, None, None, None, None, None, None, None, None, None, None, None, None, None, None, None, None, None, None, None, None, None, None, None, None, None, None, None, None, None, None, None, None, None, None, None, None, None, None, None, None, None, None, None, None, None, None, None, None, None, None, None, None, None, None, None, None, None, None, None, None, None, None, None, None, None, None, None, None, None, None, None, None, None, None, None, None, None, None, None, None, None, None, None, None, None, None, None, None, None, None, None, None, None, None, None, None, None, None, None, None, None]\n",
      "['Data Science', 'Business Analytics', 'Business Analytics', 'Marketing Analytics', 'Chemistry', 'Statistics', 'Business Analytics and Project Management', 'Data Science and Analytics', 'Data Science', 'Data Science', 'Data Science and Analytics', 'Data Science', 'Information Technology and Management', 'Applied Mathematics and Data Science', 'Data Science', 'Data Analytics', 'Applied Mathematics', 'Computer Science', 'Information Systems', 'Analytics', 'Applied Data Science', 'Data Science', 'Data Analytics', 'Data Science', 'Mathematics', 'Data Science', 'Computer Science', 'Information Science', 'Industial Engineering', 'Computer Science', 'Data Science', 'Applied Data Science', 'Computer Science', 'Analytics', 'Data Science', 'Computer Science and Information systems', 'Data Science', 'Applied Data Science', 'Business Analytics', 'Computer Science', 'Business Analytics', 'Data Science', 'Business Analytics', 'Computer Science', 'Mathematics, Computer Science', 'Mathematical Economics', nan, 'Business Analytics', 'Computer Science', 'Business Analytics', 'Data Analytics', 'Data Analytics', 'Electrical Engineering', 'Applied Data Science', 'Computer Science', 'Information Science and Technology', 'Applied Mathematics', 'Applied Mathematics', 'Machine Learning', 'SOFTWARE ENGINEERING AND COMPUTER NETWORKING', 'Mathematics', nan, 'Electronics and Communications', 'Computer Science and Engineering', 'Analytics', 'Data Science', 'IOE and ME', nan, 'Statistics', 'Operation Research', 'Data Science', 'Industrial Engineering', 'Transportation Systems Engineering', 'Data Science', 'Data Science', 'Business Analytics', 'Mathematics', 'Data Science', 'Computer Science', 'Data Science', 'MachineLearningandDataScience', 'Business Analytics', 'Electrical and Computer Engineering', 'Computer Science', 'Data Science', 'Data Analytics', 'Artificial Intelligence', 'Marketing Analytics', 'Business Analytics', 'Information Technology', 'Computer Science', 'Data Science and Analytics', 'Applied Mathematics', 'Data Science', ' Data Science', 'Data Analytics', 'Data Science and Business Analytics', 'Applied and Industrial Mathematics', 'Information Systems', 'Biomedical Engineering', 'Information Systems', 'Data Science', 'Bachalor of Science in Mathematics', 'MS in Business Analytics and Information Systems', 'Master\\x92s in Computer science in Computer Science', 'Master of Science in Business Analytics,', 'M.S. Applied Data Science', nan, 'Master of Science in Mechanical Engineering', 'Master of Science in Data Analytics Engineering', 'PHD IN DATA SCIENCE', 'Master of Science Data Science', 'Master\\x92s in computer science', 'Master of Science in Data Science', 'M.S. Applied Data Science', 'Master of Science in Data Science', 'MS in computer science', 'Master of Science in Applied Data Science', 'Master of Science in Business Analytics and Risk Management', 'Master\\x92s in Professional Studies in Data Science', 'Data Science Bootcamp Program', 'Master of Science in Information Systems', 'Master of Science in Information Systems', 'Masters in Daat Analytics in Statistical Modeling', 'Matser of Science in Data Science and Business Analytics', 'Master of Business Analytics', 'ms in data science', 'MS in Business Analytics and Project Management,', 'MS IN COMPUTER SCIENCE', 'MS - Data Science', nan, 'MS in Business Analytics', 'MS in Applied Statistics', 'MS in Analytics', 'MS in Business Analytics', nan, 'Master of Decision Analytics', 'MS in Chemical and Biomolecular Engineering', 'MS in Applied Data Science', 'MS IN DATA SCIENCE', 'MS IN financial Mathematics', 'BS Natural Science and Mathematics', 'MS in computer science', 'MS in Data Science, Business Analytics Track', 'MS in Engineering Management', 'DataAnalytics Bootcamp Certification', 'MS in Business Analytics', 'MS in Engineering', 'MS in Business Analytics', 'MS in Business Analytics', 'MS in Analytics', 'MS in Data Analytics', 'MS in Business Analytics', 'Bachelors of Science in Artificial Intelligence', 'MS Data Science', \"Master's in Sofrware Engineering\", 'MS in Data Science', 'MS in Data Science', 'MS of Management Business Analytics', 'MS in Data Science', 'MS in Analytics', 'MS Business Analytics', 'MS in Information Systems', 'MS in Business Analytics', 'MS in computer science', 'MS in Information Ssytems', 'MS in Engineering Management', 'MS in Management of Technology', 'MS in Business Analytics', 'Master of Science in Data Analytics', 'MS Information Science', 'MS in Artificial Intelligence', 'Master of Science in Data Science', 'Master of Science in Applied Analutics', 'Master of Science in Statistics', 'Master of Science in Business Analytics', 'MS in computer and information science - applied analytics', 'matser of science in data science', 'Master of Arts, Statistics', 'Master of Science in Analytics', 'Master of Quantitative Finance'] ['', 'Master of Science in Business Analytics', '', 'Bachelors in Technology, Chemical Engineering', '', '', 'Bachelor of Technology in Mechanical Engineering', 'M.Sc. in Data Science and Analytics', '', '', 'Master of Science in Data Science and Analytics', '', '', '', 'Bachelor of Technology in Computer Science Engineering', 'Bachelors of Management Studies (concentration in marketing)', '', '', 'Master of Science Information Systems | 3.54/4 GPA \\nNortheastern University, Boston, MA, USA \\nBachelor of Engineering Electronics and Communications', 'Bachelor of Science in Industrial Engineering', '', '', '', 'Bachelor of Engineering in Information Technology, GPA 3.70                                                                                                   June', '', '', '', 'Degree: Bachelor of Science in Statistics', '', 'Bachelor of Engineering in Computer Engineering', '', '', 'Bachelors of Science in Computer Science', 'Master of Business Administration', '', '', '', '', 'Bachelor of Technology, Major: Computer Science', '', 'baiyu@wustl.edu', 'Master of Professional Studies in Data Science \\nMinor in Program Management', '', '', '', '', '', 'Bachelor of Arts in Psychology, Business, East Asian Studies', '', '', 'Bachelor of Arts in Economics  \\nCore Courses: Probability & Statistics, Deep Learning for Natural Language Processing, Big Data, Machine \\nLearning, Economic Forecasting, Fundamental Algorithms, Linear Models', '', 'B. Tech. in Electrical Engineering', 'Bachelor of Engineering in Electronics & Telecommunication', '', '', '', '', 'B.S. Information Science', 'B.S. IN SOFTWARE ENGINEERING AND COMPUTER NETWORKING', 'Bachelor of Science in Mathematics', 'B.S degree in Information Technology', 'Master of Science Information Systems | 3.54/4 GPA \\nNortheastern University, Boston, MA, USA \\nBachelor of Engineering Electronics and Communications', 'Bachelor of Science in Computer Science and Engineering', 'Bachelor of Science in Industrial Engineering', '', 'Bachelor in Civil Engineering', '', 'B.S. in Risk Management and Insurance', '', '', 'Master of Science in Industrial Engineering (GPA 3.89/4.0)', '', 'Bachelor of Technology in Computer Science Engineering', '', 'Master of Science in Business Analytics', '', '', 'Master of Science in Computer Science', '', '', '', 'nahiansiddique10@gmail.com', '', 'Bachelor of Engineering', '', 'Master’s Degree', '', '', '', '', '', '', 'Master of Technology in Solid Mechanics & Design (GPA: 9.0/10)', 'Master of Science in Data Science, GPA: 3.6/4      \\nRelevant Courses: Applied Machine Learning, Statistical Modeling, Web Mining, Python for Finance', 'Bachelor of Science in Finance', '', '', 'Master of Science in Information Systems, GPA:', 'Bachelor of Science in Biomedical Engineering, Concentration in Biosystems and Signals \\nMinor in Electrical Engineering GPA 3.97 \\nUniversity of Rochester, Rochester NY', 'Master of Science, Information Systems\\nDrexel University', '', '', '', 'Master’s in Computer science in Computer Science', 'Master of Science in Business Analytics', '', 'Master of Science, Information Systems, 3.725 \\n', '', 'Master of Science in Data Analytics Engineering', '', '', 'Master’s in computer science', 'Master of Science in Data Science \\nSaint Louis University (GPA: 4.00) Summa Cum Laude', 'B.E. Electrical Engineering', '', 'B.S. in Mathematics', '', 'Bachelors of Commerce (Finance & Accounting)', '', 'Bachelor of Arts', '', 'Bachelor of Engineering', 'Masters in Data Analytics in Statistical modelling', 'Bachelor of Technology in Computer  Science, 3.9/4.0 \\nGandhi  Institute of Technology  and  Management|Hyderabad,  India \\nTECHNICAL SKILLS \\nProgramming  languages/Database: Python, R', 'Master of Business Analytics', '', '', '', '', '', '', 'Bachelor of Engineering in Information Technology', '', 'Master of Science in Analytics', '', '', '', '', 'Bachelor of Mechanical Engineering', 'BTech in Electronics and Instrumentation| GITAM UNIVERSITY| India |', 'Master of Science in Financial Mathematics', '', 'Master of Science in Computer Science  \\n• Introduction to Data Science, Social Media and Data Mining, Natural Language Processing', '', 'Bachelor of Engineering in Industrial Engineering                                                            MAY', 'Master of Education, Human Development & Quantitative Methodology: University of Maryland College', 'Master', '', '', '', 'Master of Science in Analytics', 'Bachelors in Technology \\nMajor in Electronics; Minors in Computer Science and Networking', 'Master of Science in Business Analytics', 'Bachelors of Science, Major in Artificial Intelligence', '', '', '', 'Masters of Science', 'Master of Management – Business Analytics', '', 'Master of Science in Analytics', '', 'Bachelor of Engineering in Computer Engineering', '', '', '', 'Bachelor of Science in Physics', 'Master of Science in Management of Technology  \\nCoursework: Stats for DA', '', '', 'B.E.', 'post services via HTTP', '', 'Master of Science in Applied Analytics', '', '', 'M.S. in Computer and Information Science', '', 'Bachelor of Arts, Mathematics (Statistics), Economics', 'Master of Science in Analytics', '']\n",
      "(76, 105) (116, 65) (45, 136) (0, 181) (2, 179)\n"
     ]
    }
   ],
   "source": [
    "ground_truth_tail = ground_truth\n",
    "def metrics(parse_col,ground_truth_col):\n",
    "    tp = 0\n",
    "    fp = 0\n",
    "    tn = 0\n",
    "    fn = 0\n",
    "    list1 = ground_truth_col.to_list()\n",
    "    list2 = parse_col.to_list()\n",
    "    print(list1,list2)\n",
    "    for i in range(len(list1)):\n",
    "        if list2[i]==None:\n",
    "            fp+=1\n",
    "            continue\n",
    "        try:\n",
    "            if str.lower(list1[i])==str.lower(list2[i]):\n",
    "                tp+=1\n",
    "            else:\n",
    "                \n",
    "                fp+=1\n",
    "        except:\n",
    "            fp+=1\n",
    "    return tp,fp\n",
    "\n",
    "metric_list = []\n",
    "\n",
    "### Scoring for pyres parser\n",
    "name = metrics(pyres_df['name'],ground_truth_tail['name'])\n",
    "email = metrics(pyres_df['email'],ground_truth_tail['email'])\n",
    "mobile = metrics(pyres_df['mobile_number'],ground_truth_tail['Contact'])\n",
    "university = metrics(pyres_df['college_name'],ground_truth_tail['education'])\n",
    "degree = metrics(pyres_df['degree'],ground_truth_tail['Major'])\n",
    "\n",
    "metric_list.append({'name':name,'email':email,'mobile':mobile,'university':university,'degree':degree})\n",
    "\n",
    "print(name,email,mobile,university,degree)\n",
    "    "
   ]
  },
  {
   "cell_type": "code",
   "execution_count": 92,
   "metadata": {},
   "outputs": [
    {
     "name": "stdout",
     "output_type": "stream",
     "text": [
      "['Karthik Ramanarayana', 'HARSH PUNDIR', 'TIRTH PATEL', 'Akanksha Bapna', 'Mythri Partha', 'Qizhe Wang', 'RACHAN BHOOSHI', 'RAGHUVEERA MADIREDDY', 'SAIDA MUKTAR', 'Akash Patel', 'AKSHARA ARCOT', 'Alexandra Manetas', 'Pranav Gulghane', 'Wanting Lu', 'Manaswini Nagaraj', 'MOHIT MANJARIA', 'Yuchen Xie', 'Dimple Mehra', 'Indupriya Kompi', 'James Domingo', 'ANYA PATEL', 'Ryan Goodwin', 'Mayank Dubey', 'ABHINAY NAGULAPALLI', 'Noah Mattheis', 'Abhilash Rajaram', 'Adam Dinser', 'ADEOLA ADESOBA', 'AJAY MANOHARAN', 'Akshay Kajale', 'Alexander Friend', 'Amar Jha', 'Amol Agrawal', 'Andrew Lin', 'ANIRUDH SURAM', 'ANNAPOORNA GOPALAKRISHNA', 'Antton Wilbanks', 'ANYA PATEL', 'Archit Prem', 'Ashvi Soni', 'BAIYU CHEN', 'BHAVIKA CHAVDA', 'BOKYEUNG KIM', 'BON TRINH', 'Buka Cakrawala', 'Andrew Decker', 'C:\\\\Users\\\\rtd91\\\\Data\\\\resume_samples\\\\C01-21120201_Jiayue_Fei.pdf', 'Cahyarini (Crystal) Hariga', 'Carlos Perez', 'Cassin Edwin', 'CHENGWEI CHEN', 'CHETNA KHANNA', 'Dhruv Parikh', 'Dhwani Gandhi', 'Dimple Mehra', 'Divya Manku', 'Elijah Hall', 'Evan JONES', 'EVAN JOYCE', 'Gali Sabyr', 'GRISHMA PARAJULI', 'Hamza Abdelghani', 'Indupriya Kompi', 'Jairo Carreon', 'James Domingo', 'Stellar(Jialu) Xia', 'Jianbo Gu', 'Jiehong Liu', 'Jim Liu', 'JULIA XIA', 'KRISTIN CHEN ', 'KUNJ MITHAPARA', 'Lejian He', 'Manaswini Nagaraj', 'Manisha Patel', 'MASEN BACHLEDA', 'Matthew Holcombe', 'MAYURI LALWANI', 'Mikhail Tokarev', 'Mistere Abate', 'Mohammad Zarei', 'Mona Eslamijam', 'Nahian Siddique', 'NIDHI CHOVATIYA', 'NIKSON PANIGRAHI', 'PRATIK SATPUTE', 'PRAVEEN PANDEY', 'Adedamola Olawoye', 'Aditya Deshpande', 'Ali Majidian', 'ANKIT LADE', 'Anqi Cheng', 'Arbaaz Mohideen', 'Arunava Ray', 'ASHUTOSH SHINDE', 'BAH KONAN', 'Bala Harimani', 'BONFACE NJUGUNA', 'Chaeeun Lim', 'Chantelle Lim', 'CHITRANJAN JOSHI', 'Diego Burgos', 'ETHAN LAURENCEAU', 'GIRIJA BANDARU', 'Harshitha Prasad', 'HARSH PUNDIR', 'Hemanth Kodakandla', 'Isioma Ochia', 'JAY PANDYA', 'Jessica Rega', 'Jishan Ahmed', 'KALEB SHIKUR', 'Kanth Juvadi', 'Katherine Pearson', 'KRUTI ALLENKI', 'Kunjan Khatri', 'LEONEL FLORES', 'MAAZ SHAIKH ', 'Naina Grover ', 'Nasir Sarkar', 'Nate Tsegaw', 'Navina Sethi ', 'Rakshit Sinha ', 'REETIKA CHATURVEDI ', 'Rishitha Muddana ', 'Rohin Bhagavatula ', 'SAIDA MUKTAR ', 'Saivalini Durvasula ', 'Sai Malempati', 'Sanat Lal', 'Saumil Jariwala ', 'Shalin Shanghavi ', 'Siyu Tao', 'SOBANAA JAYAKUMAR ', 'Srishti Piplani ', 'Srushti Shah', 'Srinath Narayanan', 'Taegeun Ohe', 'TANISHK PARIHAR ', 'Tej Gottapu', 'Tezeswi Madarasu', 'TIA MOODY ', 'VIJAYALAKSHMI GIRIJALA ', 'WEI-CHEN, LU   ', '  Yann Tamraz', 'YENI PEREZ', 'YING LU ', 'Yingkun Wang', 'Yutong Tang ', 'Richie Lahoti  ', 'Ricky Lindsey', 'ROHITH MALLULA ', 'Ruoshi Zhao ', 'Rutvik Patel', 'Ryan Goodwin', 'Sahana Halady ', 'SAI KUMAR', 'Sam Song', 'Senthil Nathan', 'Sharmista Vemulapalli  ', 'Shian Chen ', 'Shreya Dharmarajan ', 'SHWETANK ROKADE  ', 'Steven Zhang ', 'Sushant Patankar', 'Tanvi Tembhurne', 'TZUYAO Lin', 'UDAY hiremath', 'Vanisa ACHAKULVISUT', 'VICTOR JOHNSON, JR', 'Wenmo Sun', 'Xiaolan Li', 'Yichi Qian', 'Yichuan Hong', 'Yifan Liu', 'Yiru Wen', 'Yanhan Dong', 'Zhengyang Zhang', 'Zhuohan Zhang', 'Zixiao Huang', 'Ziyong Wang'] ['Karthik Ramanarayana', 'HARSH PUNDIR', '', 'Akanksha Bapna', 'Mythri Partha', 'Qizhe Wang', 'RACHAN VAMSI', 'RAGHUVEERA KARTHIK', 'SAIDA MUKTAR', 'Akash Patel', 'AKSHARA ARCOT', 'Alexandra Manetas', 'Pranav Premdas', 'Wanting Lu', 'Manaswini Nagaraj', 'MOHIT MANJARIA', 'Yuchen Xie', 'Dimple Mehra', 'Indupriya Kompi', 'James Renier', 'ANYA PATEL', 'Ryan Martin', 'Mayank Dubey', 'ABHINAY NAGULAPALLI', 'Noah Mattheis', 'Abhilash Rajaram', 'North 95th', 'ADEOLA ADESOBA', 'AJAY PRASATH', 'Akshay Kajale', 'ALEXANDER FRIEND', 'Amar Nath', 'Amol Agrawal', '', '', 'ANNAPOORNA M', '', 'ANYA PATEL', '', 'Ashvi Soni', 'BAIYU CHEN', 'BHAVIKA CHAVDA', 'BOKYEUNG KIM', '', 'Buka Cakrawala', 'Andrew Decker', '', 'Hariga Vienna', 'Carlos Perez', 'Cassin Thangam', 'CHENGWEI CHEN', 'CHETNA KHANNA', 'Dhruv Parikh', 'Dhwani Gandhi', 'Dimple Mehra', 'Divya Reddy', 'Elijah James', 'EVAN W.', 'EVAN M.', 'Gali Sabyr', 'GRISHMA PARAJULI', 'Hamza Abdelghani', 'Indupriya Kompi', 'Jairo Carreon', 'James Renier', '', 'Jianbo Gu', 'Jiehong Liu', 'Jim Liu', 'JULIA XIA', '-9607 |', 'KUNJ MITHAPARA', 'Lejian He', 'Manaswini Nagaraj', 'Manisha Patel', 'Graduated August', 'Matthew Holcombe', 'MAYURI LALWANI', 'Mikhail Tokarev', 'Mistere Abate', 'Mohammad Zarei', 'Mona Eslamijam', 'Nahian Siddique', 'NIDHI CHOVATIYA', '� www.linkedin.com/in/niksnikson', '', 'PRAVEEN PANDEY', 'Broadmore Road', 'Aditya Deshpande', '', 'New York', 'Anqi Cheng', 'Arbaaz Mohideen', 'Arunava Ray', '', 'BAH YANNICK', 'Bala Harimani', 'BONFACE NJUGUNA', 'Montrose Rd', 'Chantelle Lim', 'CHITRANJAN JOSHI', '', 'ETHAN LAURENCEAU', 'GIRIJA BANDARU', 'Harshitha Prasad', 'HARSH PUNDIR', 'Hemanth Reddy', 'Data Science', 'JAY PANDYA', 'Jessica Rega', '', 'KALEB SHIKUR', 'Kanth Juvadi', 'Katherine Pearson', 'KRUTI GUPTA', 'Kunjan Devendra', 'LEONEL FLORES', '', 'Naina Grover', 'Nasir U.', 'Nate Tsegaw', 'Navina Kaur', 'Rakshit Sinha', 'REETIKA CHATURVEDI', 'Rishitha Muddana', 'Rohin Bhagavatula', 'SAIDA MUKTAR', 'Saivalini Durvasula', 'Sai Sri', 'Sanat Lal', 'Saumil Sudhir', 'Saumil Sudhir', '', 'Siyu Tao', 'SOBANAA JAYAKUMAR', '', 'Srishti Piplani', 'Srushti Shah', '', 'TANISHK PARIHAR', 'Tej Gottapu', 'Tezeswi Madarasu', 'TIA MOODY', 'VIJAYALAKSHMI GIRIJALA', 'LU Washington', '', 'YENI PEREZ', 'Yingkun Wang', 'YING LU', 'Yutong Tang', 'Richie Lahoti', 'Ricky Donnell', 'ROHITH MALLULA', 'Ruoshi Zhao', 'Rutvik Patel', 'Ryan Martin', 'Sahana Halady', 'SAI KUMAR', 'Sam Song', 'Senthil Nathan', 'Sharmista Vemulapalli', 'Shian Chen', 'Shreya Dharmarajan', 'shwerokade@gmail.com| LinkedIn', 'Steven H.', 'Sushant Patankar', 'Tanvi Tembhurne', '| linkedin.com/in/tzu-yao-lin-1656bb134', '', 'VANISA ACHAKULVISUT', 'State St.', 'Wenmo Sun', 'Xiaolan Li', 'Qian Cell', 'Yichuan Hong', 'Yifan Liu', '', 'Dong yd2578@columbia.edu·(319', 'Jersey City', 'Zhuohan Zhang', 'Zixiao Huang', 'Stream Bank']\n",
      "['karthikr2194@gmail.com', 'hpundir@umd.edu', 'tirth2410@gmail.com', '', 'mythripartha8@gmail.com', 'ziyaotingyu@gmail.com', 'rachan_vamsi.bhooshi@uconn.edu', 'rmadireddy1@student.gsu.edu', 'saidam1@umbc.edu', 'adp178@scarletmail.rutgers.edu', 'akshara@ou.edu', 'manetas.alexandra@gmail.com', 'pranavpremdasgulghane@gmail.com', 'luwinnie12@gmail.com', 'nagaraj.m@northeastern.edu', 'mohitmanjaria55333@gmail.com', 'yuchen724@ucla.edu', 'dimple8997@gmail.com', 'indupriyakompi@gmail.com', 'james.domingo@gatech.edu', 'anyampatel@gmail.com', 'rgoodwin1997@gmail.com', 'mayankdubey1996@gmail.com', 'abhinay.nagulapalli98@gmail.com', 'noahwkm@gmail.com', 'rajaram2@buffalo.edu', 'adam.m.dinser@gmail.com', 'atadesoba@gmail.com', 'amanoha3@ncsu.edu', 'akshay.kajale@sjsu.edu', 'afriend6874@gmail.com', 'jhaa@usc.edu', 'amolagrawal05@gmail.com', 'andrew.linlyc@gmail.com', 'arsuram99@gmail.com', 'annapoornagopalakrishna@gmail.com', 'wilbanks83@gmail.com', 'anyampatel@gmail.com', 'archit7@umd.edu', 'ashvi.y.soni@gmail.com', 'baiyu@wustl.edu', 'bhavika.chavda@gmail.com', 'bokyeung.kim1@gmail.com', 'bontrinh169@gmail.com', 'bcakrawa@ucsd.edu', 'eckan01@gettysburg.edu', '', 'chariga@brandeis.edu', 'arloshernesto.perez@outlook.com', 'cassinthangam4996@gmail.com', 'ccwiris@gmail.com', 'khanna.c@northeastern.edu', 'dhruv.parikh1998@gmail.com', 'dgandhi@syr.edu', 'dimple8997@gmail.com', 'dmmnr@mst.edu', 'elijahjameshall49@gmail.com', 'ejje2010@gmail.com', 'ejoyce74@gmail.com', 'ggabituly99@gmail.com', 'grishma.parajuli@drexel.edu', 'hamza.aghani@gmail.com', 'indupriyakompi@gmail.com', 'jairo.carreon03@gmail.com', 'james.domingo@gatech.edu', 'jx2360@columbia.edu', 'jianbogu@umich.edu', 'ljiehong@vt.edu', 'chen-yang.liu@outlook.com', 'yx2648@columbia.edu', 'jiatingchen0107@gmail.com', 'mithapara.k@northeastern.edu', 'leolejianhe@gmail.com', 'nagaraj.m@northeastern.edu', 'manishap2690@gmail.com', 'masenbachleda@gmail.com', 'mholcombe9@gmail.com', 'mayuri.lalwani123@gmail.com', 'liberty06071992@gmail.com', 'mta6203@uncw.edu', 'ei@ucsd.edu', 'mona.eslamijam@utdallas.edu', 'nahiansiddique10@gmail.com', 'nidhichovatiya12@gmail.com', 'panigrahi.n@northeastern.edu', 'pratik.sms@gmail.com', 'andey.pra@northeastern.edu', 'aolawoye@umd.edu', 'adeshpa1@umd.edu', 'amajidia@uncc.edu', 'ankitlade12@gmail.com', 'aqcheng7@gmail.com', 'amohidee@aggies.ncat.edu', 'arunava.ray13@gmail.com', 'ashinde8@stevens.edu', 'bk3591a@american.edu', 'balamani@wayne.edu', 'bnjugun1@students.towson.edu', 'clim43@terpmail.umd.edu', 'clim25@jhmi.edu', 'joshi.chitranjan@gmail.com', 'dibu24@gmail.com', 'ethan.laurenceau45@yahoo.com', 'gbandaru@usf.edu', 'harshitha.p@cvemail.com', 'hpundir@umd.edu', 'hkodakan@syr.edu', 'iochia@umd.edu', 'jpandya1997@gmail.com', 'rega202@gmail.com', 'jahmed@bgsu.edu', 'Kalebm1sales@gmail.com', 'ram.jdatascience@gmail.com', 'earson@slu.edu', 'krutiallenki@gmail.com', 'khatri.kun@northeastern.edu', 'leo.flores@nyu.edu', 'mzshaikh@syr.edu', 'ngrover4@jhu.edu', 'nasir2sarkar@gmail.com', 'tsegaw@protonmail.com', 'avina.kaur@gmail.com', 'rakshit.sinha@marylandsmith.umd.edu', 'ritzjob696@gmail.com', 'rishithamuddanaa@gmail.com', 'rohin.bhagavatula@marylandsmith.umd.edu', 'saidam1@umbc.edu', 'saivalini.durvasula@uconn.edu', 'saisri.mss@gmail.com', 'sanat.lal@gmail.com', 'sjariwa2@stevens.edu', 'sshanghavi.97@gmail.com', 'siyutb@gmail.com', 'sj4919a@american.edu', 'srishti.piplani10@gmail.com', 'srushti.shah.2630@gmail.com', 'csenath@gamil.com', 'tgohche@gmail.com', 'tanishk305@gmail.com', 'gottaputej@gmail.com', 'tezeswimadarasu0831@gmail.com', 'moodytia27@gmail.com', 'vijayalakshmi.girijala@gmail.com', 'gacktwww@gmail.com', 'yann.tamraz7@gmail.com', 'ms.yeni.a.perez@gmail.com', 'langellu@hotmail.com', 'ywang601@jh.edu', 'yutong@umd.edu', 'rlahoti@scu.edu', 'ricky@rickylindsey.tech', 'rohith19m@gmail.com', 'ruoshi@wustl.edu', 'rhpatel2000@gmail.com', 'rgoodwin1997@gmail.com', 'sahana.halady@sjsu.edu', 'sgheereddy@gmail.com', 'samsong974@gmail.com', 'msnathan55@yahoo.com', 'sharmiv1129@gmail.com', 'schen9@uchicago.edu', 'saishreya0298@gmail.com', 'shwerokade@gmail.com', 'haoxiang.zhang@pepperdine.edu', 'patankarsushant@gmail.com', 'tembhurne.t@northeastern.edu', 'q0919239042@gmail.com', 'umh205@nyu.edu', 'mai.vanisa@gmail.com', 'va.johnson2@gmail.com', 'wmsun@email.arizona.edu', 'xiaolancara@gmail.com', 'oliverqian0510@gmail.com', 'clementh97@gmail.com', 'yifanliu@udel.edu', 'ruth.wen@rady.ucsd.edu', 'yd2578@columbia.edu', 'zzhan67@stevens.edu', 'zz2751@columbia.edu', 'zixiao.huang.74@gmail.com', 'zwang160@terpmail.umd.edu'] ['karthikr2194@gmail.com', 'hpundir@umd.edu', 'tirth2410@gmail.com', 'mailto:akanksha.bapna@marylandsmith.umd.edu', 'mythripartha8@gmail.com', 'ziyaotingyu@gmail.com', 'rachan_vamsi.bhooshi@uconn.edu', 'rmadireddy1@student.gsu.edu|', 'saidam1@umbc.edu', 'adp178@scarletmail.rutgers.edu', 'akshara@ou.edu', 'manetas.alexandra@gmail.com', 'pranavpremdasgulghane@gmail.com', 'luwinnie12@gmail.com', 'nagaraj.m@northeastern.edu', 'mohitmanjaria55333@gmail.com', 'yuchen724@ucla.edu', 'dimple8997@gmail.com', 'indupriyakompi@gmail.com', 'james.domingo@gatech.edu', 'anyampatel@gmail.com', 'rgoodwin1997@gmail.com', 'mayankdubey1996@gmail.com', 'abhinay.nagulapalli98@gmail.com', 'noahwkm@gmail.com', 'rajaram2@buffalo.edu', 'adam.m.dinser@gmail.com', 'atadesoba@gmail.com', 'amanoha3@ncsu.edu|', 'akshay.kajale@sjsu.edu', 'afriend6874@gmail.com', 'jhaa@usc.edu', 'amolagrawal05@gmail.com', 'andrew.linlyc@gmail.com', 'arsuram99@gmail.com', 'annapoornagopalakrishna@gmail.com', 'Awilbanks83@gmail.com', 'anyampatel@gmail.com', 'archit7@umd.edu', 'ashvi.y.soni@gmail.com', 'baiyu@wustl.edu', 'bhavika.chavda@gmail.com', 'bokyeung.kim1@gmail.com', 'bontrinh169@gmail.com\\uf0bd608-724-2688', 'bcakrawa@ucsd.edu', 'Deckan01@gettysburg.edu', None, 'chariga@brandeis.edu', 'Carloshernesto.perez@outlook.com', 'cassinthangam4996@gmail.com', 'ccwiris@gmail.com', 'khanna.c@northeastern.edu', 'dhruv.parikh1998@gmail.com', 'dgandhi@syr.edu', 'dimple8997@gmail.com', 'dmmnr@mst.edu', 'elijahjameshall49@gmail.com', 'ejje2010@gmail.com', 'ejoyce74@gmail.com', 'ggabituly99@gmail.com', 'grishma.parajuli@drexel.edu', 'hamza.aghani@gmail.com', 'indupriyakompi@gmail.com', 'jairo.carreon03@gmail.com', 'james.domingo@gatech.edu', 'jx2360@columbia.edu', 'jianbogu@umich.edu', 'ljiehong@vt.edu', 'chen-yang.liu@outlook.com', 'yx2648@columbia.edu', 'jiatingchen0107@gmail.com', 'mithapara.k@northeastern.edu|', 'leolejianhe@gmail.com', 'nagaraj.m@northeastern.edu', 'manishap2690@gmail.com', 'masenbachleda@gmail.com', 'mholcombe9@gmail.com', 'mayuri.lalwani123@gmail.com', 'liberty06071992@gmail.com', '\\uf0e0mta6203@uncw.edu', 'mozarei@ucsd.edu|', 'mona.eslamijam@utdallas.edu', 'nahiansiddique10@gmail.com', 'nidhichovatiya12@gmail.com', 'panigrahi.n@northeastern.edu', 'pratik.sms@gmail.com', 'Pandey.pra@northeastern.edu', 'aolawoye@umd.edu', 'adeshpa1@umd.edu', 'amajidia@uncc.edu', 'ankitlade12@gmail.com', 'aqcheng7@gmail.com', 'amohidee@aggies.ncat.edu', 'arunava.ray13@gmail.com', 'ashinde8@stevens.edu', 'bk3591a@american.edu', 'balamani@wayne.edu', 'bnjugun1@students.towson.edu', 'clim43@terpmail.umd.edu', 'clim25@jhmi.edu', 'joshi.chitranjan@gmail.com', 'dibu24@gmail.com', None, 'gbandaru@usf.edu|', 'harshitha.p@cvemail.com', 'hpundir@umd.edu', 'hkodakan@syr.edu', 'iochia@umd.edu', 'jpandya1997@gmail.com', 'rega202@gmail.com', 'jahmed@bgsu.edu', 'Kalebm1sales@gmail.com', 'ram.jdatascience@gmail.com', 'Kate.A.Pearson@slu.edu', 'krutiallenki@gmail.com', 'khatri.kun@northeastern.edu', 'leo.flores@nyu.edu', 'mzshaikh@syr.edu', 'ngrover4@jhu.edu', 'nasir2sarkar@gmail.com', 'tsegaw@protonmail.com', 'Navina.kaur@gmail.com', 'rakshit.sinha@marylandsmith.umd.edu', 'ritzjob696@gmail.com', 'rishithamuddanaa@gmail.com|LinkedIn|GitHub', 'rohin.bhagavatula@marylandsmith.umd.edu', 'saidam1@umbc.edu', 'saivalini.durvasula@uconn.edu', 'saisri.mss@gmail.com', 'sanat.lal@gmail.com', 'sjariwa2@stevens.edu', 'sjariwa2@stevens.edu', 'sshanghavi.97@gmail.com', 'siyutb@gmail.com', 'sj4919a@american.edu', 'csenath@gmail.com', 'srishti.piplani10@gmail.com', 'srushti.shah.2630@gmail.com', 'tgohche@gmail.com', 'tanishk305@gmail.com', 'gottaputej@gmail.com', 'tezeswimadarasu0831@gmail.com', 'moodytia27@gmail.com', 'vijayalakshmi.girijala@gmail.com', 'gacktwww@gmail.com/', 'yann.tamraz7@gmail.com', 'ms.yeni.a.perez@gmail.com', 'ywang601@jh.edu', 'langellu@hotmail.com', 'yutong@umd.edu|', 'rlahoti@scu.edu,', 'ricky@rickylindsey.tech', 'rohith19m@gmail.com', 'ruoshi@wustl.edu', 'rhpatel2000@gmail.com', 'rgoodwin1997@gmail.com', 'sahana.halady@sjsu.edu', 'sgheereddy@gmail.com', 'samsong974@gmail.com', 'msnathan55@yahoo.com', 'sharmiv1129@gmail.com', 'schen9@uchicago.edu', 'saishreya0298@gmail.com|', 'shwerokade@gmail.com|', 'haoxiang.zhang@pepperdine.edu', 'patankarsushant@gmail.com', 'tembhurne.t@northeastern.edu', 'q0919239042@gmail.com', 'Umh205@nyu.edu', 'mai.vanisa@gmail.com', 'va.johnson2@gmail.com', 'wmsun@email.arizona.edu', 'xiaolancara@gmail.com', 'oliverqian0510@gmail.com', 'clementh97@gmail.com', 'yifanliu@udel.edu', 'ruth.wen@rady.ucsd.edu', 'yd2578@columbia.edu·(319)', 'zzhan67@stevens.edu', 'zz2751@columbia.edu', 'zixiao.huang.74@gmail.com', 'zwang160@terpmail.umd.edu']\n",
      "['(410)-292-1151', '240.423.5453', '469-370-9437', nan, '(281) 725-7080', '+1(302)-690-9388 ', '(475) 685 0166', '240-713-8296', '443-833-6344', '+1 4845387112', '+1 (405) -761-7041', '630.818.6275', '14695140740', '(559) 387-0880', '(617) 818-4953', '\"+18572077337\"', '949-413-2863', '\"+1-(312-358-1359)\"', '+1(857)-701-6039', '(706) 305-6369', '805 453 1532', '(910) 547-7027', '+1 571- 474-9095', '(571) 752-8188', '240.490.0733', '7162929981', '(720) 560-3886', '(423) 741-5160', '+1 (919)-637-2246', '+1 669-278-8855', '(949) 441-8713', '(213) 462-8044', '404-271-4401', '678-707-0060', '5087175999', '440-990-8497', '+1 910.238.0756', '805 453 1532', '+1 (571-430-8026)', '+1(202)823-8515', '631-305-9842', '(609) 271-1612', '(443) 379-9308', '608-724-2688', '2019 - 2020', '(443)-742-3540', nan, '+1 (857) 242-8583', '(760)694-5383', '1-909-313-9792', '(510)378-5561', '(631)-542-3150', '+1 213-464-8614', '+1(619)-430-6786', ' +1-(312-358-1359)', '573-202-0190', '(828)-750-4063', '(703) 939-1514', '(301) 525-4486', '+1(832)310-3195', '973-204-2812', '+1 301 979 3644', nan, '(619) 451-9507', '(706) 305-6369', '(917) 346 1107', '+1 (610)-704-9590', '(757)846-3898', '(+1)404-528-9521', '929-215-4334', '(202) 212 -9607', '(857) 308-6625', '(607) 262-6716', '(617) 818-4953', '774-994-4106', '847-346-6868', '409-926-9421', '(949) 609-9405', '+1 (541) 908-66-78', '214-680-4902', '(858)901-0001', 'mona.eslamijam@utdallas.edu', '(219) 308-6658', '(551) 263-8620', '5) 8573647484', '425-217-9815', '(857)-544-9465', '(301) -979-1538', '(240) 467-6901', nan, '1-660-238-1759', '(424)-542-3050', '(336) 615-4089', '+1 443-248-5326', '551-229-5711', '612-757-8182', '313-818-7830', '443 495 9539', '(202) 816-9446', '585.200.9095', '2678154518', '240-593-7400', '301-213-4286', '+1(813)5604825', '401 206 0439', '240.423.5453', '(315)-832-0730', '(202) 848-8552', '(978) 856-9350', '6179978035', '13179415746', '703 863 3338', '1(816)-974-3322', '314-996-9471', '1 (315)-403-5205', '617-510-8648', '(832) 462-3924', '(315)-992-5840', '206-643-7360', nan, '240-506-7317', '(475) 236-4763', '(301)-792-8228', '617.987.7863', '704-632-5708', '(201)779-7393', '443-833-6344', '551-226-3065', '+1 740 803 1957', '+1 2023909784', '201-744-1333', '(206) 581-1109', '6262383387', '(240) 906-1094', '(517) 488-9361', '+1 469-358-7814', '8045888568', '703-785-5459', '315-447-5338', '2672061097', '+1 332 234 5155', '(734) 341-3857', '(248)-672-5051', '202-322-8811', '202-929-8414', '443-535-5036', '(612) 434-3346', '858-247-9822', '(302)-482-5045', '9492413940', '(678) 790-9452', '+1 8578004080', '5185964295', '(224) 245-7197', '(910) 547-7027', '(669)210-2518', '12678819188', '408-431-5412', '91-8553247568', '5512968019', '(504) 250-3514', '(469)-456-5940', '719-235-1235', '949-735-0792', '(970)-232-6261', '972-339-0664', '919-690-9788', '5512270644', '224-999-3633', '708-530-2495', '(520)548-2523', '626-265-6973', '814-826-8103', '(860) 617-9847', '302-807-1729', '(405) 551-5277', '(319) 512-0421', '(646) 531-8942', '(617) 763-4795', '615-977-2160', '(667) 216-6448'] ['292-1151', '240.423.5453', '469-370-9437', '', '(281) 725-7080', '+1(302)-690-9388', '(475) 685 0166', '240-713-8296', '443-833-6344', '+1 4845387112', '+1 (405) -761-7041', '630.818.6275', '+1-4695140740', '(559) 387-0880', '(617) 818-4953', '+18572077337', '949-413-2863', '312-358-1359', '+1(857)-701-6039', '(706) 305-6369', '805 453 1532', '(910) 547-7027', '+1 571- 474-9095', '(571) 752-8188', '240.490.0733', '7162929981', '(720) 560-3886', '(423) 741-5160', '+1 (919)-637-2246', '+1 669-278-8855', '(949) 441-8713', '(213) 462-8044', '404-271-4401', '678-707-0060', '5087175999', '440-990-8497', '+1 910.238.0756', '805 453 1532', '571-430-8026', '+1(202)823-8515', '631-305-9842', '(609) 271-1612', '(443) 379-9308', '608-724-2688', '', '742-3540', '', '+1 (857) 242-8583', '(760)694-5383', '+1-909-313-9792', '(510)378-5561', '542-3150', '+1 213-464-8614', '+1(619)-430-6786', '312-358-1359', '573-202-0190', '750-4063', '(703) 939-1514', '(301) 525-4486', '+1(832)310-3195', '973-204-2812', '+1 301 979 3644', '+1(857)-701-6039', '(619) 451-9507', '(706) 305-6369', '(917) 346 1107', '+1 (610)-704-9590', '(757)846-3898', '(+1) 404-528-9521', '929-215-4334', '', '(857) 308-6625', '(607) 262-6716', '(617) 818-4953', '774-994-4106', '847-346-6868', '409-926-9421', '(949) 609-9405', '+1 (541) 908-66-78', '214-680-4902', '(858)901-0001', '996 2020', '(219) 308-6658', '(551) 263-8620', '8573647484', '010-2011', '544-9465', '979-1538', '(240) 467-6901', '9508120', '+1-660-238-1759', '542-3050', '(336) 615-4089', '+1 443-248-5326', '551-229-5711', '612-757-8182', '313-818-7830', '443 495 9539', '(202) 816-9446', '585.200.9095', '2678154518', '240-593-7400', '', '+1(813)5604825', '+1 401 206 0439', '240.423.5453', '832-0730', '(202) 848-8552', '+1 (978) 856-9350', '6179978035', '+13179415746', '+1 703 863 3338', '+1(816)-974-3322', '314-996-9471', '+1 (315)-403-5205', '617-510-8648', '(832) 462-3924', '992-5840', '206-643-7360', '', '240-506-7317', '(475) 236-4763', '792-8228', '617.987.7863', '704-632-5708', '(201)779-7393', '443-833-6344', '+1-551-226-3065', '+1 740 803 1957', '+1 2023909784', '201-744-1333', '201-744-1333', '(206) 581-1109', '6262383387', '(240) 906-1094', '(804) 588-8568', '(517) 488-9361', '+1 469-358-7814', '703 785 5459', '315-447-5338', '2672061097', '+1 332 234 5155', '(734) 341-3857', '672-5051', '202-322-8811', '', '443-535-5036', '858-247-9822', '(612) 434-3346', '482-5045', '+1-949-241-3940', '(678) 790-9452', '+1 8578004080', '5185964295', '(224) 245-7197', '(910) 547-7027', '(669)210-2518', '+12678819188', '408-431-5412', '+91-8553247659', '5512968019', '(504) 250-3514', '456-5940', '719-235-1235', '(949)735-0792', '232-6261', '972-339-0664', '690-9788', '+1 5512270644', '+1 (224) 999-3633', '+1-708-530-2495', '(520)548-2523', '626-265-6973', '814-826-8103', '(860) 617-9847', '302-897-1729', '(405) 551-5277', '(319) 512-0421', '(646) 531-8942', '(617) 763-4795', '615-977-2160', '(667) 216-6448']\n",
      "[\"{'University of Maryland'}\", \"{'Robert H. Smith School of Business, University of Maryland'}\", \"{'The University of Texas at Dallas'}\", \"{'University of Maryland'}\", \"{'University of Houston'}\", 'University of Delaware', 'UNIVERSITY OF CONNECTICUT', 'Georgia StateUniversity', 'set()', 'Rutgers, The State University', 'University of Oklahoma Norman', \"{'Northwestern University', 'DePaul University'}\", 'The University of Texas at Dallas', 'University of California', \"{'National University of Singapore- HPE', 'â\\x80¢  Northeastern University', 'â\\x80¢  REVA University'}\", \"{'Data Scientist/Research Assistant | Northeastern University', 'Graduate Teaching Assistant | Northeastern University'}\", \"{'University of California'}\", 'Illinois Institute of Technology', \"{'Visveswaraya Technological University', 'Northeastern University'}\", 'Georgia Institute of Technology', 'SYRACUSE  UNVERSITY', 'University of North Carolina Wilmington', 'George Mason University', \"{'University of Maryland'}\", 'University of Maryland', 'University at Buffalo', 'University Of Colorado', \"{'University of Ilorin', 'University of Arkansas at Little Rock'}\", 'North Carolina State University', 'San Jose State University', 'UNIVERSITY OF CALIFORNIA', \"{'University of Southern California'}\", 'Georgia Institute of Technology', 'Georgia Institute of Technology', 'University      of      Massachusetts', \"{'Cleveland State University'}\", 'University of North Carolina Wilmington', 'SYRACUSE  UNVERSITY', 'The University of Maryland', 'The George Washington University', 'STONY BROOK UNIVERSITY', \"{'University of Maryland', 'schools across 4 counties of California (Santa Clara'}\", 'University of Maryland', 'University of Wisconsin-Madison', 'University of California', 'Gettysburg College', 'set()', \"{'Brandeis University | Waltham'}\", 'Western Governors University', \"{'Anna University', 'The University of Texas at Dallas'}\", \"{'New York University', 'University of California Los Angeles'}\", 'Northeastern University', 'University of Southern California', 'Syracuse University', 'Illinois Institute of Technology', \"{'Jawaharlal Nehru Technological University', '  Missouri University of Science and Technology'}\", 'North Carolina State University', 'University of Maryland', 'University of Maryland', 'North American University', 'Drexel University', 'set()', \"{'Visveswaraya Technological University', 'Northeastern University'}\", 'University of California', 'University of California', 'Columbia University in the City of New York', \"{'â\\x9a«  Lehigh University', 'â\\x9a«  Tongji University', 'â\\x9a«  University of Michigan'}\", 'Virginia Tech', 'Georgia Institute of Technology', \"{'Columbia University'}\", 'THE GEORGE WASHINGTON UNIVERSITY', \"{'Master of Science in Industrial Engineering (GPA 3.89/4.0) | Northeastern University'}\", \"{'Sun Yat-sen University', 'Cornell University'}\", \"{'National University of Singapore- HPE', 'â\\x80¢  Northeastern University', 'â\\x80¢  REVA University'}\", 'The State University of New York at Buffalo', \"{'University of Nebraska'}\", \"{'University of Houston'}\", 'San Jose State University', 'Oregon State University Corvallis', 'UniversityofNorthCarolinaWilmington', 'UniversityofCalifornia', 'TheUniversityofTexasatDallas', \"{'Teaching Assistant | Purdue University', 'Research Assistant | Purdue University', 'Purdue University'}\", \"{'Gujarat Technological University'}\", ' Northeastern University', 'Seattle Pacific University', 'Northeastern University', 'University of Maryland', 'University of Maryland', \"{'                           January 2020 â\\x80\\x93 May 2022   University of North Carolina at Charlotte', 'September 2014 - September 2019  Islamic Azad University'}\", 'University of Central Missouri', \"{'University of Maryland'}\", 'North Carolina A&T State University', \"{'Johns Hopkins University'}\", 'Stevens Institute of Technology', 'American University', \"{'Anna University', 'Wayne State University'}\", 'Towson University', \"{' University of Maryland  College Park', 'â\\x97\\x8f  Roberta Ma Scholarship'}\", 'Johns Hopkins University School of Medicine', \"{'Drexel University'}\", 'University of Maryland', \"{'Howard University'}\", \"{'University of South Florida'}\", 'Kent State University at Kent', 'Robert H. Smith School of Business, University of Maryland', 'Syracuse University', 'University of Maryland, Robert H. Smith School of Business', \"{'University of Massachusetts Lowell', 'University of Mumbai'}\", 'George Mason University - Fairfax, VA', 'Bowling Green State University', 'University of Virginia', \"{'University of Central Missouri'}\", 'Saint Louis University', 'Syracuse University', 'Northeastern University', 'New York University', 'Syracuse University', 'Johns Hopkins Carey Business School', \"{'University of Maryland Baltimore County'}\", 'Flatiron School', 'University of Maryland, Robert H. Smith School of Business', 'University of Maryland, Robert H. Smith School of Business', 'Northeastern University', 'University of North Carolina at Charlotte', 'University of Maryland, Robert H. Smith School of Business', nan, 'University of Connecticut', 'Wright State University', 'George Washington University', 'Stevens Institute of Technology', 'San Francisco State University', 'University of Notre Dame', 'American University, Kogod School of Business', 'Michigan State University (MSU), Broad College of Business', nan, 'Virginia Commonwealth University', 'Georgia Institute of Technology', 'Syracuse University', 'Drexel University', 'Arizona State University', 'University of Toledo', 'Syracuse University', \"{'American University'\", 'Johns Hopkins University', 'Johns Hopkins University', 'University of St.Thomas', 'Johns Hopkins University', 'University of Maryland', 'Santa Clara University', \"{'Georgia State University'}\", 'Northeastern University', 'Washiongton University in St. Louis', 'Illinois Institute of Technology', 'University of North Carolina Wilmington', 'San Jose State University', 'University of Maryland Baltimore', 'Univeristy of Illinois - Urbana-Champaign', 'Indian Institute of Science', 'ROWAN University', 'University of Chicago', \"{'The University of Texas at Dallas}\", 'Northeastern University', 'Pepperdine Graziadio Business School', 'Colorado State University', 'Northeastern University', 'Duke University', 'New York University', 'University of Illinois At Chicago', 'Northern Illinois University', 'The university of Arizona', 'Yeshiva University', 'University of Rochester', 'Columbia University', 'University of Delaware', 'Rady School of Management, UC San Diago', 'Columbia University', 'Stevens Institute of Technology', 'Columbia University', 'Northwestern Univeristy', 'Robert H. Smith School of Business, University of Maryland'] ['university of mary', 'university of mary', 'nirma university', 'university of mary', 'university of houston', 'university of delaware', 'national institute of technology, rourkela', 'vellore institute of technology', 'university of mary', 'rutgers, the state university of new jersey', 'university of oklahoma', 'western university', 'university of texas', 'university of california, berkeley', 'eastern university', 'eastern university', 'university of california, irvine', 'illinois institute of technology', 'eastern university', 'georgia institute of technology', '', '', 'george mason university', 'osmania university', 'unity college', '', '', 'university of ilorin', 'anna university', 'university of pune', 'university of california, san diego', 'university of southern california', 'georgia institute of technology', 'university of lethbridge', '', 'cleveland state university', 'university of oulu', '', 'pes university', 'gujarat technological university ahmedabad', 'washington university in st. louis', 'university of mary', 'towson university', '', 'university of california, san diego', 'gettysburg college', '', 'yonsei university', 'western governors university', 'anna university', 'york university', 'eastern university', 'nirma university', 'university of mumbai', 'illinois institute of technology', 'jawaharlal nehru technological university', 'north carolina state university', 'university of mary', 'university of mary', 'american university', 'drexel university', 'university of ottawa', 'eastern university', 'university of california, merced', 'georgia institute of technology', 'chinese university of hong kong', 'tongji university', '', 'national chengchi university', 'york university', 'new york institute of technology', 'eastern university', 'cornell university', 'eastern university', 'university of technology', 'university of nebraska - lincoln', 'rice university', 'san jose state university', 'oregon state university', 'university of texas', 'university of california, san diego', 'university of science and technology', 'islamic university of technology', 'stevens institute of technology', 'eastern university', 'pacific university', 'eastern university', 'university of mary', 'university of pune', 'university of north carolina at charlotte', 'university of mumbai', 'university of mary', '', 'indian institute of technology, kanpur', 'stevens institute of technology', 'american university', 'anna university', 'kisii university', 'yonsei university', 'johns hopkins university', 'drexel university', 'university of mary', 'howard university', 'university of south florida', 'kent state university', 'university of mary', 'syracuse university', 'texas tech university', 'university of mumbai', 'george mason university', 'university of dhaka', 'university of virginia', 'university of central missouri', 'saint louis university', 'jawaharlal nehru technological university', 'eastern university', 'york university', 'syracuse university', 'university of delhi', 'university of mary', 'university of mary', 'university of mary', 'university of mary', 'eastern university', 'institute of technology and management', 'university of mary', 'university of mary', 'university of connecticut', 'jawaharlal nehru technological university', 'uttar pradesh technical university', 'stevens institute of technology', 'stevens institute of technology', 'san francisco state university', 'northern illinois university', 'american university', 'anna university', 'michigan state university', 'maharaja sayajirao university of baroda', 'georgia institute of technology', 'university of mumbai', 'drexel university', 'university of northampton', 'university of toledo', 'institute of science and technology', 'american university', 'american university', 'johns hopkins university', 'johns hopkins university', 'tongji university', 'university of delaware', 'city university', 'georgia institute of technology', 'eastern university', 'rensselaer polytechnic institute', 'illinois institute of technology', '', 'jawaharlal nehru technological university', 'jawaharlal nehru technological university', 'university of illinois', 'university of south australia', 'rowan university', 'ohio state university', 'university of texas', 'eastern university', 'university of illinois', 'colorado state university', 'eastern university', 'national chung cheng university', 'york university', 'chulalongkorn university', 'northern illinois university', 'jilin university', 'university of technology', 'pennsylvania state university', 'columbia university', 'university of delaware', 'school of management', 'columbia university', 'stevens institute of technology', 'boston university', 'western university', 'university of mary']\n",
      "['Data Science', 'Business Analytics', 'Business Analytics', 'Marketing Analytics', 'Chemistry', 'Statistics', 'Business Analytics and Project Management', 'Data Science and Analytics', 'Data Science', 'Data Science', 'Data Science and Analytics', 'Data Science', 'Information Technology and Management', 'Applied Mathematics and Data Science', 'Data Science', 'Data Analytics', 'Applied Mathematics', 'Computer Science', 'Information Systems', 'Analytics', 'Applied Data Science', 'Data Science', 'Data Analytics', 'Data Science', 'Mathematics', 'Data Science', 'Computer Science', 'Information Science', 'Industial Engineering', 'Computer Science', 'Data Science', 'Applied Data Science', 'Computer Science', 'Analytics', 'Data Science', 'Computer Science and Information systems', 'Data Science', 'Applied Data Science', 'Business Analytics', 'Computer Science', 'Business Analytics', 'Data Science', 'Business Analytics', 'Computer Science', 'Mathematics, Computer Science', 'Mathematical Economics', nan, 'Business Analytics', 'Computer Science', 'Business Analytics', 'Data Analytics', 'Data Analytics', 'Electrical Engineering', 'Applied Data Science', 'Computer Science', 'Information Science and Technology', 'Applied Mathematics', 'Applied Mathematics', 'Machine Learning', 'SOFTWARE ENGINEERING AND COMPUTER NETWORKING', 'Mathematics', nan, 'Electronics and Communications', 'Computer Science and Engineering', 'Analytics', 'Data Science', 'IOE and ME', nan, 'Statistics', 'Operation Research', 'Data Science', 'Industrial Engineering', 'Transportation Systems Engineering', 'Data Science', 'Data Science', 'Business Analytics', 'Mathematics', 'Data Science', 'Computer Science', 'Data Science', 'MachineLearningandDataScience', 'Business Analytics', 'Electrical and Computer Engineering', 'Computer Science', 'Data Science', 'Data Analytics', 'Artificial Intelligence', 'Marketing Analytics', 'Business Analytics', 'Information Technology', 'Computer Science', 'Data Science and Analytics', 'Applied Mathematics', 'Data Science', ' Data Science', 'Data Analytics', 'Data Science and Business Analytics', 'Applied and Industrial Mathematics', 'Information Systems', 'Biomedical Engineering', 'Information Systems', 'Data Science', 'Bachalor of Science in Mathematics', 'MS in Business Analytics and Information Systems', 'Master\\x92s in Computer science in Computer Science', 'Master of Science in Business Analytics,', 'M.S. Applied Data Science', nan, 'Master of Science in Mechanical Engineering', 'Master of Science in Data Analytics Engineering', 'PHD IN DATA SCIENCE', 'Master of Science Data Science', 'Master\\x92s in computer science', 'Master of Science in Data Science', 'M.S. Applied Data Science', 'Master of Science in Data Science', 'MS in computer science', 'Master of Science in Applied Data Science', 'Master of Science in Business Analytics and Risk Management', 'Master\\x92s in Professional Studies in Data Science', 'Data Science Bootcamp Program', 'Master of Science in Information Systems', 'Master of Science in Information Systems', 'Masters in Daat Analytics in Statistical Modeling', 'Matser of Science in Data Science and Business Analytics', 'Master of Business Analytics', 'ms in data science', 'MS in Business Analytics and Project Management,', 'MS IN COMPUTER SCIENCE', 'MS - Data Science', nan, 'MS in Business Analytics', 'MS in Applied Statistics', 'MS in Analytics', 'MS in Business Analytics', nan, 'Master of Decision Analytics', 'MS in Chemical and Biomolecular Engineering', 'MS in Applied Data Science', 'MS IN DATA SCIENCE', 'MS IN financial Mathematics', 'BS Natural Science and Mathematics', 'MS in computer science', 'MS in Data Science, Business Analytics Track', 'MS in Engineering Management', 'DataAnalytics Bootcamp Certification', 'MS in Business Analytics', 'MS in Engineering', 'MS in Business Analytics', 'MS in Business Analytics', 'MS in Analytics', 'MS in Data Analytics', 'MS in Business Analytics', 'Bachelors of Science in Artificial Intelligence', 'MS Data Science', \"Master's in Sofrware Engineering\", 'MS in Data Science', 'MS in Data Science', 'MS of Management Business Analytics', 'MS in Data Science', 'MS in Analytics', 'MS Business Analytics', 'MS in Information Systems', 'MS in Business Analytics', 'MS in computer science', 'MS in Information Ssytems', 'MS in Engineering Management', 'MS in Management of Technology', 'MS in Business Analytics', 'Master of Science in Data Analytics', 'MS Information Science', 'MS in Artificial Intelligence', 'Master of Science in Data Science', 'Master of Science in Applied Analutics', 'Master of Science in Statistics', 'Master of Science in Business Analytics', 'MS in computer and information science - applied analytics', 'matser of science in data science', 'Master of Arts, Statistics', 'Master of Science in Analytics', 'Master of Quantitative Finance'] ['', 'Master of Science in Business Analytics', '', 'Bachelors in Technology, Chemical Engineering', '', '', 'Bachelor of Technology in Mechanical Engineering', 'M.Sc. in Data Science and Analytics', '', '', 'Master of Science in Data Science and Analytics', '', '', '', 'Bachelor of Technology in Computer Science Engineering', 'Bachelors of Management Studies (concentration in marketing)', '', '', 'Master of Science Information Systems | 3.54/4 GPA \\nNortheastern University, Boston, MA, USA \\nBachelor of Engineering Electronics and Communications', 'Bachelor of Science in Industrial Engineering', '', '', '', 'Bachelor of Engineering in Information Technology, GPA 3.70                                                                                                   June', '', '', '', 'Degree: Bachelor of Science in Statistics', '', 'Bachelor of Engineering in Computer Engineering', '', '', 'Bachelors of Science in Computer Science', 'Master of Business Administration', '', '', '', '', 'Bachelor of Technology, Major: Computer Science', '', 'baiyu@wustl.edu', 'Master of Professional Studies in Data Science \\nMinor in Program Management', '', '', '', '', '', 'Bachelor of Arts in Psychology, Business, East Asian Studies', '', '', 'Bachelor of Arts in Economics  \\nCore Courses: Probability & Statistics, Deep Learning for Natural Language Processing, Big Data, Machine \\nLearning, Economic Forecasting, Fundamental Algorithms, Linear Models', '', 'B. Tech. in Electrical Engineering', 'Bachelor of Engineering in Electronics & Telecommunication', '', '', '', '', 'B.S. Information Science', 'B.S. IN SOFTWARE ENGINEERING AND COMPUTER NETWORKING', 'Bachelor of Science in Mathematics', 'B.S degree in Information Technology', 'Master of Science Information Systems | 3.54/4 GPA \\nNortheastern University, Boston, MA, USA \\nBachelor of Engineering Electronics and Communications', 'Bachelor of Science in Computer Science and Engineering', 'Bachelor of Science in Industrial Engineering', '', 'Bachelor in Civil Engineering', '', 'B.S. in Risk Management and Insurance', '', '', 'Master of Science in Industrial Engineering (GPA 3.89/4.0)', '', 'Bachelor of Technology in Computer Science Engineering', '', 'Master of Science in Business Analytics', '', '', 'Master of Science in Computer Science', '', '', '', 'nahiansiddique10@gmail.com', '', 'Bachelor of Engineering', '', 'Master’s Degree', '', '', '', '', '', '', 'Master of Technology in Solid Mechanics & Design (GPA: 9.0/10)', 'Master of Science in Data Science, GPA: 3.6/4      \\nRelevant Courses: Applied Machine Learning, Statistical Modeling, Web Mining, Python for Finance', 'Bachelor of Science in Finance', '', '', 'Master of Science in Information Systems, GPA:', 'Bachelor of Science in Biomedical Engineering, Concentration in Biosystems and Signals \\nMinor in Electrical Engineering GPA 3.97 \\nUniversity of Rochester, Rochester NY', 'Master of Science, Information Systems\\nDrexel University', '', '', '', 'Master’s in Computer science in Computer Science', 'Master of Science in Business Analytics', '', 'Master of Science, Information Systems, 3.725 \\n', '', 'Master of Science in Data Analytics Engineering', '', '', 'Master’s in computer science', 'Master of Science in Data Science \\nSaint Louis University (GPA: 4.00) Summa Cum Laude', 'B.E. Electrical Engineering', '', 'B.S. in Mathematics', '', 'Bachelors of Commerce (Finance & Accounting)', '', 'Bachelor of Arts', '', 'Bachelor of Engineering', 'Masters in Data Analytics in Statistical modelling', 'Bachelor of Technology in Computer  Science, 3.9/4.0 \\nGandhi  Institute of Technology  and  Management|Hyderabad,  India \\nTECHNICAL SKILLS \\nProgramming  languages/Database: Python, R', 'Master of Business Analytics', '', '', '', '', '', '', 'Bachelor of Engineering in Information Technology', '', 'Master of Science in Analytics', '', '', '', '', 'Bachelor of Mechanical Engineering', 'BTech in Electronics and Instrumentation| GITAM UNIVERSITY| India |', 'Master of Science in Financial Mathematics', '', 'Master of Science in Computer Science  \\n• Introduction to Data Science, Social Media and Data Mining, Natural Language Processing', '', 'Bachelor of Engineering in Industrial Engineering                                                            MAY', 'Master of Education, Human Development & Quantitative Methodology: University of Maryland College', 'Master', '', '', '', 'Master of Science in Analytics', 'Bachelors in Technology \\nMajor in Electronics; Minors in Computer Science and Networking', 'Master of Science in Business Analytics', 'Bachelors of Science, Major in Artificial Intelligence', '', '', '', 'Masters of Science', 'Master of Management – Business Analytics', '', 'Master of Science in Analytics', '', 'Bachelor of Engineering in Computer Engineering', '', '', '', 'Bachelor of Science in Physics', 'Master of Science in Management of Technology  \\nCoursework: Stats for DA', '', '', 'B.E.', 'post services via HTTP', '', 'Master of Science in Applied Analytics', '', '', 'M.S. in Computer and Information Science', '', 'Bachelor of Arts, Mathematics (Statistics), Economics', 'Master of Science in Analytics', '']\n",
      "(80, 101) (115, 66) (95, 86) (20, 161) (2, 179)\n"
     ]
    }
   ],
   "source": [
    "name = metrics(resume_df['name'],ground_truth_tail['name'])\n",
    "email = metrics(resume_df['email'],ground_truth_tail['email'])\n",
    "mobile = metrics(resume_df['phone'],ground_truth_tail['Contact'])\n",
    "university = metrics(resume_df['university'],ground_truth_tail['education'])\n",
    "degree = metrics(pyres_df['degree'],ground_truth_tail['Major'])\n",
    "\n",
    "metric_list.append({'name':name,'email':email,'mobile':mobile,'university':university,'degree':degree})\n",
    "\n",
    "\n",
    "print(name,email,mobile,university,degree)"
   ]
  },
  {
   "cell_type": "code",
   "execution_count": 93,
   "metadata": {},
   "outputs": [
    {
     "data": {
      "text/html": [
       "<div>\n",
       "<style scoped>\n",
       "    .dataframe tbody tr th:only-of-type {\n",
       "        vertical-align: middle;\n",
       "    }\n",
       "\n",
       "    .dataframe tbody tr th {\n",
       "        vertical-align: top;\n",
       "    }\n",
       "\n",
       "    .dataframe thead th {\n",
       "        text-align: right;\n",
       "    }\n",
       "</style>\n",
       "<table border=\"1\" class=\"dataframe\">\n",
       "  <thead>\n",
       "    <tr style=\"text-align: right;\">\n",
       "      <th></th>\n",
       "      <th>name</th>\n",
       "      <th>email</th>\n",
       "      <th>mobile</th>\n",
       "      <th>university</th>\n",
       "      <th>degree</th>\n",
       "    </tr>\n",
       "  </thead>\n",
       "  <tbody>\n",
       "    <tr>\n",
       "      <th>pyres_model</th>\n",
       "      <td>(76, 105)</td>\n",
       "      <td>(116, 65)</td>\n",
       "      <td>(45, 136)</td>\n",
       "      <td>(0, 181)</td>\n",
       "      <td>(2, 179)</td>\n",
       "    </tr>\n",
       "    <tr>\n",
       "      <th>resumeparser_model</th>\n",
       "      <td>(80, 101)</td>\n",
       "      <td>(115, 66)</td>\n",
       "      <td>(95, 86)</td>\n",
       "      <td>(20, 161)</td>\n",
       "      <td>(2, 179)</td>\n",
       "    </tr>\n",
       "  </tbody>\n",
       "</table>\n",
       "</div>"
      ],
      "text/plain": [
       "                         name      email     mobile university    degree\n",
       "pyres_model         (76, 105)  (116, 65)  (45, 136)   (0, 181)  (2, 179)\n",
       "resumeparser_model  (80, 101)  (115, 66)   (95, 86)  (20, 161)  (2, 179)"
      ]
     },
     "execution_count": 93,
     "metadata": {},
     "output_type": "execute_result"
    }
   ],
   "source": [
    "pd.DataFrame(metric_list,index=['pyres_model','resumeparser_model'])"
   ]
  },
  {
   "cell_type": "code",
   "execution_count": null,
   "metadata": {},
   "outputs": [],
   "source": [
    "#### Things to work on \n",
    "## 1. Resume Parser extracts many universities & stores them in a list. But I only took the 1st item in list to compare against groundtruth\n",
    "## 2. Raj's NER model needs to be compiled & scored\n",
    "## 3. Degree scoring evaluation should be a fuzzy match\n",
    "## 4. Univeristy scoring evaluation should be a fuzzy match \n",
    "## 5. Need to work on extracting Degree like.. M.S , PhD..etc \n",
    "## 6. Both resume parser model & pyres_model has functionalities to extract the technical skills \n",
    "## 7. Can work on feature to extract years of experiance aswell."
   ]
  },
  {
   "cell_type": "code",
   "execution_count": null,
   "metadata": {},
   "outputs": [],
   "source": [
    "## 2 Questions\n",
    "1. Will this be used in the front-end(candidate facing) to facilitate their ease of application process? or Is it going to be used by us to shortlist?"
   ]
  }
 ],
 "metadata": {
  "interpreter": {
   "hash": "75e802e3c978afb93b9b8a4fcdbb12c74d1245b9e37bc1cfa064b95f94c1eab1"
  },
  "kernelspec": {
   "display_name": "Python 3.8.8 ('base')",
   "language": "python",
   "name": "python3"
  },
  "language_info": {
   "codemirror_mode": {
    "name": "ipython",
    "version": 3
   },
   "file_extension": ".py",
   "mimetype": "text/x-python",
   "name": "python",
   "nbconvert_exporter": "python",
   "pygments_lexer": "ipython3",
   "version": "3.8.12"
  },
  "orig_nbformat": 4
 },
 "nbformat": 4,
 "nbformat_minor": 2
}
