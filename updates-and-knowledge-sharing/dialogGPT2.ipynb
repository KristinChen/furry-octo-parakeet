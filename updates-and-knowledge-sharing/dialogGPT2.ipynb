{
 "cells": [
  {
   "cell_type": "markdown",
   "id": "1a314c36",
   "metadata": {},
   "source": [
    "[DialoGPT](https://github.com/microsoft/DialoGPT)\n",
    "\n",
    "[fine-tune the DialoGPT model on Google Colab with GPU](https://towardsdatascience.com/make-your-own-rick-sanchez-bot-with-transformers-and-dialogpt-fine-tuning-f85e6d1f4e30)\n",
    "\n",
    "[fine-tune the DialoGPT model](https://github.com/ncoop57/i-am-a-nerd/blob/master/_notebooks/2020-05-12-chatbot-part-1.ipynb)"
   ]
  }
 ],
 "metadata": {
  "kernelspec": {
   "display_name": "Python 3 (ipykernel)",
   "language": "python",
   "name": "python3"
  },
  "language_info": {
   "codemirror_mode": {
    "name": "ipython",
    "version": 3
   },
   "file_extension": ".py",
   "mimetype": "text/x-python",
   "name": "python",
   "nbconvert_exporter": "python",
   "pygments_lexer": "ipython3",
   "version": "3.9.7"
  }
 },
 "nbformat": 4,
 "nbformat_minor": 5
}
